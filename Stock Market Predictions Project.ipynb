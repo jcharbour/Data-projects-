{
 "cells": [
  {
   "cell_type": "markdown",
   "metadata": {},
   "source": [
    "### Project Objectives and questions to answer\n",
    "\n",
    "1. What was the change in price of the stock over time?\n",
    "2. What was the daily return of the stock on average?\n",
    "3. What was the moving average of the various stocks?\n",
    "4. What was the correlation between different stocks?\n",
    "5. How much value do we put at risk by investing in a particular stock?\n",
    "6. How can we attempt to predict future stock behavior? (Predicting the closing price stock price of APPLE inc using LSTM)\n",
    "7. 3 o'clock pulse \n",
    "8. percent change graphic \n",
    "\n",
    " \n",
    "- This project intends to extract and load 1 year of data on three etf's... \n",
    "   - Nasdaq (QQQ)\n",
    "   - SPider (SPY) \n",
    "   - Dow Industrial (DIA)\n",
    "   \n",
    "The goal is to find and use \"important\" technical features to and ultiately, predict the prices of the three stock above. "
   ]
  },
  {
   "cell_type": "code",
   "execution_count": 53,
   "metadata": {},
   "outputs": [],
   "source": [
    "import pandas as pd\n",
    "import numpy as np\n",
    "import datetime as dt\n",
    "import matplotlib.pyplot as plt\n",
    "plt.style.use('fivethirtyeight') \n",
    "import math\n"
   ]
  },
  {
   "cell_type": "code",
   "execution_count": 54,
   "metadata": {},
   "outputs": [],
   "source": [
    "#!pip install  pandas_datareader \n",
    "#from pandas_datareader._utils import RemoteDataError\n"
   ]
  },
  {
   "cell_type": "code",
   "execution_count": 55,
   "metadata": {},
   "outputs": [],
   "source": [
    "import pandas_datareader as dr\n",
    "from pandas_datareader._utils import RemoteDataError\n",
    "from pandas_datareader import data\n",
    "from datetime import datetime"
   ]
  },
  {
   "cell_type": "markdown",
   "metadata": {},
   "source": [
    "## Defining variables for future use in some helpful functions. (I may want to use this  code later to create a dashboard for any ticker)"
   ]
  },
  {
   "cell_type": "code",
   "execution_count": 56,
   "metadata": {},
   "outputs": [],
   "source": [
    "Start = '2019 -01-01'\n",
    "End = str(datetime.now().strftime('%Y-%m-%d'))"
   ]
  },
  {
   "cell_type": "code",
   "execution_count": 57,
   "metadata": {},
   "outputs": [],
   "source": [
    "Invesco = 'QQQ'\n",
    "Dow = 'DIA'\n",
    "Spyder = 'SPY' "
   ]
  },
  {
   "cell_type": "code",
   "execution_count": 58,
   "metadata": {},
   "outputs": [],
   "source": [
    "# creating a function that will gather data on each stock called get_data\n",
    "\n",
    "def get_data(ticker):\n",
    "    try:\n",
    "        stock_data = data.DataReader(ticker,'yahoo',Start, End)\n",
    "        print(stock_data)\n",
    "        \n",
    "    except RemoteDataError:\n",
    "        print(\" No data found for {t}\".format(t=ticker))\n",
    "         "
   ]
  },
  {
   "cell_type": "code",
   "execution_count": 59,
   "metadata": {},
   "outputs": [],
   "source": [
    "def get_stats(stock_data):\n",
    "    return {\n",
    "        'last': np.mean(stock_data.tail(1))\n",
    "    }"
   ]
  },
  {
   "cell_type": "code",
   "execution_count": 60,
   "metadata": {},
   "outputs": [],
   "source": [
    "def clean(stock_data,col):\n",
    "    wkdays = pd.date_range_(start = Start, end=End)\n",
    "    clean_data = stock_data[col].reindex(wkdays)\n",
    "    return clean_data.ffilna(method = 'ffill')"
   ]
  },
  {
   "cell_type": "code",
   "execution_count": null,
   "metadata": {},
   "outputs": [],
   "source": []
  },
  {
   "cell_type": "code",
   "execution_count": 61,
   "metadata": {},
   "outputs": [
    {
     "name": "stdout",
     "output_type": "stream",
     "text": [
      "                  High         Low        Open       Close     Volume  \\\n",
      "Date                                                                    \n",
      "2019-01-02  234.000000  229.139999  229.270004  233.360001  5319500.0   \n",
      "2019-01-03  231.419998  226.360001  231.250000  226.720001  7350200.0   \n",
      "2019-01-04  235.179993  229.729996  230.000000  234.279999  7343700.0   \n",
      "2019-01-07  236.880005  232.949997  234.839996  235.360001  5101600.0   \n",
      "2019-01-08  238.660004  235.789993  237.940002  237.919998  4845800.0   \n",
      "...                ...         ...         ...         ...        ...   \n",
      "2021-03-08  321.730011  315.829987  316.750000  318.250000  8225000.0   \n",
      "2021-03-09  321.769989  318.440002  319.470001  318.609985  5812200.0   \n",
      "2021-03-10  324.309998  320.470001  320.529999  323.329987  6436900.0   \n",
      "2021-03-11  326.970001  323.829987  324.709991  325.329987  5734600.0   \n",
      "2021-03-12  326.809998  325.579987  324.709991  326.570007   624600.0   \n",
      "\n",
      "             Adj Close  \n",
      "Date                    \n",
      "2019-01-02  222.812439  \n",
      "2019-01-03  216.472534  \n",
      "2019-01-04  223.690781  \n",
      "2019-01-07  224.721970  \n",
      "2019-01-08  227.166275  \n",
      "...                ...  \n",
      "2021-03-08  318.250000  \n",
      "2021-03-09  318.609985  \n",
      "2021-03-10  323.329987  \n",
      "2021-03-11  325.329987  \n",
      "2021-03-12  326.570007  \n",
      "\n",
      "[553 rows x 6 columns]\n"
     ]
    }
   ],
   "source": [
    "get_data(Dow)"
   ]
  },
  {
   "cell_type": "code",
   "execution_count": 62,
   "metadata": {},
   "outputs": [
    {
     "name": "stdout",
     "output_type": "stream",
     "text": [
      "                  High         Low        Open       Close     Volume  \\\n",
      "Date                                                                    \n",
      "2019-01-02  234.000000  229.139999  229.270004  233.360001  5319500.0   \n",
      "2019-01-03  231.419998  226.360001  231.250000  226.720001  7350200.0   \n",
      "2019-01-04  235.179993  229.729996  230.000000  234.279999  7343700.0   \n",
      "2019-01-07  236.880005  232.949997  234.839996  235.360001  5101600.0   \n",
      "2019-01-08  238.660004  235.789993  237.940002  237.919998  4845800.0   \n",
      "...                ...         ...         ...         ...        ...   \n",
      "2021-03-08  321.730011  315.829987  316.750000  318.250000  8225000.0   \n",
      "2021-03-09  321.769989  318.440002  319.470001  318.609985  5812200.0   \n",
      "2021-03-10  324.309998  320.470001  320.529999  323.329987  6436900.0   \n",
      "2021-03-11  326.970001  323.829987  324.709991  325.329987  5734600.0   \n",
      "2021-03-12  326.809998  325.579987  324.709991  326.570007   624600.0   \n",
      "\n",
      "             Adj Close  \n",
      "Date                    \n",
      "2019-01-02  222.812439  \n",
      "2019-01-03  216.472534  \n",
      "2019-01-04  223.690781  \n",
      "2019-01-07  224.721970  \n",
      "2019-01-08  227.166275  \n",
      "...                ...  \n",
      "2021-03-08  318.250000  \n",
      "2021-03-09  318.609985  \n",
      "2021-03-10  323.329987  \n",
      "2021-03-11  325.329987  \n",
      "2021-03-12  326.570007  \n",
      "\n",
      "[553 rows x 6 columns]\n"
     ]
    }
   ],
   "source": [
    "get_data(Dow)"
   ]
  },
  {
   "cell_type": "code",
   "execution_count": null,
   "metadata": {},
   "outputs": [],
   "source": []
  },
  {
   "cell_type": "code",
   "execution_count": 63,
   "metadata": {},
   "outputs": [
    {
     "name": "stdout",
     "output_type": "stream",
     "text": [
      "                  High         Low        Open       Close      Volume  \\\n",
      "Date                                                                     \n",
      "2019-01-02  155.750000  150.880005  150.990005  154.880005  58576700.0   \n",
      "2019-01-03  153.259995  149.490005  152.600006  149.820007  74820200.0   \n",
      "2019-01-04  157.000000  151.740005  152.339996  156.229996  74709300.0   \n",
      "2019-01-07  158.860001  156.110001  156.619995  158.089996  52059300.0   \n",
      "2019-01-08  160.110001  157.199997  159.539993  159.520004  49388700.0   \n",
      "...                ...         ...         ...         ...         ...   \n",
      "2021-03-08  310.059998  299.510010  308.119995  299.940002  88174300.0   \n",
      "2021-03-09  313.730011  306.920013  307.470001  311.769989  80107600.0   \n",
      "2021-03-10  316.470001  310.170013  316.160004  310.880005  76547300.0   \n",
      "2021-03-11  319.859985  314.850006  315.769989  318.040009  53244500.0   \n",
      "2021-03-12  314.320007  312.109985  313.859985  314.260010  10367891.0   \n",
      "\n",
      "             Adj Close  \n",
      "Date                    \n",
      "2019-01-02  152.744461  \n",
      "2019-01-03  147.754257  \n",
      "2019-01-04  154.075851  \n",
      "2019-01-07  155.910202  \n",
      "2019-01-08  157.320496  \n",
      "...                ...  \n",
      "2021-03-08  299.940002  \n",
      "2021-03-09  311.769989  \n",
      "2021-03-10  310.880005  \n",
      "2021-03-11  318.040009  \n",
      "2021-03-12  314.260010  \n",
      "\n",
      "[553 rows x 6 columns]\n"
     ]
    }
   ],
   "source": [
    "get_data(Invesco)"
   ]
  },
  {
   "cell_type": "code",
   "execution_count": null,
   "metadata": {},
   "outputs": [],
   "source": []
  },
  {
   "cell_type": "code",
   "execution_count": 64,
   "metadata": {},
   "outputs": [
    {
     "name": "stdout",
     "output_type": "stream",
     "text": [
      "                  High         Low        Open       Close       Volume  \\\n",
      "Date                                                                      \n",
      "2019-01-02  251.210007  245.949997  245.979996  250.179993  126925200.0   \n",
      "2019-01-03  248.570007  243.669998  248.229996  244.210007  144140700.0   \n",
      "2019-01-04  253.110001  247.169998  247.589996  252.389999  142628800.0   \n",
      "2019-01-07  255.949997  251.690002  252.690002  254.380005  103139100.0   \n",
      "2019-01-08  257.309998  254.000000  256.820007  256.769989  102512600.0   \n",
      "...                ...         ...         ...         ...          ...   \n",
      "2021-03-08  387.679993  381.420013  384.660004  381.720001  122957100.0   \n",
      "2021-03-09  389.910004  385.309998  385.850006  387.170013  113457800.0   \n",
      "2021-03-10  391.399994  388.170013  389.690002  389.579987  109660800.0   \n",
      "2021-03-11  395.649994  391.739990  392.230011  393.529999   86027400.0   \n",
      "2021-03-12  392.701111  391.279999  392.230011  392.660004    9696376.0   \n",
      "\n",
      "             Adj Close  \n",
      "Date                    \n",
      "2019-01-02  241.029480  \n",
      "2019-01-03  235.277832  \n",
      "2019-01-04  243.158661  \n",
      "2019-01-07  245.075882  \n",
      "2019-01-08  247.378433  \n",
      "...                ...  \n",
      "2021-03-08  381.720001  \n",
      "2021-03-09  387.170013  \n",
      "2021-03-10  389.579987  \n",
      "2021-03-11  393.529999  \n",
      "2021-03-12  392.660004  \n",
      "\n",
      "[553 rows x 6 columns]\n"
     ]
    }
   ],
   "source": [
    "get_data(Spyder)"
   ]
  },
  {
   "cell_type": "code",
   "execution_count": null,
   "metadata": {},
   "outputs": [],
   "source": []
  },
  {
   "cell_type": "markdown",
   "metadata": {},
   "source": [
    "#### An alternate method of gathering data for more than one ticker at a time. "
   ]
  },
  {
   "cell_type": "markdown",
   "metadata": {},
   "source": [
    "## Importing stock prices from Yahoo Finance. "
   ]
  },
  {
   "cell_type": "code",
   "execution_count": 65,
   "metadata": {},
   "outputs": [],
   "source": [
    "#!pip install yfinance\n",
    "import yfinance as yf "
   ]
  },
  {
   "cell_type": "code",
   "execution_count": 66,
   "metadata": {},
   "outputs": [],
   "source": [
    "ticker = \"QQQ\""
   ]
  },
  {
   "cell_type": "code",
   "execution_count": 67,
   "metadata": {},
   "outputs": [
    {
     "name": "stdout",
     "output_type": "stream",
     "text": [
      "[*********************100%***********************]  1 of 1 completed\n"
     ]
    }
   ],
   "source": [
    "Nasdaq = yf.download(ticker, start = \"2020-1-1\", end = \"2021-2-19\")"
   ]
  },
  {
   "cell_type": "code",
   "execution_count": 68,
   "metadata": {},
   "outputs": [
    {
     "data": {
      "text/plain": [
       "pandas.core.frame.DataFrame"
      ]
     },
     "execution_count": 68,
     "metadata": {},
     "output_type": "execute_result"
    }
   ],
   "source": [
    "type(Nasdaq)"
   ]
  },
  {
   "cell_type": "code",
   "execution_count": 69,
   "metadata": {},
   "outputs": [],
   "source": [
    "# getting data for more than one stock(or etf)\n",
    "\n",
    "ticks = ['QQQ','SPY','DIA']"
   ]
  },
  {
   "cell_type": "code",
   "execution_count": 70,
   "metadata": {
    "scrolled": true
   },
   "outputs": [
    {
     "name": "stdout",
     "output_type": "stream",
     "text": [
      "[*********************100%***********************]  3 of 3 completed\n"
     ]
    },
    {
     "data": {
      "text/html": [
       "<div>\n",
       "<style scoped>\n",
       "    .dataframe tbody tr th:only-of-type {\n",
       "        vertical-align: middle;\n",
       "    }\n",
       "\n",
       "    .dataframe tbody tr th {\n",
       "        vertical-align: top;\n",
       "    }\n",
       "\n",
       "    .dataframe thead tr th {\n",
       "        text-align: left;\n",
       "    }\n",
       "\n",
       "    .dataframe thead tr:last-of-type th {\n",
       "        text-align: right;\n",
       "    }\n",
       "</style>\n",
       "<table border=\"1\" class=\"dataframe\">\n",
       "  <thead>\n",
       "    <tr>\n",
       "      <th></th>\n",
       "      <th colspan=\"6\" halign=\"left\">DIA</th>\n",
       "      <th colspan=\"6\" halign=\"left\">QQQ</th>\n",
       "      <th colspan=\"6\" halign=\"left\">SPY</th>\n",
       "    </tr>\n",
       "    <tr>\n",
       "      <th></th>\n",
       "      <th>Open</th>\n",
       "      <th>High</th>\n",
       "      <th>Low</th>\n",
       "      <th>Close</th>\n",
       "      <th>Adj Close</th>\n",
       "      <th>Volume</th>\n",
       "      <th>Open</th>\n",
       "      <th>High</th>\n",
       "      <th>Low</th>\n",
       "      <th>Close</th>\n",
       "      <th>Adj Close</th>\n",
       "      <th>Volume</th>\n",
       "      <th>Open</th>\n",
       "      <th>High</th>\n",
       "      <th>Low</th>\n",
       "      <th>Close</th>\n",
       "      <th>Adj Close</th>\n",
       "      <th>Volume</th>\n",
       "    </tr>\n",
       "    <tr>\n",
       "      <th>Date</th>\n",
       "      <th></th>\n",
       "      <th></th>\n",
       "      <th></th>\n",
       "      <th></th>\n",
       "      <th></th>\n",
       "      <th></th>\n",
       "      <th></th>\n",
       "      <th></th>\n",
       "      <th></th>\n",
       "      <th></th>\n",
       "      <th></th>\n",
       "      <th></th>\n",
       "      <th></th>\n",
       "      <th></th>\n",
       "      <th></th>\n",
       "      <th></th>\n",
       "      <th></th>\n",
       "      <th></th>\n",
       "    </tr>\n",
       "  </thead>\n",
       "  <tbody>\n",
       "    <tr>\n",
       "      <th>2020-01-02</th>\n",
       "      <td>286.44</td>\n",
       "      <td>288.63</td>\n",
       "      <td>286.15</td>\n",
       "      <td>288.62</td>\n",
       "      <td>281.82</td>\n",
       "      <td>3865500</td>\n",
       "      <td>214.40</td>\n",
       "      <td>216.16</td>\n",
       "      <td>213.98</td>\n",
       "      <td>216.16</td>\n",
       "      <td>214.94</td>\n",
       "      <td>30969400</td>\n",
       "      <td>323.54</td>\n",
       "      <td>324.89</td>\n",
       "      <td>322.53</td>\n",
       "      <td>324.87</td>\n",
       "      <td>318.91</td>\n",
       "      <td>59151200</td>\n",
       "    </tr>\n",
       "    <tr>\n",
       "      <th>2020-01-03</th>\n",
       "      <td>285.34</td>\n",
       "      <td>287.11</td>\n",
       "      <td>285.18</td>\n",
       "      <td>286.32</td>\n",
       "      <td>279.58</td>\n",
       "      <td>3296700</td>\n",
       "      <td>213.30</td>\n",
       "      <td>215.47</td>\n",
       "      <td>213.28</td>\n",
       "      <td>214.18</td>\n",
       "      <td>212.97</td>\n",
       "      <td>27518900</td>\n",
       "      <td>321.16</td>\n",
       "      <td>323.64</td>\n",
       "      <td>321.10</td>\n",
       "      <td>322.41</td>\n",
       "      <td>316.50</td>\n",
       "      <td>77709700</td>\n",
       "    </tr>\n",
       "    <tr>\n",
       "      <th>2020-01-06</th>\n",
       "      <td>284.29</td>\n",
       "      <td>287.03</td>\n",
       "      <td>284.16</td>\n",
       "      <td>286.98</td>\n",
       "      <td>280.22</td>\n",
       "      <td>1645100</td>\n",
       "      <td>212.50</td>\n",
       "      <td>215.59</td>\n",
       "      <td>212.24</td>\n",
       "      <td>215.56</td>\n",
       "      <td>214.34</td>\n",
       "      <td>21655300</td>\n",
       "      <td>320.49</td>\n",
       "      <td>323.73</td>\n",
       "      <td>320.36</td>\n",
       "      <td>323.64</td>\n",
       "      <td>317.71</td>\n",
       "      <td>55653900</td>\n",
       "    </tr>\n",
       "    <tr>\n",
       "      <th>2020-01-07</th>\n",
       "      <td>286.30</td>\n",
       "      <td>286.79</td>\n",
       "      <td>285.58</td>\n",
       "      <td>285.74</td>\n",
       "      <td>279.01</td>\n",
       "      <td>1413000</td>\n",
       "      <td>215.64</td>\n",
       "      <td>216.14</td>\n",
       "      <td>214.85</td>\n",
       "      <td>215.53</td>\n",
       "      <td>214.31</td>\n",
       "      <td>22139300</td>\n",
       "      <td>323.02</td>\n",
       "      <td>323.54</td>\n",
       "      <td>322.24</td>\n",
       "      <td>322.73</td>\n",
       "      <td>316.81</td>\n",
       "      <td>40496400</td>\n",
       "    </tr>\n",
       "    <tr>\n",
       "      <th>2020-01-08</th>\n",
       "      <td>285.32</td>\n",
       "      <td>288.67</td>\n",
       "      <td>285.08</td>\n",
       "      <td>287.40</td>\n",
       "      <td>280.63</td>\n",
       "      <td>3136700</td>\n",
       "      <td>215.50</td>\n",
       "      <td>218.14</td>\n",
       "      <td>215.16</td>\n",
       "      <td>217.15</td>\n",
       "      <td>215.92</td>\n",
       "      <td>26397300</td>\n",
       "      <td>322.94</td>\n",
       "      <td>325.78</td>\n",
       "      <td>322.67</td>\n",
       "      <td>324.45</td>\n",
       "      <td>318.50</td>\n",
       "      <td>68296000</td>\n",
       "    </tr>\n",
       "    <tr>\n",
       "      <th>...</th>\n",
       "      <td>...</td>\n",
       "      <td>...</td>\n",
       "      <td>...</td>\n",
       "      <td>...</td>\n",
       "      <td>...</td>\n",
       "      <td>...</td>\n",
       "      <td>...</td>\n",
       "      <td>...</td>\n",
       "      <td>...</td>\n",
       "      <td>...</td>\n",
       "      <td>...</td>\n",
       "      <td>...</td>\n",
       "      <td>...</td>\n",
       "      <td>...</td>\n",
       "      <td>...</td>\n",
       "      <td>...</td>\n",
       "      <td>...</td>\n",
       "      <td>...</td>\n",
       "    </tr>\n",
       "    <tr>\n",
       "      <th>2021-02-12</th>\n",
       "      <td>314.28</td>\n",
       "      <td>315.14</td>\n",
       "      <td>313.83</td>\n",
       "      <td>315.04</td>\n",
       "      <td>314.44</td>\n",
       "      <td>2478800</td>\n",
       "      <td>333.71</td>\n",
       "      <td>336.62</td>\n",
       "      <td>332.63</td>\n",
       "      <td>336.45</td>\n",
       "      <td>336.45</td>\n",
       "      <td>20318000</td>\n",
       "      <td>389.85</td>\n",
       "      <td>392.90</td>\n",
       "      <td>389.77</td>\n",
       "      <td>392.64</td>\n",
       "      <td>392.64</td>\n",
       "      <td>50505700</td>\n",
       "    </tr>\n",
       "    <tr>\n",
       "      <th>2021-02-16</th>\n",
       "      <td>316.33</td>\n",
       "      <td>316.54</td>\n",
       "      <td>314.87</td>\n",
       "      <td>315.58</td>\n",
       "      <td>314.98</td>\n",
       "      <td>1836300</td>\n",
       "      <td>337.27</td>\n",
       "      <td>338.19</td>\n",
       "      <td>334.34</td>\n",
       "      <td>335.54</td>\n",
       "      <td>335.54</td>\n",
       "      <td>27080800</td>\n",
       "      <td>393.96</td>\n",
       "      <td>394.17</td>\n",
       "      <td>391.53</td>\n",
       "      <td>392.30</td>\n",
       "      <td>392.30</td>\n",
       "      <td>50972400</td>\n",
       "    </tr>\n",
       "    <tr>\n",
       "      <th>2021-02-17</th>\n",
       "      <td>314.69</td>\n",
       "      <td>316.91</td>\n",
       "      <td>313.87</td>\n",
       "      <td>316.60</td>\n",
       "      <td>316.00</td>\n",
       "      <td>2007400</td>\n",
       "      <td>332.47</td>\n",
       "      <td>335.66</td>\n",
       "      <td>330.17</td>\n",
       "      <td>333.93</td>\n",
       "      <td>333.93</td>\n",
       "      <td>31360300</td>\n",
       "      <td>390.42</td>\n",
       "      <td>392.66</td>\n",
       "      <td>389.33</td>\n",
       "      <td>392.39</td>\n",
       "      <td>392.39</td>\n",
       "      <td>52290600</td>\n",
       "    </tr>\n",
       "    <tr>\n",
       "      <th>2021-02-18</th>\n",
       "      <td>314.75</td>\n",
       "      <td>316.00</td>\n",
       "      <td>313.38</td>\n",
       "      <td>315.56</td>\n",
       "      <td>314.96</td>\n",
       "      <td>2609600</td>\n",
       "      <td>330.23</td>\n",
       "      <td>333.87</td>\n",
       "      <td>328.36</td>\n",
       "      <td>332.47</td>\n",
       "      <td>332.47</td>\n",
       "      <td>32236200</td>\n",
       "      <td>389.59</td>\n",
       "      <td>391.52</td>\n",
       "      <td>387.74</td>\n",
       "      <td>390.72</td>\n",
       "      <td>390.72</td>\n",
       "      <td>59712800</td>\n",
       "    </tr>\n",
       "    <tr>\n",
       "      <th>2021-02-19</th>\n",
       "      <td>315.61</td>\n",
       "      <td>316.34</td>\n",
       "      <td>314.58</td>\n",
       "      <td>314.92</td>\n",
       "      <td>314.92</td>\n",
       "      <td>2314900</td>\n",
       "      <td>333.86</td>\n",
       "      <td>333.99</td>\n",
       "      <td>329.97</td>\n",
       "      <td>331.02</td>\n",
       "      <td>331.02</td>\n",
       "      <td>39157700</td>\n",
       "      <td>392.07</td>\n",
       "      <td>392.38</td>\n",
       "      <td>389.55</td>\n",
       "      <td>390.03</td>\n",
       "      <td>390.03</td>\n",
       "      <td>83241000</td>\n",
       "    </tr>\n",
       "  </tbody>\n",
       "</table>\n",
       "<p>286 rows × 18 columns</p>\n",
       "</div>"
      ],
      "text/plain": [
       "               DIA                                                QQQ          \\\n",
       "              Open    High     Low   Close Adj Close   Volume    Open    High   \n",
       "Date                                                                            \n",
       "2020-01-02  286.44  288.63  286.15  288.62    281.82  3865500  214.40  216.16   \n",
       "2020-01-03  285.34  287.11  285.18  286.32    279.58  3296700  213.30  215.47   \n",
       "2020-01-06  284.29  287.03  284.16  286.98    280.22  1645100  212.50  215.59   \n",
       "2020-01-07  286.30  286.79  285.58  285.74    279.01  1413000  215.64  216.14   \n",
       "2020-01-08  285.32  288.67  285.08  287.40    280.63  3136700  215.50  218.14   \n",
       "...            ...     ...     ...     ...       ...      ...     ...     ...   \n",
       "2021-02-12  314.28  315.14  313.83  315.04    314.44  2478800  333.71  336.62   \n",
       "2021-02-16  316.33  316.54  314.87  315.58    314.98  1836300  337.27  338.19   \n",
       "2021-02-17  314.69  316.91  313.87  316.60    316.00  2007400  332.47  335.66   \n",
       "2021-02-18  314.75  316.00  313.38  315.56    314.96  2609600  330.23  333.87   \n",
       "2021-02-19  315.61  316.34  314.58  314.92    314.92  2314900  333.86  333.99   \n",
       "\n",
       "                                                   SPY                  \\\n",
       "               Low   Close Adj Close    Volume    Open    High     Low   \n",
       "Date                                                                     \n",
       "2020-01-02  213.98  216.16    214.94  30969400  323.54  324.89  322.53   \n",
       "2020-01-03  213.28  214.18    212.97  27518900  321.16  323.64  321.10   \n",
       "2020-01-06  212.24  215.56    214.34  21655300  320.49  323.73  320.36   \n",
       "2020-01-07  214.85  215.53    214.31  22139300  323.02  323.54  322.24   \n",
       "2020-01-08  215.16  217.15    215.92  26397300  322.94  325.78  322.67   \n",
       "...            ...     ...       ...       ...     ...     ...     ...   \n",
       "2021-02-12  332.63  336.45    336.45  20318000  389.85  392.90  389.77   \n",
       "2021-02-16  334.34  335.54    335.54  27080800  393.96  394.17  391.53   \n",
       "2021-02-17  330.17  333.93    333.93  31360300  390.42  392.66  389.33   \n",
       "2021-02-18  328.36  332.47    332.47  32236200  389.59  391.52  387.74   \n",
       "2021-02-19  329.97  331.02    331.02  39157700  392.07  392.38  389.55   \n",
       "\n",
       "                                        \n",
       "             Close Adj Close    Volume  \n",
       "Date                                    \n",
       "2020-01-02  324.87    318.91  59151200  \n",
       "2020-01-03  322.41    316.50  77709700  \n",
       "2020-01-06  323.64    317.71  55653900  \n",
       "2020-01-07  322.73    316.81  40496400  \n",
       "2020-01-08  324.45    318.50  68296000  \n",
       "...            ...       ...       ...  \n",
       "2021-02-12  392.64    392.64  50505700  \n",
       "2021-02-16  392.30    392.30  50972400  \n",
       "2021-02-17  392.39    392.39  52290600  \n",
       "2021-02-18  390.72    390.72  59712800  \n",
       "2021-02-19  390.03    390.03  83241000  \n",
       "\n",
       "[286 rows x 18 columns]"
      ]
     },
     "execution_count": 70,
     "metadata": {},
     "output_type": "execute_result"
    }
   ],
   "source": [
    "etfs = yf.download(ticks, start = \"2020-1-1\", end = \"2021-2-20\", rounding = True, group_by = \"ticker\")\n",
    "etfs"
   ]
  },
  {
   "cell_type": "code",
   "execution_count": null,
   "metadata": {},
   "outputs": [],
   "source": []
  },
  {
   "cell_type": "code",
   "execution_count": null,
   "metadata": {
    "scrolled": true
   },
   "outputs": [],
   "source": []
  },
  {
   "cell_type": "code",
   "execution_count": 71,
   "metadata": {},
   "outputs": [
    {
     "name": "stdout",
     "output_type": "stream",
     "text": [
      "[*********************100%***********************]  3 of 3 completed\n"
     ]
    },
    {
     "data": {
      "text/html": [
       "<div>\n",
       "<style scoped>\n",
       "    .dataframe tbody tr th:only-of-type {\n",
       "        vertical-align: middle;\n",
       "    }\n",
       "\n",
       "    .dataframe tbody tr th {\n",
       "        vertical-align: top;\n",
       "    }\n",
       "\n",
       "    .dataframe thead th {\n",
       "        text-align: right;\n",
       "    }\n",
       "</style>\n",
       "<table border=\"1\" class=\"dataframe\">\n",
       "  <thead>\n",
       "    <tr style=\"text-align: right;\">\n",
       "      <th></th>\n",
       "      <th>DIA</th>\n",
       "      <th>QQQ</th>\n",
       "      <th>SPY</th>\n",
       "    </tr>\n",
       "    <tr>\n",
       "      <th>Date</th>\n",
       "      <th></th>\n",
       "      <th></th>\n",
       "      <th></th>\n",
       "    </tr>\n",
       "  </thead>\n",
       "  <tbody>\n",
       "    <tr>\n",
       "      <th>2019-01-02</th>\n",
       "      <td>233.36</td>\n",
       "      <td>154.88</td>\n",
       "      <td>250.18</td>\n",
       "    </tr>\n",
       "    <tr>\n",
       "      <th>2019-01-03</th>\n",
       "      <td>226.72</td>\n",
       "      <td>149.82</td>\n",
       "      <td>244.21</td>\n",
       "    </tr>\n",
       "    <tr>\n",
       "      <th>2019-01-04</th>\n",
       "      <td>234.28</td>\n",
       "      <td>156.23</td>\n",
       "      <td>252.39</td>\n",
       "    </tr>\n",
       "    <tr>\n",
       "      <th>2019-01-07</th>\n",
       "      <td>235.36</td>\n",
       "      <td>158.09</td>\n",
       "      <td>254.38</td>\n",
       "    </tr>\n",
       "    <tr>\n",
       "      <th>2019-01-08</th>\n",
       "      <td>237.92</td>\n",
       "      <td>159.52</td>\n",
       "      <td>256.77</td>\n",
       "    </tr>\n",
       "    <tr>\n",
       "      <th>...</th>\n",
       "      <td>...</td>\n",
       "      <td>...</td>\n",
       "      <td>...</td>\n",
       "    </tr>\n",
       "    <tr>\n",
       "      <th>2021-02-12</th>\n",
       "      <td>315.04</td>\n",
       "      <td>336.45</td>\n",
       "      <td>392.64</td>\n",
       "    </tr>\n",
       "    <tr>\n",
       "      <th>2021-02-16</th>\n",
       "      <td>315.58</td>\n",
       "      <td>335.54</td>\n",
       "      <td>392.30</td>\n",
       "    </tr>\n",
       "    <tr>\n",
       "      <th>2021-02-17</th>\n",
       "      <td>316.60</td>\n",
       "      <td>333.93</td>\n",
       "      <td>392.39</td>\n",
       "    </tr>\n",
       "    <tr>\n",
       "      <th>2021-02-18</th>\n",
       "      <td>315.56</td>\n",
       "      <td>332.47</td>\n",
       "      <td>390.72</td>\n",
       "    </tr>\n",
       "    <tr>\n",
       "      <th>2021-02-19</th>\n",
       "      <td>314.92</td>\n",
       "      <td>331.02</td>\n",
       "      <td>390.03</td>\n",
       "    </tr>\n",
       "  </tbody>\n",
       "</table>\n",
       "<p>538 rows × 3 columns</p>\n",
       "</div>"
      ],
      "text/plain": [
       "               DIA     QQQ     SPY\n",
       "Date                              \n",
       "2019-01-02  233.36  154.88  250.18\n",
       "2019-01-03  226.72  149.82  244.21\n",
       "2019-01-04  234.28  156.23  252.39\n",
       "2019-01-07  235.36  158.09  254.38\n",
       "2019-01-08  237.92  159.52  256.77\n",
       "...            ...     ...     ...\n",
       "2021-02-12  315.04  336.45  392.64\n",
       "2021-02-16  315.58  335.54  392.30\n",
       "2021-02-17  316.60  333.93  392.39\n",
       "2021-02-18  315.56  332.47  390.72\n",
       "2021-02-19  314.92  331.02  390.03\n",
       "\n",
       "[538 rows x 3 columns]"
      ]
     },
     "execution_count": 71,
     "metadata": {},
     "output_type": "execute_result"
    }
   ],
   "source": [
    "etfs_close = yf.download(ticks, start = \"2019-1-1\", end = \"2021-2-20\", rounding = True)[\"Close\"]\n",
    "etfs_close"
   ]
  },
  {
   "cell_type": "code",
   "execution_count": 72,
   "metadata": {
    "scrolled": true
   },
   "outputs": [
    {
     "data": {
      "text/html": [
       "<div>\n",
       "<style scoped>\n",
       "    .dataframe tbody tr th:only-of-type {\n",
       "        vertical-align: middle;\n",
       "    }\n",
       "\n",
       "    .dataframe tbody tr th {\n",
       "        vertical-align: top;\n",
       "    }\n",
       "\n",
       "    .dataframe thead th {\n",
       "        text-align: right;\n",
       "    }\n",
       "</style>\n",
       "<table border=\"1\" class=\"dataframe\">\n",
       "  <thead>\n",
       "    <tr style=\"text-align: right;\">\n",
       "      <th></th>\n",
       "      <th>DIA</th>\n",
       "      <th>QQQ</th>\n",
       "      <th>SPY</th>\n",
       "    </tr>\n",
       "    <tr>\n",
       "      <th>Date</th>\n",
       "      <th></th>\n",
       "      <th></th>\n",
       "      <th></th>\n",
       "    </tr>\n",
       "  </thead>\n",
       "  <tbody>\n",
       "    <tr>\n",
       "      <th>2019-01-02</th>\n",
       "      <td>233.36</td>\n",
       "      <td>154.88</td>\n",
       "      <td>250.18</td>\n",
       "    </tr>\n",
       "    <tr>\n",
       "      <th>2019-01-03</th>\n",
       "      <td>226.72</td>\n",
       "      <td>149.82</td>\n",
       "      <td>244.21</td>\n",
       "    </tr>\n",
       "    <tr>\n",
       "      <th>2019-01-04</th>\n",
       "      <td>234.28</td>\n",
       "      <td>156.23</td>\n",
       "      <td>252.39</td>\n",
       "    </tr>\n",
       "    <tr>\n",
       "      <th>2019-01-07</th>\n",
       "      <td>235.36</td>\n",
       "      <td>158.09</td>\n",
       "      <td>254.38</td>\n",
       "    </tr>\n",
       "    <tr>\n",
       "      <th>2019-01-08</th>\n",
       "      <td>237.92</td>\n",
       "      <td>159.52</td>\n",
       "      <td>256.77</td>\n",
       "    </tr>\n",
       "  </tbody>\n",
       "</table>\n",
       "</div>"
      ],
      "text/plain": [
       "               DIA     QQQ     SPY\n",
       "Date                              \n",
       "2019-01-02  233.36  154.88  250.18\n",
       "2019-01-03  226.72  149.82  244.21\n",
       "2019-01-04  234.28  156.23  252.39\n",
       "2019-01-07  235.36  158.09  254.38\n",
       "2019-01-08  237.92  159.52  256.77"
      ]
     },
     "execution_count": 72,
     "metadata": {},
     "output_type": "execute_result"
    }
   ],
   "source": [
    "etfs_close.head()"
   ]
  },
  {
   "cell_type": "code",
   "execution_count": 73,
   "metadata": {
    "scrolled": false
   },
   "outputs": [
    {
     "data": {
      "image/png": "[encoded data removed]",
      "text/plain": [
       "<Figure size 1152x576 with 1 Axes>"
      ]
     },
     "metadata": {},
     "output_type": "display_data"
    }
   ],
   "source": [
    "# Visualize the closing price history \n",
    "plt.figure(figsize = (16,8))\n",
    "plt.title(\"Close Price History\")\n",
    "plt.plot(etfs_close)\n",
    "plt.xlabel('Date', fontsize = 18)\n",
    "plt.ylabel('Closing Price in USD($)', fontsize = 18)\n",
    "\n",
    "plt.show()"
   ]
  },
  {
   "cell_type": "code",
   "execution_count": 74,
   "metadata": {},
   "outputs": [],
   "source": [
    "etfs_close['DOW_Chnge']= etfs_close.DIA - etfs_close.DIA.shift(1)\n",
    "etfs_close['NASDQ_Chnge']= etfs_close.QQQ - etfs_close.QQQ.shift(1)\n",
    "etfs_close['SPYDR_Chnge']= etfs_close.SPY - etfs_close.SPY.shift(1)\n",
    "# adding in columns for daily change in closing etf prices"
   ]
  },
  {
   "cell_type": "code",
   "execution_count": 75,
   "metadata": {},
   "outputs": [],
   "source": [
    "etfs_close['QQQ_per_chnge'] = etfs_close['NASDQ_Chnge'].pct_change().round(4)\n",
    "etfs_close['DIA_per_chnge'] = etfs_close['DOW_Chnge'].pct_change().round(4)\n",
    "etfs_close['SPY_per_chnge'] = etfs_close['SPYDR_Chnge'].pct_change().round(4)\n",
    "# adding in cloumns for percent change"
   ]
  },
  {
   "cell_type": "code",
   "execution_count": 76,
   "metadata": {},
   "outputs": [
    {
     "data": {
      "text/html": [
       "<div>\n",
       "<style scoped>\n",
       "    .dataframe tbody tr th:only-of-type {\n",
       "        vertical-align: middle;\n",
       "    }\n",
       "\n",
       "    .dataframe tbody tr th {\n",
       "        vertical-align: top;\n",
       "    }\n",
       "\n",
       "    .dataframe thead th {\n",
       "        text-align: right;\n",
       "    }\n",
       "</style>\n",
       "<table border=\"1\" class=\"dataframe\">\n",
       "  <thead>\n",
       "    <tr style=\"text-align: right;\">\n",
       "      <th></th>\n",
       "      <th>DIA</th>\n",
       "      <th>QQQ</th>\n",
       "      <th>SPY</th>\n",
       "      <th>DOW_Chnge</th>\n",
       "      <th>NASDQ_Chnge</th>\n",
       "      <th>SPYDR_Chnge</th>\n",
       "      <th>QQQ_per_chnge</th>\n",
       "      <th>DIA_per_chnge</th>\n",
       "      <th>SPY_per_chnge</th>\n",
       "    </tr>\n",
       "    <tr>\n",
       "      <th>Date</th>\n",
       "      <th></th>\n",
       "      <th></th>\n",
       "      <th></th>\n",
       "      <th></th>\n",
       "      <th></th>\n",
       "      <th></th>\n",
       "      <th></th>\n",
       "      <th></th>\n",
       "      <th></th>\n",
       "    </tr>\n",
       "  </thead>\n",
       "  <tbody>\n",
       "    <tr>\n",
       "      <th>2019-01-02</th>\n",
       "      <td>233.36</td>\n",
       "      <td>154.88</td>\n",
       "      <td>250.18</td>\n",
       "      <td>NaN</td>\n",
       "      <td>NaN</td>\n",
       "      <td>NaN</td>\n",
       "      <td>NaN</td>\n",
       "      <td>NaN</td>\n",
       "      <td>NaN</td>\n",
       "    </tr>\n",
       "    <tr>\n",
       "      <th>2019-01-03</th>\n",
       "      <td>226.72</td>\n",
       "      <td>149.82</td>\n",
       "      <td>244.21</td>\n",
       "      <td>-6.64</td>\n",
       "      <td>-5.06</td>\n",
       "      <td>-5.97</td>\n",
       "      <td>NaN</td>\n",
       "      <td>NaN</td>\n",
       "      <td>NaN</td>\n",
       "    </tr>\n",
       "    <tr>\n",
       "      <th>2019-01-04</th>\n",
       "      <td>234.28</td>\n",
       "      <td>156.23</td>\n",
       "      <td>252.39</td>\n",
       "      <td>7.56</td>\n",
       "      <td>6.41</td>\n",
       "      <td>8.18</td>\n",
       "      <td>-2.2668</td>\n",
       "      <td>-2.1386</td>\n",
       "      <td>-2.3702</td>\n",
       "    </tr>\n",
       "    <tr>\n",
       "      <th>2019-01-07</th>\n",
       "      <td>235.36</td>\n",
       "      <td>158.09</td>\n",
       "      <td>254.38</td>\n",
       "      <td>1.08</td>\n",
       "      <td>1.86</td>\n",
       "      <td>1.99</td>\n",
       "      <td>-0.7098</td>\n",
       "      <td>-0.8571</td>\n",
       "      <td>-0.7567</td>\n",
       "    </tr>\n",
       "  </tbody>\n",
       "</table>\n",
       "</div>"
      ],
      "text/plain": [
       "               DIA     QQQ     SPY  DOW_Chnge  NASDQ_Chnge  SPYDR_Chnge  \\\n",
       "Date                                                                      \n",
       "2019-01-02  233.36  154.88  250.18        NaN          NaN          NaN   \n",
       "2019-01-03  226.72  149.82  244.21      -6.64        -5.06        -5.97   \n",
       "2019-01-04  234.28  156.23  252.39       7.56         6.41         8.18   \n",
       "2019-01-07  235.36  158.09  254.38       1.08         1.86         1.99   \n",
       "\n",
       "            QQQ_per_chnge  DIA_per_chnge  SPY_per_chnge  \n",
       "Date                                                     \n",
       "2019-01-02            NaN            NaN            NaN  \n",
       "2019-01-03            NaN            NaN            NaN  \n",
       "2019-01-04        -2.2668        -2.1386        -2.3702  \n",
       "2019-01-07        -0.7098        -0.8571        -0.7567  "
      ]
     },
     "execution_count": 76,
     "metadata": {},
     "output_type": "execute_result"
    }
   ],
   "source": [
    "etfs_close.head(4)"
   ]
  },
  {
   "cell_type": "code",
   "execution_count": 77,
   "metadata": {},
   "outputs": [
    {
     "data": {
      "text/plain": [
       "pandas.core.frame.DataFrame"
      ]
     },
     "execution_count": 77,
     "metadata": {},
     "output_type": "execute_result"
    }
   ],
   "source": [
    "type(etfs_close)"
   ]
  },
  {
   "cell_type": "code",
   "execution_count": null,
   "metadata": {},
   "outputs": [],
   "source": []
  },
  {
   "cell_type": "code",
   "execution_count": 78,
   "metadata": {},
   "outputs": [
    {
     "data": {
      "text/plain": [
       "Date\n",
       "2019-01-02       NaN\n",
       "2019-01-03       NaN\n",
       "2019-01-04   -2.2668\n",
       "2019-01-07   -0.7098\n",
       "2019-01-08   -0.2312\n",
       "               ...  \n",
       "2021-02-12    0.0219\n",
       "2021-02-16   -1.4866\n",
       "2021-02-17    0.7692\n",
       "2021-02-18   -0.0932\n",
       "2021-02-19   -0.0068\n",
       "Name: QQQ_per_chnge, Length: 538, dtype: float64"
      ]
     },
     "execution_count": 78,
     "metadata": {},
     "output_type": "execute_result"
    }
   ],
   "source": [
    "etfs_close['QQQ_per_chnge']"
   ]
  },
  {
   "cell_type": "code",
   "execution_count": 79,
   "metadata": {},
   "outputs": [
    {
     "data": {
      "text/plain": [
       "Date\n",
       "2019-01-02       NaN\n",
       "2019-01-03       NaN\n",
       "2019-01-04   -2.1386\n",
       "2019-01-07   -0.8571\n",
       "2019-01-08    1.3704\n",
       "               ...  \n",
       "2021-02-12    1.0000\n",
       "2021-02-16    0.5000\n",
       "2021-02-17    0.8889\n",
       "2021-02-18   -2.0196\n",
       "2021-02-19   -0.3846\n",
       "Name: DIA_per_chnge, Length: 538, dtype: float64"
      ]
     },
     "execution_count": 79,
     "metadata": {},
     "output_type": "execute_result"
    }
   ],
   "source": [
    "etfs_close['DIA_per_chnge'] \n"
   ]
  },
  {
   "cell_type": "code",
   "execution_count": 80,
   "metadata": {},
   "outputs": [
    {
     "data": {
      "text/plain": [
       "Date\n",
       "2019-01-02        NaN\n",
       "2019-01-03        NaN\n",
       "2019-01-04    -2.3702\n",
       "2019-01-07    -0.7567\n",
       "2019-01-08     0.2010\n",
       "               ...   \n",
       "2021-02-12     2.0635\n",
       "2021-02-16    -1.1762\n",
       "2021-02-17    -1.2647\n",
       "2021-02-18   -19.5556\n",
       "2021-02-19    -0.5868\n",
       "Name: SPY_per_chnge, Length: 538, dtype: float64"
      ]
     },
     "execution_count": 80,
     "metadata": {},
     "output_type": "execute_result"
    }
   ],
   "source": [
    "etfs_close['SPY_per_chnge'] "
   ]
  },
  {
   "cell_type": "code",
   "execution_count": 81,
   "metadata": {},
   "outputs": [
    {
     "data": {
      "text/html": [
       "<div>\n",
       "<style scoped>\n",
       "    .dataframe tbody tr th:only-of-type {\n",
       "        vertical-align: middle;\n",
       "    }\n",
       "\n",
       "    .dataframe tbody tr th {\n",
       "        vertical-align: top;\n",
       "    }\n",
       "\n",
       "    .dataframe thead th {\n",
       "        text-align: right;\n",
       "    }\n",
       "</style>\n",
       "<table border=\"1\" class=\"dataframe\">\n",
       "  <thead>\n",
       "    <tr style=\"text-align: right;\">\n",
       "      <th></th>\n",
       "      <th>QQQ_per_chnge</th>\n",
       "      <th>DIA_per_chnge</th>\n",
       "      <th>SPY_per_chnge</th>\n",
       "    </tr>\n",
       "    <tr>\n",
       "      <th>Date</th>\n",
       "      <th></th>\n",
       "      <th></th>\n",
       "      <th></th>\n",
       "    </tr>\n",
       "  </thead>\n",
       "  <tbody>\n",
       "    <tr>\n",
       "      <th>2019-01-04</th>\n",
       "      <td>-2.2668</td>\n",
       "      <td>-2.1386</td>\n",
       "      <td>-2.3702</td>\n",
       "    </tr>\n",
       "    <tr>\n",
       "      <th>2019-01-07</th>\n",
       "      <td>-0.7098</td>\n",
       "      <td>-0.8571</td>\n",
       "      <td>-0.7567</td>\n",
       "    </tr>\n",
       "  </tbody>\n",
       "</table>\n",
       "</div>"
      ],
      "text/plain": [
       "            QQQ_per_chnge  DIA_per_chnge  SPY_per_chnge\n",
       "Date                                                   \n",
       "2019-01-04        -2.2668        -2.1386        -2.3702\n",
       "2019-01-07        -0.7098        -0.8571        -0.7567"
      ]
     },
     "execution_count": 81,
     "metadata": {},
     "output_type": "execute_result"
    }
   ],
   "source": [
    "etfs_chnge = etfs_close.loc[:,['QQQ_per_chnge','DIA_per_chnge','SPY_per_chnge']].dropna(how = 'all')\n",
    "etfs_chnge.head(2)"
   ]
  },
  {
   "cell_type": "code",
   "execution_count": null,
   "metadata": {},
   "outputs": [],
   "source": []
  },
  {
   "cell_type": "code",
   "execution_count": 82,
   "metadata": {},
   "outputs": [],
   "source": [
    "#Creating functions to caluclate the 20 and 50 day Simple Moving Averages and Exponential moving Average\n",
    "\n",
    "def SMA(data, periods = 20, columns = 'Close'):\n",
    "    return data[column].rolling(window=period).mean()"
   ]
  },
  {
   "cell_type": "code",
   "execution_count": null,
   "metadata": {},
   "outputs": [],
   "source": []
  },
  {
   "cell_type": "code",
   "execution_count": null,
   "metadata": {},
   "outputs": [],
   "source": []
  },
  {
   "cell_type": "code",
   "execution_count": 83,
   "metadata": {},
   "outputs": [],
   "source": [
    "# Visualize the closing price history \n",
    "#plt.figure(figsize = (16,8))\n",
    "#plt.title(\"Close Price History\")\n",
    "#plt.plot(etfs_chnge)\n",
    "#plt.xlabel('Date', fontsize = 18)\n",
    "#plt.ylabel('Closing Price in USD($)', fontsize = 18)\n",
    "\n",
    "#plt.show()"
   ]
  },
  {
   "cell_type": "code",
   "execution_count": 84,
   "metadata": {},
   "outputs": [],
   "source": [
    "# Convert the dataframe into a numpy \n",
    "\n",
    "data = etfs_close.values"
   ]
  },
  {
   "cell_type": "code",
   "execution_count": 85,
   "metadata": {},
   "outputs": [
    {
     "data": {
      "text/plain": [
       "431"
      ]
     },
     "execution_count": 85,
     "metadata": {},
     "output_type": "execute_result"
    }
   ],
   "source": [
    "# get the number of rows to train our model with\n",
    "train_data_len = math.ceil(len(data)* 0.8)\n",
    "train_data_len"
   ]
  },
  {
   "cell_type": "code",
   "execution_count": 86,
   "metadata": {},
   "outputs": [
    {
     "name": "stdout",
     "output_type": "stream",
     "text": [
      "Requirement already satisfied: keras in c:\\users\\jharbour\\anaconda3\\envs\\tensorflow\\lib\\site-packages (2.4.3)\n",
      "Requirement already satisfied: scipy>=0.14 in c:\\users\\jharbour\\anaconda3\\envs\\tensorflow\\lib\\site-packages (from keras) (1.4.1)\n",
      "Requirement already satisfied: numpy>=1.9.1 in c:\\users\\jharbour\\anaconda3\\envs\\tensorflow\\lib\\site-packages (from keras) (1.18.5)\n",
      "Requirement already satisfied: pyyaml in c:\\users\\jharbour\\anaconda3\\envs\\tensorflow\\lib\\site-packages (from keras) (5.4.1)\n",
      "Requirement already satisfied: h5py in c:\\users\\jharbour\\anaconda3\\envs\\tensorflow\\lib\\site-packages (from keras) (2.10.0)\n",
      "Requirement already satisfied: six in c:\\users\\jharbour\\anaconda3\\envs\\tensorflow\\lib\\site-packages (from h5py->keras) (1.15.0)\n",
      "Requirement already satisfied: tensorflow in c:\\users\\jharbour\\anaconda3\\envs\\tensorflow\\lib\\site-packages (2.3.0)\n",
      "Requirement already satisfied: gast==0.3.3 in c:\\users\\jharbour\\anaconda3\\envs\\tensorflow\\lib\\site-packages (from tensorflow) (0.3.3)\n",
      "Requirement already satisfied: keras-preprocessing<1.2,>=1.1.1 in c:\\users\\jharbour\\anaconda3\\envs\\tensorflow\\lib\\site-packages (from tensorflow) (1.1.2)\n",
      "Requirement already satisfied: six>=1.12.0 in c:\\users\\jharbour\\anaconda3\\envs\\tensorflow\\lib\\site-packages (from tensorflow) (1.15.0)\n",
      "Requirement already satisfied: grpcio>=1.8.6 in c:\\users\\jharbour\\anaconda3\\envs\\tensorflow\\lib\\site-packages (from tensorflow) (1.35.0)\n",
      "Requirement already satisfied: wrapt>=1.11.1 in c:\\users\\jharbour\\anaconda3\\envs\\tensorflow\\lib\\site-packages (from tensorflow) (1.12.1)\n",
      "Requirement already satisfied: absl-py>=0.7.0 in c:\\users\\jharbour\\anaconda3\\envs\\tensorflow\\lib\\site-packages (from tensorflow) (0.11.0)\n",
      "Requirement already satisfied: google-pasta>=0.1.8 in c:\\users\\jharbour\\anaconda3\\envs\\tensorflow\\lib\\site-packages (from tensorflow) (0.2.0)\n",
      "Requirement already satisfied: tensorflow-estimator<2.4.0,>=2.3.0 in c:\\users\\jharbour\\anaconda3\\envs\\tensorflow\\lib\\site-packages (from tensorflow) (2.3.0)\n",
      "Requirement already satisfied: scipy==1.4.1 in c:\\users\\jharbour\\anaconda3\\envs\\tensorflow\\lib\\site-packages (from tensorflow) (1.4.1)\n",
      "Requirement already satisfied: tensorboard<3,>=2.3.0 in c:\\users\\jharbour\\anaconda3\\envs\\tensorflow\\lib\\site-packages (from tensorflow) (2.3.0)\n",
      "Requirement already satisfied: opt-einsum>=2.3.2 in c:\\users\\jharbour\\anaconda3\\envs\\tensorflow\\lib\\site-packages (from tensorflow) (3.1.0)\n",
      "Requirement already satisfied: astunparse==1.6.3 in c:\\users\\jharbour\\anaconda3\\envs\\tensorflow\\lib\\site-packages (from tensorflow) (1.6.3)\n",
      "Requirement already satisfied: protobuf>=3.9.2 in c:\\users\\jharbour\\anaconda3\\envs\\tensorflow\\lib\\site-packages (from tensorflow) (3.14.0)\n",
      "Requirement already satisfied: termcolor>=1.1.0 in c:\\users\\jharbour\\anaconda3\\envs\\tensorflow\\lib\\site-packages (from tensorflow) (1.1.0)\n",
      "Requirement already satisfied: numpy<1.19.0,>=1.16.0 in c:\\users\\jharbour\\anaconda3\\envs\\tensorflow\\lib\\site-packages (from tensorflow) (1.18.5)\n",
      "Requirement already satisfied: h5py<2.11.0,>=2.10.0 in c:\\users\\jharbour\\anaconda3\\envs\\tensorflow\\lib\\site-packages (from tensorflow) (2.10.0)\n",
      "Requirement already satisfied: wheel>=0.26 in c:\\users\\jharbour\\anaconda3\\envs\\tensorflow\\lib\\site-packages (from tensorflow) (0.36.2)\n",
      "Requirement already satisfied: tensorboard-plugin-wit>=1.6.0 in c:\\users\\jharbour\\anaconda3\\envs\\tensorflow\\lib\\site-packages (from tensorboard<3,>=2.3.0->tensorflow) (1.6.0)\n",
      "Requirement already satisfied: requests<3,>=2.21.0 in c:\\users\\jharbour\\anaconda3\\envs\\tensorflow\\lib\\site-packages (from tensorboard<3,>=2.3.0->tensorflow) (2.25.1)\n",
      "Requirement already satisfied: setuptools>=41.0.0 in c:\\users\\jharbour\\anaconda3\\envs\\tensorflow\\lib\\site-packages (from tensorboard<3,>=2.3.0->tensorflow) (52.0.0.post20210125)\n",
      "Requirement already satisfied: markdown>=2.6.8 in c:\\users\\jharbour\\anaconda3\\envs\\tensorflow\\lib\\site-packages (from tensorboard<3,>=2.3.0->tensorflow) (3.3.3)\n",
      "Requirement already satisfied: google-auth-oauthlib<0.5,>=0.4.1 in c:\\users\\jharbour\\anaconda3\\envs\\tensorflow\\lib\\site-packages (from tensorboard<3,>=2.3.0->tensorflow) (0.4.2)\n",
      "Requirement already satisfied: werkzeug>=0.11.15 in c:\\users\\jharbour\\anaconda3\\envs\\tensorflow\\lib\\site-packages (from tensorboard<3,>=2.3.0->tensorflow) (1.0.1)\n",
      "Requirement already satisfied: google-auth<2,>=1.6.3 in c:\\users\\jharbour\\anaconda3\\envs\\tensorflow\\lib\\site-packages (from tensorboard<3,>=2.3.0->tensorflow) (1.27.0)\n",
      "Requirement already satisfied: pyasn1-modules>=0.2.1 in c:\\users\\jharbour\\anaconda3\\envs\\tensorflow\\lib\\site-packages (from google-auth<2,>=1.6.3->tensorboard<3,>=2.3.0->tensorflow) (0.2.8)\n",
      "Requirement already satisfied: cachetools<5.0,>=2.0.0 in c:\\users\\jharbour\\anaconda3\\envs\\tensorflow\\lib\\site-packages (from google-auth<2,>=1.6.3->tensorboard<3,>=2.3.0->tensorflow) (4.2.1)\n",
      "Requirement already satisfied: rsa<5,>=3.1.4 in c:\\users\\jharbour\\anaconda3\\envs\\tensorflow\\lib\\site-packages (from google-auth<2,>=1.6.3->tensorboard<3,>=2.3.0->tensorflow) (4.7.1)\n",
      "Requirement already satisfied: requests-oauthlib>=0.7.0 in c:\\users\\jharbour\\anaconda3\\envs\\tensorflow\\lib\\site-packages (from google-auth-oauthlib<0.5,>=0.4.1->tensorboard<3,>=2.3.0->tensorflow) (1.3.0)\n",
      "Requirement already satisfied: importlib-metadata in c:\\users\\jharbour\\anaconda3\\envs\\tensorflow\\lib\\site-packages (from markdown>=2.6.8->tensorboard<3,>=2.3.0->tensorflow) (2.0.0)\n",
      "Requirement already satisfied: pyasn1<0.5.0,>=0.4.6 in c:\\users\\jharbour\\anaconda3\\envs\\tensorflow\\lib\\site-packages (from pyasn1-modules>=0.2.1->google-auth<2,>=1.6.3->tensorboard<3,>=2.3.0->tensorflow) (0.4.8)\n",
      "Requirement already satisfied: certifi>=2017.4.17 in c:\\users\\jharbour\\anaconda3\\envs\\tensorflow\\lib\\site-packages (from requests<3,>=2.21.0->tensorboard<3,>=2.3.0->tensorflow) (2020.12.5)\n",
      "Requirement already satisfied: idna<3,>=2.5 in c:\\users\\jharbour\\anaconda3\\envs\\tensorflow\\lib\\site-packages (from requests<3,>=2.21.0->tensorboard<3,>=2.3.0->tensorflow) (2.10)\n",
      "Requirement already satisfied: chardet<5,>=3.0.2 in c:\\users\\jharbour\\anaconda3\\envs\\tensorflow\\lib\\site-packages (from requests<3,>=2.21.0->tensorboard<3,>=2.3.0->tensorflow) (3.0.4)\n",
      "Requirement already satisfied: urllib3<1.27,>=1.21.1 in c:\\users\\jharbour\\anaconda3\\envs\\tensorflow\\lib\\site-packages (from requests<3,>=2.21.0->tensorboard<3,>=2.3.0->tensorflow) (1.26.3)\n",
      "Requirement already satisfied: oauthlib>=3.0.0 in c:\\users\\jharbour\\anaconda3\\envs\\tensorflow\\lib\\site-packages (from requests-oauthlib>=0.7.0->google-auth-oauthlib<0.5,>=0.4.1->tensorboard<3,>=2.3.0->tensorflow) (3.1.0)\n",
      "Requirement already satisfied: zipp>=0.5 in c:\\users\\jharbour\\anaconda3\\envs\\tensorflow\\lib\\site-packages (from importlib-metadata->markdown>=2.6.8->tensorboard<3,>=2.3.0->tensorflow) (3.4.0)\n",
      "Requirement already satisfied: sklearn in c:\\users\\jharbour\\anaconda3\\envs\\tensorflow\\lib\\site-packages (0.0)\n",
      "Requirement already satisfied: scikit-learn in c:\\users\\jharbour\\anaconda3\\envs\\tensorflow\\lib\\site-packages (from sklearn) (0.24.1)\n",
      "Requirement already satisfied: joblib>=0.11 in c:\\users\\jharbour\\anaconda3\\envs\\tensorflow\\lib\\site-packages (from scikit-learn->sklearn) (1.0.1)\n",
      "Requirement already satisfied: numpy>=1.13.3 in c:\\users\\jharbour\\anaconda3\\envs\\tensorflow\\lib\\site-packages (from scikit-learn->sklearn) (1.18.5)\n",
      "Requirement already satisfied: threadpoolctl>=2.0.0 in c:\\users\\jharbour\\anaconda3\\envs\\tensorflow\\lib\\site-packages (from scikit-learn->sklearn) (2.1.0)\n",
      "Requirement already satisfied: scipy>=0.19.1 in c:\\users\\jharbour\\anaconda3\\envs\\tensorflow\\lib\\site-packages (from scikit-learn->sklearn) (1.4.1)\n"
     ]
    }
   ],
   "source": [
    "!pip install keras\n",
    "!pip install tensorflow\n",
    "!pip install sklearn\n",
    "from sklearn.preprocessing import MinMaxScaler\n",
    "from keras.models import Sequential\n",
    "from keras.layers import Dense, LSTM "
   ]
  },
  {
   "cell_type": "code",
   "execution_count": 87,
   "metadata": {
    "scrolled": true
   },
   "outputs": [
    {
     "ename": "ValueError",
     "evalue": "Input contains infinity or a value too large for dtype('float64').",
     "output_type": "error",
     "traceback": [
      "\u001b[1;31m---------------------------------------------------------------------------\u001b[0m",
      "\u001b[1;31mValueError\u001b[0m                                Traceback (most recent call last)",
      "\u001b[1;32m<ipython-input-87-e84fa41976d4>\u001b[0m in \u001b[0;36m<module>\u001b[1;34m\u001b[0m\n\u001b[0;32m      1\u001b[0m \u001b[1;31m# Scaling the data\u001b[0m\u001b[1;33m\u001b[0m\u001b[1;33m\u001b[0m\u001b[1;33m\u001b[0m\u001b[0m\n\u001b[0;32m      2\u001b[0m \u001b[0mscaler\u001b[0m \u001b[1;33m=\u001b[0m \u001b[0mMinMaxScaler\u001b[0m\u001b[1;33m(\u001b[0m\u001b[0mfeature_range\u001b[0m \u001b[1;33m=\u001b[0m \u001b[1;33m(\u001b[0m\u001b[1;36m0\u001b[0m\u001b[1;33m,\u001b[0m\u001b[1;36m1\u001b[0m\u001b[1;33m)\u001b[0m\u001b[1;33m)\u001b[0m\u001b[1;33m\u001b[0m\u001b[1;33m\u001b[0m\u001b[0m\n\u001b[1;32m----> 3\u001b[1;33m \u001b[0mscaled_data\u001b[0m \u001b[1;33m=\u001b[0m \u001b[0mscaler\u001b[0m\u001b[1;33m.\u001b[0m\u001b[0mfit_transform\u001b[0m\u001b[1;33m(\u001b[0m\u001b[0mdata\u001b[0m\u001b[1;33m)\u001b[0m\u001b[1;33m\u001b[0m\u001b[1;33m\u001b[0m\u001b[0m\n\u001b[0m\u001b[0;32m      4\u001b[0m \u001b[1;33m\u001b[0m\u001b[0m\n\u001b[0;32m      5\u001b[0m \u001b[0mscaled_data\u001b[0m\u001b[1;33m\u001b[0m\u001b[1;33m\u001b[0m\u001b[0m\n",
      "\u001b[1;32m~\\Anaconda3\\envs\\Tensorflow\\lib\\site-packages\\sklearn\\base.py\u001b[0m in \u001b[0;36mfit_transform\u001b[1;34m(self, X, y, **fit_params)\u001b[0m\n\u001b[0;32m    697\u001b[0m         \u001b[1;32mif\u001b[0m \u001b[0my\u001b[0m \u001b[1;32mis\u001b[0m \u001b[1;32mNone\u001b[0m\u001b[1;33m:\u001b[0m\u001b[1;33m\u001b[0m\u001b[1;33m\u001b[0m\u001b[0m\n\u001b[0;32m    698\u001b[0m             \u001b[1;31m# fit method of arity 1 (unsupervised transformation)\u001b[0m\u001b[1;33m\u001b[0m\u001b[1;33m\u001b[0m\u001b[1;33m\u001b[0m\u001b[0m\n\u001b[1;32m--> 699\u001b[1;33m             \u001b[1;32mreturn\u001b[0m \u001b[0mself\u001b[0m\u001b[1;33m.\u001b[0m\u001b[0mfit\u001b[0m\u001b[1;33m(\u001b[0m\u001b[0mX\u001b[0m\u001b[1;33m,\u001b[0m \u001b[1;33m**\u001b[0m\u001b[0mfit_params\u001b[0m\u001b[1;33m)\u001b[0m\u001b[1;33m.\u001b[0m\u001b[0mtransform\u001b[0m\u001b[1;33m(\u001b[0m\u001b[0mX\u001b[0m\u001b[1;33m)\u001b[0m\u001b[1;33m\u001b[0m\u001b[1;33m\u001b[0m\u001b[0m\n\u001b[0m\u001b[0;32m    700\u001b[0m         \u001b[1;32melse\u001b[0m\u001b[1;33m:\u001b[0m\u001b[1;33m\u001b[0m\u001b[1;33m\u001b[0m\u001b[0m\n\u001b[0;32m    701\u001b[0m             \u001b[1;31m# fit method of arity 2 (supervised transformation)\u001b[0m\u001b[1;33m\u001b[0m\u001b[1;33m\u001b[0m\u001b[1;33m\u001b[0m\u001b[0m\n",
      "\u001b[1;32m~\\Anaconda3\\envs\\Tensorflow\\lib\\site-packages\\sklearn\\preprocessing\\_data.py\u001b[0m in \u001b[0;36mfit\u001b[1;34m(self, X, y)\u001b[0m\n\u001b[0;32m    361\u001b[0m         \u001b[1;31m# Reset internal state before fitting\u001b[0m\u001b[1;33m\u001b[0m\u001b[1;33m\u001b[0m\u001b[1;33m\u001b[0m\u001b[0m\n\u001b[0;32m    362\u001b[0m         \u001b[0mself\u001b[0m\u001b[1;33m.\u001b[0m\u001b[0m_reset\u001b[0m\u001b[1;33m(\u001b[0m\u001b[1;33m)\u001b[0m\u001b[1;33m\u001b[0m\u001b[1;33m\u001b[0m\u001b[0m\n\u001b[1;32m--> 363\u001b[1;33m         \u001b[1;32mreturn\u001b[0m \u001b[0mself\u001b[0m\u001b[1;33m.\u001b[0m\u001b[0mpartial_fit\u001b[0m\u001b[1;33m(\u001b[0m\u001b[0mX\u001b[0m\u001b[1;33m,\u001b[0m \u001b[0my\u001b[0m\u001b[1;33m)\u001b[0m\u001b[1;33m\u001b[0m\u001b[1;33m\u001b[0m\u001b[0m\n\u001b[0m\u001b[0;32m    364\u001b[0m \u001b[1;33m\u001b[0m\u001b[0m\n\u001b[0;32m    365\u001b[0m     \u001b[1;32mdef\u001b[0m \u001b[0mpartial_fit\u001b[0m\u001b[1;33m(\u001b[0m\u001b[0mself\u001b[0m\u001b[1;33m,\u001b[0m \u001b[0mX\u001b[0m\u001b[1;33m,\u001b[0m \u001b[0my\u001b[0m\u001b[1;33m=\u001b[0m\u001b[1;32mNone\u001b[0m\u001b[1;33m)\u001b[0m\u001b[1;33m:\u001b[0m\u001b[1;33m\u001b[0m\u001b[1;33m\u001b[0m\u001b[0m\n",
      "\u001b[1;32m~\\Anaconda3\\envs\\Tensorflow\\lib\\site-packages\\sklearn\\preprocessing\\_data.py\u001b[0m in \u001b[0;36mpartial_fit\u001b[1;34m(self, X, y)\u001b[0m\n\u001b[0;32m    396\u001b[0m         X = self._validate_data(X, reset=first_pass,\n\u001b[0;32m    397\u001b[0m                                 \u001b[0mestimator\u001b[0m\u001b[1;33m=\u001b[0m\u001b[0mself\u001b[0m\u001b[1;33m,\u001b[0m \u001b[0mdtype\u001b[0m\u001b[1;33m=\u001b[0m\u001b[0mFLOAT_DTYPES\u001b[0m\u001b[1;33m,\u001b[0m\u001b[1;33m\u001b[0m\u001b[1;33m\u001b[0m\u001b[0m\n\u001b[1;32m--> 398\u001b[1;33m                                 force_all_finite=\"allow-nan\")\n\u001b[0m\u001b[0;32m    399\u001b[0m \u001b[1;33m\u001b[0m\u001b[0m\n\u001b[0;32m    400\u001b[0m         \u001b[0mdata_min\u001b[0m \u001b[1;33m=\u001b[0m \u001b[0mnp\u001b[0m\u001b[1;33m.\u001b[0m\u001b[0mnanmin\u001b[0m\u001b[1;33m(\u001b[0m\u001b[0mX\u001b[0m\u001b[1;33m,\u001b[0m \u001b[0maxis\u001b[0m\u001b[1;33m=\u001b[0m\u001b[1;36m0\u001b[0m\u001b[1;33m)\u001b[0m\u001b[1;33m\u001b[0m\u001b[1;33m\u001b[0m\u001b[0m\n",
      "\u001b[1;32m~\\Anaconda3\\envs\\Tensorflow\\lib\\site-packages\\sklearn\\base.py\u001b[0m in \u001b[0;36m_validate_data\u001b[1;34m(self, X, y, reset, validate_separately, **check_params)\u001b[0m\n\u001b[0;32m    419\u001b[0m             \u001b[0mout\u001b[0m \u001b[1;33m=\u001b[0m \u001b[0mX\u001b[0m\u001b[1;33m\u001b[0m\u001b[1;33m\u001b[0m\u001b[0m\n\u001b[0;32m    420\u001b[0m         \u001b[1;32melif\u001b[0m \u001b[0misinstance\u001b[0m\u001b[1;33m(\u001b[0m\u001b[0my\u001b[0m\u001b[1;33m,\u001b[0m \u001b[0mstr\u001b[0m\u001b[1;33m)\u001b[0m \u001b[1;32mand\u001b[0m \u001b[0my\u001b[0m \u001b[1;33m==\u001b[0m \u001b[1;34m'no_validation'\u001b[0m\u001b[1;33m:\u001b[0m\u001b[1;33m\u001b[0m\u001b[1;33m\u001b[0m\u001b[0m\n\u001b[1;32m--> 421\u001b[1;33m             \u001b[0mX\u001b[0m \u001b[1;33m=\u001b[0m \u001b[0mcheck_array\u001b[0m\u001b[1;33m(\u001b[0m\u001b[0mX\u001b[0m\u001b[1;33m,\u001b[0m \u001b[1;33m**\u001b[0m\u001b[0mcheck_params\u001b[0m\u001b[1;33m)\u001b[0m\u001b[1;33m\u001b[0m\u001b[1;33m\u001b[0m\u001b[0m\n\u001b[0m\u001b[0;32m    422\u001b[0m             \u001b[0mout\u001b[0m \u001b[1;33m=\u001b[0m \u001b[0mX\u001b[0m\u001b[1;33m\u001b[0m\u001b[1;33m\u001b[0m\u001b[0m\n\u001b[0;32m    423\u001b[0m         \u001b[1;32melse\u001b[0m\u001b[1;33m:\u001b[0m\u001b[1;33m\u001b[0m\u001b[1;33m\u001b[0m\u001b[0m\n",
      "\u001b[1;32m~\\Anaconda3\\envs\\Tensorflow\\lib\\site-packages\\sklearn\\utils\\validation.py\u001b[0m in \u001b[0;36minner_f\u001b[1;34m(*args, **kwargs)\u001b[0m\n\u001b[0;32m     61\u001b[0m             \u001b[0mextra_args\u001b[0m \u001b[1;33m=\u001b[0m \u001b[0mlen\u001b[0m\u001b[1;33m(\u001b[0m\u001b[0margs\u001b[0m\u001b[1;33m)\u001b[0m \u001b[1;33m-\u001b[0m \u001b[0mlen\u001b[0m\u001b[1;33m(\u001b[0m\u001b[0mall_args\u001b[0m\u001b[1;33m)\u001b[0m\u001b[1;33m\u001b[0m\u001b[1;33m\u001b[0m\u001b[0m\n\u001b[0;32m     62\u001b[0m             \u001b[1;32mif\u001b[0m \u001b[0mextra_args\u001b[0m \u001b[1;33m<=\u001b[0m \u001b[1;36m0\u001b[0m\u001b[1;33m:\u001b[0m\u001b[1;33m\u001b[0m\u001b[1;33m\u001b[0m\u001b[0m\n\u001b[1;32m---> 63\u001b[1;33m                 \u001b[1;32mreturn\u001b[0m \u001b[0mf\u001b[0m\u001b[1;33m(\u001b[0m\u001b[1;33m*\u001b[0m\u001b[0margs\u001b[0m\u001b[1;33m,\u001b[0m \u001b[1;33m**\u001b[0m\u001b[0mkwargs\u001b[0m\u001b[1;33m)\u001b[0m\u001b[1;33m\u001b[0m\u001b[1;33m\u001b[0m\u001b[0m\n\u001b[0m\u001b[0;32m     64\u001b[0m \u001b[1;33m\u001b[0m\u001b[0m\n\u001b[0;32m     65\u001b[0m             \u001b[1;31m# extra_args > 0\u001b[0m\u001b[1;33m\u001b[0m\u001b[1;33m\u001b[0m\u001b[1;33m\u001b[0m\u001b[0m\n",
      "\u001b[1;32m~\\Anaconda3\\envs\\Tensorflow\\lib\\site-packages\\sklearn\\utils\\validation.py\u001b[0m in \u001b[0;36mcheck_array\u001b[1;34m(array, accept_sparse, accept_large_sparse, dtype, order, copy, force_all_finite, ensure_2d, allow_nd, ensure_min_samples, ensure_min_features, estimator)\u001b[0m\n\u001b[0;32m    662\u001b[0m         \u001b[1;32mif\u001b[0m \u001b[0mforce_all_finite\u001b[0m\u001b[1;33m:\u001b[0m\u001b[1;33m\u001b[0m\u001b[1;33m\u001b[0m\u001b[0m\n\u001b[0;32m    663\u001b[0m             _assert_all_finite(array,\n\u001b[1;32m--> 664\u001b[1;33m                                allow_nan=force_all_finite == 'allow-nan')\n\u001b[0m\u001b[0;32m    665\u001b[0m \u001b[1;33m\u001b[0m\u001b[0m\n\u001b[0;32m    666\u001b[0m     \u001b[1;32mif\u001b[0m \u001b[0mensure_min_samples\u001b[0m \u001b[1;33m>\u001b[0m \u001b[1;36m0\u001b[0m\u001b[1;33m:\u001b[0m\u001b[1;33m\u001b[0m\u001b[1;33m\u001b[0m\u001b[0m\n",
      "\u001b[1;32m~\\Anaconda3\\envs\\Tensorflow\\lib\\site-packages\\sklearn\\utils\\validation.py\u001b[0m in \u001b[0;36m_assert_all_finite\u001b[1;34m(X, allow_nan, msg_dtype)\u001b[0m\n\u001b[0;32m    104\u001b[0m                     \u001b[0mmsg_err\u001b[0m\u001b[1;33m.\u001b[0m\u001b[0mformat\u001b[0m\u001b[1;33m\u001b[0m\u001b[1;33m\u001b[0m\u001b[0m\n\u001b[0;32m    105\u001b[0m                     (type_err,\n\u001b[1;32m--> 106\u001b[1;33m                      msg_dtype if msg_dtype is not None else X.dtype)\n\u001b[0m\u001b[0;32m    107\u001b[0m             )\n\u001b[0;32m    108\u001b[0m     \u001b[1;31m# for object dtype data, we only check for NaNs (GH-13254)\u001b[0m\u001b[1;33m\u001b[0m\u001b[1;33m\u001b[0m\u001b[1;33m\u001b[0m\u001b[0m\n",
      "\u001b[1;31mValueError\u001b[0m: Input contains infinity or a value too large for dtype('float64')."
     ]
    }
   ],
   "source": [
    "# Scaling the data\n",
    "scaler = MinMaxScaler(feature_range = (0,1))\n",
    "scaled_data = scaler.fit_transform(data)\n",
    "\n",
    "scaled_data"
   ]
  },
  {
   "cell_type": "code",
   "execution_count": 88,
   "metadata": {},
   "outputs": [
    {
     "ename": "NameError",
     "evalue": "name 'scaled_data' is not defined",
     "output_type": "error",
     "traceback": [
      "\u001b[1;31m---------------------------------------------------------------------------\u001b[0m",
      "\u001b[1;31mNameError\u001b[0m                                 Traceback (most recent call last)",
      "\u001b[1;32m<ipython-input-88-6c82760ba434>\u001b[0m in \u001b[0;36m<module>\u001b[1;34m\u001b[0m\n\u001b[0;32m      1\u001b[0m \u001b[1;31m# Creating a scaled training dataset\u001b[0m\u001b[1;33m\u001b[0m\u001b[1;33m\u001b[0m\u001b[1;33m\u001b[0m\u001b[0m\n\u001b[1;32m----> 2\u001b[1;33m \u001b[0mdata_train\u001b[0m \u001b[1;33m=\u001b[0m \u001b[0mscaled_data\u001b[0m\u001b[1;33m[\u001b[0m\u001b[1;36m0\u001b[0m\u001b[1;33m:\u001b[0m\u001b[0mtrain_data_len\u001b[0m\u001b[1;33m,\u001b[0m \u001b[1;33m:\u001b[0m\u001b[1;33m]\u001b[0m\u001b[1;33m\u001b[0m\u001b[1;33m\u001b[0m\u001b[0m\n\u001b[0m",
      "\u001b[1;31mNameError\u001b[0m: name 'scaled_data' is not defined"
     ]
    }
   ],
   "source": [
    "# Creating a scaled training dataset \n",
    "data_train = scaled_data[0:train_data_len, :]  "
   ]
  },
  {
   "cell_type": "code",
   "execution_count": null,
   "metadata": {},
   "outputs": [],
   "source": [
    "# Splitting the data into X_train and y_train data sets \n",
    "X_train =[]\n",
    "y_train = []"
   ]
  },
  {
   "cell_type": "code",
   "execution_count": null,
   "metadata": {},
   "outputs": [],
   "source": [
    "# creating a loop to append for previous 60 days of data\n",
    "for i in range(60,len(data_train)):\n",
    "        X_train.append(data_train[i-60:i,0])\n",
    "        y_train.append(data_train[i,0])\n",
    "        if i <= 61:\n",
    "            print(X_train)\n",
    "            print(y_train)\n",
    "            print()\n",
    "               "
   ]
  },
  {
   "cell_type": "code",
   "execution_count": null,
   "metadata": {},
   "outputs": [],
   "source": [
    "# converting the X_train andy_train into numpy arrays\n",
    "X_train, y_train = np.array(X_train),np.array(y_train)"
   ]
  },
  {
   "cell_type": "code",
   "execution_count": null,
   "metadata": {},
   "outputs": [],
   "source": [
    "# Reshaping the data in preparation for use in the LSTM model which accepts \n",
    "# 3D data \n",
    "\n",
    "X_train = np.reshape(X_train, (X_train.shape[0],X_train.shape[1 ],1))\n",
    "X_train.shape"
   ]
  },
  {
   "cell_type": "code",
   "execution_count": null,
   "metadata": {
    "scrolled": true
   },
   "outputs": [],
   "source": [
    "# Build the LSTM model(LSTM stands for \"Long Short Term Memory\" and is a type of neural network)\n",
    "from keras.models import Sequential\n",
    "\n",
    "model = Sequential()\n",
    "model.add(LSTM(50, return_sequences = True, input_shape =(X_train.shape[1],1)))\n",
    "model.add(LSTM(50, return_sequences = False))\n",
    "model.add(Dense(25))\n",
    "model.add(Dense(1))"
   ]
  },
  {
   "cell_type": "code",
   "execution_count": null,
   "metadata": {},
   "outputs": [],
   "source": [
    "# compile the model \n",
    "\n",
    "model.compile(optimizer = 'adam', loss = 'mean_squared_error')\n"
   ]
  },
  {
   "cell_type": "code",
   "execution_count": null,
   "metadata": {},
   "outputs": [],
   "source": [
    "# train the model\n",
    "model.fit(X_train,y_train, batch_size =1, epochs=1)"
   ]
  },
  {
   "cell_type": "code",
   "execution_count": null,
   "metadata": {},
   "outputs": [],
   "source": [
    "#Create the testing data... a new array of scaled values \n",
    "\n",
    "test = scaled_data[train_data_len - 60: , :]"
   ]
  },
  {
   "cell_type": "code",
   "execution_count": null,
   "metadata": {},
   "outputs": [],
   "source": [
    "# create the data sets X_test and y_test\n",
    "X_test = []\n",
    "y_test = data[train_data_len:, :]\n",
    "\n",
    "for i in range(60, len(test)):\n",
    "    X_test.append(test[i-60:i, 0])"
   ]
  },
  {
   "cell_type": "code",
   "execution_count": null,
   "metadata": {},
   "outputs": [],
   "source": [
    "# converting the dataset into a numpy array\n",
    "X_test = np.array(X_test)"
   ]
  },
  {
   "cell_type": "code",
   "execution_count": null,
   "metadata": {},
   "outputs": [],
   "source": [
    "#reshaping the test dataset\n",
    "X_test = np.reshape(X_test,(X_test.shape[0],X_test.shape[1],1))"
   ]
  },
  {
   "cell_type": "code",
   "execution_count": null,
   "metadata": {
    "scrolled": true
   },
   "outputs": [],
   "source": [
    "# get the predicted price values\n",
    "preds = model.predict(X_test)\n",
    "preds = scaler.inverse_transform(preds)"
   ]
  },
  {
   "cell_type": "code",
   "execution_count": null,
   "metadata": {},
   "outputs": [],
   "source": [
    "#getting RMSE\n",
    "rmse = np.sqrt(np.mean(preds- y_test)**2)\n",
    "rmse"
   ]
  },
  {
   "cell_type": "code",
   "execution_count": null,
   "metadata": {},
   "outputs": [],
   "source": []
  },
  {
   "cell_type": "markdown",
   "metadata": {},
   "source": [
    "## Third version with a slight modification of the 2nd... Only pulling info on QQQ to be sure things work.\n"
   ]
  },
  {
   "cell_type": "code",
   "execution_count": 89,
   "metadata": {},
   "outputs": [
    {
     "data": {
      "text/html": [
       "<div>\n",
       "<style scoped>\n",
       "    .dataframe tbody tr th:only-of-type {\n",
       "        vertical-align: middle;\n",
       "    }\n",
       "\n",
       "    .dataframe tbody tr th {\n",
       "        vertical-align: top;\n",
       "    }\n",
       "\n",
       "    .dataframe thead th {\n",
       "        text-align: right;\n",
       "    }\n",
       "</style>\n",
       "<table border=\"1\" class=\"dataframe\">\n",
       "  <thead>\n",
       "    <tr style=\"text-align: right;\">\n",
       "      <th></th>\n",
       "      <th>High</th>\n",
       "      <th>Low</th>\n",
       "      <th>Open</th>\n",
       "      <th>Close</th>\n",
       "      <th>Volume</th>\n",
       "      <th>Adj Close</th>\n",
       "    </tr>\n",
       "    <tr>\n",
       "      <th>Date</th>\n",
       "      <th></th>\n",
       "      <th></th>\n",
       "      <th></th>\n",
       "      <th></th>\n",
       "      <th></th>\n",
       "      <th></th>\n",
       "    </tr>\n",
       "  </thead>\n",
       "  <tbody>\n",
       "    <tr>\n",
       "      <th>2019-01-02</th>\n",
       "      <td>155.75</td>\n",
       "      <td>150.88</td>\n",
       "      <td>150.99</td>\n",
       "      <td>154.88</td>\n",
       "      <td>58576700.0</td>\n",
       "      <td>152.74</td>\n",
       "    </tr>\n",
       "    <tr>\n",
       "      <th>2019-01-03</th>\n",
       "      <td>153.26</td>\n",
       "      <td>149.49</td>\n",
       "      <td>152.60</td>\n",
       "      <td>149.82</td>\n",
       "      <td>74820200.0</td>\n",
       "      <td>147.75</td>\n",
       "    </tr>\n",
       "    <tr>\n",
       "      <th>2019-01-04</th>\n",
       "      <td>157.00</td>\n",
       "      <td>151.74</td>\n",
       "      <td>152.34</td>\n",
       "      <td>156.23</td>\n",
       "      <td>74709300.0</td>\n",
       "      <td>154.08</td>\n",
       "    </tr>\n",
       "    <tr>\n",
       "      <th>2019-01-07</th>\n",
       "      <td>158.86</td>\n",
       "      <td>156.11</td>\n",
       "      <td>156.62</td>\n",
       "      <td>158.09</td>\n",
       "      <td>52059300.0</td>\n",
       "      <td>155.91</td>\n",
       "    </tr>\n",
       "    <tr>\n",
       "      <th>2019-01-08</th>\n",
       "      <td>160.11</td>\n",
       "      <td>157.20</td>\n",
       "      <td>159.54</td>\n",
       "      <td>159.52</td>\n",
       "      <td>49388700.0</td>\n",
       "      <td>157.32</td>\n",
       "    </tr>\n",
       "    <tr>\n",
       "      <th>...</th>\n",
       "      <td>...</td>\n",
       "      <td>...</td>\n",
       "      <td>...</td>\n",
       "      <td>...</td>\n",
       "      <td>...</td>\n",
       "      <td>...</td>\n",
       "    </tr>\n",
       "    <tr>\n",
       "      <th>2021-02-12</th>\n",
       "      <td>336.62</td>\n",
       "      <td>332.63</td>\n",
       "      <td>333.71</td>\n",
       "      <td>336.45</td>\n",
       "      <td>20318000.0</td>\n",
       "      <td>336.45</td>\n",
       "    </tr>\n",
       "    <tr>\n",
       "      <th>2021-02-16</th>\n",
       "      <td>338.19</td>\n",
       "      <td>334.34</td>\n",
       "      <td>337.27</td>\n",
       "      <td>335.54</td>\n",
       "      <td>27080800.0</td>\n",
       "      <td>335.54</td>\n",
       "    </tr>\n",
       "    <tr>\n",
       "      <th>2021-02-17</th>\n",
       "      <td>335.66</td>\n",
       "      <td>330.17</td>\n",
       "      <td>332.47</td>\n",
       "      <td>333.93</td>\n",
       "      <td>31360300.0</td>\n",
       "      <td>333.93</td>\n",
       "    </tr>\n",
       "    <tr>\n",
       "      <th>2021-02-18</th>\n",
       "      <td>333.87</td>\n",
       "      <td>328.36</td>\n",
       "      <td>330.23</td>\n",
       "      <td>332.47</td>\n",
       "      <td>32236200.0</td>\n",
       "      <td>332.47</td>\n",
       "    </tr>\n",
       "    <tr>\n",
       "      <th>2021-02-19</th>\n",
       "      <td>333.99</td>\n",
       "      <td>329.97</td>\n",
       "      <td>333.86</td>\n",
       "      <td>331.02</td>\n",
       "      <td>39157700.0</td>\n",
       "      <td>331.02</td>\n",
       "    </tr>\n",
       "  </tbody>\n",
       "</table>\n",
       "<p>538 rows × 6 columns</p>\n",
       "</div>"
      ],
      "text/plain": [
       "              High     Low    Open   Close      Volume  Adj Close\n",
       "Date                                                             \n",
       "2019-01-02  155.75  150.88  150.99  154.88  58576700.0     152.74\n",
       "2019-01-03  153.26  149.49  152.60  149.82  74820200.0     147.75\n",
       "2019-01-04  157.00  151.74  152.34  156.23  74709300.0     154.08\n",
       "2019-01-07  158.86  156.11  156.62  158.09  52059300.0     155.91\n",
       "2019-01-08  160.11  157.20  159.54  159.52  49388700.0     157.32\n",
       "...            ...     ...     ...     ...         ...        ...\n",
       "2021-02-12  336.62  332.63  333.71  336.45  20318000.0     336.45\n",
       "2021-02-16  338.19  334.34  337.27  335.54  27080800.0     335.54\n",
       "2021-02-17  335.66  330.17  332.47  333.93  31360300.0     333.93\n",
       "2021-02-18  333.87  328.36  330.23  332.47  32236200.0     332.47\n",
       "2021-02-19  333.99  329.97  333.86  331.02  39157700.0     331.02\n",
       "\n",
       "[538 rows x 6 columns]"
      ]
     },
     "execution_count": 89,
     "metadata": {},
     "output_type": "execute_result"
    }
   ],
   "source": [
    "df = dr.DataReader('QQQ', data_source= 'yahoo', start = '2019-01-01',end= '2021-02-20')\n",
    "df=df.round(2)\n",
    "df"
   ]
  },
  {
   "cell_type": "code",
   "execution_count": 90,
   "metadata": {},
   "outputs": [
    {
     "data": {
      "text/plain": [
       "Date\n",
       "2019-01-02       NaN\n",
       "2019-01-03   -3.2670\n",
       "2019-01-04    4.2785\n",
       "2019-01-07    1.1906\n",
       "2019-01-08    0.9045\n",
       "               ...  \n",
       "2021-02-12    0.5589\n",
       "2021-02-16   -0.2705\n",
       "2021-02-17   -0.4798\n",
       "2021-02-18   -0.4372\n",
       "2021-02-19   -0.4361\n",
       "Name: col_pct_chng, Length: 538, dtype: float64"
      ]
     },
     "execution_count": 90,
     "metadata": {},
     "output_type": "execute_result"
    }
   ],
   "source": [
    "window = 1 \n",
    "col_pct_chng = \"pct_chng\" + \"_\" +str(window)\n",
    "df['col_pct_chng'] = df.Close.pct_change(window)*100\n",
    "df['col_pct_chng'].round(4)"
   ]
  },
  {
   "cell_type": "code",
   "execution_count": 91,
   "metadata": {},
   "outputs": [
    {
     "data": {
      "text/html": [
       "<div>\n",
       "<style scoped>\n",
       "    .dataframe tbody tr th:only-of-type {\n",
       "        vertical-align: middle;\n",
       "    }\n",
       "\n",
       "    .dataframe tbody tr th {\n",
       "        vertical-align: top;\n",
       "    }\n",
       "\n",
       "    .dataframe thead th {\n",
       "        text-align: right;\n",
       "    }\n",
       "</style>\n",
       "<table border=\"1\" class=\"dataframe\">\n",
       "  <thead>\n",
       "    <tr style=\"text-align: right;\">\n",
       "      <th></th>\n",
       "      <th>High</th>\n",
       "      <th>Low</th>\n",
       "      <th>Open</th>\n",
       "      <th>Close</th>\n",
       "      <th>Volume</th>\n",
       "      <th>Adj Close</th>\n",
       "      <th>col_pct_chng</th>\n",
       "    </tr>\n",
       "    <tr>\n",
       "      <th>Date</th>\n",
       "      <th></th>\n",
       "      <th></th>\n",
       "      <th></th>\n",
       "      <th></th>\n",
       "      <th></th>\n",
       "      <th></th>\n",
       "      <th></th>\n",
       "    </tr>\n",
       "  </thead>\n",
       "  <tbody>\n",
       "    <tr>\n",
       "      <th>2019-01-02</th>\n",
       "      <td>155.75</td>\n",
       "      <td>150.88</td>\n",
       "      <td>150.99</td>\n",
       "      <td>154.88</td>\n",
       "      <td>58576700.0</td>\n",
       "      <td>152.74</td>\n",
       "      <td>NaN</td>\n",
       "    </tr>\n",
       "    <tr>\n",
       "      <th>2019-01-03</th>\n",
       "      <td>153.26</td>\n",
       "      <td>149.49</td>\n",
       "      <td>152.60</td>\n",
       "      <td>149.82</td>\n",
       "      <td>74820200.0</td>\n",
       "      <td>147.75</td>\n",
       "      <td>-3.267045</td>\n",
       "    </tr>\n",
       "    <tr>\n",
       "      <th>2019-01-04</th>\n",
       "      <td>157.00</td>\n",
       "      <td>151.74</td>\n",
       "      <td>152.34</td>\n",
       "      <td>156.23</td>\n",
       "      <td>74709300.0</td>\n",
       "      <td>154.08</td>\n",
       "      <td>4.278467</td>\n",
       "    </tr>\n",
       "    <tr>\n",
       "      <th>2019-01-07</th>\n",
       "      <td>158.86</td>\n",
       "      <td>156.11</td>\n",
       "      <td>156.62</td>\n",
       "      <td>158.09</td>\n",
       "      <td>52059300.0</td>\n",
       "      <td>155.91</td>\n",
       "      <td>1.190552</td>\n",
       "    </tr>\n",
       "    <tr>\n",
       "      <th>2019-01-08</th>\n",
       "      <td>160.11</td>\n",
       "      <td>157.20</td>\n",
       "      <td>159.54</td>\n",
       "      <td>159.52</td>\n",
       "      <td>49388700.0</td>\n",
       "      <td>157.32</td>\n",
       "      <td>0.904548</td>\n",
       "    </tr>\n",
       "  </tbody>\n",
       "</table>\n",
       "</div>"
      ],
      "text/plain": [
       "              High     Low    Open   Close      Volume  Adj Close  \\\n",
       "Date                                                                \n",
       "2019-01-02  155.75  150.88  150.99  154.88  58576700.0     152.74   \n",
       "2019-01-03  153.26  149.49  152.60  149.82  74820200.0     147.75   \n",
       "2019-01-04  157.00  151.74  152.34  156.23  74709300.0     154.08   \n",
       "2019-01-07  158.86  156.11  156.62  158.09  52059300.0     155.91   \n",
       "2019-01-08  160.11  157.20  159.54  159.52  49388700.0     157.32   \n",
       "\n",
       "            col_pct_chng  \n",
       "Date                      \n",
       "2019-01-02           NaN  \n",
       "2019-01-03     -3.267045  \n",
       "2019-01-04      4.278467  \n",
       "2019-01-07      1.190552  \n",
       "2019-01-08      0.904548  "
      ]
     },
     "execution_count": 91,
     "metadata": {},
     "output_type": "execute_result"
    }
   ],
   "source": [
    "df.head()\n"
   ]
  },
  {
   "cell_type": "code",
   "execution_count": 92,
   "metadata": {},
   "outputs": [],
   "source": [
    "df['Closing_Chnge'] = df.Close - df.Close.shift(1)"
   ]
  },
  {
   "cell_type": "code",
   "execution_count": 93,
   "metadata": {
    "scrolled": true
   },
   "outputs": [
    {
     "data": {
      "text/html": [
       "<div>\n",
       "<style scoped>\n",
       "    .dataframe tbody tr th:only-of-type {\n",
       "        vertical-align: middle;\n",
       "    }\n",
       "\n",
       "    .dataframe tbody tr th {\n",
       "        vertical-align: top;\n",
       "    }\n",
       "\n",
       "    .dataframe thead th {\n",
       "        text-align: right;\n",
       "    }\n",
       "</style>\n",
       "<table border=\"1\" class=\"dataframe\">\n",
       "  <thead>\n",
       "    <tr style=\"text-align: right;\">\n",
       "      <th></th>\n",
       "      <th>High</th>\n",
       "      <th>Low</th>\n",
       "      <th>Open</th>\n",
       "      <th>Close</th>\n",
       "      <th>Volume</th>\n",
       "      <th>Adj Close</th>\n",
       "      <th>col_pct_chng</th>\n",
       "      <th>Closing_Chnge</th>\n",
       "    </tr>\n",
       "    <tr>\n",
       "      <th>Date</th>\n",
       "      <th></th>\n",
       "      <th></th>\n",
       "      <th></th>\n",
       "      <th></th>\n",
       "      <th></th>\n",
       "      <th></th>\n",
       "      <th></th>\n",
       "      <th></th>\n",
       "    </tr>\n",
       "  </thead>\n",
       "  <tbody>\n",
       "    <tr>\n",
       "      <th>2019-01-02</th>\n",
       "      <td>155.75</td>\n",
       "      <td>150.88</td>\n",
       "      <td>150.99</td>\n",
       "      <td>154.88</td>\n",
       "      <td>58576700.0</td>\n",
       "      <td>152.74</td>\n",
       "      <td>NaN</td>\n",
       "      <td>NaN</td>\n",
       "    </tr>\n",
       "    <tr>\n",
       "      <th>2019-01-03</th>\n",
       "      <td>153.26</td>\n",
       "      <td>149.49</td>\n",
       "      <td>152.60</td>\n",
       "      <td>149.82</td>\n",
       "      <td>74820200.0</td>\n",
       "      <td>147.75</td>\n",
       "      <td>-3.267045</td>\n",
       "      <td>-5.06</td>\n",
       "    </tr>\n",
       "    <tr>\n",
       "      <th>2019-01-04</th>\n",
       "      <td>157.00</td>\n",
       "      <td>151.74</td>\n",
       "      <td>152.34</td>\n",
       "      <td>156.23</td>\n",
       "      <td>74709300.0</td>\n",
       "      <td>154.08</td>\n",
       "      <td>4.278467</td>\n",
       "      <td>6.41</td>\n",
       "    </tr>\n",
       "    <tr>\n",
       "      <th>2019-01-07</th>\n",
       "      <td>158.86</td>\n",
       "      <td>156.11</td>\n",
       "      <td>156.62</td>\n",
       "      <td>158.09</td>\n",
       "      <td>52059300.0</td>\n",
       "      <td>155.91</td>\n",
       "      <td>1.190552</td>\n",
       "      <td>1.86</td>\n",
       "    </tr>\n",
       "    <tr>\n",
       "      <th>2019-01-08</th>\n",
       "      <td>160.11</td>\n",
       "      <td>157.20</td>\n",
       "      <td>159.54</td>\n",
       "      <td>159.52</td>\n",
       "      <td>49388700.0</td>\n",
       "      <td>157.32</td>\n",
       "      <td>0.904548</td>\n",
       "      <td>1.43</td>\n",
       "    </tr>\n",
       "  </tbody>\n",
       "</table>\n",
       "</div>"
      ],
      "text/plain": [
       "              High     Low    Open   Close      Volume  Adj Close  \\\n",
       "Date                                                                \n",
       "2019-01-02  155.75  150.88  150.99  154.88  58576700.0     152.74   \n",
       "2019-01-03  153.26  149.49  152.60  149.82  74820200.0     147.75   \n",
       "2019-01-04  157.00  151.74  152.34  156.23  74709300.0     154.08   \n",
       "2019-01-07  158.86  156.11  156.62  158.09  52059300.0     155.91   \n",
       "2019-01-08  160.11  157.20  159.54  159.52  49388700.0     157.32   \n",
       "\n",
       "            col_pct_chng  Closing_Chnge  \n",
       "Date                                     \n",
       "2019-01-02           NaN            NaN  \n",
       "2019-01-03     -3.267045          -5.06  \n",
       "2019-01-04      4.278467           6.41  \n",
       "2019-01-07      1.190552           1.86  \n",
       "2019-01-08      0.904548           1.43  "
      ]
     },
     "execution_count": 93,
     "metadata": {},
     "output_type": "execute_result"
    }
   ],
   "source": [
    "df.head()"
   ]
  },
  {
   "cell_type": "code",
   "execution_count": 94,
   "metadata": {
    "scrolled": true
   },
   "outputs": [
    {
     "name": "stderr",
     "output_type": "stream",
     "text": [
      "C:\\Users\\jharbour\\Anaconda3\\envs\\Tensorflow\\lib\\site-packages\\numpy\\lib\\histograms.py:839: RuntimeWarning: invalid value encountered in greater_equal\n",
      "  keep = (tmp_a >= first_edge)\n",
      "C:\\Users\\jharbour\\Anaconda3\\envs\\Tensorflow\\lib\\site-packages\\numpy\\lib\\histograms.py:840: RuntimeWarning: invalid value encountered in less_equal\n",
      "  keep &= (tmp_a <= last_edge)\n"
     ]
    },
    {
     "data": {
      "text/plain": [
       "(array([  1.,   0.,   1.,   0.,   3.,   1.,   2.,   7.,  14.,  21.,  34.,\n",
       "        109., 174., 111.,  31.,  12.,   8.,   3.,   3.,   2.]),\n",
       " array([-23.04 , -21.137, -19.234, -17.331, -15.428, -13.525, -11.622,\n",
       "         -9.719,  -7.816,  -5.913,  -4.01 ,  -2.107,  -0.204,   1.699,\n",
       "          3.602,   5.505,   7.408,   9.311,  11.214,  13.117,  15.02 ]),\n",
       " <BarContainer object of 20 artists>)"
      ]
     },
     "execution_count": 94,
     "metadata": {},
     "output_type": "execute_result"
    },
    {
     "data": {
      "image/png": "[encoded data removed]",
      "text/plain": [
       "<Figure size 432x288 with 1 Axes>"
      ]
     },
     "metadata": {},
     "output_type": "display_data"
    }
   ],
   "source": [
    "plt.hist(df['Closing_Chnge'], bins= 20)"
   ]
  },
  {
   "cell_type": "markdown",
   "metadata": {},
   "source": [
    "### Using Beautiful Soup to scrape headlines from Finviz "
   ]
  },
  {
   "cell_type": "code",
   "execution_count": 95,
   "metadata": {},
   "outputs": [],
   "source": [
    "#from urlib.request import urlopen, Request\n",
    "#! pip install bs4\n",
    "from bs4 import BeautifulSoup"
   ]
  },
  {
   "cell_type": "code",
   "execution_count": 96,
   "metadata": {},
   "outputs": [],
   "source": [
    "#!pip install requests\n",
    "import requests\n",
    "from urllib.request import urlopen, Request"
   ]
  },
  {
   "cell_type": "code",
   "execution_count": 97,
   "metadata": {},
   "outputs": [],
   "source": [
    "finviz_url = 'https://finviz.com/quote.ashx?t='\n",
    "tickers = ['QQQ','SPY','DIA']"
   ]
  },
  {
   "cell_type": "code",
   "execution_count": 98,
   "metadata": {},
   "outputs": [
    {
     "name": "stdout",
     "output_type": "stream",
     "text": [
      "{'QQQ': <table border=\"0\" cellpadding=\"1\" cellspacing=\"0\" class=\"fullview-news-outer\" id=\"news-table\" width=\"100%\">\n",
      "<tr><td align=\"right\" style=\"white-space:nowrap\" width=\"130\">Mar-12-21 09:34AM  </td><td align=\"left\"><div class=\"news-link-container\"><div class=\"news-link-left\"><a class=\"tab-link-news\" href=\"https://finance.yahoo.com/news/stock-market-news-live-updates-march-12-2021-231228213.html\" target=\"_blank\">Stock market news live updates: Stocks mixed after record-setting rally, tech stocks slide as Treasury yields climb</a></div><div class=\"news-link-right\"><span style=\"color:#aa6dc0;font-size:9px\"> Yahoo Finance</span></div></div></td></tr>\n",
      "<tr><td align=\"right\" width=\"130\">06:01AM  </td><td align=\"left\"><div class=\"news-link-container\"><div class=\"news-link-left\"><a class=\"tab-link-news\" href=\"https://finance.yahoo.com/news/stock-market-record-high-coronavirus-one-year-morning-brief-110109977.html\" target=\"_blank\">Record highs, one year later: Morning Brief</a></div><div class=\"news-link-right\"><span style=\"color:#aa6dc0;font-size:9px\"> Yahoo Finance</span></div></div></td></tr>\n",
      "<tr><td align=\"right\" style=\"white-space:nowrap\" width=\"130\">Mar-11-21 04:02PM  </td><td align=\"left\"><div class=\"news-link-container\"><div class=\"news-link-left\"><a class=\"tab-link-news\" href=\"https://finance.yahoo.com/news/stock-market-news-live-updates-march-11-2021-231439220.html\" target=\"_blank\">Stock market news live updates: Dow, S&amp;P 500 set records, tech and Bitcoin soar as Biden stimulus signing feeds risk rally</a></div><div class=\"news-link-right\"><span style=\"color:#aa6dc0;font-size:9px\"> Yahoo Finance</span></div></div></td></tr>\n",
      "<tr><td align=\"right\" width=\"130\">05:57AM  </td><td align=\"left\"><div class=\"news-link-container\"><div class=\"news-link-left\"><a class=\"tab-link-news\" href=\"https://finance.yahoo.com/news/inflation-is-a-process-morning-brief-105703186.html\" target=\"_blank\">'Inflation is a process'</a></div><div class=\"news-link-right\"><span style=\"color:#aa6dc0;font-size:9px\"> Yahoo Finance</span></div></div></td></tr>\n",
      "<tr><td align=\"right\" style=\"white-space:nowrap\" width=\"130\">Mar-10-21 11:03AM  </td><td align=\"left\"><div class=\"news-link-container\"><div class=\"news-link-left\"><a class=\"tab-link-news\" href=\"https://finance.yahoo.com/news/girls-who-code-ceo-on-women-in-tech-were-not-getting-hired-or-supported-160345409.html\" target=\"_blank\">Girls Who Code CEO on women in tech: We're not getting hired, or supported</a></div><div class=\"news-link-right\"><span style=\"color:#aa6dc0;font-size:9px\"> Yahoo Finance</span></div></div></td></tr>\n",
      "<tr><td align=\"right\" width=\"130\">06:03AM  </td><td align=\"left\"><div class=\"news-link-container\"><div class=\"news-link-left\"><a class=\"tab-link-news\" href=\"https://finance.yahoo.com/news/everybody-bought-stocks-last-week-morning-brief-110346583.html\" target=\"_blank\">Dip buyers were out in full force</a></div><div class=\"news-link-right\"><span style=\"color:#aa6dc0;font-size:9px\"> Yahoo Finance</span></div></div></td></tr>\n",
      "<tr><td align=\"right\" style=\"white-space:nowrap\" width=\"130\">Mar-09-21 05:55AM  </td><td align=\"left\"><div class=\"news-link-container\"><div class=\"news-link-left\"><a class=\"tab-link-news\" href=\"https://finance.yahoo.com/news/reopening-trade-rotation-morning-brief-105527836.html\" target=\"_blank\">New day, same story</a></div><div class=\"news-link-right\"><span style=\"color:#aa6dc0;font-size:9px\"> Yahoo Finance</span></div></div></td></tr>\n",
      "<tr><td align=\"right\" style=\"white-space:nowrap\" width=\"130\">Mar-08-21 10:26AM  </td><td align=\"left\"><div class=\"news-link-container\"><div class=\"news-link-left\"><a class=\"tab-link-news\" href=\"https://finance.yahoo.com/news/glossary-federal-reserves-emergency-measures-coronavirus-bazookas-120337473.html\" target=\"_blank\">A glossary of the Federal Reserve's full arsenal of 'bazookas'</a></div><div class=\"news-link-right\"><span style=\"color:#aa6dc0;font-size:9px\"> Yahoo Finance</span></div></div></td></tr>\n",
      "<tr><td align=\"right\" width=\"130\">05:55AM  </td><td align=\"left\"><div class=\"news-link-container\"><div class=\"news-link-left\"><a class=\"tab-link-news\" href=\"https://finance.yahoo.com/news/stock-market-implications-rising-interest-rates-morning-brief-105525383.html\" target=\"_blank\">Rising interest rates are a good sign for stocks</a></div><div class=\"news-link-right\"><span style=\"color:#aa6dc0;font-size:9px\"> Yahoo Finance</span></div></div></td></tr>\n",
      "<tr><td align=\"right\" style=\"white-space:nowrap\" width=\"130\">Mar-07-21 08:55AM  </td><td align=\"left\"><div class=\"news-link-container\"><div class=\"news-link-left\"><a class=\"tab-link-news\" href=\"https://finance.yahoo.com/news/roblox-goes-public-consumer-price-index-what-to-know-in-the-week-ahead-135554089.html\" target=\"_blank\">Roblox goes public, inflation data: What to know in the week ahead</a></div><div class=\"news-link-right\"><span style=\"color:#aa6dc0;font-size:9px\"> Yahoo Finance</span></div></div></td></tr>\n",
      "<tr><td align=\"right\" style=\"white-space:nowrap\" width=\"130\">Mar-05-21 01:08PM  </td><td align=\"left\"><div class=\"news-link-container\"><div class=\"news-link-left\"><a class=\"tab-link-news\" href=\"https://www.investors.com/etfs-and-funds/sectors/nasdaq-stocks-sp500-gone-implosion-gets-really-expensive/?src=A00220\" target=\"_blank\">$1.6 Trillion Gone: Nasdaq Stock Implosion Gets Ugly</a></div><div class=\"news-link-right\"><span style=\"color:#aa6dc0;font-size:9px\"> Investor's Business Daily</span></div></div></td></tr>\n",
      "<tr><td align=\"right\" width=\"130\">12:40PM  </td><td align=\"left\"><div class=\"news-link-container\"><div class=\"news-link-left\"><a class=\"tab-link-news\" href=\"https://finance.yahoo.com/video/heres-why-tech-getting-whacked-174002674.html\" target=\"_blank\">Here's why tech is getting whacked while Buffett's Berkshire Hathaway and Chevron are surging: Trader</a></div><div class=\"news-link-right\"><span style=\"color:#aa6dc0;font-size:9px\"> Yahoo Finance Video</span></div></div></td></tr>\n",
      "<tr><td align=\"right\" width=\"130\">10:29AM  </td><td align=\"left\"><div class=\"news-link-container\"><div class=\"news-link-left\"><a class=\"tab-link-news\" href=\"https://www.investors.com/research/options/qqq-etf-iron-condor-options-trade/?src=A00220\" target=\"_blank\">QQQ Option Trade Idea When Volatility Is High</a></div><div class=\"news-link-right\"><span style=\"color:#aa6dc0;font-size:9px\"> Investor's Business Daily</span></div></div></td></tr>\n",
      "<tr><td align=\"right\" width=\"130\">09:00AM  </td><td align=\"left\"><div class=\"news-link-container\"><div class=\"news-link-left\"><a class=\"tab-link-news\" href=\"https://finance.yahoo.com/video/youre-getting-tax-refund-something-140000475.html\" target=\"_blank\">If you're getting a tax refund, something is radically wrong: Suze Orman</a></div><div class=\"news-link-right\"><span style=\"color:#aa6dc0;font-size:9px\"> Yahoo Finance Video</span></div></div></td></tr>\n",
      "<tr><td align=\"right\" width=\"130\">08:30AM  </td><td align=\"left\"><div class=\"news-link-container\"><div class=\"news-link-left\"><a class=\"tab-link-news\" href=\"https://finance.yahoo.com/news/february-jobs-report-labor-department-unemployment-pandemic-192526748.html\" target=\"_blank\">February jobs report: Economy adds 379,000 payrolls, unemployment rate falls to 6.2%</a></div><div class=\"news-link-right\"><span style=\"color:#aa6dc0;font-size:9px\"> Yahoo Finance</span></div></div></td></tr>\n",
      "<tr><td align=\"right\" width=\"130\">06:01AM  </td><td align=\"left\"><div class=\"news-link-container\"><div class=\"news-link-left\"><a class=\"tab-link-news\" href=\"https://finance.yahoo.com/news/seniors-returning-to-air-travel-morning-brief-110150405.html\" target=\"_blank\">Seniors are rushing to get back on planes</a></div><div class=\"news-link-right\"><span style=\"color:#aa6dc0;font-size:9px\"> Yahoo Finance</span></div></div></td></tr>\n",
      "<tr><td align=\"right\" style=\"white-space:nowrap\" width=\"130\">Mar-04-21 10:29AM  </td><td align=\"left\"><div class=\"news-link-container\"><div class=\"news-link-left\"><a class=\"tab-link-news\" href=\"https://finance.yahoo.com/news/jobless-claims-bump-week-over-152903367.html\" target=\"_blank\">Jobless Claims Bump Up Week Over Week: 745K</a></div><div class=\"news-link-right\"><span style=\"color:#aa6dc0;font-size:9px\"> Zacks</span></div></div></td></tr>\n",
      "<tr><td align=\"right\" width=\"130\">07:55AM  </td><td align=\"left\"><div class=\"news-link-container\"><div class=\"news-link-left\"><a class=\"tab-link-news\" href=\"https://finance.yahoo.com/video/premium-trading-profitably-prudently-world-125500913.html\" target=\"_blank\">PREMIUM: Trading profitably and prudently as the world reopens</a></div><div class=\"news-link-right\"><span style=\"color:#aa6dc0;font-size:9px\"> Yahoo Finance Video</span></div></div></td></tr>\n",
      "<tr><td align=\"right\" width=\"130\">07:17AM  </td><td align=\"left\"><div class=\"news-link-container\"><div class=\"news-link-left\"><a class=\"tab-link-news\" href=\"https://finance.yahoo.com/news/stock-market-news-live-updates-march-4-2021-231156206.html\" target=\"_blank\">Stock market news live updates: Stock futures edge lower, extending losses after tech-led selloff</a></div><div class=\"news-link-right\"><span style=\"color:#aa6dc0;font-size:9px\"> Yahoo Finance</span></div></div></td></tr>\n",
      "<tr><td align=\"right\" width=\"130\">06:00AM  </td><td align=\"left\"><div class=\"news-link-container\"><div class=\"news-link-left\"><a class=\"tab-link-news\" href=\"https://finance.yahoo.com/video/influencers-andy-serwer-suze-orman-110000318.html\" target=\"_blank\">Influencers with Andy Serwer: Suze Orman</a></div><div class=\"news-link-right\"><span style=\"color:#aa6dc0;font-size:9px\"> Yahoo Finance Video</span></div></div></td></tr>\n",
      "<tr><td align=\"right\" width=\"130\">05:54AM  </td><td align=\"left\"><div class=\"news-link-container\"><div class=\"news-link-left\"><a class=\"tab-link-news\" href=\"https://finance.yahoo.com/news/re-opening-rotation-rocking-the-market-morning-brief-105403540.html\" target=\"_blank\">Re-opening rotation trades are rocking the market: Morning Brief</a></div><div class=\"news-link-right\"><span style=\"color:#aa6dc0;font-size:9px\"> Yahoo Finance</span></div></div></td></tr>\n",
      "<tr><td align=\"right\" width=\"130\">05:00AM  </td><td align=\"left\"><div class=\"news-link-container\"><div class=\"news-link-left\"><a class=\"tab-link-news\" href=\"https://finance.yahoo.com/video/suze-orman-americans-save-stimulus-100000797.html\" target=\"_blank\">Suze Orman: Americans should save their stimulus money</a></div><div class=\"news-link-right\"><span style=\"color:#aa6dc0;font-size:9px\"> Yahoo Finance Video</span></div></div></td></tr>\n",
      "<tr><td align=\"right\" style=\"white-space:nowrap\" width=\"130\">Mar-03-21 04:00PM  </td><td align=\"left\"><div class=\"news-link-container\"><div class=\"news-link-left\"><a class=\"tab-link-news\" href=\"https://finance.yahoo.com/news/stock-market-news-live-updates-march-3-2021-231939919.html\" target=\"_blank\">Stock market news live updates: Stocks end lower, Nasdaq slides by 2.7% as tech stocks sink further amid rising rates</a></div><div class=\"news-link-right\"><span style=\"color:#aa6dc0;font-size:9px\"> Yahoo Finance</span></div></div></td></tr>\n",
      "<tr><td align=\"right\" width=\"130\">01:57PM  </td><td align=\"left\"><div class=\"news-link-container\"><div class=\"news-link-left\"><a class=\"tab-link-news\" href=\"https://www.investopedia.com/who-are-the-etf-giants-4691723?utm_campaign=quote-yahoo&amp;utm_source=yahoo&amp;utm_medium=referral\" target=\"_blank\">Who Are the ETF Giants?</a></div><div class=\"news-link-right\"><span style=\"color:#aa6dc0;font-size:9px\"> Investopedia</span></div></div></td></tr>\n",
      "<tr><td align=\"right\" width=\"130\">08:15AM  </td><td align=\"left\"><div class=\"news-link-container\"><div class=\"news-link-left\"><a class=\"tab-link-news\" href=\"https://finance.yahoo.com/news/adp-private-employment-payrolls-change-february-2021-131527071.html\" target=\"_blank\">Private employers added back 117,000 jobs in February, missing expectations: ADP</a></div><div class=\"news-link-right\"><span style=\"color:#aa6dc0;font-size:9px\"> Yahoo Finance</span></div></div></td></tr>\n",
      "<tr><td align=\"right\" width=\"130\">06:01AM  </td><td align=\"left\"><div class=\"news-link-container\"><div class=\"news-link-left\"><a class=\"tab-link-news\" href=\"https://finance.yahoo.com/news/spacs-700-billion-market-2021-goldman-sachs-morning-brief-110126053.html\" target=\"_blank\">SPACs are now a $700 billion market</a></div><div class=\"news-link-right\"><span style=\"color:#aa6dc0;font-size:9px\"> Yahoo Finance</span></div></div></td></tr>\n",
      "<tr><td align=\"right\" style=\"white-space:nowrap\" width=\"130\">Mar-02-21 04:00PM  </td><td align=\"left\"><div class=\"news-link-container\"><div class=\"news-link-left\"><a class=\"tab-link-news\" href=\"https://finance.yahoo.com/news/stock-market-news-live-updates-march-2-2021-233020700.html\" target=\"_blank\">Stock market news live updates: Stocks retreat after S&amp;P 500's best session since June</a></div><div class=\"news-link-right\"><span style=\"color:#aa6dc0;font-size:9px\"> Yahoo Finance</span></div></div></td></tr>\n",
      "<tr><td align=\"right\" width=\"130\">06:02AM  </td><td align=\"left\"><div class=\"news-link-container\"><div class=\"news-link-left\"><a class=\"tab-link-news\" href=\"https://finance.yahoo.com/news/american-manufacturing-roar-back-morning-brief-110228696.html\" target=\"_blank\">American manufacturing is roaring back</a></div><div class=\"news-link-right\"><span style=\"color:#aa6dc0;font-size:9px\"> Yahoo Finance</span></div></div></td></tr>\n",
      "<tr><td align=\"right\" style=\"white-space:nowrap\" width=\"130\">Mar-01-21 04:00PM  </td><td align=\"left\"><div class=\"news-link-container\"><div class=\"news-link-left\"><a class=\"tab-link-news\" href=\"https://finance.yahoo.com/news/stock-market-news-live-updates-march-1-2021-121948412.html\" target=\"_blank\">Stock market news live updates: Stocks rally as tech shares rebound, S&amp;P 500 jumps 2.4% in best session since June 2020</a></div><div class=\"news-link-right\"><span style=\"color:#aa6dc0;font-size:9px\"> Yahoo Finance</span></div></div></td></tr>\n",
      "<tr><td align=\"right\" width=\"130\">01:39PM  </td><td align=\"left\"><div class=\"news-link-container\"><div class=\"news-link-left\"><a class=\"tab-link-news\" href=\"https://finance.yahoo.com/news/this-closely-watched-stock-market-indicator-nears-a-sell-signal-183927948.html\" target=\"_blank\">This closely watched stock market indicator nears a sell signal</a></div><div class=\"news-link-right\"><span style=\"color:#aa6dc0;font-size:9px\"> Yahoo Finance</span></div></div></td></tr>\n",
      "<tr><td align=\"right\" width=\"130\">06:38AM  </td><td align=\"left\"><div class=\"news-link-container\"><div class=\"news-link-left\"><a class=\"tab-link-news\" href=\"https://finance.yahoo.com/news/the-truth-about-warren-buffetts-investment-track-record-morning-brief-113829049.html\" target=\"_blank\">The truth about Warren Buffetts investment track record</a></div><div class=\"news-link-right\"><span style=\"color:#aa6dc0;font-size:9px\"> Yahoo Finance</span></div></div></td></tr>\n",
      "<tr><td align=\"right\" style=\"white-space:nowrap\" width=\"130\">Feb-28-21 08:52AM  </td><td align=\"left\"><div class=\"news-link-container\"><div class=\"news-link-left\"><a class=\"tab-link-news\" href=\"https://finance.yahoo.com/news/february-jobs-report-zoom-earnings-what-to-know-in-the-week-ahead-135224254.html\" target=\"_blank\">February jobs report, Zoom earnings: What to know in the week ahead</a></div><div class=\"news-link-right\"><span style=\"color:#aa6dc0;font-size:9px\"> Yahoo Finance</span></div></div></td></tr>\n",
      "<tr><td align=\"right\" style=\"white-space:nowrap\" width=\"130\">Feb-26-21 06:05AM  </td><td align=\"left\"><div class=\"news-link-container\"><div class=\"news-link-left\"><a class=\"tab-link-news\" href=\"https://finance.yahoo.com/news/retail-traders-say-theyre-not-going-anywhere-morning-brief-110514430.html\" target=\"_blank\">Retail traders say they're not going anywhere</a></div><div class=\"news-link-right\"><span style=\"color:#aa6dc0;font-size:9px\"> Yahoo Finance</span></div></div></td></tr>\n",
      "<tr><td align=\"right\" width=\"130\">06:00AM  </td><td align=\"left\"><div class=\"news-link-container\"><div class=\"news-link-left\"><a class=\"tab-link-news\" href=\"https://finance.yahoo.com/video/yf-spotlight-american-educators-search-110000575.html\" target=\"_blank\">YF Spotlight: American educators search for common ground on school reopening</a></div><div class=\"news-link-right\"><span style=\"color:#aa6dc0;font-size:9px\"> Yahoo Finance Video</span></div></div></td></tr>\n",
      "<tr><td align=\"right\" style=\"white-space:nowrap\" width=\"130\">Feb-25-21 04:41PM  </td><td align=\"left\"><div class=\"news-link-container\"><div class=\"news-link-left\"><a class=\"tab-link-news\" href=\"https://www.marketwatch.com/story/these-nasdaq-100-stocks-fell-the-most-on-feb-25-11614289288?siteid=yhoof2\" target=\"_blank\">These Nasdaq 100 stocks fell the most on Feb. 25</a></div><div class=\"news-link-right\"><span style=\"color:#aa6dc0;font-size:9px\"> MarketWatch</span></div></div></td></tr>\n",
      "<tr><td align=\"right\" width=\"130\">04:03PM  </td><td align=\"left\"><div class=\"news-link-container\"><div class=\"news-link-left\"><a class=\"tab-link-news\" href=\"https://finance.yahoo.com/news/stock-market-news-live-updates-february-25-2021-231353607.html\" target=\"_blank\">Stock market news live updates: Stocks drop, Nasdaq posts worst session since October as tech rout deepens</a></div><div class=\"news-link-right\"><span style=\"color:#aa6dc0;font-size:9px\"> Yahoo Finance</span></div></div></td></tr>\n",
      "<tr><td align=\"right\" width=\"130\">06:00AM  </td><td align=\"left\"><div class=\"news-link-container\"><div class=\"news-link-left\"><a class=\"tab-link-news\" href=\"https://finance.yahoo.com/video/dont-miss-glamour-hollywood-legendary-110000708.html\" target=\"_blank\">'I don't' miss the glamour of Hollywood: Legendary Entertainment founder</a></div><div class=\"news-link-right\"><span style=\"color:#aa6dc0;font-size:9px\"> Yahoo Finance Video</span></div></div></td></tr>\n",
      "<tr><td align=\"right\" style=\"white-space:nowrap\" width=\"130\">Feb-24-21 12:55PM  </td><td align=\"left\"><div class=\"news-link-container\"><div class=\"news-link-left\"><a class=\"tab-link-news\" href=\"https://www.marketwatch.com/story/this-stock-fund-may-be-for-you-if-you-want-to-sleep-well-at-night-and-still-make-money-11614189304?siteid=yhoof2\" target=\"_blank\">This stock fund may be for you if you want to sleep well at night and still make money</a></div><div class=\"news-link-right\"><span style=\"color:#aa6dc0;font-size:9px\"> MarketWatch</span></div></div></td></tr>\n",
      "<tr><td align=\"right\" width=\"130\">11:12AM  </td><td align=\"left\"><div class=\"news-link-container\"><div class=\"news-link-left\"><a class=\"tab-link-news\" href=\"https://finance.yahoo.com/news/stock-market-news-live-updates-february-24-2021-231348929.html\" target=\"_blank\">Stock market news live updates: Dow rallies to reach record high as tech stocks recover losses</a></div><div class=\"news-link-right\"><span style=\"color:#aa6dc0;font-size:9px\"> Yahoo Finance</span></div></div></td></tr>\n",
      "<tr><td align=\"right\" style=\"white-space:nowrap\" width=\"130\">Feb-23-21 09:35AM  </td><td align=\"left\"><div class=\"news-link-container\"><div class=\"news-link-left\"><a class=\"tab-link-news\" href=\"https://finance.yahoo.com/news/credit-suisse-strategist-boosts-his-2021-sp-500-target-for-a-second-time-143552459.html\" target=\"_blank\">Top Wall St strategist boosts his 2021 S&amp;P 500 target for a second time</a></div><div class=\"news-link-right\"><span style=\"color:#aa6dc0;font-size:9px\"> Yahoo Finance</span></div></div></td></tr>\n",
      "<tr><td align=\"right\" style=\"white-space:nowrap\" width=\"130\">Feb-22-21 11:39AM  </td><td align=\"left\"><div class=\"news-link-container\"><div class=\"news-link-left\"><a class=\"tab-link-news\" href=\"https://finance.yahoo.com/news/stock-market-news-live-updates-february-22-2021-231227640-122203922.html\" target=\"_blank\">Stock market news live updates: Stocks drift as yields rise, inflation concerns mount</a></div><div class=\"news-link-right\"><span style=\"color:#aa6dc0;font-size:9px\"> Yahoo Finance</span></div></div></td></tr>\n",
      "<tr><td align=\"right\" width=\"130\">06:20AM  </td><td align=\"left\"><div class=\"news-link-container\"><div class=\"news-link-left\"><a class=\"tab-link-news\" href=\"https://finance.yahoo.com/news/stock-market-investor-lessons-coronavirus-pandemic-one-year-later-morning-brief-112011081.html\" target=\"_blank\">2 timeless lessons for investors from the past year</a></div><div class=\"news-link-right\"><span style=\"color:#aa6dc0;font-size:9px\"> Yahoo Finance</span></div></div></td></tr>\n",
      "<tr><td align=\"right\" style=\"white-space:nowrap\" width=\"130\">Feb-19-21 06:00AM  </td><td align=\"left\"><div class=\"news-link-container\"><div class=\"news-link-left\"><a class=\"tab-link-news\" href=\"https://finance.yahoo.com/news/fasten-your-seatbelts-case-for-roaring-economic-recovery-morning-brief-110049254.html\" target=\"_blank\">'Fasten your seatbelts'  The case for a roaring economic recovery</a></div><div class=\"news-link-right\"><span style=\"color:#aa6dc0;font-size:9px\"> Yahoo Finance</span></div></div></td></tr>\n",
      "<tr><td align=\"right\" style=\"white-space:nowrap\" width=\"130\">Feb-18-21 03:45PM  </td><td align=\"left\"><div class=\"news-link-container\"><div class=\"news-link-left\"><a class=\"tab-link-news\" href=\"https://www.investors.com/market-trend/stock-market-today/gamestop-falls-91-percent-from-2021-peak-dow-jones-cuts-losses-growth-stocks-break-out/?src=A00220\" target=\"_blank\">GameStop Falls 91% From Its 2021 Peak As Dow Jones Cuts Losses; These Growth Stocks Break Out</a></div><div class=\"news-link-right\"><span style=\"color:#aa6dc0;font-size:9px\"> Investor's Business Daily</span></div></div></td></tr>\n",
      "<tr><td align=\"right\" width=\"130\">01:24PM  </td><td align=\"left\"><div class=\"news-link-container\"><div class=\"news-link-left\"><a class=\"tab-link-news\" href=\"https://www.investopedia.com/roku-roku-option-traders-wary-5113121?utm_campaign=quote-yahoo&amp;utm_source=yahoo&amp;utm_medium=referral\" target=\"_blank\">ROKU (ROKU) Option Traders Wary</a></div><div class=\"news-link-right\"><span style=\"color:#aa6dc0;font-size:9px\"> Investopedia</span></div></div></td></tr>\n",
      "<tr><td align=\"right\" width=\"130\">12:57PM  </td><td align=\"left\"><div class=\"news-link-container\"><div class=\"news-link-left\"><a class=\"tab-link-news\" href=\"https://www.investopedia.com/applied-materials-amat-option-traders-optimistic-5113132?utm_campaign=quote-yahoo&amp;utm_source=yahoo&amp;utm_medium=referral\" target=\"_blank\">Applied Materials (AMAT) Option Traders Optimistic</a></div><div class=\"news-link-right\"><span style=\"color:#aa6dc0;font-size:9px\"> Investopedia</span></div></div></td></tr>\n",
      "<tr><td align=\"right\" width=\"130\">10:01AM  </td><td align=\"left\"><div class=\"news-link-container\"><div class=\"news-link-left\"><a class=\"tab-link-news\" href=\"https://finance.yahoo.com/video/bill-gates-facebook-banning-trump-150110737.html\" target=\"_blank\">Bill Gates: Facebook banning Trump 'forever' would not be 'that good'</a></div><div class=\"news-link-right\"><span style=\"color:#aa6dc0;font-size:9px\"> Yahoo Finance Video</span></div></div></td></tr>\n",
      "<tr><td align=\"right\" width=\"130\">06:01AM  </td><td align=\"left\"><div class=\"news-link-container\"><div class=\"news-link-left\"><a class=\"tab-link-news\" href=\"https://finance.yahoo.com/news/us-economy-december-retail-sales-boom-morning-brief-110114769.html\" target=\"_blank\">The U.S. economy continues to surprise</a></div><div class=\"news-link-right\"><span style=\"color:#aa6dc0;font-size:9px\"> Yahoo Finance</span></div></div></td></tr>\n",
      "<tr><td align=\"right\" style=\"white-space:nowrap\" width=\"130\">Feb-17-21 06:51AM  </td><td align=\"left\"><div class=\"news-link-container\"><div class=\"news-link-left\"><a class=\"tab-link-news\" href=\"https://www.investopedia.com/articles/etfs/top-etfs-nasdaq/?utm_campaign=quote-yahoo&amp;utm_source=yahoo&amp;utm_medium=referral\" target=\"_blank\">Best (and Only) Nasdaq ETF for Q2 2021</a></div><div class=\"news-link-right\"><span style=\"color:#aa6dc0;font-size:9px\"> Investopedia</span></div></div></td></tr>\n",
      "<tr><td align=\"right\" width=\"130\">05:59AM  </td><td align=\"left\"><div class=\"news-link-container\"><div class=\"news-link-left\"><a class=\"tab-link-news\" href=\"https://finance.yahoo.com/news/covid-cases-dropping-morning-brief-105958867.html\" target=\"_blank\">COVID-19 cases are dropping like a rock</a></div><div class=\"news-link-right\"><span style=\"color:#aa6dc0;font-size:9px\"> Yahoo Finance</span></div></div></td></tr>\n",
      "<tr><td align=\"right\" style=\"white-space:nowrap\" width=\"130\">Feb-16-21 04:58PM  </td><td align=\"left\"><div class=\"news-link-container\"><div class=\"news-link-left\"><a class=\"tab-link-news\" href=\"https://finance.yahoo.com/news/goldman-sachss-marcus-invest-bets-against-the-game-stop-trend-215811218.html\" target=\"_blank\">Goldman Sachs' 'Marcus Invest' bets against the GameStop trend</a></div><div class=\"news-link-right\"><span style=\"color:#aa6dc0;font-size:9px\"> Yahoo Finance</span></div></div></td></tr>\n",
      "<tr><td align=\"right\" width=\"130\">12:56PM  </td><td align=\"left\"><div class=\"news-link-container\"><div class=\"news-link-left\"><a class=\"tab-link-news\" href=\"https://www.investopedia.com/twilio-twlo-option-traders-optimistic-5112747?utm_campaign=quote-yahoo&amp;utm_source=yahoo&amp;utm_medium=referral\" target=\"_blank\">Twilio (TWLO) Option Traders Optimistic</a></div><div class=\"news-link-right\"><span style=\"color:#aa6dc0;font-size:9px\"> Investopedia</span></div></div></td></tr>\n",
      "<tr><td align=\"right\" width=\"130\">12:22PM  </td><td align=\"left\"><div class=\"news-link-container\"><div class=\"news-link-left\"><a class=\"tab-link-news\" href=\"https://www.investopedia.com/shopify-shop-option-traders-optimistic-but-5112719?utm_campaign=quote-yahoo&amp;utm_source=yahoo&amp;utm_medium=referral\" target=\"_blank\">Shopify (SHOP) Option Traders Optimistic, but ...</a></div><div class=\"news-link-right\"><span style=\"color:#aa6dc0;font-size:9px\"> Investopedia</span></div></div></td></tr>\n",
      "<tr><td align=\"right\" width=\"130\">06:10AM  </td><td align=\"left\"><div class=\"news-link-container\"><div class=\"news-link-left\"><a class=\"tab-link-news\" href=\"https://finance.yahoo.com/news/stock-market-record-high-gamestop-spacs-bitcoin-morning-brief-111019949.html\" target=\"_blank\">You don't have to trade GameStop, SPACs, or Bitcoin for big returns</a></div><div class=\"news-link-right\"><span style=\"color:#aa6dc0;font-size:9px\"> Yahoo Finance</span></div></div></td></tr>\n",
      "<tr><td align=\"right\" style=\"white-space:nowrap\" width=\"130\">Feb-12-21 01:52PM  </td><td align=\"left\"><div class=\"news-link-container\"><div class=\"news-link-left\"><a class=\"tab-link-news\" href=\"https://www.investors.com/etfs-and-funds/sectors/sp500-whats-the-fastest-way-to-become-millionaire-with-stocks/?src=A00220\" target=\"_blank\">How Long It Takes To Be A Millionaire With Stocks</a></div><div class=\"news-link-right\"><span style=\"color:#aa6dc0;font-size:9px\"> Investor's Business Daily</span></div></div></td></tr>\n",
      "<tr><td align=\"right\" width=\"130\">05:48AM  </td><td align=\"left\"><div class=\"news-link-container\"><div class=\"news-link-left\"><a class=\"tab-link-news\" href=\"https://finance.yahoo.com/news/stock-market-a-fascinating-place-right-now-morning-brief-104849511.html\" target=\"_blank\">The stock market is a fascinating place right now</a></div><div class=\"news-link-right\"><span style=\"color:#aa6dc0;font-size:9px\"> Yahoo Finance</span></div></div></td></tr>\n",
      "<tr><td align=\"right\" style=\"white-space:nowrap\" width=\"130\">Feb-11-21 08:31AM  </td><td align=\"left\"><div class=\"news-link-container\"><div class=\"news-link-left\"><a class=\"tab-link-news\" href=\"https://finance.yahoo.com/news/initial-jobless-claims-week-ended-february-6-2021-coronavirus-pandemic-191313864.html\" target=\"_blank\">Jobless claims: Another 793,000 Americans filed new unemployment claims last week</a></div><div class=\"news-link-right\"><span style=\"color:#aa6dc0;font-size:9px\"> Yahoo Finance</span></div></div></td></tr>\n",
      "<tr><td align=\"right\" width=\"130\">06:02AM  </td><td align=\"left\"><div class=\"news-link-container\"><div class=\"news-link-left\"><a class=\"tab-link-news\" href=\"https://finance.yahoo.com/news/worst-stocks-are-doing-the-best-morning-brief-110238013.html\" target=\"_blank\">The worst stocks are doing the best</a></div><div class=\"news-link-right\"><span style=\"color:#aa6dc0;font-size:9px\"> Yahoo Finance</span></div></div></td></tr>\n",
      "<tr><td align=\"right\" style=\"white-space:nowrap\" width=\"130\">Feb-10-21 04:05PM  </td><td align=\"left\"><div class=\"news-link-container\"><div class=\"news-link-left\"><a class=\"tab-link-news\" href=\"https://finance.yahoo.com/news/stock-market-news-live-updates-february-10-2021-232028710.html\" target=\"_blank\">Stock market news live updates: Stocks erase gains after reaching record highs</a></div><div class=\"news-link-right\"><span style=\"color:#aa6dc0;font-size:9px\"> Yahoo Finance</span></div></div></td></tr>\n",
      "<tr><td align=\"right\" width=\"130\">01:29PM  </td><td align=\"left\"><div class=\"news-link-container\"><div class=\"news-link-left\"><a class=\"tab-link-news\" href=\"https://finance.yahoo.com/news/warren-buffetts-favorite-indicator-hints-that-stocks-are-significantly-overvalued-182944741.html\" target=\"_blank\">Warren Buffett's favorite indicator hints that stocks are significantly overvalued</a></div><div class=\"news-link-right\"><span style=\"color:#aa6dc0;font-size:9px\"> Yahoo Finance</span></div></div></td></tr>\n",
      "<tr><td align=\"right\" width=\"130\">06:00AM  </td><td align=\"left\"><div class=\"news-link-container\"><div class=\"news-link-left\"><a class=\"tab-link-news\" href=\"https://finance.yahoo.com/video/covid-19-exposed-fragile-food-110000708.html\" target=\"_blank\">COVID-19 exposed how fragile our food systems are: Gro Intelligence Founder</a></div><div class=\"news-link-right\"><span style=\"color:#aa6dc0;font-size:9px\"> Yahoo Finance Video</span></div></div></td></tr>\n",
      "<tr><td align=\"right\" style=\"white-space:nowrap\" width=\"130\">Feb-09-21 01:52PM  </td><td align=\"left\"><div class=\"news-link-container\"><div class=\"news-link-left\"><a class=\"tab-link-news\" href=\"https://www.investopedia.com/articles/etfs-mutual-funds/080516/4-etfs-fang-stocks-fdnpnqiqqqskyy.asp?utm_campaign=quote-yahoo&amp;utm_source=yahoo&amp;utm_medium=referral\" target=\"_blank\">Best FANG Stocks ETFs for Q2 2021</a></div><div class=\"news-link-right\"><span style=\"color:#aa6dc0;font-size:9px\"> Investopedia</span></div></div></td></tr>\n",
      "<tr><td align=\"right\" style=\"white-space:nowrap\" width=\"130\">Feb-08-21 03:59PM  </td><td align=\"left\"><div class=\"news-link-container\"><div class=\"news-link-left\"><a class=\"tab-link-news\" href=\"https://finance.yahoo.com/news/why-the-broad-stock-market-isnt-in-a-bubble-says-veteran-investor-205957595.html\" target=\"_blank\">Why the broad stock market isn't in a bubble, says veteran investor</a></div><div class=\"news-link-right\"><span style=\"color:#aa6dc0;font-size:9px\"> Yahoo Finance</span></div></div></td></tr>\n",
      "<tr><td align=\"right\" width=\"130\">01:49PM  </td><td align=\"left\"><div class=\"news-link-container\"><div class=\"news-link-left\"><a class=\"tab-link-news\" href=\"https://www.investopedia.com/cisco-csco-put-options-priced-for-low-risk-of-drop-5105080?utm_campaign=quote-yahoo&amp;utm_source=yahoo&amp;utm_medium=referral\" target=\"_blank\">Cisco (CSCO) Put Options Priced for Low Risk of Drop</a></div><div class=\"news-link-right\"><span style=\"color:#aa6dc0;font-size:9px\"> Investopedia</span></div></div></td></tr>\n",
      "<tr><td align=\"right\" width=\"130\">01:28PM  </td><td align=\"left\"><div class=\"news-link-container\"><div class=\"news-link-left\"><a class=\"tab-link-news\" href=\"https://www.investopedia.com/twitter-twtr-put-options-priced-for-low-risk-of-drop-5105066?utm_campaign=quote-yahoo&amp;utm_source=yahoo&amp;utm_medium=referral\" target=\"_blank\">Twitter (TWTR) Put Options Priced for Low Risk of Drop</a></div><div class=\"news-link-right\"><span style=\"color:#aa6dc0;font-size:9px\"> Investopedia</span></div></div></td></tr>\n",
      "<tr><td align=\"right\" width=\"130\">05:58AM  </td><td align=\"left\"><div class=\"news-link-container\"><div class=\"news-link-left\"><a class=\"tab-link-news\" href=\"https://finance.yahoo.com/news/stock-fall-better-than-expected-earnings-morning-brief-105810807.html\" target=\"_blank\">Stocks are being weird</a></div><div class=\"news-link-right\"><span style=\"color:#aa6dc0;font-size:9px\"> Yahoo Finance</span></div></div></td></tr>\n",
      "<tr><td align=\"right\" style=\"white-space:nowrap\" width=\"130\">Feb-05-21 01:10PM  </td><td align=\"left\"><div class=\"news-link-container\"><div class=\"news-link-left\"><a class=\"tab-link-news\" href=\"https://finance.yahoo.com/video/dow-p-500-nasdaq-pace-181056035.html\" target=\"_blank\">Berkshire Hathaway at record highs is flashing bullish signs for risk appetite: veteran trader</a></div><div class=\"news-link-right\"><span style=\"color:#aa6dc0;font-size:9px\"> Yahoo Finance Video</span></div></div></td></tr>\n",
      "<tr><td align=\"right\" width=\"130\">12:40PM  </td><td align=\"left\"><div class=\"news-link-container\"><div class=\"news-link-left\"><a class=\"tab-link-news\" href=\"https://finance.yahoo.com/news/economists-hope-the-disappointing-jobs-report-was-the-low-point-for-2021-174036448.html\" target=\"_blank\">Economists hope the disappointing jobs report was the low point for 2021</a></div><div class=\"news-link-right\"><span style=\"color:#aa6dc0;font-size:9px\"> Yahoo Finance</span></div></div></td></tr>\n",
      "<tr><td align=\"right\" width=\"130\">10:19AM  </td><td align=\"left\"><div class=\"news-link-container\"><div class=\"news-link-left\"><a class=\"tab-link-news\" href=\"https://www.investors.com/research/options/qqq-bullish-butterfly-options-trade/?src=A00220\" target=\"_blank\">QQQ Option Trade Could Reap The Rewards From Further Price Gains</a></div><div class=\"news-link-right\"><span style=\"color:#aa6dc0;font-size:9px\"> Investor's Business Daily</span></div></div></td></tr>\n",
      "<tr><td align=\"right\" style=\"white-space:nowrap\" width=\"130\">Feb-04-21 02:22PM  </td><td align=\"left\"><div class=\"news-link-container\"><div class=\"news-link-left\"><a class=\"tab-link-news\" href=\"https://finance.yahoo.com/news/the-sp-500-is-currently-mirroring-20082009-to-a-creepy-degree-veteran-hedge-funder-192216209.html\" target=\"_blank\">The S&amp;P 500 is currently mirroring 2009-2010 to a 'creepy' degree: veteran hedge funder</a></div><div class=\"news-link-right\"><span style=\"color:#aa6dc0;font-size:9px\"> Yahoo Finance</span></div></div></td></tr>\n",
      "<tr><td align=\"right\" width=\"130\">06:06AM  </td><td align=\"left\"><div class=\"news-link-container\"><div class=\"news-link-left\"><a class=\"tab-link-news\" href=\"https://finance.yahoo.com/news/economy-adp-private-payrolls-ism-services-improving-morning-brief-110606795.html\" target=\"_blank\">Things are looking up for the U.S. economy</a></div><div class=\"news-link-right\"><span style=\"color:#aa6dc0;font-size:9px\"> Yahoo Finance</span></div></div></td></tr>\n",
      "<tr><td align=\"right\" style=\"white-space:nowrap\" width=\"130\">Feb-03-21 03:37PM  </td><td align=\"left\"><div class=\"news-link-container\"><div class=\"news-link-left\"><a class=\"tab-link-news\" href=\"https://finance.yahoo.com/video/bezos-stepping-down-amazon-could-203756435.html\" target=\"_blank\">Heres what Bezos stepping down from Amazon could mean for ETFs</a></div><div class=\"news-link-right\"><span style=\"color:#aa6dc0;font-size:9px\"> Yahoo Finance Video</span></div></div></td></tr>\n",
      "<tr><td align=\"right\" width=\"130\">06:04AM  </td><td align=\"left\"><div class=\"news-link-container\"><div class=\"news-link-left\"><a class=\"tab-link-news\" href=\"https://finance.yahoo.com/news/hedge-funds-mudrick-silverlake-point72-gamestop-party-morning-brief-110406546.html\" target=\"_blank\">Sharks arrive at the GameStop party</a></div><div class=\"news-link-right\"><span style=\"color:#aa6dc0;font-size:9px\"> Yahoo Finance</span></div></div></td></tr>\n",
      "<tr><td align=\"right\" style=\"white-space:nowrap\" width=\"130\">Feb-02-21 05:59AM  </td><td align=\"left\"><div class=\"news-link-container\"><div class=\"news-link-left\"><a class=\"tab-link-news\" href=\"https://finance.yahoo.com/news/retail-favorite-stocks-outperforming-morning-brief-105941581.html\" target=\"_blank\">The retail rally is bigger than GameStop</a></div><div class=\"news-link-right\"><span style=\"color:#aa6dc0;font-size:9px\"> Yahoo Finance</span></div></div></td></tr>\n",
      "<tr><td align=\"right\" style=\"white-space:nowrap\" width=\"130\">Feb-01-21 05:59AM  </td><td align=\"left\"><div class=\"news-link-container\"><div class=\"news-link-left\"><a class=\"tab-link-news\" href=\"https://finance.yahoo.com/news/gamestop-wallstreetbets-reddit-market-risks-morning-brief-105917204.html\" target=\"_blank\">Investors aren't convinced the GameStop drama is a big deal</a></div><div class=\"news-link-right\"><span style=\"color:#aa6dc0;font-size:9px\"> Yahoo Finance</span></div></div></td></tr>\n",
      "<tr><td align=\"right\" style=\"white-space:nowrap\" width=\"130\">Jan-31-21 12:05PM  </td><td align=\"left\"><div class=\"news-link-container\"><div class=\"news-link-left\"><a class=\"tab-link-news\" href=\"https://finance.yahoo.com/news/amazon-and-alphabet-earnings-january-jobs-report-what-to-know-in-the-week-ahead-170537752.html\" target=\"_blank\">Amazon and Alphabet earnings, January jobs report: What to know in the week ahead</a></div><div class=\"news-link-right\"><span style=\"color:#aa6dc0;font-size:9px\"> Yahoo Finance</span></div></div></td></tr>\n",
      "<tr><td align=\"right\" style=\"white-space:nowrap\" width=\"130\">Jan-29-21 11:12AM  </td><td align=\"left\"><div class=\"news-link-container\"><div class=\"news-link-left\"><a class=\"tab-link-news\" href=\"https://www.marketwatch.com/story/microcap-stocks-have-been-soaring-here-are-two-strategies-for-investing-in-them-from-fund-managers-11611936724?siteid=yhoof2\" target=\"_blank\">Microcap stocks have been soaring  here are two strategies for investing in them from fund managers</a></div><div class=\"news-link-right\"><span style=\"color:#aa6dc0;font-size:9px\"> MarketWatch</span></div></div></td></tr>\n",
      "<tr><td align=\"right\" width=\"130\">06:00AM  </td><td align=\"left\"><div class=\"news-link-container\"><div class=\"news-link-left\"><a class=\"tab-link-news\" href=\"https://finance.yahoo.com/video/young-kenyan-entrepreneur-explains-why-110000096.html\" target=\"_blank\">Young Kenyan entrepreneur explains why he admires Bill Gates and Warren Buffett</a></div><div class=\"news-link-right\"><span style=\"color:#aa6dc0;font-size:9px\"> Yahoo Finance Video</span></div></div></td></tr>\n",
      "<tr><td align=\"right\" style=\"white-space:nowrap\" width=\"130\">Jan-27-21 09:49AM  </td><td align=\"left\"><div class=\"news-link-container\"><div class=\"news-link-left\"><a class=\"tab-link-news\" href=\"https://finance.yahoo.com/video/kenyan-tech-entrepreneur-explains-why-144921570.html\" target=\"_blank\">Kenyan tech entrepreneur explains why he turned down a scholarship to Harvard</a></div><div class=\"news-link-right\"><span style=\"color:#aa6dc0;font-size:9px\"> Yahoo Finance Video</span></div></div></td></tr>\n",
      "<tr><td align=\"right\" width=\"130\">07:00AM  </td><td align=\"left\"><div class=\"news-link-container\"><div class=\"news-link-left\"><a class=\"tab-link-news\" href=\"https://finance.yahoo.com/video/influencers-andy-serwer-mubarak-muyika-120000412.html\" target=\"_blank\">Influencers with Andy Serwer: Mubarak Muyika</a></div><div class=\"news-link-right\"><span style=\"color:#aa6dc0;font-size:9px\"> Yahoo Finance Video</span></div></div></td></tr>\n",
      "<tr><td align=\"right\" width=\"130\">02:05AM  </td><td align=\"left\"><div class=\"news-link-container\"><div class=\"news-link-left\"><a class=\"tab-link-news\" href=\"https://finance.yahoo.com/news/reddit-rally-fed-meeting-tesla-070551657.html\" target=\"_blank\">Reddit Rally, Fed Meeting, Tesla, Apple Earnings - What's up in Markets</a></div><div class=\"news-link-right\"><span style=\"color:#aa6dc0;font-size:9px\"> Investing.com</span></div></div></td></tr>\n",
      "<tr><td align=\"right\" style=\"white-space:nowrap\" width=\"130\">Jan-25-21 06:12AM  </td><td align=\"left\"><div class=\"news-link-container\"><div class=\"news-link-left\"><a class=\"tab-link-news\" href=\"https://finance.yahoo.com/news/q4-2020-earnings-beating-expectations-by-historic-margin-morning-brief-111240817.html\" target=\"_blank\">Earnings are beating expectations by a massive margin</a></div><div class=\"news-link-right\"><span style=\"color:#aa6dc0;font-size:9px\"> Yahoo Finance</span></div></div></td></tr>\n",
      "<tr><td align=\"right\" style=\"white-space:nowrap\" width=\"130\">Jan-22-21 04:39PM  </td><td align=\"left\"><div class=\"news-link-container\"><div class=\"news-link-left\"><a class=\"tab-link-news\" href=\"https://finance.yahoo.com/video/teslas-too-high-buy-now-213933652.html\" target=\"_blank\">Tesla's too high to buy now; Beyond Meat perking up; GameStop shorts feeling pain: veteran trader</a></div><div class=\"news-link-right\"><span style=\"color:#aa6dc0;font-size:9px\"> Yahoo Finance Video</span></div></div></td></tr>\n",
      "<tr><td align=\"right\" width=\"130\">06:11AM  </td><td align=\"left\"><div class=\"news-link-container\"><div class=\"news-link-left\"><a class=\"tab-link-news\" href=\"https://finance.yahoo.com/news/housing-market-caps-off-historic-year-morning-brief-111157492.html\" target=\"_blank\">The housing market caps off a historic year</a></div><div class=\"news-link-right\"><span style=\"color:#aa6dc0;font-size:9px\"> Yahoo Finance</span></div></div></td></tr>\n",
      "<tr><td align=\"right\" style=\"white-space:nowrap\" width=\"130\">Jan-21-21 05:59AM  </td><td align=\"left\"><div class=\"news-link-container\"><div class=\"news-link-left\"><a class=\"tab-link-news\" href=\"https://finance.yahoo.com/news/stocks-usually-go-up-morning-brief-105941581.html\" target=\"_blank\">Stocks usually go up</a></div><div class=\"news-link-right\"><span style=\"color:#aa6dc0;font-size:9px\"> Yahoo Finance</span></div></div></td></tr>\n",
      "<tr><td align=\"right\" style=\"white-space:nowrap\" width=\"130\">Jan-20-21 12:38PM  </td><td align=\"left\"><div class=\"news-link-container\"><div class=\"news-link-left\"><a class=\"tab-link-news\" href=\"https://finance.yahoo.com/news/wall-street-is-in-its-riskiest-mindset-in-20-years-bof-a-survey-173833420.html\" target=\"_blank\">Wall Street is in its riskiest mindset in 20 years: BofA survey</a></div><div class=\"news-link-right\"><span style=\"color:#aa6dc0;font-size:9px\"> Yahoo Finance</span></div></div></td></tr>\n",
      "<tr><td align=\"right\" width=\"130\">08:00AM  </td><td align=\"left\"><div class=\"news-link-container\"><div class=\"news-link-left\"><a class=\"tab-link-news\" href=\"https://www.investors.com/etfs-and-funds/sectors/sp500-top-nasdaq-stocks-are-already-beating-the-market-by-15x/?src=A00220\" target=\"_blank\">9 Top Nasdaq Stocks Are Already Beating The Market By 15X</a></div><div class=\"news-link-right\"><span style=\"color:#aa6dc0;font-size:9px\"> Investor's Business Daily</span></div></div></td></tr>\n",
      "<tr><td align=\"right\" width=\"130\">05:59AM  </td><td align=\"left\"><div class=\"news-link-container\"><div class=\"news-link-left\"><a class=\"tab-link-news\" href=\"https://finance.yahoo.com/news/investors-never-more-excited-about-small-caps-morning-brief-105933560.html\" target=\"_blank\">Investors have never been more excited about small caps</a></div><div class=\"news-link-right\"><span style=\"color:#aa6dc0;font-size:9px\"> Yahoo Finance</span></div></div></td></tr>\n",
      "<tr><td align=\"right\" style=\"white-space:nowrap\" width=\"130\">Jan-19-21 08:42AM  </td><td align=\"left\"><div class=\"news-link-container\"><div class=\"news-link-left\"><a class=\"tab-link-news\" href=\"https://www.investopedia.com/what-warren-buffett-learned-early-on-about-investing-5095946?utm_campaign=quote-yahoo&amp;utm_source=yahoo&amp;utm_medium=referral\" target=\"_blank\">What Warren Buffett Learned Early On About Investing</a></div><div class=\"news-link-right\"><span style=\"color:#aa6dc0;font-size:9px\"> Investopedia</span></div></div></td></tr>\n",
      "<tr><td align=\"right\" width=\"130\">06:06AM  </td><td align=\"left\"><div class=\"news-link-container\"><div class=\"news-link-left\"><a class=\"tab-link-news\" href=\"https://finance.yahoo.com/news/stock-market-could-double-twice-by-2040-morning-brief-110629429.html\" target=\"_blank\">Why the stock market could double twice by 2040</a></div><div class=\"news-link-right\"><span style=\"color:#aa6dc0;font-size:9px\"> Yahoo Finance</span></div></div></td></tr>\n",
      "<tr><td align=\"right\" style=\"white-space:nowrap\" width=\"130\">Jan-15-21 04:03PM  </td><td align=\"left\"><div class=\"news-link-container\"><div class=\"news-link-left\"><a class=\"tab-link-news\" href=\"https://finance.yahoo.com/news/stock-market-news-live-updates-january-15-2021-231400807.html\" target=\"_blank\">Stock market news live updates: Stocks fall for back-to-back sessions, S&amp;P 500 posts weekly loss of more than 1%</a></div><div class=\"news-link-right\"><span style=\"color:#aa6dc0;font-size:9px\"> Yahoo Finance</span></div></div></td></tr>\n",
      "<tr><td align=\"right\" width=\"130\">06:11AM  </td><td align=\"left\"><div class=\"news-link-container\"><div class=\"news-link-left\"><a class=\"tab-link-news\" href=\"https://finance.yahoo.com/news/spacs-new-part-of-same-market-bubble-story-morning-brief-111159953.html\" target=\"_blank\">SPACs are a new part of the same market story</a></div><div class=\"news-link-right\"><span style=\"color:#aa6dc0;font-size:9px\"> Yahoo Finance</span></div></div></td></tr>\n",
      "<tr><td align=\"right\" style=\"white-space:nowrap\" width=\"130\">Jan-14-21 10:18AM  </td><td align=\"left\"><div class=\"news-link-container\"><div class=\"news-link-left\"><a class=\"tab-link-news\" href=\"https://finance.yahoo.com/news/jobless-claims-spike-965k-highest-151803595.html\" target=\"_blank\">Jobless Claims Spike to 965K, Highest Since Late Spring</a></div><div class=\"news-link-right\"><span style=\"color:#aa6dc0;font-size:9px\"> Zacks</span></div></div></td></tr>\n",
      "<tr><td align=\"right\" width=\"130\">09:00AM  </td><td align=\"left\"><div class=\"news-link-container\"><div class=\"news-link-left\"><a class=\"tab-link-news\" href=\"https://finance.yahoo.com/news/newest-etfs-invesco-qqq-innovation-140000378.html\" target=\"_blank\">Newest ETFs in the Invesco QQQ Innovation Suite Generate $1 billion in Assets Under Management</a></div><div class=\"news-link-right\"><span style=\"color:#aa6dc0;font-size:9px\"> PR Newswire</span></div></div></td></tr>\n",
      "<tr><td align=\"right\" width=\"130\">08:31AM  </td><td align=\"left\"><div class=\"news-link-container\"><div class=\"news-link-left\"><a class=\"tab-link-news\" href=\"https://finance.yahoo.com/news/initial-jobless-claims-week-ended-jan-9-2021-coronavirus-pandemic-191640522.html\" target=\"_blank\">Jobless claims: Another 965,000 Americans filed new unemployment claims last week</a></div><div class=\"news-link-right\"><span style=\"color:#aa6dc0;font-size:9px\"> Yahoo Finance</span></div></div></td></tr>\n",
      "<tr><td align=\"right\" width=\"130\">08:29AM  </td><td align=\"left\"><div class=\"news-link-container\"><div class=\"news-link-left\"><a class=\"tab-link-news\" href=\"https://finance.yahoo.com/video/premium-roadmap-trading-profitably-consistently-132900873.html\" target=\"_blank\">PREMIUM: A roadmap to trading profitably and consistently in 2021 with JC Parets</a></div><div class=\"news-link-right\"><span style=\"color:#aa6dc0;font-size:9px\"> Yahoo Finance Video</span></div></div></td></tr>\n",
      "<tr><td align=\"right\" width=\"130\">06:00AM  </td><td align=\"left\"><div class=\"news-link-container\"><div class=\"news-link-left\"><a class=\"tab-link-news\" href=\"https://finance.yahoo.com/video/influencers-andy-serwer-haim-saban-110000035.html\" target=\"_blank\">Influencers with Andy Serwer: Haim Saban</a></div><div class=\"news-link-right\"><span style=\"color:#aa6dc0;font-size:9px\"> Yahoo Finance Video</span></div></div></td></tr>\n",
      "<tr><td align=\"right\" style=\"white-space:nowrap\" width=\"130\">Jan-13-21 04:07PM  </td><td align=\"left\"><div class=\"news-link-container\"><div class=\"news-link-left\"><a class=\"tab-link-news\" href=\"https://finance.yahoo.com/news/stock-market-news-live-updates-january-13-2021-231538873.html\" target=\"_blank\">Stock market news live updates: S&amp;P 500, Nasdaq post back-to-back sessions of gains</a></div><div class=\"news-link-right\"><span style=\"color:#aa6dc0;font-size:9px\"> Yahoo Finance</span></div></div></td></tr>\n",
      "<tr><td align=\"right\" width=\"130\">09:25AM  </td><td align=\"left\"><div class=\"news-link-container\"><div class=\"news-link-left\"><a class=\"tab-link-news\" href=\"https://finance.yahoo.com/news/intel-ceo-bob-swan-reportedly-set-to-depart-in-february-to-be-replaced-with-vm-wares-pat-gelsinger-142520631.html\" target=\"_blank\">Intel CEO Bob Swan to be replaced with VMWare's Pat Gelsinger</a></div><div class=\"news-link-right\"><span style=\"color:#aa6dc0;font-size:9px\"> Yahoo Finance</span></div></div></td></tr>\n",
      "<tr><td align=\"right\" style=\"white-space:nowrap\" width=\"130\">Jan-12-21 11:58AM  </td><td align=\"left\"><div class=\"news-link-container\"><div class=\"news-link-left\"><a class=\"tab-link-news\" href=\"https://finance.yahoo.com/news/if-you-dont-own-amazon-stock-youre-actually-short-veteran-trader-165832274.html\" target=\"_blank\">If you don't own Amazon stock, 'you're actually short': veteran trader</a></div><div class=\"news-link-right\"><span style=\"color:#aa6dc0;font-size:9px\"> Yahoo Finance</span></div></div></td></tr>\n",
      "</table>}\n"
     ]
    }
   ],
   "source": [
    "news_tables = {} \n",
    "\n",
    "for ticker in tickers:\n",
    "    url = finviz_url + ticker\n",
    "    req = Request(url = url, headers = {'user-agent':'my-app'})\n",
    "    response = urlopen(req)\n",
    "    \n",
    "    html = BeautifulSoup(response, 'html')\n",
    "    news_table = html.find(id = \"news-table\") \n",
    "    news_tables[ticker]= news_table\n",
    "    break\n",
    "    \n",
    "print(news_tables)"
   ]
  },
  {
   "cell_type": "code",
   "execution_count": null,
   "metadata": {},
   "outputs": [],
   "source": []
  },
  {
   "cell_type": "code",
   "execution_count": 99,
   "metadata": {
    "scrolled": false
   },
   "outputs": [
    {
     "name": "stdout",
     "output_type": "stream",
     "text": [
      "{'QQQ': <table border=\"0\" cellpadding=\"1\" cellspacing=\"0\" class=\"fullview-news-outer\" id=\"news-table\" width=\"100%\">\n",
      "<tr><td align=\"right\" style=\"white-space:nowrap\" width=\"130\">Mar-12-21 09:34AM  </td><td align=\"left\"><div class=\"news-link-container\"><div class=\"news-link-left\"><a class=\"tab-link-news\" href=\"https://finance.yahoo.com/news/stock-market-news-live-updates-march-12-2021-231228213.html\" target=\"_blank\">Stock market news live updates: Stocks mixed after record-setting rally, tech stocks slide as Treasury yields climb</a></div><div class=\"news-link-right\"><span style=\"color:#aa6dc0;font-size:9px\"> Yahoo Finance</span></div></div></td></tr>\n",
      "<tr><td align=\"right\" width=\"130\">06:01AM  </td><td align=\"left\"><div class=\"news-link-container\"><div class=\"news-link-left\"><a class=\"tab-link-news\" href=\"https://finance.yahoo.com/news/stock-market-record-high-coronavirus-one-year-morning-brief-110109977.html\" target=\"_blank\">Record highs, one year later: Morning Brief</a></div><div class=\"news-link-right\"><span style=\"color:#aa6dc0;font-size:9px\"> Yahoo Finance</span></div></div></td></tr>\n",
      "<tr><td align=\"right\" style=\"white-space:nowrap\" width=\"130\">Mar-11-21 04:02PM  </td><td align=\"left\"><div class=\"news-link-container\"><div class=\"news-link-left\"><a class=\"tab-link-news\" href=\"https://finance.yahoo.com/news/stock-market-news-live-updates-march-11-2021-231439220.html\" target=\"_blank\">Stock market news live updates: Dow, S&amp;P 500 set records, tech and Bitcoin soar as Biden stimulus signing feeds risk rally</a></div><div class=\"news-link-right\"><span style=\"color:#aa6dc0;font-size:9px\"> Yahoo Finance</span></div></div></td></tr>\n",
      "<tr><td align=\"right\" width=\"130\">05:57AM  </td><td align=\"left\"><div class=\"news-link-container\"><div class=\"news-link-left\"><a class=\"tab-link-news\" href=\"https://finance.yahoo.com/news/inflation-is-a-process-morning-brief-105703186.html\" target=\"_blank\">'Inflation is a process'</a></div><div class=\"news-link-right\"><span style=\"color:#aa6dc0;font-size:9px\"> Yahoo Finance</span></div></div></td></tr>\n",
      "<tr><td align=\"right\" style=\"white-space:nowrap\" width=\"130\">Mar-10-21 11:03AM  </td><td align=\"left\"><div class=\"news-link-container\"><div class=\"news-link-left\"><a class=\"tab-link-news\" href=\"https://finance.yahoo.com/news/girls-who-code-ceo-on-women-in-tech-were-not-getting-hired-or-supported-160345409.html\" target=\"_blank\">Girls Who Code CEO on women in tech: We're not getting hired, or supported</a></div><div class=\"news-link-right\"><span style=\"color:#aa6dc0;font-size:9px\"> Yahoo Finance</span></div></div></td></tr>\n",
      "<tr><td align=\"right\" width=\"130\">06:03AM  </td><td align=\"left\"><div class=\"news-link-container\"><div class=\"news-link-left\"><a class=\"tab-link-news\" href=\"https://finance.yahoo.com/news/everybody-bought-stocks-last-week-morning-brief-110346583.html\" target=\"_blank\">Dip buyers were out in full force</a></div><div class=\"news-link-right\"><span style=\"color:#aa6dc0;font-size:9px\"> Yahoo Finance</span></div></div></td></tr>\n",
      "<tr><td align=\"right\" style=\"white-space:nowrap\" width=\"130\">Mar-09-21 05:55AM  </td><td align=\"left\"><div class=\"news-link-container\"><div class=\"news-link-left\"><a class=\"tab-link-news\" href=\"https://finance.yahoo.com/news/reopening-trade-rotation-morning-brief-105527836.html\" target=\"_blank\">New day, same story</a></div><div class=\"news-link-right\"><span style=\"color:#aa6dc0;font-size:9px\"> Yahoo Finance</span></div></div></td></tr>\n",
      "<tr><td align=\"right\" style=\"white-space:nowrap\" width=\"130\">Mar-08-21 10:26AM  </td><td align=\"left\"><div class=\"news-link-container\"><div class=\"news-link-left\"><a class=\"tab-link-news\" href=\"https://finance.yahoo.com/news/glossary-federal-reserves-emergency-measures-coronavirus-bazookas-120337473.html\" target=\"_blank\">A glossary of the Federal Reserve's full arsenal of 'bazookas'</a></div><div class=\"news-link-right\"><span style=\"color:#aa6dc0;font-size:9px\"> Yahoo Finance</span></div></div></td></tr>\n",
      "<tr><td align=\"right\" width=\"130\">05:55AM  </td><td align=\"left\"><div class=\"news-link-container\"><div class=\"news-link-left\"><a class=\"tab-link-news\" href=\"https://finance.yahoo.com/news/stock-market-implications-rising-interest-rates-morning-brief-105525383.html\" target=\"_blank\">Rising interest rates are a good sign for stocks</a></div><div class=\"news-link-right\"><span style=\"color:#aa6dc0;font-size:9px\"> Yahoo Finance</span></div></div></td></tr>\n",
      "<tr><td align=\"right\" style=\"white-space:nowrap\" width=\"130\">Mar-07-21 08:55AM  </td><td align=\"left\"><div class=\"news-link-container\"><div class=\"news-link-left\"><a class=\"tab-link-news\" href=\"https://finance.yahoo.com/news/roblox-goes-public-consumer-price-index-what-to-know-in-the-week-ahead-135554089.html\" target=\"_blank\">Roblox goes public, inflation data: What to know in the week ahead</a></div><div class=\"news-link-right\"><span style=\"color:#aa6dc0;font-size:9px\"> Yahoo Finance</span></div></div></td></tr>\n",
      "<tr><td align=\"right\" style=\"white-space:nowrap\" width=\"130\">Mar-05-21 01:08PM  </td><td align=\"left\"><div class=\"news-link-container\"><div class=\"news-link-left\"><a class=\"tab-link-news\" href=\"https://www.investors.com/etfs-and-funds/sectors/nasdaq-stocks-sp500-gone-implosion-gets-really-expensive/?src=A00220\" target=\"_blank\">$1.6 Trillion Gone: Nasdaq Stock Implosion Gets Ugly</a></div><div class=\"news-link-right\"><span style=\"color:#aa6dc0;font-size:9px\"> Investor's Business Daily</span></div></div></td></tr>\n",
      "<tr><td align=\"right\" width=\"130\">12:40PM  </td><td align=\"left\"><div class=\"news-link-container\"><div class=\"news-link-left\"><a class=\"tab-link-news\" href=\"https://finance.yahoo.com/video/heres-why-tech-getting-whacked-174002674.html\" target=\"_blank\">Here's why tech is getting whacked while Buffett's Berkshire Hathaway and Chevron are surging: Trader</a></div><div class=\"news-link-right\"><span style=\"color:#aa6dc0;font-size:9px\"> Yahoo Finance Video</span></div></div></td></tr>\n",
      "<tr><td align=\"right\" width=\"130\">10:29AM  </td><td align=\"left\"><div class=\"news-link-container\"><div class=\"news-link-left\"><a class=\"tab-link-news\" href=\"https://www.investors.com/research/options/qqq-etf-iron-condor-options-trade/?src=A00220\" target=\"_blank\">QQQ Option Trade Idea When Volatility Is High</a></div><div class=\"news-link-right\"><span style=\"color:#aa6dc0;font-size:9px\"> Investor's Business Daily</span></div></div></td></tr>\n",
      "<tr><td align=\"right\" width=\"130\">09:00AM  </td><td align=\"left\"><div class=\"news-link-container\"><div class=\"news-link-left\"><a class=\"tab-link-news\" href=\"https://finance.yahoo.com/video/youre-getting-tax-refund-something-140000475.html\" target=\"_blank\">If you're getting a tax refund, something is radically wrong: Suze Orman</a></div><div class=\"news-link-right\"><span style=\"color:#aa6dc0;font-size:9px\"> Yahoo Finance Video</span></div></div></td></tr>\n",
      "<tr><td align=\"right\" width=\"130\">08:30AM  </td><td align=\"left\"><div class=\"news-link-container\"><div class=\"news-link-left\"><a class=\"tab-link-news\" href=\"https://finance.yahoo.com/news/february-jobs-report-labor-department-unemployment-pandemic-192526748.html\" target=\"_blank\">February jobs report: Economy adds 379,000 payrolls, unemployment rate falls to 6.2%</a></div><div class=\"news-link-right\"><span style=\"color:#aa6dc0;font-size:9px\"> Yahoo Finance</span></div></div></td></tr>\n",
      "<tr><td align=\"right\" width=\"130\">06:01AM  </td><td align=\"left\"><div class=\"news-link-container\"><div class=\"news-link-left\"><a class=\"tab-link-news\" href=\"https://finance.yahoo.com/news/seniors-returning-to-air-travel-morning-brief-110150405.html\" target=\"_blank\">Seniors are rushing to get back on planes</a></div><div class=\"news-link-right\"><span style=\"color:#aa6dc0;font-size:9px\"> Yahoo Finance</span></div></div></td></tr>\n",
      "<tr><td align=\"right\" style=\"white-space:nowrap\" width=\"130\">Mar-04-21 10:29AM  </td><td align=\"left\"><div class=\"news-link-container\"><div class=\"news-link-left\"><a class=\"tab-link-news\" href=\"https://finance.yahoo.com/news/jobless-claims-bump-week-over-152903367.html\" target=\"_blank\">Jobless Claims Bump Up Week Over Week: 745K</a></div><div class=\"news-link-right\"><span style=\"color:#aa6dc0;font-size:9px\"> Zacks</span></div></div></td></tr>\n",
      "<tr><td align=\"right\" width=\"130\">07:55AM  </td><td align=\"left\"><div class=\"news-link-container\"><div class=\"news-link-left\"><a class=\"tab-link-news\" href=\"https://finance.yahoo.com/video/premium-trading-profitably-prudently-world-125500913.html\" target=\"_blank\">PREMIUM: Trading profitably and prudently as the world reopens</a></div><div class=\"news-link-right\"><span style=\"color:#aa6dc0;font-size:9px\"> Yahoo Finance Video</span></div></div></td></tr>\n",
      "<tr><td align=\"right\" width=\"130\">07:17AM  </td><td align=\"left\"><div class=\"news-link-container\"><div class=\"news-link-left\"><a class=\"tab-link-news\" href=\"https://finance.yahoo.com/news/stock-market-news-live-updates-march-4-2021-231156206.html\" target=\"_blank\">Stock market news live updates: Stock futures edge lower, extending losses after tech-led selloff</a></div><div class=\"news-link-right\"><span style=\"color:#aa6dc0;font-size:9px\"> Yahoo Finance</span></div></div></td></tr>\n",
      "<tr><td align=\"right\" width=\"130\">06:00AM  </td><td align=\"left\"><div class=\"news-link-container\"><div class=\"news-link-left\"><a class=\"tab-link-news\" href=\"https://finance.yahoo.com/video/influencers-andy-serwer-suze-orman-110000318.html\" target=\"_blank\">Influencers with Andy Serwer: Suze Orman</a></div><div class=\"news-link-right\"><span style=\"color:#aa6dc0;font-size:9px\"> Yahoo Finance Video</span></div></div></td></tr>\n",
      "<tr><td align=\"right\" width=\"130\">05:54AM  </td><td align=\"left\"><div class=\"news-link-container\"><div class=\"news-link-left\"><a class=\"tab-link-news\" href=\"https://finance.yahoo.com/news/re-opening-rotation-rocking-the-market-morning-brief-105403540.html\" target=\"_blank\">Re-opening rotation trades are rocking the market: Morning Brief</a></div><div class=\"news-link-right\"><span style=\"color:#aa6dc0;font-size:9px\"> Yahoo Finance</span></div></div></td></tr>\n",
      "<tr><td align=\"right\" width=\"130\">05:00AM  </td><td align=\"left\"><div class=\"news-link-container\"><div class=\"news-link-left\"><a class=\"tab-link-news\" href=\"https://finance.yahoo.com/video/suze-orman-americans-save-stimulus-100000797.html\" target=\"_blank\">Suze Orman: Americans should save their stimulus money</a></div><div class=\"news-link-right\"><span style=\"color:#aa6dc0;font-size:9px\"> Yahoo Finance Video</span></div></div></td></tr>\n",
      "<tr><td align=\"right\" style=\"white-space:nowrap\" width=\"130\">Mar-03-21 04:00PM  </td><td align=\"left\"><div class=\"news-link-container\"><div class=\"news-link-left\"><a class=\"tab-link-news\" href=\"https://finance.yahoo.com/news/stock-market-news-live-updates-march-3-2021-231939919.html\" target=\"_blank\">Stock market news live updates: Stocks end lower, Nasdaq slides by 2.7% as tech stocks sink further amid rising rates</a></div><div class=\"news-link-right\"><span style=\"color:#aa6dc0;font-size:9px\"> Yahoo Finance</span></div></div></td></tr>\n",
      "<tr><td align=\"right\" width=\"130\">01:57PM  </td><td align=\"left\"><div class=\"news-link-container\"><div class=\"news-link-left\"><a class=\"tab-link-news\" href=\"https://www.investopedia.com/who-are-the-etf-giants-4691723?utm_campaign=quote-yahoo&amp;utm_source=yahoo&amp;utm_medium=referral\" target=\"_blank\">Who Are the ETF Giants?</a></div><div class=\"news-link-right\"><span style=\"color:#aa6dc0;font-size:9px\"> Investopedia</span></div></div></td></tr>\n",
      "<tr><td align=\"right\" width=\"130\">08:15AM  </td><td align=\"left\"><div class=\"news-link-container\"><div class=\"news-link-left\"><a class=\"tab-link-news\" href=\"https://finance.yahoo.com/news/adp-private-employment-payrolls-change-february-2021-131527071.html\" target=\"_blank\">Private employers added back 117,000 jobs in February, missing expectations: ADP</a></div><div class=\"news-link-right\"><span style=\"color:#aa6dc0;font-size:9px\"> Yahoo Finance</span></div></div></td></tr>\n",
      "<tr><td align=\"right\" width=\"130\">06:01AM  </td><td align=\"left\"><div class=\"news-link-container\"><div class=\"news-link-left\"><a class=\"tab-link-news\" href=\"https://finance.yahoo.com/news/spacs-700-billion-market-2021-goldman-sachs-morning-brief-110126053.html\" target=\"_blank\">SPACs are now a $700 billion market</a></div><div class=\"news-link-right\"><span style=\"color:#aa6dc0;font-size:9px\"> Yahoo Finance</span></div></div></td></tr>\n",
      "<tr><td align=\"right\" style=\"white-space:nowrap\" width=\"130\">Mar-02-21 04:00PM  </td><td align=\"left\"><div class=\"news-link-container\"><div class=\"news-link-left\"><a class=\"tab-link-news\" href=\"https://finance.yahoo.com/news/stock-market-news-live-updates-march-2-2021-233020700.html\" target=\"_blank\">Stock market news live updates: Stocks retreat after S&amp;P 500's best session since June</a></div><div class=\"news-link-right\"><span style=\"color:#aa6dc0;font-size:9px\"> Yahoo Finance</span></div></div></td></tr>\n",
      "<tr><td align=\"right\" width=\"130\">06:02AM  </td><td align=\"left\"><div class=\"news-link-container\"><div class=\"news-link-left\"><a class=\"tab-link-news\" href=\"https://finance.yahoo.com/news/american-manufacturing-roar-back-morning-brief-110228696.html\" target=\"_blank\">American manufacturing is roaring back</a></div><div class=\"news-link-right\"><span style=\"color:#aa6dc0;font-size:9px\"> Yahoo Finance</span></div></div></td></tr>\n",
      "<tr><td align=\"right\" style=\"white-space:nowrap\" width=\"130\">Mar-01-21 04:00PM  </td><td align=\"left\"><div class=\"news-link-container\"><div class=\"news-link-left\"><a class=\"tab-link-news\" href=\"https://finance.yahoo.com/news/stock-market-news-live-updates-march-1-2021-121948412.html\" target=\"_blank\">Stock market news live updates: Stocks rally as tech shares rebound, S&amp;P 500 jumps 2.4% in best session since June 2020</a></div><div class=\"news-link-right\"><span style=\"color:#aa6dc0;font-size:9px\"> Yahoo Finance</span></div></div></td></tr>\n",
      "<tr><td align=\"right\" width=\"130\">01:39PM  </td><td align=\"left\"><div class=\"news-link-container\"><div class=\"news-link-left\"><a class=\"tab-link-news\" href=\"https://finance.yahoo.com/news/this-closely-watched-stock-market-indicator-nears-a-sell-signal-183927948.html\" target=\"_blank\">This closely watched stock market indicator nears a sell signal</a></div><div class=\"news-link-right\"><span style=\"color:#aa6dc0;font-size:9px\"> Yahoo Finance</span></div></div></td></tr>\n",
      "<tr><td align=\"right\" width=\"130\">06:38AM  </td><td align=\"left\"><div class=\"news-link-container\"><div class=\"news-link-left\"><a class=\"tab-link-news\" href=\"https://finance.yahoo.com/news/the-truth-about-warren-buffetts-investment-track-record-morning-brief-113829049.html\" target=\"_blank\">The truth about Warren Buffetts investment track record</a></div><div class=\"news-link-right\"><span style=\"color:#aa6dc0;font-size:9px\"> Yahoo Finance</span></div></div></td></tr>\n",
      "<tr><td align=\"right\" style=\"white-space:nowrap\" width=\"130\">Feb-28-21 08:52AM  </td><td align=\"left\"><div class=\"news-link-container\"><div class=\"news-link-left\"><a class=\"tab-link-news\" href=\"https://finance.yahoo.com/news/february-jobs-report-zoom-earnings-what-to-know-in-the-week-ahead-135224254.html\" target=\"_blank\">February jobs report, Zoom earnings: What to know in the week ahead</a></div><div class=\"news-link-right\"><span style=\"color:#aa6dc0;font-size:9px\"> Yahoo Finance</span></div></div></td></tr>\n",
      "<tr><td align=\"right\" style=\"white-space:nowrap\" width=\"130\">Feb-26-21 06:05AM  </td><td align=\"left\"><div class=\"news-link-container\"><div class=\"news-link-left\"><a class=\"tab-link-news\" href=\"https://finance.yahoo.com/news/retail-traders-say-theyre-not-going-anywhere-morning-brief-110514430.html\" target=\"_blank\">Retail traders say they're not going anywhere</a></div><div class=\"news-link-right\"><span style=\"color:#aa6dc0;font-size:9px\"> Yahoo Finance</span></div></div></td></tr>\n",
      "<tr><td align=\"right\" width=\"130\">06:00AM  </td><td align=\"left\"><div class=\"news-link-container\"><div class=\"news-link-left\"><a class=\"tab-link-news\" href=\"https://finance.yahoo.com/video/yf-spotlight-american-educators-search-110000575.html\" target=\"_blank\">YF Spotlight: American educators search for common ground on school reopening</a></div><div class=\"news-link-right\"><span style=\"color:#aa6dc0;font-size:9px\"> Yahoo Finance Video</span></div></div></td></tr>\n",
      "<tr><td align=\"right\" style=\"white-space:nowrap\" width=\"130\">Feb-25-21 04:41PM  </td><td align=\"left\"><div class=\"news-link-container\"><div class=\"news-link-left\"><a class=\"tab-link-news\" href=\"https://www.marketwatch.com/story/these-nasdaq-100-stocks-fell-the-most-on-feb-25-11614289288?siteid=yhoof2\" target=\"_blank\">These Nasdaq 100 stocks fell the most on Feb. 25</a></div><div class=\"news-link-right\"><span style=\"color:#aa6dc0;font-size:9px\"> MarketWatch</span></div></div></td></tr>\n",
      "<tr><td align=\"right\" width=\"130\">04:03PM  </td><td align=\"left\"><div class=\"news-link-container\"><div class=\"news-link-left\"><a class=\"tab-link-news\" href=\"https://finance.yahoo.com/news/stock-market-news-live-updates-february-25-2021-231353607.html\" target=\"_blank\">Stock market news live updates: Stocks drop, Nasdaq posts worst session since October as tech rout deepens</a></div><div class=\"news-link-right\"><span style=\"color:#aa6dc0;font-size:9px\"> Yahoo Finance</span></div></div></td></tr>\n",
      "<tr><td align=\"right\" width=\"130\">06:00AM  </td><td align=\"left\"><div class=\"news-link-container\"><div class=\"news-link-left\"><a class=\"tab-link-news\" href=\"https://finance.yahoo.com/video/dont-miss-glamour-hollywood-legendary-110000708.html\" target=\"_blank\">'I don't' miss the glamour of Hollywood: Legendary Entertainment founder</a></div><div class=\"news-link-right\"><span style=\"color:#aa6dc0;font-size:9px\"> Yahoo Finance Video</span></div></div></td></tr>\n",
      "<tr><td align=\"right\" style=\"white-space:nowrap\" width=\"130\">Feb-24-21 12:55PM  </td><td align=\"left\"><div class=\"news-link-container\"><div class=\"news-link-left\"><a class=\"tab-link-news\" href=\"https://www.marketwatch.com/story/this-stock-fund-may-be-for-you-if-you-want-to-sleep-well-at-night-and-still-make-money-11614189304?siteid=yhoof2\" target=\"_blank\">This stock fund may be for you if you want to sleep well at night and still make money</a></div><div class=\"news-link-right\"><span style=\"color:#aa6dc0;font-size:9px\"> MarketWatch</span></div></div></td></tr>\n",
      "<tr><td align=\"right\" width=\"130\">11:12AM  </td><td align=\"left\"><div class=\"news-link-container\"><div class=\"news-link-left\"><a class=\"tab-link-news\" href=\"https://finance.yahoo.com/news/stock-market-news-live-updates-february-24-2021-231348929.html\" target=\"_blank\">Stock market news live updates: Dow rallies to reach record high as tech stocks recover losses</a></div><div class=\"news-link-right\"><span style=\"color:#aa6dc0;font-size:9px\"> Yahoo Finance</span></div></div></td></tr>\n",
      "<tr><td align=\"right\" style=\"white-space:nowrap\" width=\"130\">Feb-23-21 09:35AM  </td><td align=\"left\"><div class=\"news-link-container\"><div class=\"news-link-left\"><a class=\"tab-link-news\" href=\"https://finance.yahoo.com/news/credit-suisse-strategist-boosts-his-2021-sp-500-target-for-a-second-time-143552459.html\" target=\"_blank\">Top Wall St strategist boosts his 2021 S&amp;P 500 target for a second time</a></div><div class=\"news-link-right\"><span style=\"color:#aa6dc0;font-size:9px\"> Yahoo Finance</span></div></div></td></tr>\n",
      "<tr><td align=\"right\" style=\"white-space:nowrap\" width=\"130\">Feb-22-21 11:39AM  </td><td align=\"left\"><div class=\"news-link-container\"><div class=\"news-link-left\"><a class=\"tab-link-news\" href=\"https://finance.yahoo.com/news/stock-market-news-live-updates-february-22-2021-231227640-122203922.html\" target=\"_blank\">Stock market news live updates: Stocks drift as yields rise, inflation concerns mount</a></div><div class=\"news-link-right\"><span style=\"color:#aa6dc0;font-size:9px\"> Yahoo Finance</span></div></div></td></tr>\n",
      "<tr><td align=\"right\" width=\"130\">06:20AM  </td><td align=\"left\"><div class=\"news-link-container\"><div class=\"news-link-left\"><a class=\"tab-link-news\" href=\"https://finance.yahoo.com/news/stock-market-investor-lessons-coronavirus-pandemic-one-year-later-morning-brief-112011081.html\" target=\"_blank\">2 timeless lessons for investors from the past year</a></div><div class=\"news-link-right\"><span style=\"color:#aa6dc0;font-size:9px\"> Yahoo Finance</span></div></div></td></tr>\n",
      "<tr><td align=\"right\" style=\"white-space:nowrap\" width=\"130\">Feb-19-21 06:00AM  </td><td align=\"left\"><div class=\"news-link-container\"><div class=\"news-link-left\"><a class=\"tab-link-news\" href=\"https://finance.yahoo.com/news/fasten-your-seatbelts-case-for-roaring-economic-recovery-morning-brief-110049254.html\" target=\"_blank\">'Fasten your seatbelts'  The case for a roaring economic recovery</a></div><div class=\"news-link-right\"><span style=\"color:#aa6dc0;font-size:9px\"> Yahoo Finance</span></div></div></td></tr>\n",
      "<tr><td align=\"right\" style=\"white-space:nowrap\" width=\"130\">Feb-18-21 03:45PM  </td><td align=\"left\"><div class=\"news-link-container\"><div class=\"news-link-left\"><a class=\"tab-link-news\" href=\"https://www.investors.com/market-trend/stock-market-today/gamestop-falls-91-percent-from-2021-peak-dow-jones-cuts-losses-growth-stocks-break-out/?src=A00220\" target=\"_blank\">GameStop Falls 91% From Its 2021 Peak As Dow Jones Cuts Losses; These Growth Stocks Break Out</a></div><div class=\"news-link-right\"><span style=\"color:#aa6dc0;font-size:9px\"> Investor's Business Daily</span></div></div></td></tr>\n",
      "<tr><td align=\"right\" width=\"130\">01:24PM  </td><td align=\"left\"><div class=\"news-link-container\"><div class=\"news-link-left\"><a class=\"tab-link-news\" href=\"https://www.investopedia.com/roku-roku-option-traders-wary-5113121?utm_campaign=quote-yahoo&amp;utm_source=yahoo&amp;utm_medium=referral\" target=\"_blank\">ROKU (ROKU) Option Traders Wary</a></div><div class=\"news-link-right\"><span style=\"color:#aa6dc0;font-size:9px\"> Investopedia</span></div></div></td></tr>\n",
      "<tr><td align=\"right\" width=\"130\">12:57PM  </td><td align=\"left\"><div class=\"news-link-container\"><div class=\"news-link-left\"><a class=\"tab-link-news\" href=\"https://www.investopedia.com/applied-materials-amat-option-traders-optimistic-5113132?utm_campaign=quote-yahoo&amp;utm_source=yahoo&amp;utm_medium=referral\" target=\"_blank\">Applied Materials (AMAT) Option Traders Optimistic</a></div><div class=\"news-link-right\"><span style=\"color:#aa6dc0;font-size:9px\"> Investopedia</span></div></div></td></tr>\n",
      "<tr><td align=\"right\" width=\"130\">10:01AM  </td><td align=\"left\"><div class=\"news-link-container\"><div class=\"news-link-left\"><a class=\"tab-link-news\" href=\"https://finance.yahoo.com/video/bill-gates-facebook-banning-trump-150110737.html\" target=\"_blank\">Bill Gates: Facebook banning Trump 'forever' would not be 'that good'</a></div><div class=\"news-link-right\"><span style=\"color:#aa6dc0;font-size:9px\"> Yahoo Finance Video</span></div></div></td></tr>\n",
      "<tr><td align=\"right\" width=\"130\">06:01AM  </td><td align=\"left\"><div class=\"news-link-container\"><div class=\"news-link-left\"><a class=\"tab-link-news\" href=\"https://finance.yahoo.com/news/us-economy-december-retail-sales-boom-morning-brief-110114769.html\" target=\"_blank\">The U.S. economy continues to surprise</a></div><div class=\"news-link-right\"><span style=\"color:#aa6dc0;font-size:9px\"> Yahoo Finance</span></div></div></td></tr>\n",
      "<tr><td align=\"right\" style=\"white-space:nowrap\" width=\"130\">Feb-17-21 06:51AM  </td><td align=\"left\"><div class=\"news-link-container\"><div class=\"news-link-left\"><a class=\"tab-link-news\" href=\"https://www.investopedia.com/articles/etfs/top-etfs-nasdaq/?utm_campaign=quote-yahoo&amp;utm_source=yahoo&amp;utm_medium=referral\" target=\"_blank\">Best (and Only) Nasdaq ETF for Q2 2021</a></div><div class=\"news-link-right\"><span style=\"color:#aa6dc0;font-size:9px\"> Investopedia</span></div></div></td></tr>\n",
      "<tr><td align=\"right\" width=\"130\">05:59AM  </td><td align=\"left\"><div class=\"news-link-container\"><div class=\"news-link-left\"><a class=\"tab-link-news\" href=\"https://finance.yahoo.com/news/covid-cases-dropping-morning-brief-105958867.html\" target=\"_blank\">COVID-19 cases are dropping like a rock</a></div><div class=\"news-link-right\"><span style=\"color:#aa6dc0;font-size:9px\"> Yahoo Finance</span></div></div></td></tr>\n",
      "<tr><td align=\"right\" style=\"white-space:nowrap\" width=\"130\">Feb-16-21 04:58PM  </td><td align=\"left\"><div class=\"news-link-container\"><div class=\"news-link-left\"><a class=\"tab-link-news\" href=\"https://finance.yahoo.com/news/goldman-sachss-marcus-invest-bets-against-the-game-stop-trend-215811218.html\" target=\"_blank\">Goldman Sachs' 'Marcus Invest' bets against the GameStop trend</a></div><div class=\"news-link-right\"><span style=\"color:#aa6dc0;font-size:9px\"> Yahoo Finance</span></div></div></td></tr>\n",
      "<tr><td align=\"right\" width=\"130\">12:56PM  </td><td align=\"left\"><div class=\"news-link-container\"><div class=\"news-link-left\"><a class=\"tab-link-news\" href=\"https://www.investopedia.com/twilio-twlo-option-traders-optimistic-5112747?utm_campaign=quote-yahoo&amp;utm_source=yahoo&amp;utm_medium=referral\" target=\"_blank\">Twilio (TWLO) Option Traders Optimistic</a></div><div class=\"news-link-right\"><span style=\"color:#aa6dc0;font-size:9px\"> Investopedia</span></div></div></td></tr>\n",
      "<tr><td align=\"right\" width=\"130\">12:22PM  </td><td align=\"left\"><div class=\"news-link-container\"><div class=\"news-link-left\"><a class=\"tab-link-news\" href=\"https://www.investopedia.com/shopify-shop-option-traders-optimistic-but-5112719?utm_campaign=quote-yahoo&amp;utm_source=yahoo&amp;utm_medium=referral\" target=\"_blank\">Shopify (SHOP) Option Traders Optimistic, but ...</a></div><div class=\"news-link-right\"><span style=\"color:#aa6dc0;font-size:9px\"> Investopedia</span></div></div></td></tr>\n",
      "<tr><td align=\"right\" width=\"130\">06:10AM  </td><td align=\"left\"><div class=\"news-link-container\"><div class=\"news-link-left\"><a class=\"tab-link-news\" href=\"https://finance.yahoo.com/news/stock-market-record-high-gamestop-spacs-bitcoin-morning-brief-111019949.html\" target=\"_blank\">You don't have to trade GameStop, SPACs, or Bitcoin for big returns</a></div><div class=\"news-link-right\"><span style=\"color:#aa6dc0;font-size:9px\"> Yahoo Finance</span></div></div></td></tr>\n",
      "<tr><td align=\"right\" style=\"white-space:nowrap\" width=\"130\">Feb-12-21 01:52PM  </td><td align=\"left\"><div class=\"news-link-container\"><div class=\"news-link-left\"><a class=\"tab-link-news\" href=\"https://www.investors.com/etfs-and-funds/sectors/sp500-whats-the-fastest-way-to-become-millionaire-with-stocks/?src=A00220\" target=\"_blank\">How Long It Takes To Be A Millionaire With Stocks</a></div><div class=\"news-link-right\"><span style=\"color:#aa6dc0;font-size:9px\"> Investor's Business Daily</span></div></div></td></tr>\n",
      "<tr><td align=\"right\" width=\"130\">05:48AM  </td><td align=\"left\"><div class=\"news-link-container\"><div class=\"news-link-left\"><a class=\"tab-link-news\" href=\"https://finance.yahoo.com/news/stock-market-a-fascinating-place-right-now-morning-brief-104849511.html\" target=\"_blank\">The stock market is a fascinating place right now</a></div><div class=\"news-link-right\"><span style=\"color:#aa6dc0;font-size:9px\"> Yahoo Finance</span></div></div></td></tr>\n",
      "<tr><td align=\"right\" style=\"white-space:nowrap\" width=\"130\">Feb-11-21 08:31AM  </td><td align=\"left\"><div class=\"news-link-container\"><div class=\"news-link-left\"><a class=\"tab-link-news\" href=\"https://finance.yahoo.com/news/initial-jobless-claims-week-ended-february-6-2021-coronavirus-pandemic-191313864.html\" target=\"_blank\">Jobless claims: Another 793,000 Americans filed new unemployment claims last week</a></div><div class=\"news-link-right\"><span style=\"color:#aa6dc0;font-size:9px\"> Yahoo Finance</span></div></div></td></tr>\n",
      "<tr><td align=\"right\" width=\"130\">06:02AM  </td><td align=\"left\"><div class=\"news-link-container\"><div class=\"news-link-left\"><a class=\"tab-link-news\" href=\"https://finance.yahoo.com/news/worst-stocks-are-doing-the-best-morning-brief-110238013.html\" target=\"_blank\">The worst stocks are doing the best</a></div><div class=\"news-link-right\"><span style=\"color:#aa6dc0;font-size:9px\"> Yahoo Finance</span></div></div></td></tr>\n",
      "<tr><td align=\"right\" style=\"white-space:nowrap\" width=\"130\">Feb-10-21 04:05PM  </td><td align=\"left\"><div class=\"news-link-container\"><div class=\"news-link-left\"><a class=\"tab-link-news\" href=\"https://finance.yahoo.com/news/stock-market-news-live-updates-february-10-2021-232028710.html\" target=\"_blank\">Stock market news live updates: Stocks erase gains after reaching record highs</a></div><div class=\"news-link-right\"><span style=\"color:#aa6dc0;font-size:9px\"> Yahoo Finance</span></div></div></td></tr>\n",
      "<tr><td align=\"right\" width=\"130\">01:29PM  </td><td align=\"left\"><div class=\"news-link-container\"><div class=\"news-link-left\"><a class=\"tab-link-news\" href=\"https://finance.yahoo.com/news/warren-buffetts-favorite-indicator-hints-that-stocks-are-significantly-overvalued-182944741.html\" target=\"_blank\">Warren Buffett's favorite indicator hints that stocks are significantly overvalued</a></div><div class=\"news-link-right\"><span style=\"color:#aa6dc0;font-size:9px\"> Yahoo Finance</span></div></div></td></tr>\n",
      "<tr><td align=\"right\" width=\"130\">06:00AM  </td><td align=\"left\"><div class=\"news-link-container\"><div class=\"news-link-left\"><a class=\"tab-link-news\" href=\"https://finance.yahoo.com/video/covid-19-exposed-fragile-food-110000708.html\" target=\"_blank\">COVID-19 exposed how fragile our food systems are: Gro Intelligence Founder</a></div><div class=\"news-link-right\"><span style=\"color:#aa6dc0;font-size:9px\"> Yahoo Finance Video</span></div></div></td></tr>\n",
      "<tr><td align=\"right\" style=\"white-space:nowrap\" width=\"130\">Feb-09-21 01:52PM  </td><td align=\"left\"><div class=\"news-link-container\"><div class=\"news-link-left\"><a class=\"tab-link-news\" href=\"https://www.investopedia.com/articles/etfs-mutual-funds/080516/4-etfs-fang-stocks-fdnpnqiqqqskyy.asp?utm_campaign=quote-yahoo&amp;utm_source=yahoo&amp;utm_medium=referral\" target=\"_blank\">Best FANG Stocks ETFs for Q2 2021</a></div><div class=\"news-link-right\"><span style=\"color:#aa6dc0;font-size:9px\"> Investopedia</span></div></div></td></tr>\n",
      "<tr><td align=\"right\" style=\"white-space:nowrap\" width=\"130\">Feb-08-21 03:59PM  </td><td align=\"left\"><div class=\"news-link-container\"><div class=\"news-link-left\"><a class=\"tab-link-news\" href=\"https://finance.yahoo.com/news/why-the-broad-stock-market-isnt-in-a-bubble-says-veteran-investor-205957595.html\" target=\"_blank\">Why the broad stock market isn't in a bubble, says veteran investor</a></div><div class=\"news-link-right\"><span style=\"color:#aa6dc0;font-size:9px\"> Yahoo Finance</span></div></div></td></tr>\n",
      "<tr><td align=\"right\" width=\"130\">01:49PM  </td><td align=\"left\"><div class=\"news-link-container\"><div class=\"news-link-left\"><a class=\"tab-link-news\" href=\"https://www.investopedia.com/cisco-csco-put-options-priced-for-low-risk-of-drop-5105080?utm_campaign=quote-yahoo&amp;utm_source=yahoo&amp;utm_medium=referral\" target=\"_blank\">Cisco (CSCO) Put Options Priced for Low Risk of Drop</a></div><div class=\"news-link-right\"><span style=\"color:#aa6dc0;font-size:9px\"> Investopedia</span></div></div></td></tr>\n",
      "<tr><td align=\"right\" width=\"130\">01:28PM  </td><td align=\"left\"><div class=\"news-link-container\"><div class=\"news-link-left\"><a class=\"tab-link-news\" href=\"https://www.investopedia.com/twitter-twtr-put-options-priced-for-low-risk-of-drop-5105066?utm_campaign=quote-yahoo&amp;utm_source=yahoo&amp;utm_medium=referral\" target=\"_blank\">Twitter (TWTR) Put Options Priced for Low Risk of Drop</a></div><div class=\"news-link-right\"><span style=\"color:#aa6dc0;font-size:9px\"> Investopedia</span></div></div></td></tr>\n",
      "<tr><td align=\"right\" width=\"130\">05:58AM  </td><td align=\"left\"><div class=\"news-link-container\"><div class=\"news-link-left\"><a class=\"tab-link-news\" href=\"https://finance.yahoo.com/news/stock-fall-better-than-expected-earnings-morning-brief-105810807.html\" target=\"_blank\">Stocks are being weird</a></div><div class=\"news-link-right\"><span style=\"color:#aa6dc0;font-size:9px\"> Yahoo Finance</span></div></div></td></tr>\n",
      "<tr><td align=\"right\" style=\"white-space:nowrap\" width=\"130\">Feb-05-21 01:10PM  </td><td align=\"left\"><div class=\"news-link-container\"><div class=\"news-link-left\"><a class=\"tab-link-news\" href=\"https://finance.yahoo.com/video/dow-p-500-nasdaq-pace-181056035.html\" target=\"_blank\">Berkshire Hathaway at record highs is flashing bullish signs for risk appetite: veteran trader</a></div><div class=\"news-link-right\"><span style=\"color:#aa6dc0;font-size:9px\"> Yahoo Finance Video</span></div></div></td></tr>\n",
      "<tr><td align=\"right\" width=\"130\">12:40PM  </td><td align=\"left\"><div class=\"news-link-container\"><div class=\"news-link-left\"><a class=\"tab-link-news\" href=\"https://finance.yahoo.com/news/economists-hope-the-disappointing-jobs-report-was-the-low-point-for-2021-174036448.html\" target=\"_blank\">Economists hope the disappointing jobs report was the low point for 2021</a></div><div class=\"news-link-right\"><span style=\"color:#aa6dc0;font-size:9px\"> Yahoo Finance</span></div></div></td></tr>\n",
      "<tr><td align=\"right\" width=\"130\">10:19AM  </td><td align=\"left\"><div class=\"news-link-container\"><div class=\"news-link-left\"><a class=\"tab-link-news\" href=\"https://www.investors.com/research/options/qqq-bullish-butterfly-options-trade/?src=A00220\" target=\"_blank\">QQQ Option Trade Could Reap The Rewards From Further Price Gains</a></div><div class=\"news-link-right\"><span style=\"color:#aa6dc0;font-size:9px\"> Investor's Business Daily</span></div></div></td></tr>\n",
      "<tr><td align=\"right\" style=\"white-space:nowrap\" width=\"130\">Feb-04-21 02:22PM  </td><td align=\"left\"><div class=\"news-link-container\"><div class=\"news-link-left\"><a class=\"tab-link-news\" href=\"https://finance.yahoo.com/news/the-sp-500-is-currently-mirroring-20082009-to-a-creepy-degree-veteran-hedge-funder-192216209.html\" target=\"_blank\">The S&amp;P 500 is currently mirroring 2009-2010 to a 'creepy' degree: veteran hedge funder</a></div><div class=\"news-link-right\"><span style=\"color:#aa6dc0;font-size:9px\"> Yahoo Finance</span></div></div></td></tr>\n",
      "<tr><td align=\"right\" width=\"130\">06:06AM  </td><td align=\"left\"><div class=\"news-link-container\"><div class=\"news-link-left\"><a class=\"tab-link-news\" href=\"https://finance.yahoo.com/news/economy-adp-private-payrolls-ism-services-improving-morning-brief-110606795.html\" target=\"_blank\">Things are looking up for the U.S. economy</a></div><div class=\"news-link-right\"><span style=\"color:#aa6dc0;font-size:9px\"> Yahoo Finance</span></div></div></td></tr>\n",
      "<tr><td align=\"right\" style=\"white-space:nowrap\" width=\"130\">Feb-03-21 03:37PM  </td><td align=\"left\"><div class=\"news-link-container\"><div class=\"news-link-left\"><a class=\"tab-link-news\" href=\"https://finance.yahoo.com/video/bezos-stepping-down-amazon-could-203756435.html\" target=\"_blank\">Heres what Bezos stepping down from Amazon could mean for ETFs</a></div><div class=\"news-link-right\"><span style=\"color:#aa6dc0;font-size:9px\"> Yahoo Finance Video</span></div></div></td></tr>\n",
      "<tr><td align=\"right\" width=\"130\">06:04AM  </td><td align=\"left\"><div class=\"news-link-container\"><div class=\"news-link-left\"><a class=\"tab-link-news\" href=\"https://finance.yahoo.com/news/hedge-funds-mudrick-silverlake-point72-gamestop-party-morning-brief-110406546.html\" target=\"_blank\">Sharks arrive at the GameStop party</a></div><div class=\"news-link-right\"><span style=\"color:#aa6dc0;font-size:9px\"> Yahoo Finance</span></div></div></td></tr>\n",
      "<tr><td align=\"right\" style=\"white-space:nowrap\" width=\"130\">Feb-02-21 05:59AM  </td><td align=\"left\"><div class=\"news-link-container\"><div class=\"news-link-left\"><a class=\"tab-link-news\" href=\"https://finance.yahoo.com/news/retail-favorite-stocks-outperforming-morning-brief-105941581.html\" target=\"_blank\">The retail rally is bigger than GameStop</a></div><div class=\"news-link-right\"><span style=\"color:#aa6dc0;font-size:9px\"> Yahoo Finance</span></div></div></td></tr>\n",
      "<tr><td align=\"right\" style=\"white-space:nowrap\" width=\"130\">Feb-01-21 05:59AM  </td><td align=\"left\"><div class=\"news-link-container\"><div class=\"news-link-left\"><a class=\"tab-link-news\" href=\"https://finance.yahoo.com/news/gamestop-wallstreetbets-reddit-market-risks-morning-brief-105917204.html\" target=\"_blank\">Investors aren't convinced the GameStop drama is a big deal</a></div><div class=\"news-link-right\"><span style=\"color:#aa6dc0;font-size:9px\"> Yahoo Finance</span></div></div></td></tr>\n",
      "<tr><td align=\"right\" style=\"white-space:nowrap\" width=\"130\">Jan-31-21 12:05PM  </td><td align=\"left\"><div class=\"news-link-container\"><div class=\"news-link-left\"><a class=\"tab-link-news\" href=\"https://finance.yahoo.com/news/amazon-and-alphabet-earnings-january-jobs-report-what-to-know-in-the-week-ahead-170537752.html\" target=\"_blank\">Amazon and Alphabet earnings, January jobs report: What to know in the week ahead</a></div><div class=\"news-link-right\"><span style=\"color:#aa6dc0;font-size:9px\"> Yahoo Finance</span></div></div></td></tr>\n",
      "<tr><td align=\"right\" style=\"white-space:nowrap\" width=\"130\">Jan-29-21 11:12AM  </td><td align=\"left\"><div class=\"news-link-container\"><div class=\"news-link-left\"><a class=\"tab-link-news\" href=\"https://www.marketwatch.com/story/microcap-stocks-have-been-soaring-here-are-two-strategies-for-investing-in-them-from-fund-managers-11611936724?siteid=yhoof2\" target=\"_blank\">Microcap stocks have been soaring  here are two strategies for investing in them from fund managers</a></div><div class=\"news-link-right\"><span style=\"color:#aa6dc0;font-size:9px\"> MarketWatch</span></div></div></td></tr>\n",
      "<tr><td align=\"right\" width=\"130\">06:00AM  </td><td align=\"left\"><div class=\"news-link-container\"><div class=\"news-link-left\"><a class=\"tab-link-news\" href=\"https://finance.yahoo.com/video/young-kenyan-entrepreneur-explains-why-110000096.html\" target=\"_blank\">Young Kenyan entrepreneur explains why he admires Bill Gates and Warren Buffett</a></div><div class=\"news-link-right\"><span style=\"color:#aa6dc0;font-size:9px\"> Yahoo Finance Video</span></div></div></td></tr>\n",
      "<tr><td align=\"right\" style=\"white-space:nowrap\" width=\"130\">Jan-27-21 09:49AM  </td><td align=\"left\"><div class=\"news-link-container\"><div class=\"news-link-left\"><a class=\"tab-link-news\" href=\"https://finance.yahoo.com/video/kenyan-tech-entrepreneur-explains-why-144921570.html\" target=\"_blank\">Kenyan tech entrepreneur explains why he turned down a scholarship to Harvard</a></div><div class=\"news-link-right\"><span style=\"color:#aa6dc0;font-size:9px\"> Yahoo Finance Video</span></div></div></td></tr>\n",
      "<tr><td align=\"right\" width=\"130\">07:00AM  </td><td align=\"left\"><div class=\"news-link-container\"><div class=\"news-link-left\"><a class=\"tab-link-news\" href=\"https://finance.yahoo.com/video/influencers-andy-serwer-mubarak-muyika-120000412.html\" target=\"_blank\">Influencers with Andy Serwer: Mubarak Muyika</a></div><div class=\"news-link-right\"><span style=\"color:#aa6dc0;font-size:9px\"> Yahoo Finance Video</span></div></div></td></tr>\n",
      "<tr><td align=\"right\" width=\"130\">02:05AM  </td><td align=\"left\"><div class=\"news-link-container\"><div class=\"news-link-left\"><a class=\"tab-link-news\" href=\"https://finance.yahoo.com/news/reddit-rally-fed-meeting-tesla-070551657.html\" target=\"_blank\">Reddit Rally, Fed Meeting, Tesla, Apple Earnings - What's up in Markets</a></div><div class=\"news-link-right\"><span style=\"color:#aa6dc0;font-size:9px\"> Investing.com</span></div></div></td></tr>\n",
      "<tr><td align=\"right\" style=\"white-space:nowrap\" width=\"130\">Jan-25-21 06:12AM  </td><td align=\"left\"><div class=\"news-link-container\"><div class=\"news-link-left\"><a class=\"tab-link-news\" href=\"https://finance.yahoo.com/news/q4-2020-earnings-beating-expectations-by-historic-margin-morning-brief-111240817.html\" target=\"_blank\">Earnings are beating expectations by a massive margin</a></div><div class=\"news-link-right\"><span style=\"color:#aa6dc0;font-size:9px\"> Yahoo Finance</span></div></div></td></tr>\n",
      "<tr><td align=\"right\" style=\"white-space:nowrap\" width=\"130\">Jan-22-21 04:39PM  </td><td align=\"left\"><div class=\"news-link-container\"><div class=\"news-link-left\"><a class=\"tab-link-news\" href=\"https://finance.yahoo.com/video/teslas-too-high-buy-now-213933652.html\" target=\"_blank\">Tesla's too high to buy now; Beyond Meat perking up; GameStop shorts feeling pain: veteran trader</a></div><div class=\"news-link-right\"><span style=\"color:#aa6dc0;font-size:9px\"> Yahoo Finance Video</span></div></div></td></tr>\n",
      "<tr><td align=\"right\" width=\"130\">06:11AM  </td><td align=\"left\"><div class=\"news-link-container\"><div class=\"news-link-left\"><a class=\"tab-link-news\" href=\"https://finance.yahoo.com/news/housing-market-caps-off-historic-year-morning-brief-111157492.html\" target=\"_blank\">The housing market caps off a historic year</a></div><div class=\"news-link-right\"><span style=\"color:#aa6dc0;font-size:9px\"> Yahoo Finance</span></div></div></td></tr>\n",
      "<tr><td align=\"right\" style=\"white-space:nowrap\" width=\"130\">Jan-21-21 05:59AM  </td><td align=\"left\"><div class=\"news-link-container\"><div class=\"news-link-left\"><a class=\"tab-link-news\" href=\"https://finance.yahoo.com/news/stocks-usually-go-up-morning-brief-105941581.html\" target=\"_blank\">Stocks usually go up</a></div><div class=\"news-link-right\"><span style=\"color:#aa6dc0;font-size:9px\"> Yahoo Finance</span></div></div></td></tr>\n",
      "<tr><td align=\"right\" style=\"white-space:nowrap\" width=\"130\">Jan-20-21 12:38PM  </td><td align=\"left\"><div class=\"news-link-container\"><div class=\"news-link-left\"><a class=\"tab-link-news\" href=\"https://finance.yahoo.com/news/wall-street-is-in-its-riskiest-mindset-in-20-years-bof-a-survey-173833420.html\" target=\"_blank\">Wall Street is in its riskiest mindset in 20 years: BofA survey</a></div><div class=\"news-link-right\"><span style=\"color:#aa6dc0;font-size:9px\"> Yahoo Finance</span></div></div></td></tr>\n",
      "<tr><td align=\"right\" width=\"130\">08:00AM  </td><td align=\"left\"><div class=\"news-link-container\"><div class=\"news-link-left\"><a class=\"tab-link-news\" href=\"https://www.investors.com/etfs-and-funds/sectors/sp500-top-nasdaq-stocks-are-already-beating-the-market-by-15x/?src=A00220\" target=\"_blank\">9 Top Nasdaq Stocks Are Already Beating The Market By 15X</a></div><div class=\"news-link-right\"><span style=\"color:#aa6dc0;font-size:9px\"> Investor's Business Daily</span></div></div></td></tr>\n",
      "<tr><td align=\"right\" width=\"130\">05:59AM  </td><td align=\"left\"><div class=\"news-link-container\"><div class=\"news-link-left\"><a class=\"tab-link-news\" href=\"https://finance.yahoo.com/news/investors-never-more-excited-about-small-caps-morning-brief-105933560.html\" target=\"_blank\">Investors have never been more excited about small caps</a></div><div class=\"news-link-right\"><span style=\"color:#aa6dc0;font-size:9px\"> Yahoo Finance</span></div></div></td></tr>\n",
      "<tr><td align=\"right\" style=\"white-space:nowrap\" width=\"130\">Jan-19-21 08:42AM  </td><td align=\"left\"><div class=\"news-link-container\"><div class=\"news-link-left\"><a class=\"tab-link-news\" href=\"https://www.investopedia.com/what-warren-buffett-learned-early-on-about-investing-5095946?utm_campaign=quote-yahoo&amp;utm_source=yahoo&amp;utm_medium=referral\" target=\"_blank\">What Warren Buffett Learned Early On About Investing</a></div><div class=\"news-link-right\"><span style=\"color:#aa6dc0;font-size:9px\"> Investopedia</span></div></div></td></tr>\n",
      "<tr><td align=\"right\" width=\"130\">06:06AM  </td><td align=\"left\"><div class=\"news-link-container\"><div class=\"news-link-left\"><a class=\"tab-link-news\" href=\"https://finance.yahoo.com/news/stock-market-could-double-twice-by-2040-morning-brief-110629429.html\" target=\"_blank\">Why the stock market could double twice by 2040</a></div><div class=\"news-link-right\"><span style=\"color:#aa6dc0;font-size:9px\"> Yahoo Finance</span></div></div></td></tr>\n",
      "<tr><td align=\"right\" style=\"white-space:nowrap\" width=\"130\">Jan-15-21 04:03PM  </td><td align=\"left\"><div class=\"news-link-container\"><div class=\"news-link-left\"><a class=\"tab-link-news\" href=\"https://finance.yahoo.com/news/stock-market-news-live-updates-january-15-2021-231400807.html\" target=\"_blank\">Stock market news live updates: Stocks fall for back-to-back sessions, S&amp;P 500 posts weekly loss of more than 1%</a></div><div class=\"news-link-right\"><span style=\"color:#aa6dc0;font-size:9px\"> Yahoo Finance</span></div></div></td></tr>\n",
      "<tr><td align=\"right\" width=\"130\">06:11AM  </td><td align=\"left\"><div class=\"news-link-container\"><div class=\"news-link-left\"><a class=\"tab-link-news\" href=\"https://finance.yahoo.com/news/spacs-new-part-of-same-market-bubble-story-morning-brief-111159953.html\" target=\"_blank\">SPACs are a new part of the same market story</a></div><div class=\"news-link-right\"><span style=\"color:#aa6dc0;font-size:9px\"> Yahoo Finance</span></div></div></td></tr>\n",
      "<tr><td align=\"right\" style=\"white-space:nowrap\" width=\"130\">Jan-14-21 10:18AM  </td><td align=\"left\"><div class=\"news-link-container\"><div class=\"news-link-left\"><a class=\"tab-link-news\" href=\"https://finance.yahoo.com/news/jobless-claims-spike-965k-highest-151803595.html\" target=\"_blank\">Jobless Claims Spike to 965K, Highest Since Late Spring</a></div><div class=\"news-link-right\"><span style=\"color:#aa6dc0;font-size:9px\"> Zacks</span></div></div></td></tr>\n",
      "<tr><td align=\"right\" width=\"130\">09:00AM  </td><td align=\"left\"><div class=\"news-link-container\"><div class=\"news-link-left\"><a class=\"tab-link-news\" href=\"https://finance.yahoo.com/news/newest-etfs-invesco-qqq-innovation-140000378.html\" target=\"_blank\">Newest ETFs in the Invesco QQQ Innovation Suite Generate $1 billion in Assets Under Management</a></div><div class=\"news-link-right\"><span style=\"color:#aa6dc0;font-size:9px\"> PR Newswire</span></div></div></td></tr>\n",
      "<tr><td align=\"right\" width=\"130\">08:31AM  </td><td align=\"left\"><div class=\"news-link-container\"><div class=\"news-link-left\"><a class=\"tab-link-news\" href=\"https://finance.yahoo.com/news/initial-jobless-claims-week-ended-jan-9-2021-coronavirus-pandemic-191640522.html\" target=\"_blank\">Jobless claims: Another 965,000 Americans filed new unemployment claims last week</a></div><div class=\"news-link-right\"><span style=\"color:#aa6dc0;font-size:9px\"> Yahoo Finance</span></div></div></td></tr>\n",
      "<tr><td align=\"right\" width=\"130\">08:29AM  </td><td align=\"left\"><div class=\"news-link-container\"><div class=\"news-link-left\"><a class=\"tab-link-news\" href=\"https://finance.yahoo.com/video/premium-roadmap-trading-profitably-consistently-132900873.html\" target=\"_blank\">PREMIUM: A roadmap to trading profitably and consistently in 2021 with JC Parets</a></div><div class=\"news-link-right\"><span style=\"color:#aa6dc0;font-size:9px\"> Yahoo Finance Video</span></div></div></td></tr>\n",
      "<tr><td align=\"right\" width=\"130\">06:00AM  </td><td align=\"left\"><div class=\"news-link-container\"><div class=\"news-link-left\"><a class=\"tab-link-news\" href=\"https://finance.yahoo.com/video/influencers-andy-serwer-haim-saban-110000035.html\" target=\"_blank\">Influencers with Andy Serwer: Haim Saban</a></div><div class=\"news-link-right\"><span style=\"color:#aa6dc0;font-size:9px\"> Yahoo Finance Video</span></div></div></td></tr>\n",
      "<tr><td align=\"right\" style=\"white-space:nowrap\" width=\"130\">Jan-13-21 04:07PM  </td><td align=\"left\"><div class=\"news-link-container\"><div class=\"news-link-left\"><a class=\"tab-link-news\" href=\"https://finance.yahoo.com/news/stock-market-news-live-updates-january-13-2021-231538873.html\" target=\"_blank\">Stock market news live updates: S&amp;P 500, Nasdaq post back-to-back sessions of gains</a></div><div class=\"news-link-right\"><span style=\"color:#aa6dc0;font-size:9px\"> Yahoo Finance</span></div></div></td></tr>\n",
      "<tr><td align=\"right\" width=\"130\">09:25AM  </td><td align=\"left\"><div class=\"news-link-container\"><div class=\"news-link-left\"><a class=\"tab-link-news\" href=\"https://finance.yahoo.com/news/intel-ceo-bob-swan-reportedly-set-to-depart-in-february-to-be-replaced-with-vm-wares-pat-gelsinger-142520631.html\" target=\"_blank\">Intel CEO Bob Swan to be replaced with VMWare's Pat Gelsinger</a></div><div class=\"news-link-right\"><span style=\"color:#aa6dc0;font-size:9px\"> Yahoo Finance</span></div></div></td></tr>\n",
      "<tr><td align=\"right\" style=\"white-space:nowrap\" width=\"130\">Jan-12-21 11:58AM  </td><td align=\"left\"><div class=\"news-link-container\"><div class=\"news-link-left\"><a class=\"tab-link-news\" href=\"https://finance.yahoo.com/news/if-you-dont-own-amazon-stock-youre-actually-short-veteran-trader-165832274.html\" target=\"_blank\">If you don't own Amazon stock, 'you're actually short': veteran trader</a></div><div class=\"news-link-right\"><span style=\"color:#aa6dc0;font-size:9px\"> Yahoo Finance</span></div></div></td></tr>\n",
      "</table>}\n"
     ]
    }
   ],
   "source": [
    "print(news_tables)"
   ]
  },
  {
   "cell_type": "markdown",
   "metadata": {},
   "source": [
    "### Starting scratch code to parse the text from the webpage"
   ]
  },
  {
   "cell_type": "code",
   "execution_count": 100,
   "metadata": {},
   "outputs": [],
   "source": [
    "# testing code on QQQ\n",
    "\n",
    "qqq_data = news_tables['QQQ']    \n",
    "qqq_rows = qqq_data.find_all('tr')"
   ]
  },
  {
   "cell_type": "code",
   "execution_count": 101,
   "metadata": {},
   "outputs": [
    {
     "data": {
      "text/plain": [
       "[<tr><td align=\"right\" style=\"white-space:nowrap\" width=\"130\">Mar-12-21 09:34AM  </td><td align=\"left\"><div class=\"news-link-container\"><div class=\"news-link-left\"><a class=\"tab-link-news\" href=\"https://finance.yahoo.com/news/stock-market-news-live-updates-march-12-2021-231228213.html\" target=\"_blank\">Stock market news live updates: Stocks mixed after record-setting rally, tech stocks slide as Treasury yields climb</a></div><div class=\"news-link-right\"><span style=\"color:#aa6dc0;font-size:9px\"> Yahoo Finance</span></div></div></td></tr>,\n",
       " <tr><td align=\"right\" width=\"130\">06:01AM  </td><td align=\"left\"><div class=\"news-link-container\"><div class=\"news-link-left\"><a class=\"tab-link-news\" href=\"https://finance.yahoo.com/news/stock-market-record-high-coronavirus-one-year-morning-brief-110109977.html\" target=\"_blank\">Record highs, one year later: Morning Brief</a></div><div class=\"news-link-right\"><span style=\"color:#aa6dc0;font-size:9px\"> Yahoo Finance</span></div></div></td></tr>,\n",
       " <tr><td align=\"right\" style=\"white-space:nowrap\" width=\"130\">Mar-11-21 04:02PM  </td><td align=\"left\"><div class=\"news-link-container\"><div class=\"news-link-left\"><a class=\"tab-link-news\" href=\"https://finance.yahoo.com/news/stock-market-news-live-updates-march-11-2021-231439220.html\" target=\"_blank\">Stock market news live updates: Dow, S&amp;P 500 set records, tech and Bitcoin soar as Biden stimulus signing feeds risk rally</a></div><div class=\"news-link-right\"><span style=\"color:#aa6dc0;font-size:9px\"> Yahoo Finance</span></div></div></td></tr>,\n",
       " <tr><td align=\"right\" width=\"130\">05:57AM  </td><td align=\"left\"><div class=\"news-link-container\"><div class=\"news-link-left\"><a class=\"tab-link-news\" href=\"https://finance.yahoo.com/news/inflation-is-a-process-morning-brief-105703186.html\" target=\"_blank\">'Inflation is a process'</a></div><div class=\"news-link-right\"><span style=\"color:#aa6dc0;font-size:9px\"> Yahoo Finance</span></div></div></td></tr>,\n",
       " <tr><td align=\"right\" style=\"white-space:nowrap\" width=\"130\">Mar-10-21 11:03AM  </td><td align=\"left\"><div class=\"news-link-container\"><div class=\"news-link-left\"><a class=\"tab-link-news\" href=\"https://finance.yahoo.com/news/girls-who-code-ceo-on-women-in-tech-were-not-getting-hired-or-supported-160345409.html\" target=\"_blank\">Girls Who Code CEO on women in tech: We're not getting hired, or supported</a></div><div class=\"news-link-right\"><span style=\"color:#aa6dc0;font-size:9px\"> Yahoo Finance</span></div></div></td></tr>,\n",
       " <tr><td align=\"right\" width=\"130\">06:03AM  </td><td align=\"left\"><div class=\"news-link-container\"><div class=\"news-link-left\"><a class=\"tab-link-news\" href=\"https://finance.yahoo.com/news/everybody-bought-stocks-last-week-morning-brief-110346583.html\" target=\"_blank\">Dip buyers were out in full force</a></div><div class=\"news-link-right\"><span style=\"color:#aa6dc0;font-size:9px\"> Yahoo Finance</span></div></div></td></tr>,\n",
       " <tr><td align=\"right\" style=\"white-space:nowrap\" width=\"130\">Mar-09-21 05:55AM  </td><td align=\"left\"><div class=\"news-link-container\"><div class=\"news-link-left\"><a class=\"tab-link-news\" href=\"https://finance.yahoo.com/news/reopening-trade-rotation-morning-brief-105527836.html\" target=\"_blank\">New day, same story</a></div><div class=\"news-link-right\"><span style=\"color:#aa6dc0;font-size:9px\"> Yahoo Finance</span></div></div></td></tr>,\n",
       " <tr><td align=\"right\" style=\"white-space:nowrap\" width=\"130\">Mar-08-21 10:26AM  </td><td align=\"left\"><div class=\"news-link-container\"><div class=\"news-link-left\"><a class=\"tab-link-news\" href=\"https://finance.yahoo.com/news/glossary-federal-reserves-emergency-measures-coronavirus-bazookas-120337473.html\" target=\"_blank\">A glossary of the Federal Reserve's full arsenal of 'bazookas'</a></div><div class=\"news-link-right\"><span style=\"color:#aa6dc0;font-size:9px\"> Yahoo Finance</span></div></div></td></tr>,\n",
       " <tr><td align=\"right\" width=\"130\">05:55AM  </td><td align=\"left\"><div class=\"news-link-container\"><div class=\"news-link-left\"><a class=\"tab-link-news\" href=\"https://finance.yahoo.com/news/stock-market-implications-rising-interest-rates-morning-brief-105525383.html\" target=\"_blank\">Rising interest rates are a good sign for stocks</a></div><div class=\"news-link-right\"><span style=\"color:#aa6dc0;font-size:9px\"> Yahoo Finance</span></div></div></td></tr>,\n",
       " <tr><td align=\"right\" style=\"white-space:nowrap\" width=\"130\">Mar-07-21 08:55AM  </td><td align=\"left\"><div class=\"news-link-container\"><div class=\"news-link-left\"><a class=\"tab-link-news\" href=\"https://finance.yahoo.com/news/roblox-goes-public-consumer-price-index-what-to-know-in-the-week-ahead-135554089.html\" target=\"_blank\">Roblox goes public, inflation data: What to know in the week ahead</a></div><div class=\"news-link-right\"><span style=\"color:#aa6dc0;font-size:9px\"> Yahoo Finance</span></div></div></td></tr>,\n",
       " <tr><td align=\"right\" style=\"white-space:nowrap\" width=\"130\">Mar-05-21 01:08PM  </td><td align=\"left\"><div class=\"news-link-container\"><div class=\"news-link-left\"><a class=\"tab-link-news\" href=\"https://www.investors.com/etfs-and-funds/sectors/nasdaq-stocks-sp500-gone-implosion-gets-really-expensive/?src=A00220\" target=\"_blank\">$1.6 Trillion Gone: Nasdaq Stock Implosion Gets Ugly</a></div><div class=\"news-link-right\"><span style=\"color:#aa6dc0;font-size:9px\"> Investor's Business Daily</span></div></div></td></tr>,\n",
       " <tr><td align=\"right\" width=\"130\">12:40PM  </td><td align=\"left\"><div class=\"news-link-container\"><div class=\"news-link-left\"><a class=\"tab-link-news\" href=\"https://finance.yahoo.com/video/heres-why-tech-getting-whacked-174002674.html\" target=\"_blank\">Here's why tech is getting whacked while Buffett's Berkshire Hathaway and Chevron are surging: Trader</a></div><div class=\"news-link-right\"><span style=\"color:#aa6dc0;font-size:9px\"> Yahoo Finance Video</span></div></div></td></tr>,\n",
       " <tr><td align=\"right\" width=\"130\">10:29AM  </td><td align=\"left\"><div class=\"news-link-container\"><div class=\"news-link-left\"><a class=\"tab-link-news\" href=\"https://www.investors.com/research/options/qqq-etf-iron-condor-options-trade/?src=A00220\" target=\"_blank\">QQQ Option Trade Idea When Volatility Is High</a></div><div class=\"news-link-right\"><span style=\"color:#aa6dc0;font-size:9px\"> Investor's Business Daily</span></div></div></td></tr>,\n",
       " <tr><td align=\"right\" width=\"130\">09:00AM  </td><td align=\"left\"><div class=\"news-link-container\"><div class=\"news-link-left\"><a class=\"tab-link-news\" href=\"https://finance.yahoo.com/video/youre-getting-tax-refund-something-140000475.html\" target=\"_blank\">If you're getting a tax refund, something is radically wrong: Suze Orman</a></div><div class=\"news-link-right\"><span style=\"color:#aa6dc0;font-size:9px\"> Yahoo Finance Video</span></div></div></td></tr>,\n",
       " <tr><td align=\"right\" width=\"130\">08:30AM  </td><td align=\"left\"><div class=\"news-link-container\"><div class=\"news-link-left\"><a class=\"tab-link-news\" href=\"https://finance.yahoo.com/news/february-jobs-report-labor-department-unemployment-pandemic-192526748.html\" target=\"_blank\">February jobs report: Economy adds 379,000 payrolls, unemployment rate falls to 6.2%</a></div><div class=\"news-link-right\"><span style=\"color:#aa6dc0;font-size:9px\"> Yahoo Finance</span></div></div></td></tr>,\n",
       " <tr><td align=\"right\" width=\"130\">06:01AM  </td><td align=\"left\"><div class=\"news-link-container\"><div class=\"news-link-left\"><a class=\"tab-link-news\" href=\"https://finance.yahoo.com/news/seniors-returning-to-air-travel-morning-brief-110150405.html\" target=\"_blank\">Seniors are rushing to get back on planes</a></div><div class=\"news-link-right\"><span style=\"color:#aa6dc0;font-size:9px\"> Yahoo Finance</span></div></div></td></tr>,\n",
       " <tr><td align=\"right\" style=\"white-space:nowrap\" width=\"130\">Mar-04-21 10:29AM  </td><td align=\"left\"><div class=\"news-link-container\"><div class=\"news-link-left\"><a class=\"tab-link-news\" href=\"https://finance.yahoo.com/news/jobless-claims-bump-week-over-152903367.html\" target=\"_blank\">Jobless Claims Bump Up Week Over Week: 745K</a></div><div class=\"news-link-right\"><span style=\"color:#aa6dc0;font-size:9px\"> Zacks</span></div></div></td></tr>,\n",
       " <tr><td align=\"right\" width=\"130\">07:55AM  </td><td align=\"left\"><div class=\"news-link-container\"><div class=\"news-link-left\"><a class=\"tab-link-news\" href=\"https://finance.yahoo.com/video/premium-trading-profitably-prudently-world-125500913.html\" target=\"_blank\">PREMIUM: Trading profitably and prudently as the world reopens</a></div><div class=\"news-link-right\"><span style=\"color:#aa6dc0;font-size:9px\"> Yahoo Finance Video</span></div></div></td></tr>,\n",
       " <tr><td align=\"right\" width=\"130\">07:17AM  </td><td align=\"left\"><div class=\"news-link-container\"><div class=\"news-link-left\"><a class=\"tab-link-news\" href=\"https://finance.yahoo.com/news/stock-market-news-live-updates-march-4-2021-231156206.html\" target=\"_blank\">Stock market news live updates: Stock futures edge lower, extending losses after tech-led selloff</a></div><div class=\"news-link-right\"><span style=\"color:#aa6dc0;font-size:9px\"> Yahoo Finance</span></div></div></td></tr>,\n",
       " <tr><td align=\"right\" width=\"130\">06:00AM  </td><td align=\"left\"><div class=\"news-link-container\"><div class=\"news-link-left\"><a class=\"tab-link-news\" href=\"https://finance.yahoo.com/video/influencers-andy-serwer-suze-orman-110000318.html\" target=\"_blank\">Influencers with Andy Serwer: Suze Orman</a></div><div class=\"news-link-right\"><span style=\"color:#aa6dc0;font-size:9px\"> Yahoo Finance Video</span></div></div></td></tr>,\n",
       " <tr><td align=\"right\" width=\"130\">05:54AM  </td><td align=\"left\"><div class=\"news-link-container\"><div class=\"news-link-left\"><a class=\"tab-link-news\" href=\"https://finance.yahoo.com/news/re-opening-rotation-rocking-the-market-morning-brief-105403540.html\" target=\"_blank\">Re-opening rotation trades are rocking the market: Morning Brief</a></div><div class=\"news-link-right\"><span style=\"color:#aa6dc0;font-size:9px\"> Yahoo Finance</span></div></div></td></tr>,\n",
       " <tr><td align=\"right\" width=\"130\">05:00AM  </td><td align=\"left\"><div class=\"news-link-container\"><div class=\"news-link-left\"><a class=\"tab-link-news\" href=\"https://finance.yahoo.com/video/suze-orman-americans-save-stimulus-100000797.html\" target=\"_blank\">Suze Orman: Americans should save their stimulus money</a></div><div class=\"news-link-right\"><span style=\"color:#aa6dc0;font-size:9px\"> Yahoo Finance Video</span></div></div></td></tr>,\n",
       " <tr><td align=\"right\" style=\"white-space:nowrap\" width=\"130\">Mar-03-21 04:00PM  </td><td align=\"left\"><div class=\"news-link-container\"><div class=\"news-link-left\"><a class=\"tab-link-news\" href=\"https://finance.yahoo.com/news/stock-market-news-live-updates-march-3-2021-231939919.html\" target=\"_blank\">Stock market news live updates: Stocks end lower, Nasdaq slides by 2.7% as tech stocks sink further amid rising rates</a></div><div class=\"news-link-right\"><span style=\"color:#aa6dc0;font-size:9px\"> Yahoo Finance</span></div></div></td></tr>,\n",
       " <tr><td align=\"right\" width=\"130\">01:57PM  </td><td align=\"left\"><div class=\"news-link-container\"><div class=\"news-link-left\"><a class=\"tab-link-news\" href=\"https://www.investopedia.com/who-are-the-etf-giants-4691723?utm_campaign=quote-yahoo&amp;utm_source=yahoo&amp;utm_medium=referral\" target=\"_blank\">Who Are the ETF Giants?</a></div><div class=\"news-link-right\"><span style=\"color:#aa6dc0;font-size:9px\"> Investopedia</span></div></div></td></tr>,\n",
       " <tr><td align=\"right\" width=\"130\">08:15AM  </td><td align=\"left\"><div class=\"news-link-container\"><div class=\"news-link-left\"><a class=\"tab-link-news\" href=\"https://finance.yahoo.com/news/adp-private-employment-payrolls-change-february-2021-131527071.html\" target=\"_blank\">Private employers added back 117,000 jobs in February, missing expectations: ADP</a></div><div class=\"news-link-right\"><span style=\"color:#aa6dc0;font-size:9px\"> Yahoo Finance</span></div></div></td></tr>,\n",
       " <tr><td align=\"right\" width=\"130\">06:01AM  </td><td align=\"left\"><div class=\"news-link-container\"><div class=\"news-link-left\"><a class=\"tab-link-news\" href=\"https://finance.yahoo.com/news/spacs-700-billion-market-2021-goldman-sachs-morning-brief-110126053.html\" target=\"_blank\">SPACs are now a $700 billion market</a></div><div class=\"news-link-right\"><span style=\"color:#aa6dc0;font-size:9px\"> Yahoo Finance</span></div></div></td></tr>,\n",
       " <tr><td align=\"right\" style=\"white-space:nowrap\" width=\"130\">Mar-02-21 04:00PM  </td><td align=\"left\"><div class=\"news-link-container\"><div class=\"news-link-left\"><a class=\"tab-link-news\" href=\"https://finance.yahoo.com/news/stock-market-news-live-updates-march-2-2021-233020700.html\" target=\"_blank\">Stock market news live updates: Stocks retreat after S&amp;P 500's best session since June</a></div><div class=\"news-link-right\"><span style=\"color:#aa6dc0;font-size:9px\"> Yahoo Finance</span></div></div></td></tr>,\n",
       " <tr><td align=\"right\" width=\"130\">06:02AM  </td><td align=\"left\"><div class=\"news-link-container\"><div class=\"news-link-left\"><a class=\"tab-link-news\" href=\"https://finance.yahoo.com/news/american-manufacturing-roar-back-morning-brief-110228696.html\" target=\"_blank\">American manufacturing is roaring back</a></div><div class=\"news-link-right\"><span style=\"color:#aa6dc0;font-size:9px\"> Yahoo Finance</span></div></div></td></tr>,\n",
       " <tr><td align=\"right\" style=\"white-space:nowrap\" width=\"130\">Mar-01-21 04:00PM  </td><td align=\"left\"><div class=\"news-link-container\"><div class=\"news-link-left\"><a class=\"tab-link-news\" href=\"https://finance.yahoo.com/news/stock-market-news-live-updates-march-1-2021-121948412.html\" target=\"_blank\">Stock market news live updates: Stocks rally as tech shares rebound, S&amp;P 500 jumps 2.4% in best session since June 2020</a></div><div class=\"news-link-right\"><span style=\"color:#aa6dc0;font-size:9px\"> Yahoo Finance</span></div></div></td></tr>,\n",
       " <tr><td align=\"right\" width=\"130\">01:39PM  </td><td align=\"left\"><div class=\"news-link-container\"><div class=\"news-link-left\"><a class=\"tab-link-news\" href=\"https://finance.yahoo.com/news/this-closely-watched-stock-market-indicator-nears-a-sell-signal-183927948.html\" target=\"_blank\">This closely watched stock market indicator nears a sell signal</a></div><div class=\"news-link-right\"><span style=\"color:#aa6dc0;font-size:9px\"> Yahoo Finance</span></div></div></td></tr>,\n",
       " <tr><td align=\"right\" width=\"130\">06:38AM  </td><td align=\"left\"><div class=\"news-link-container\"><div class=\"news-link-left\"><a class=\"tab-link-news\" href=\"https://finance.yahoo.com/news/the-truth-about-warren-buffetts-investment-track-record-morning-brief-113829049.html\" target=\"_blank\">The truth about Warren Buffetts investment track record</a></div><div class=\"news-link-right\"><span style=\"color:#aa6dc0;font-size:9px\"> Yahoo Finance</span></div></div></td></tr>,\n",
       " <tr><td align=\"right\" style=\"white-space:nowrap\" width=\"130\">Feb-28-21 08:52AM  </td><td align=\"left\"><div class=\"news-link-container\"><div class=\"news-link-left\"><a class=\"tab-link-news\" href=\"https://finance.yahoo.com/news/february-jobs-report-zoom-earnings-what-to-know-in-the-week-ahead-135224254.html\" target=\"_blank\">February jobs report, Zoom earnings: What to know in the week ahead</a></div><div class=\"news-link-right\"><span style=\"color:#aa6dc0;font-size:9px\"> Yahoo Finance</span></div></div></td></tr>,\n",
       " <tr><td align=\"right\" style=\"white-space:nowrap\" width=\"130\">Feb-26-21 06:05AM  </td><td align=\"left\"><div class=\"news-link-container\"><div class=\"news-link-left\"><a class=\"tab-link-news\" href=\"https://finance.yahoo.com/news/retail-traders-say-theyre-not-going-anywhere-morning-brief-110514430.html\" target=\"_blank\">Retail traders say they're not going anywhere</a></div><div class=\"news-link-right\"><span style=\"color:#aa6dc0;font-size:9px\"> Yahoo Finance</span></div></div></td></tr>,\n",
       " <tr><td align=\"right\" width=\"130\">06:00AM  </td><td align=\"left\"><div class=\"news-link-container\"><div class=\"news-link-left\"><a class=\"tab-link-news\" href=\"https://finance.yahoo.com/video/yf-spotlight-american-educators-search-110000575.html\" target=\"_blank\">YF Spotlight: American educators search for common ground on school reopening</a></div><div class=\"news-link-right\"><span style=\"color:#aa6dc0;font-size:9px\"> Yahoo Finance Video</span></div></div></td></tr>,\n",
       " <tr><td align=\"right\" style=\"white-space:nowrap\" width=\"130\">Feb-25-21 04:41PM  </td><td align=\"left\"><div class=\"news-link-container\"><div class=\"news-link-left\"><a class=\"tab-link-news\" href=\"https://www.marketwatch.com/story/these-nasdaq-100-stocks-fell-the-most-on-feb-25-11614289288?siteid=yhoof2\" target=\"_blank\">These Nasdaq 100 stocks fell the most on Feb. 25</a></div><div class=\"news-link-right\"><span style=\"color:#aa6dc0;font-size:9px\"> MarketWatch</span></div></div></td></tr>,\n",
       " <tr><td align=\"right\" width=\"130\">04:03PM  </td><td align=\"left\"><div class=\"news-link-container\"><div class=\"news-link-left\"><a class=\"tab-link-news\" href=\"https://finance.yahoo.com/news/stock-market-news-live-updates-february-25-2021-231353607.html\" target=\"_blank\">Stock market news live updates: Stocks drop, Nasdaq posts worst session since October as tech rout deepens</a></div><div class=\"news-link-right\"><span style=\"color:#aa6dc0;font-size:9px\"> Yahoo Finance</span></div></div></td></tr>,\n",
       " <tr><td align=\"right\" width=\"130\">06:00AM  </td><td align=\"left\"><div class=\"news-link-container\"><div class=\"news-link-left\"><a class=\"tab-link-news\" href=\"https://finance.yahoo.com/video/dont-miss-glamour-hollywood-legendary-110000708.html\" target=\"_blank\">'I don't' miss the glamour of Hollywood: Legendary Entertainment founder</a></div><div class=\"news-link-right\"><span style=\"color:#aa6dc0;font-size:9px\"> Yahoo Finance Video</span></div></div></td></tr>,\n",
       " <tr><td align=\"right\" style=\"white-space:nowrap\" width=\"130\">Feb-24-21 12:55PM  </td><td align=\"left\"><div class=\"news-link-container\"><div class=\"news-link-left\"><a class=\"tab-link-news\" href=\"https://www.marketwatch.com/story/this-stock-fund-may-be-for-you-if-you-want-to-sleep-well-at-night-and-still-make-money-11614189304?siteid=yhoof2\" target=\"_blank\">This stock fund may be for you if you want to sleep well at night and still make money</a></div><div class=\"news-link-right\"><span style=\"color:#aa6dc0;font-size:9px\"> MarketWatch</span></div></div></td></tr>,\n",
       " <tr><td align=\"right\" width=\"130\">11:12AM  </td><td align=\"left\"><div class=\"news-link-container\"><div class=\"news-link-left\"><a class=\"tab-link-news\" href=\"https://finance.yahoo.com/news/stock-market-news-live-updates-february-24-2021-231348929.html\" target=\"_blank\">Stock market news live updates: Dow rallies to reach record high as tech stocks recover losses</a></div><div class=\"news-link-right\"><span style=\"color:#aa6dc0;font-size:9px\"> Yahoo Finance</span></div></div></td></tr>,\n",
       " <tr><td align=\"right\" style=\"white-space:nowrap\" width=\"130\">Feb-23-21 09:35AM  </td><td align=\"left\"><div class=\"news-link-container\"><div class=\"news-link-left\"><a class=\"tab-link-news\" href=\"https://finance.yahoo.com/news/credit-suisse-strategist-boosts-his-2021-sp-500-target-for-a-second-time-143552459.html\" target=\"_blank\">Top Wall St strategist boosts his 2021 S&amp;P 500 target for a second time</a></div><div class=\"news-link-right\"><span style=\"color:#aa6dc0;font-size:9px\"> Yahoo Finance</span></div></div></td></tr>,\n",
       " <tr><td align=\"right\" style=\"white-space:nowrap\" width=\"130\">Feb-22-21 11:39AM  </td><td align=\"left\"><div class=\"news-link-container\"><div class=\"news-link-left\"><a class=\"tab-link-news\" href=\"https://finance.yahoo.com/news/stock-market-news-live-updates-february-22-2021-231227640-122203922.html\" target=\"_blank\">Stock market news live updates: Stocks drift as yields rise, inflation concerns mount</a></div><div class=\"news-link-right\"><span style=\"color:#aa6dc0;font-size:9px\"> Yahoo Finance</span></div></div></td></tr>,\n",
       " <tr><td align=\"right\" width=\"130\">06:20AM  </td><td align=\"left\"><div class=\"news-link-container\"><div class=\"news-link-left\"><a class=\"tab-link-news\" href=\"https://finance.yahoo.com/news/stock-market-investor-lessons-coronavirus-pandemic-one-year-later-morning-brief-112011081.html\" target=\"_blank\">2 timeless lessons for investors from the past year</a></div><div class=\"news-link-right\"><span style=\"color:#aa6dc0;font-size:9px\"> Yahoo Finance</span></div></div></td></tr>,\n",
       " <tr><td align=\"right\" style=\"white-space:nowrap\" width=\"130\">Feb-19-21 06:00AM  </td><td align=\"left\"><div class=\"news-link-container\"><div class=\"news-link-left\"><a class=\"tab-link-news\" href=\"https://finance.yahoo.com/news/fasten-your-seatbelts-case-for-roaring-economic-recovery-morning-brief-110049254.html\" target=\"_blank\">'Fasten your seatbelts'  The case for a roaring economic recovery</a></div><div class=\"news-link-right\"><span style=\"color:#aa6dc0;font-size:9px\"> Yahoo Finance</span></div></div></td></tr>,\n",
       " <tr><td align=\"right\" style=\"white-space:nowrap\" width=\"130\">Feb-18-21 03:45PM  </td><td align=\"left\"><div class=\"news-link-container\"><div class=\"news-link-left\"><a class=\"tab-link-news\" href=\"https://www.investors.com/market-trend/stock-market-today/gamestop-falls-91-percent-from-2021-peak-dow-jones-cuts-losses-growth-stocks-break-out/?src=A00220\" target=\"_blank\">GameStop Falls 91% From Its 2021 Peak As Dow Jones Cuts Losses; These Growth Stocks Break Out</a></div><div class=\"news-link-right\"><span style=\"color:#aa6dc0;font-size:9px\"> Investor's Business Daily</span></div></div></td></tr>,\n",
       " <tr><td align=\"right\" width=\"130\">01:24PM  </td><td align=\"left\"><div class=\"news-link-container\"><div class=\"news-link-left\"><a class=\"tab-link-news\" href=\"https://www.investopedia.com/roku-roku-option-traders-wary-5113121?utm_campaign=quote-yahoo&amp;utm_source=yahoo&amp;utm_medium=referral\" target=\"_blank\">ROKU (ROKU) Option Traders Wary</a></div><div class=\"news-link-right\"><span style=\"color:#aa6dc0;font-size:9px\"> Investopedia</span></div></div></td></tr>,\n",
       " <tr><td align=\"right\" width=\"130\">12:57PM  </td><td align=\"left\"><div class=\"news-link-container\"><div class=\"news-link-left\"><a class=\"tab-link-news\" href=\"https://www.investopedia.com/applied-materials-amat-option-traders-optimistic-5113132?utm_campaign=quote-yahoo&amp;utm_source=yahoo&amp;utm_medium=referral\" target=\"_blank\">Applied Materials (AMAT) Option Traders Optimistic</a></div><div class=\"news-link-right\"><span style=\"color:#aa6dc0;font-size:9px\"> Investopedia</span></div></div></td></tr>,\n",
       " <tr><td align=\"right\" width=\"130\">10:01AM  </td><td align=\"left\"><div class=\"news-link-container\"><div class=\"news-link-left\"><a class=\"tab-link-news\" href=\"https://finance.yahoo.com/video/bill-gates-facebook-banning-trump-150110737.html\" target=\"_blank\">Bill Gates: Facebook banning Trump 'forever' would not be 'that good'</a></div><div class=\"news-link-right\"><span style=\"color:#aa6dc0;font-size:9px\"> Yahoo Finance Video</span></div></div></td></tr>,\n",
       " <tr><td align=\"right\" width=\"130\">06:01AM  </td><td align=\"left\"><div class=\"news-link-container\"><div class=\"news-link-left\"><a class=\"tab-link-news\" href=\"https://finance.yahoo.com/news/us-economy-december-retail-sales-boom-morning-brief-110114769.html\" target=\"_blank\">The U.S. economy continues to surprise</a></div><div class=\"news-link-right\"><span style=\"color:#aa6dc0;font-size:9px\"> Yahoo Finance</span></div></div></td></tr>,\n",
       " <tr><td align=\"right\" style=\"white-space:nowrap\" width=\"130\">Feb-17-21 06:51AM  </td><td align=\"left\"><div class=\"news-link-container\"><div class=\"news-link-left\"><a class=\"tab-link-news\" href=\"https://www.investopedia.com/articles/etfs/top-etfs-nasdaq/?utm_campaign=quote-yahoo&amp;utm_source=yahoo&amp;utm_medium=referral\" target=\"_blank\">Best (and Only) Nasdaq ETF for Q2 2021</a></div><div class=\"news-link-right\"><span style=\"color:#aa6dc0;font-size:9px\"> Investopedia</span></div></div></td></tr>,\n",
       " <tr><td align=\"right\" width=\"130\">05:59AM  </td><td align=\"left\"><div class=\"news-link-container\"><div class=\"news-link-left\"><a class=\"tab-link-news\" href=\"https://finance.yahoo.com/news/covid-cases-dropping-morning-brief-105958867.html\" target=\"_blank\">COVID-19 cases are dropping like a rock</a></div><div class=\"news-link-right\"><span style=\"color:#aa6dc0;font-size:9px\"> Yahoo Finance</span></div></div></td></tr>,\n",
       " <tr><td align=\"right\" style=\"white-space:nowrap\" width=\"130\">Feb-16-21 04:58PM  </td><td align=\"left\"><div class=\"news-link-container\"><div class=\"news-link-left\"><a class=\"tab-link-news\" href=\"https://finance.yahoo.com/news/goldman-sachss-marcus-invest-bets-against-the-game-stop-trend-215811218.html\" target=\"_blank\">Goldman Sachs' 'Marcus Invest' bets against the GameStop trend</a></div><div class=\"news-link-right\"><span style=\"color:#aa6dc0;font-size:9px\"> Yahoo Finance</span></div></div></td></tr>,\n",
       " <tr><td align=\"right\" width=\"130\">12:56PM  </td><td align=\"left\"><div class=\"news-link-container\"><div class=\"news-link-left\"><a class=\"tab-link-news\" href=\"https://www.investopedia.com/twilio-twlo-option-traders-optimistic-5112747?utm_campaign=quote-yahoo&amp;utm_source=yahoo&amp;utm_medium=referral\" target=\"_blank\">Twilio (TWLO) Option Traders Optimistic</a></div><div class=\"news-link-right\"><span style=\"color:#aa6dc0;font-size:9px\"> Investopedia</span></div></div></td></tr>,\n",
       " <tr><td align=\"right\" width=\"130\">12:22PM  </td><td align=\"left\"><div class=\"news-link-container\"><div class=\"news-link-left\"><a class=\"tab-link-news\" href=\"https://www.investopedia.com/shopify-shop-option-traders-optimistic-but-5112719?utm_campaign=quote-yahoo&amp;utm_source=yahoo&amp;utm_medium=referral\" target=\"_blank\">Shopify (SHOP) Option Traders Optimistic, but ...</a></div><div class=\"news-link-right\"><span style=\"color:#aa6dc0;font-size:9px\"> Investopedia</span></div></div></td></tr>,\n",
       " <tr><td align=\"right\" width=\"130\">06:10AM  </td><td align=\"left\"><div class=\"news-link-container\"><div class=\"news-link-left\"><a class=\"tab-link-news\" href=\"https://finance.yahoo.com/news/stock-market-record-high-gamestop-spacs-bitcoin-morning-brief-111019949.html\" target=\"_blank\">You don't have to trade GameStop, SPACs, or Bitcoin for big returns</a></div><div class=\"news-link-right\"><span style=\"color:#aa6dc0;font-size:9px\"> Yahoo Finance</span></div></div></td></tr>,\n",
       " <tr><td align=\"right\" style=\"white-space:nowrap\" width=\"130\">Feb-12-21 01:52PM  </td><td align=\"left\"><div class=\"news-link-container\"><div class=\"news-link-left\"><a class=\"tab-link-news\" href=\"https://www.investors.com/etfs-and-funds/sectors/sp500-whats-the-fastest-way-to-become-millionaire-with-stocks/?src=A00220\" target=\"_blank\">How Long It Takes To Be A Millionaire With Stocks</a></div><div class=\"news-link-right\"><span style=\"color:#aa6dc0;font-size:9px\"> Investor's Business Daily</span></div></div></td></tr>,\n",
       " <tr><td align=\"right\" width=\"130\">05:48AM  </td><td align=\"left\"><div class=\"news-link-container\"><div class=\"news-link-left\"><a class=\"tab-link-news\" href=\"https://finance.yahoo.com/news/stock-market-a-fascinating-place-right-now-morning-brief-104849511.html\" target=\"_blank\">The stock market is a fascinating place right now</a></div><div class=\"news-link-right\"><span style=\"color:#aa6dc0;font-size:9px\"> Yahoo Finance</span></div></div></td></tr>,\n",
       " <tr><td align=\"right\" style=\"white-space:nowrap\" width=\"130\">Feb-11-21 08:31AM  </td><td align=\"left\"><div class=\"news-link-container\"><div class=\"news-link-left\"><a class=\"tab-link-news\" href=\"https://finance.yahoo.com/news/initial-jobless-claims-week-ended-february-6-2021-coronavirus-pandemic-191313864.html\" target=\"_blank\">Jobless claims: Another 793,000 Americans filed new unemployment claims last week</a></div><div class=\"news-link-right\"><span style=\"color:#aa6dc0;font-size:9px\"> Yahoo Finance</span></div></div></td></tr>,\n",
       " <tr><td align=\"right\" width=\"130\">06:02AM  </td><td align=\"left\"><div class=\"news-link-container\"><div class=\"news-link-left\"><a class=\"tab-link-news\" href=\"https://finance.yahoo.com/news/worst-stocks-are-doing-the-best-morning-brief-110238013.html\" target=\"_blank\">The worst stocks are doing the best</a></div><div class=\"news-link-right\"><span style=\"color:#aa6dc0;font-size:9px\"> Yahoo Finance</span></div></div></td></tr>,\n",
       " <tr><td align=\"right\" style=\"white-space:nowrap\" width=\"130\">Feb-10-21 04:05PM  </td><td align=\"left\"><div class=\"news-link-container\"><div class=\"news-link-left\"><a class=\"tab-link-news\" href=\"https://finance.yahoo.com/news/stock-market-news-live-updates-february-10-2021-232028710.html\" target=\"_blank\">Stock market news live updates: Stocks erase gains after reaching record highs</a></div><div class=\"news-link-right\"><span style=\"color:#aa6dc0;font-size:9px\"> Yahoo Finance</span></div></div></td></tr>,\n",
       " <tr><td align=\"right\" width=\"130\">01:29PM  </td><td align=\"left\"><div class=\"news-link-container\"><div class=\"news-link-left\"><a class=\"tab-link-news\" href=\"https://finance.yahoo.com/news/warren-buffetts-favorite-indicator-hints-that-stocks-are-significantly-overvalued-182944741.html\" target=\"_blank\">Warren Buffett's favorite indicator hints that stocks are significantly overvalued</a></div><div class=\"news-link-right\"><span style=\"color:#aa6dc0;font-size:9px\"> Yahoo Finance</span></div></div></td></tr>,\n",
       " <tr><td align=\"right\" width=\"130\">06:00AM  </td><td align=\"left\"><div class=\"news-link-container\"><div class=\"news-link-left\"><a class=\"tab-link-news\" href=\"https://finance.yahoo.com/video/covid-19-exposed-fragile-food-110000708.html\" target=\"_blank\">COVID-19 exposed how fragile our food systems are: Gro Intelligence Founder</a></div><div class=\"news-link-right\"><span style=\"color:#aa6dc0;font-size:9px\"> Yahoo Finance Video</span></div></div></td></tr>,\n",
       " <tr><td align=\"right\" style=\"white-space:nowrap\" width=\"130\">Feb-09-21 01:52PM  </td><td align=\"left\"><div class=\"news-link-container\"><div class=\"news-link-left\"><a class=\"tab-link-news\" href=\"https://www.investopedia.com/articles/etfs-mutual-funds/080516/4-etfs-fang-stocks-fdnpnqiqqqskyy.asp?utm_campaign=quote-yahoo&amp;utm_source=yahoo&amp;utm_medium=referral\" target=\"_blank\">Best FANG Stocks ETFs for Q2 2021</a></div><div class=\"news-link-right\"><span style=\"color:#aa6dc0;font-size:9px\"> Investopedia</span></div></div></td></tr>,\n",
       " <tr><td align=\"right\" style=\"white-space:nowrap\" width=\"130\">Feb-08-21 03:59PM  </td><td align=\"left\"><div class=\"news-link-container\"><div class=\"news-link-left\"><a class=\"tab-link-news\" href=\"https://finance.yahoo.com/news/why-the-broad-stock-market-isnt-in-a-bubble-says-veteran-investor-205957595.html\" target=\"_blank\">Why the broad stock market isn't in a bubble, says veteran investor</a></div><div class=\"news-link-right\"><span style=\"color:#aa6dc0;font-size:9px\"> Yahoo Finance</span></div></div></td></tr>,\n",
       " <tr><td align=\"right\" width=\"130\">01:49PM  </td><td align=\"left\"><div class=\"news-link-container\"><div class=\"news-link-left\"><a class=\"tab-link-news\" href=\"https://www.investopedia.com/cisco-csco-put-options-priced-for-low-risk-of-drop-5105080?utm_campaign=quote-yahoo&amp;utm_source=yahoo&amp;utm_medium=referral\" target=\"_blank\">Cisco (CSCO) Put Options Priced for Low Risk of Drop</a></div><div class=\"news-link-right\"><span style=\"color:#aa6dc0;font-size:9px\"> Investopedia</span></div></div></td></tr>,\n",
       " <tr><td align=\"right\" width=\"130\">01:28PM  </td><td align=\"left\"><div class=\"news-link-container\"><div class=\"news-link-left\"><a class=\"tab-link-news\" href=\"https://www.investopedia.com/twitter-twtr-put-options-priced-for-low-risk-of-drop-5105066?utm_campaign=quote-yahoo&amp;utm_source=yahoo&amp;utm_medium=referral\" target=\"_blank\">Twitter (TWTR) Put Options Priced for Low Risk of Drop</a></div><div class=\"news-link-right\"><span style=\"color:#aa6dc0;font-size:9px\"> Investopedia</span></div></div></td></tr>,\n",
       " <tr><td align=\"right\" width=\"130\">05:58AM  </td><td align=\"left\"><div class=\"news-link-container\"><div class=\"news-link-left\"><a class=\"tab-link-news\" href=\"https://finance.yahoo.com/news/stock-fall-better-than-expected-earnings-morning-brief-105810807.html\" target=\"_blank\">Stocks are being weird</a></div><div class=\"news-link-right\"><span style=\"color:#aa6dc0;font-size:9px\"> Yahoo Finance</span></div></div></td></tr>,\n",
       " <tr><td align=\"right\" style=\"white-space:nowrap\" width=\"130\">Feb-05-21 01:10PM  </td><td align=\"left\"><div class=\"news-link-container\"><div class=\"news-link-left\"><a class=\"tab-link-news\" href=\"https://finance.yahoo.com/video/dow-p-500-nasdaq-pace-181056035.html\" target=\"_blank\">Berkshire Hathaway at record highs is flashing bullish signs for risk appetite: veteran trader</a></div><div class=\"news-link-right\"><span style=\"color:#aa6dc0;font-size:9px\"> Yahoo Finance Video</span></div></div></td></tr>,\n",
       " <tr><td align=\"right\" width=\"130\">12:40PM  </td><td align=\"left\"><div class=\"news-link-container\"><div class=\"news-link-left\"><a class=\"tab-link-news\" href=\"https://finance.yahoo.com/news/economists-hope-the-disappointing-jobs-report-was-the-low-point-for-2021-174036448.html\" target=\"_blank\">Economists hope the disappointing jobs report was the low point for 2021</a></div><div class=\"news-link-right\"><span style=\"color:#aa6dc0;font-size:9px\"> Yahoo Finance</span></div></div></td></tr>,\n",
       " <tr><td align=\"right\" width=\"130\">10:19AM  </td><td align=\"left\"><div class=\"news-link-container\"><div class=\"news-link-left\"><a class=\"tab-link-news\" href=\"https://www.investors.com/research/options/qqq-bullish-butterfly-options-trade/?src=A00220\" target=\"_blank\">QQQ Option Trade Could Reap The Rewards From Further Price Gains</a></div><div class=\"news-link-right\"><span style=\"color:#aa6dc0;font-size:9px\"> Investor's Business Daily</span></div></div></td></tr>,\n",
       " <tr><td align=\"right\" style=\"white-space:nowrap\" width=\"130\">Feb-04-21 02:22PM  </td><td align=\"left\"><div class=\"news-link-container\"><div class=\"news-link-left\"><a class=\"tab-link-news\" href=\"https://finance.yahoo.com/news/the-sp-500-is-currently-mirroring-20082009-to-a-creepy-degree-veteran-hedge-funder-192216209.html\" target=\"_blank\">The S&amp;P 500 is currently mirroring 2009-2010 to a 'creepy' degree: veteran hedge funder</a></div><div class=\"news-link-right\"><span style=\"color:#aa6dc0;font-size:9px\"> Yahoo Finance</span></div></div></td></tr>,\n",
       " <tr><td align=\"right\" width=\"130\">06:06AM  </td><td align=\"left\"><div class=\"news-link-container\"><div class=\"news-link-left\"><a class=\"tab-link-news\" href=\"https://finance.yahoo.com/news/economy-adp-private-payrolls-ism-services-improving-morning-brief-110606795.html\" target=\"_blank\">Things are looking up for the U.S. economy</a></div><div class=\"news-link-right\"><span style=\"color:#aa6dc0;font-size:9px\"> Yahoo Finance</span></div></div></td></tr>,\n",
       " <tr><td align=\"right\" style=\"white-space:nowrap\" width=\"130\">Feb-03-21 03:37PM  </td><td align=\"left\"><div class=\"news-link-container\"><div class=\"news-link-left\"><a class=\"tab-link-news\" href=\"https://finance.yahoo.com/video/bezos-stepping-down-amazon-could-203756435.html\" target=\"_blank\">Heres what Bezos stepping down from Amazon could mean for ETFs</a></div><div class=\"news-link-right\"><span style=\"color:#aa6dc0;font-size:9px\"> Yahoo Finance Video</span></div></div></td></tr>,\n",
       " <tr><td align=\"right\" width=\"130\">06:04AM  </td><td align=\"left\"><div class=\"news-link-container\"><div class=\"news-link-left\"><a class=\"tab-link-news\" href=\"https://finance.yahoo.com/news/hedge-funds-mudrick-silverlake-point72-gamestop-party-morning-brief-110406546.html\" target=\"_blank\">Sharks arrive at the GameStop party</a></div><div class=\"news-link-right\"><span style=\"color:#aa6dc0;font-size:9px\"> Yahoo Finance</span></div></div></td></tr>,\n",
       " <tr><td align=\"right\" style=\"white-space:nowrap\" width=\"130\">Feb-02-21 05:59AM  </td><td align=\"left\"><div class=\"news-link-container\"><div class=\"news-link-left\"><a class=\"tab-link-news\" href=\"https://finance.yahoo.com/news/retail-favorite-stocks-outperforming-morning-brief-105941581.html\" target=\"_blank\">The retail rally is bigger than GameStop</a></div><div class=\"news-link-right\"><span style=\"color:#aa6dc0;font-size:9px\"> Yahoo Finance</span></div></div></td></tr>,\n",
       " <tr><td align=\"right\" style=\"white-space:nowrap\" width=\"130\">Feb-01-21 05:59AM  </td><td align=\"left\"><div class=\"news-link-container\"><div class=\"news-link-left\"><a class=\"tab-link-news\" href=\"https://finance.yahoo.com/news/gamestop-wallstreetbets-reddit-market-risks-morning-brief-105917204.html\" target=\"_blank\">Investors aren't convinced the GameStop drama is a big deal</a></div><div class=\"news-link-right\"><span style=\"color:#aa6dc0;font-size:9px\"> Yahoo Finance</span></div></div></td></tr>,\n",
       " <tr><td align=\"right\" style=\"white-space:nowrap\" width=\"130\">Jan-31-21 12:05PM  </td><td align=\"left\"><div class=\"news-link-container\"><div class=\"news-link-left\"><a class=\"tab-link-news\" href=\"https://finance.yahoo.com/news/amazon-and-alphabet-earnings-january-jobs-report-what-to-know-in-the-week-ahead-170537752.html\" target=\"_blank\">Amazon and Alphabet earnings, January jobs report: What to know in the week ahead</a></div><div class=\"news-link-right\"><span style=\"color:#aa6dc0;font-size:9px\"> Yahoo Finance</span></div></div></td></tr>,\n",
       " <tr><td align=\"right\" style=\"white-space:nowrap\" width=\"130\">Jan-29-21 11:12AM  </td><td align=\"left\"><div class=\"news-link-container\"><div class=\"news-link-left\"><a class=\"tab-link-news\" href=\"https://www.marketwatch.com/story/microcap-stocks-have-been-soaring-here-are-two-strategies-for-investing-in-them-from-fund-managers-11611936724?siteid=yhoof2\" target=\"_blank\">Microcap stocks have been soaring  here are two strategies for investing in them from fund managers</a></div><div class=\"news-link-right\"><span style=\"color:#aa6dc0;font-size:9px\"> MarketWatch</span></div></div></td></tr>,\n",
       " <tr><td align=\"right\" width=\"130\">06:00AM  </td><td align=\"left\"><div class=\"news-link-container\"><div class=\"news-link-left\"><a class=\"tab-link-news\" href=\"https://finance.yahoo.com/video/young-kenyan-entrepreneur-explains-why-110000096.html\" target=\"_blank\">Young Kenyan entrepreneur explains why he admires Bill Gates and Warren Buffett</a></div><div class=\"news-link-right\"><span style=\"color:#aa6dc0;font-size:9px\"> Yahoo Finance Video</span></div></div></td></tr>,\n",
       " <tr><td align=\"right\" style=\"white-space:nowrap\" width=\"130\">Jan-27-21 09:49AM  </td><td align=\"left\"><div class=\"news-link-container\"><div class=\"news-link-left\"><a class=\"tab-link-news\" href=\"https://finance.yahoo.com/video/kenyan-tech-entrepreneur-explains-why-144921570.html\" target=\"_blank\">Kenyan tech entrepreneur explains why he turned down a scholarship to Harvard</a></div><div class=\"news-link-right\"><span style=\"color:#aa6dc0;font-size:9px\"> Yahoo Finance Video</span></div></div></td></tr>,\n",
       " <tr><td align=\"right\" width=\"130\">07:00AM  </td><td align=\"left\"><div class=\"news-link-container\"><div class=\"news-link-left\"><a class=\"tab-link-news\" href=\"https://finance.yahoo.com/video/influencers-andy-serwer-mubarak-muyika-120000412.html\" target=\"_blank\">Influencers with Andy Serwer: Mubarak Muyika</a></div><div class=\"news-link-right\"><span style=\"color:#aa6dc0;font-size:9px\"> Yahoo Finance Video</span></div></div></td></tr>,\n",
       " <tr><td align=\"right\" width=\"130\">02:05AM  </td><td align=\"left\"><div class=\"news-link-container\"><div class=\"news-link-left\"><a class=\"tab-link-news\" href=\"https://finance.yahoo.com/news/reddit-rally-fed-meeting-tesla-070551657.html\" target=\"_blank\">Reddit Rally, Fed Meeting, Tesla, Apple Earnings - What's up in Markets</a></div><div class=\"news-link-right\"><span style=\"color:#aa6dc0;font-size:9px\"> Investing.com</span></div></div></td></tr>,\n",
       " <tr><td align=\"right\" style=\"white-space:nowrap\" width=\"130\">Jan-25-21 06:12AM  </td><td align=\"left\"><div class=\"news-link-container\"><div class=\"news-link-left\"><a class=\"tab-link-news\" href=\"https://finance.yahoo.com/news/q4-2020-earnings-beating-expectations-by-historic-margin-morning-brief-111240817.html\" target=\"_blank\">Earnings are beating expectations by a massive margin</a></div><div class=\"news-link-right\"><span style=\"color:#aa6dc0;font-size:9px\"> Yahoo Finance</span></div></div></td></tr>,\n",
       " <tr><td align=\"right\" style=\"white-space:nowrap\" width=\"130\">Jan-22-21 04:39PM  </td><td align=\"left\"><div class=\"news-link-container\"><div class=\"news-link-left\"><a class=\"tab-link-news\" href=\"https://finance.yahoo.com/video/teslas-too-high-buy-now-213933652.html\" target=\"_blank\">Tesla's too high to buy now; Beyond Meat perking up; GameStop shorts feeling pain: veteran trader</a></div><div class=\"news-link-right\"><span style=\"color:#aa6dc0;font-size:9px\"> Yahoo Finance Video</span></div></div></td></tr>,\n",
       " <tr><td align=\"right\" width=\"130\">06:11AM  </td><td align=\"left\"><div class=\"news-link-container\"><div class=\"news-link-left\"><a class=\"tab-link-news\" href=\"https://finance.yahoo.com/news/housing-market-caps-off-historic-year-morning-brief-111157492.html\" target=\"_blank\">The housing market caps off a historic year</a></div><div class=\"news-link-right\"><span style=\"color:#aa6dc0;font-size:9px\"> Yahoo Finance</span></div></div></td></tr>,\n",
       " <tr><td align=\"right\" style=\"white-space:nowrap\" width=\"130\">Jan-21-21 05:59AM  </td><td align=\"left\"><div class=\"news-link-container\"><div class=\"news-link-left\"><a class=\"tab-link-news\" href=\"https://finance.yahoo.com/news/stocks-usually-go-up-morning-brief-105941581.html\" target=\"_blank\">Stocks usually go up</a></div><div class=\"news-link-right\"><span style=\"color:#aa6dc0;font-size:9px\"> Yahoo Finance</span></div></div></td></tr>,\n",
       " <tr><td align=\"right\" style=\"white-space:nowrap\" width=\"130\">Jan-20-21 12:38PM  </td><td align=\"left\"><div class=\"news-link-container\"><div class=\"news-link-left\"><a class=\"tab-link-news\" href=\"https://finance.yahoo.com/news/wall-street-is-in-its-riskiest-mindset-in-20-years-bof-a-survey-173833420.html\" target=\"_blank\">Wall Street is in its riskiest mindset in 20 years: BofA survey</a></div><div class=\"news-link-right\"><span style=\"color:#aa6dc0;font-size:9px\"> Yahoo Finance</span></div></div></td></tr>,\n",
       " <tr><td align=\"right\" width=\"130\">08:00AM  </td><td align=\"left\"><div class=\"news-link-container\"><div class=\"news-link-left\"><a class=\"tab-link-news\" href=\"https://www.investors.com/etfs-and-funds/sectors/sp500-top-nasdaq-stocks-are-already-beating-the-market-by-15x/?src=A00220\" target=\"_blank\">9 Top Nasdaq Stocks Are Already Beating The Market By 15X</a></div><div class=\"news-link-right\"><span style=\"color:#aa6dc0;font-size:9px\"> Investor's Business Daily</span></div></div></td></tr>,\n",
       " <tr><td align=\"right\" width=\"130\">05:59AM  </td><td align=\"left\"><div class=\"news-link-container\"><div class=\"news-link-left\"><a class=\"tab-link-news\" href=\"https://finance.yahoo.com/news/investors-never-more-excited-about-small-caps-morning-brief-105933560.html\" target=\"_blank\">Investors have never been more excited about small caps</a></div><div class=\"news-link-right\"><span style=\"color:#aa6dc0;font-size:9px\"> Yahoo Finance</span></div></div></td></tr>,\n",
       " <tr><td align=\"right\" style=\"white-space:nowrap\" width=\"130\">Jan-19-21 08:42AM  </td><td align=\"left\"><div class=\"news-link-container\"><div class=\"news-link-left\"><a class=\"tab-link-news\" href=\"https://www.investopedia.com/what-warren-buffett-learned-early-on-about-investing-5095946?utm_campaign=quote-yahoo&amp;utm_source=yahoo&amp;utm_medium=referral\" target=\"_blank\">What Warren Buffett Learned Early On About Investing</a></div><div class=\"news-link-right\"><span style=\"color:#aa6dc0;font-size:9px\"> Investopedia</span></div></div></td></tr>,\n",
       " <tr><td align=\"right\" width=\"130\">06:06AM  </td><td align=\"left\"><div class=\"news-link-container\"><div class=\"news-link-left\"><a class=\"tab-link-news\" href=\"https://finance.yahoo.com/news/stock-market-could-double-twice-by-2040-morning-brief-110629429.html\" target=\"_blank\">Why the stock market could double twice by 2040</a></div><div class=\"news-link-right\"><span style=\"color:#aa6dc0;font-size:9px\"> Yahoo Finance</span></div></div></td></tr>,\n",
       " <tr><td align=\"right\" style=\"white-space:nowrap\" width=\"130\">Jan-15-21 04:03PM  </td><td align=\"left\"><div class=\"news-link-container\"><div class=\"news-link-left\"><a class=\"tab-link-news\" href=\"https://finance.yahoo.com/news/stock-market-news-live-updates-january-15-2021-231400807.html\" target=\"_blank\">Stock market news live updates: Stocks fall for back-to-back sessions, S&amp;P 500 posts weekly loss of more than 1%</a></div><div class=\"news-link-right\"><span style=\"color:#aa6dc0;font-size:9px\"> Yahoo Finance</span></div></div></td></tr>,\n",
       " <tr><td align=\"right\" width=\"130\">06:11AM  </td><td align=\"left\"><div class=\"news-link-container\"><div class=\"news-link-left\"><a class=\"tab-link-news\" href=\"https://finance.yahoo.com/news/spacs-new-part-of-same-market-bubble-story-morning-brief-111159953.html\" target=\"_blank\">SPACs are a new part of the same market story</a></div><div class=\"news-link-right\"><span style=\"color:#aa6dc0;font-size:9px\"> Yahoo Finance</span></div></div></td></tr>,\n",
       " <tr><td align=\"right\" style=\"white-space:nowrap\" width=\"130\">Jan-14-21 10:18AM  </td><td align=\"left\"><div class=\"news-link-container\"><div class=\"news-link-left\"><a class=\"tab-link-news\" href=\"https://finance.yahoo.com/news/jobless-claims-spike-965k-highest-151803595.html\" target=\"_blank\">Jobless Claims Spike to 965K, Highest Since Late Spring</a></div><div class=\"news-link-right\"><span style=\"color:#aa6dc0;font-size:9px\"> Zacks</span></div></div></td></tr>,\n",
       " <tr><td align=\"right\" width=\"130\">09:00AM  </td><td align=\"left\"><div class=\"news-link-container\"><div class=\"news-link-left\"><a class=\"tab-link-news\" href=\"https://finance.yahoo.com/news/newest-etfs-invesco-qqq-innovation-140000378.html\" target=\"_blank\">Newest ETFs in the Invesco QQQ Innovation Suite Generate $1 billion in Assets Under Management</a></div><div class=\"news-link-right\"><span style=\"color:#aa6dc0;font-size:9px\"> PR Newswire</span></div></div></td></tr>,\n",
       " <tr><td align=\"right\" width=\"130\">08:31AM  </td><td align=\"left\"><div class=\"news-link-container\"><div class=\"news-link-left\"><a class=\"tab-link-news\" href=\"https://finance.yahoo.com/news/initial-jobless-claims-week-ended-jan-9-2021-coronavirus-pandemic-191640522.html\" target=\"_blank\">Jobless claims: Another 965,000 Americans filed new unemployment claims last week</a></div><div class=\"news-link-right\"><span style=\"color:#aa6dc0;font-size:9px\"> Yahoo Finance</span></div></div></td></tr>,\n",
       " <tr><td align=\"right\" width=\"130\">08:29AM  </td><td align=\"left\"><div class=\"news-link-container\"><div class=\"news-link-left\"><a class=\"tab-link-news\" href=\"https://finance.yahoo.com/video/premium-roadmap-trading-profitably-consistently-132900873.html\" target=\"_blank\">PREMIUM: A roadmap to trading profitably and consistently in 2021 with JC Parets</a></div><div class=\"news-link-right\"><span style=\"color:#aa6dc0;font-size:9px\"> Yahoo Finance Video</span></div></div></td></tr>,\n",
       " <tr><td align=\"right\" width=\"130\">06:00AM  </td><td align=\"left\"><div class=\"news-link-container\"><div class=\"news-link-left\"><a class=\"tab-link-news\" href=\"https://finance.yahoo.com/video/influencers-andy-serwer-haim-saban-110000035.html\" target=\"_blank\">Influencers with Andy Serwer: Haim Saban</a></div><div class=\"news-link-right\"><span style=\"color:#aa6dc0;font-size:9px\"> Yahoo Finance Video</span></div></div></td></tr>,\n",
       " <tr><td align=\"right\" style=\"white-space:nowrap\" width=\"130\">Jan-13-21 04:07PM  </td><td align=\"left\"><div class=\"news-link-container\"><div class=\"news-link-left\"><a class=\"tab-link-news\" href=\"https://finance.yahoo.com/news/stock-market-news-live-updates-january-13-2021-231538873.html\" target=\"_blank\">Stock market news live updates: S&amp;P 500, Nasdaq post back-to-back sessions of gains</a></div><div class=\"news-link-right\"><span style=\"color:#aa6dc0;font-size:9px\"> Yahoo Finance</span></div></div></td></tr>,\n",
       " <tr><td align=\"right\" width=\"130\">09:25AM  </td><td align=\"left\"><div class=\"news-link-container\"><div class=\"news-link-left\"><a class=\"tab-link-news\" href=\"https://finance.yahoo.com/news/intel-ceo-bob-swan-reportedly-set-to-depart-in-february-to-be-replaced-with-vm-wares-pat-gelsinger-142520631.html\" target=\"_blank\">Intel CEO Bob Swan to be replaced with VMWare's Pat Gelsinger</a></div><div class=\"news-link-right\"><span style=\"color:#aa6dc0;font-size:9px\"> Yahoo Finance</span></div></div></td></tr>,\n",
       " <tr><td align=\"right\" style=\"white-space:nowrap\" width=\"130\">Jan-12-21 11:58AM  </td><td align=\"left\"><div class=\"news-link-container\"><div class=\"news-link-left\"><a class=\"tab-link-news\" href=\"https://finance.yahoo.com/news/if-you-dont-own-amazon-stock-youre-actually-short-veteran-trader-165832274.html\" target=\"_blank\">If you don't own Amazon stock, 'you're actually short': veteran trader</a></div><div class=\"news-link-right\"><span style=\"color:#aa6dc0;font-size:9px\"> Yahoo Finance</span></div></div></td></tr>]"
      ]
     },
     "execution_count": 101,
     "metadata": {},
     "output_type": "execute_result"
    }
   ],
   "source": [
    "qqq_rows"
   ]
  },
  {
   "cell_type": "code",
   "execution_count": 102,
   "metadata": {},
   "outputs": [
    {
     "name": "stdout",
     "output_type": "stream",
     "text": [
      "Mar-12-21 09:34AM   Stock market news live updates: Stocks mixed after record-setting rally, tech stocks slide as Treasury yields climb\n",
      "06:01AM   Record highs, one year later: Morning Brief\n",
      "Mar-11-21 04:02PM   Stock market news live updates: Dow, S&P 500 set records, tech and Bitcoin soar as Biden stimulus signing feeds risk rally\n",
      "05:57AM   'Inflation is a process'\n",
      "Mar-10-21 11:03AM   Girls Who Code CEO on women in tech: We're not getting hired, or supported\n",
      "06:03AM   Dip buyers were out in full force\n",
      "Mar-09-21 05:55AM   New day, same story\n",
      "Mar-08-21 10:26AM   A glossary of the Federal Reserve's full arsenal of 'bazookas'\n",
      "05:55AM   Rising interest rates are a good sign for stocks\n",
      "Mar-07-21 08:55AM   Roblox goes public, inflation data: What to know in the week ahead\n",
      "Mar-05-21 01:08PM   $1.6 Trillion Gone: Nasdaq Stock Implosion Gets Ugly\n",
      "12:40PM   Here's why tech is getting whacked while Buffett's Berkshire Hathaway and Chevron are surging: Trader\n",
      "10:29AM   QQQ Option Trade Idea When Volatility Is High\n",
      "09:00AM   If you're getting a tax refund, something is radically wrong: Suze Orman\n",
      "08:30AM   February jobs report: Economy adds 379,000 payrolls, unemployment rate falls to 6.2%\n",
      "06:01AM   Seniors are rushing to get back on planes\n",
      "Mar-04-21 10:29AM   Jobless Claims Bump Up Week Over Week: 745K\n",
      "07:55AM   PREMIUM: Trading profitably and prudently as the world reopens\n",
      "07:17AM   Stock market news live updates: Stock futures edge lower, extending losses after tech-led selloff\n",
      "06:00AM   Influencers with Andy Serwer: Suze Orman\n",
      "05:54AM   Re-opening rotation trades are rocking the market: Morning Brief\n",
      "05:00AM   Suze Orman: Americans should save their stimulus money\n",
      "Mar-03-21 04:00PM   Stock market news live updates: Stocks end lower, Nasdaq slides by 2.7% as tech stocks sink further amid rising rates\n",
      "01:57PM   Who Are the ETF Giants?\n",
      "08:15AM   Private employers added back 117,000 jobs in February, missing expectations: ADP\n",
      "06:01AM   SPACs are now a $700 billion market\n",
      "Mar-02-21 04:00PM   Stock market news live updates: Stocks retreat after S&P 500's best session since June\n",
      "06:02AM   American manufacturing is roaring back\n",
      "Mar-01-21 04:00PM   Stock market news live updates: Stocks rally as tech shares rebound, S&P 500 jumps 2.4% in best session since June 2020\n",
      "01:39PM   This closely watched stock market indicator nears a sell signal\n",
      "06:38AM   The truth about Warren Buffetts investment track record\n",
      "Feb-28-21 08:52AM   February jobs report, Zoom earnings: What to know in the week ahead\n",
      "Feb-26-21 06:05AM   Retail traders say they're not going anywhere\n",
      "06:00AM   YF Spotlight: American educators search for common ground on school reopening\n",
      "Feb-25-21 04:41PM   These Nasdaq 100 stocks fell the most on Feb. 25\n",
      "04:03PM   Stock market news live updates: Stocks drop, Nasdaq posts worst session since October as tech rout deepens\n",
      "06:00AM   'I don't' miss the glamour of Hollywood: Legendary Entertainment founder\n",
      "Feb-24-21 12:55PM   This stock fund may be for you if you want to sleep well at night and still make money\n",
      "11:12AM   Stock market news live updates: Dow rallies to reach record high as tech stocks recover losses\n",
      "Feb-23-21 09:35AM   Top Wall St strategist boosts his 2021 S&P 500 target for a second time\n",
      "Feb-22-21 11:39AM   Stock market news live updates: Stocks drift as yields rise, inflation concerns mount\n",
      "06:20AM   2 timeless lessons for investors from the past year\n",
      "Feb-19-21 06:00AM   'Fasten your seatbelts'  The case for a roaring economic recovery\n",
      "Feb-18-21 03:45PM   GameStop Falls 91% From Its 2021 Peak As Dow Jones Cuts Losses; These Growth Stocks Break Out\n",
      "01:24PM   ROKU (ROKU) Option Traders Wary\n",
      "12:57PM   Applied Materials (AMAT) Option Traders Optimistic\n",
      "10:01AM   Bill Gates: Facebook banning Trump 'forever' would not be 'that good'\n",
      "06:01AM   The U.S. economy continues to surprise\n",
      "Feb-17-21 06:51AM   Best (and Only) Nasdaq ETF for Q2 2021\n",
      "05:59AM   COVID-19 cases are dropping like a rock\n",
      "Feb-16-21 04:58PM   Goldman Sachs' 'Marcus Invest' bets against the GameStop trend\n",
      "12:56PM   Twilio (TWLO) Option Traders Optimistic\n",
      "12:22PM   Shopify (SHOP) Option Traders Optimistic, but ...\n",
      "06:10AM   You don't have to trade GameStop, SPACs, or Bitcoin for big returns\n",
      "Feb-12-21 01:52PM   How Long It Takes To Be A Millionaire With Stocks\n",
      "05:48AM   The stock market is a fascinating place right now\n",
      "Feb-11-21 08:31AM   Jobless claims: Another 793,000 Americans filed new unemployment claims last week\n",
      "06:02AM   The worst stocks are doing the best\n",
      "Feb-10-21 04:05PM   Stock market news live updates: Stocks erase gains after reaching record highs\n",
      "01:29PM   Warren Buffett's favorite indicator hints that stocks are significantly overvalued\n",
      "06:00AM   COVID-19 exposed how fragile our food systems are: Gro Intelligence Founder\n",
      "Feb-09-21 01:52PM   Best FANG Stocks ETFs for Q2 2021\n",
      "Feb-08-21 03:59PM   Why the broad stock market isn't in a bubble, says veteran investor\n",
      "01:49PM   Cisco (CSCO) Put Options Priced for Low Risk of Drop\n",
      "01:28PM   Twitter (TWTR) Put Options Priced for Low Risk of Drop\n",
      "05:58AM   Stocks are being weird\n",
      "Feb-05-21 01:10PM   Berkshire Hathaway at record highs is flashing bullish signs for risk appetite: veteran trader\n",
      "12:40PM   Economists hope the disappointing jobs report was the low point for 2021\n",
      "10:19AM   QQQ Option Trade Could Reap The Rewards From Further Price Gains\n",
      "Feb-04-21 02:22PM   The S&P 500 is currently mirroring 2009-2010 to a 'creepy' degree: veteran hedge funder\n",
      "06:06AM   Things are looking up for the U.S. economy\n",
      "Feb-03-21 03:37PM   Heres what Bezos stepping down from Amazon could mean for ETFs\n",
      "06:04AM   Sharks arrive at the GameStop party\n",
      "Feb-02-21 05:59AM   The retail rally is bigger than GameStop\n",
      "Feb-01-21 05:59AM   Investors aren't convinced the GameStop drama is a big deal\n",
      "Jan-31-21 12:05PM   Amazon and Alphabet earnings, January jobs report: What to know in the week ahead\n",
      "Jan-29-21 11:12AM   Microcap stocks have been soaring  here are two strategies for investing in them from fund managers\n",
      "06:00AM   Young Kenyan entrepreneur explains why he admires Bill Gates and Warren Buffett\n",
      "Jan-27-21 09:49AM   Kenyan tech entrepreneur explains why he turned down a scholarship to Harvard\n",
      "07:00AM   Influencers with Andy Serwer: Mubarak Muyika\n",
      "02:05AM   Reddit Rally, Fed Meeting, Tesla, Apple Earnings - What's up in Markets\n",
      "Jan-25-21 06:12AM   Earnings are beating expectations by a massive margin\n",
      "Jan-22-21 04:39PM   Tesla's too high to buy now; Beyond Meat perking up; GameStop shorts feeling pain: veteran trader\n",
      "06:11AM   The housing market caps off a historic year\n",
      "Jan-21-21 05:59AM   Stocks usually go up\n",
      "Jan-20-21 12:38PM   Wall Street is in its riskiest mindset in 20 years: BofA survey\n",
      "08:00AM   9 Top Nasdaq Stocks Are Already Beating The Market By 15X\n",
      "05:59AM   Investors have never been more excited about small caps\n",
      "Jan-19-21 08:42AM   What Warren Buffett Learned Early On About Investing\n",
      "06:06AM   Why the stock market could double twice by 2040\n",
      "Jan-15-21 04:03PM   Stock market news live updates: Stocks fall for back-to-back sessions, S&P 500 posts weekly loss of more than 1%\n",
      "06:11AM   SPACs are a new part of the same market story\n",
      "Jan-14-21 10:18AM   Jobless Claims Spike to 965K, Highest Since Late Spring\n",
      "09:00AM   Newest ETFs in the Invesco QQQ Innovation Suite Generate $1 billion in Assets Under Management\n",
      "08:31AM   Jobless claims: Another 965,000 Americans filed new unemployment claims last week\n",
      "08:29AM   PREMIUM: A roadmap to trading profitably and consistently in 2021 with JC Parets\n",
      "06:00AM   Influencers with Andy Serwer: Haim Saban\n",
      "Jan-13-21 04:07PM   Stock market news live updates: S&P 500, Nasdaq post back-to-back sessions of gains\n",
      "09:25AM   Intel CEO Bob Swan to be replaced with VMWare's Pat Gelsinger\n",
      "Jan-12-21 11:58AM   If you don't own Amazon stock, 'you're actually short': veteran trader\n"
     ]
    }
   ],
   "source": [
    "for index, row in enumerate(qqq_rows):\n",
    "    title = row.a.text                # this looks for the anchor tag inside each table row and give the text\n",
    "    timestamp = row.td.text           # pasring the timestamp using the td tag from the table \n",
    "    print(timestamp + \" \" + title)"
   ]
  },
  {
   "cell_type": "code",
   "execution_count": 103,
   "metadata": {},
   "outputs": [
    {
     "name": "stdout",
     "output_type": "stream",
     "text": [
      "[['QQQ', 'Mar-12-21', '09:34AM\\xa0\\xa0', 'Stock market news live updates: Stocks mixed after record-setting rally, tech stocks slide as Treasury yields climb'], ['QQQ', 'Mar-12-21', '06:01AM\\xa0\\xa0', 'Record highs, one year later: Morning Brief'], ['QQQ', 'Mar-11-21', '04:02PM\\xa0\\xa0', 'Stock market news live updates: Dow, S&P 500 set records, tech and Bitcoin soar as Biden stimulus signing feeds risk rally'], ['QQQ', 'Mar-11-21', '05:57AM\\xa0\\xa0', \"'Inflation is a process'\"], ['QQQ', 'Mar-10-21', '11:03AM\\xa0\\xa0', \"Girls Who Code CEO on women in tech: We're not getting hired, or supported\"], ['QQQ', 'Mar-10-21', '06:03AM\\xa0\\xa0', 'Dip buyers were out in full force'], ['QQQ', 'Mar-09-21', '05:55AM\\xa0\\xa0', 'New day, same story'], ['QQQ', 'Mar-08-21', '10:26AM\\xa0\\xa0', \"A glossary of the Federal Reserve's full arsenal of 'bazookas'\"], ['QQQ', 'Mar-08-21', '05:55AM\\xa0\\xa0', 'Rising interest rates are a good sign for stocks'], ['QQQ', 'Mar-07-21', '08:55AM\\xa0\\xa0', 'Roblox goes public, inflation data: What to know in the week ahead'], ['QQQ', 'Mar-05-21', '01:08PM\\xa0\\xa0', '$1.6 Trillion Gone: Nasdaq Stock Implosion Gets Ugly'], ['QQQ', 'Mar-05-21', '12:40PM\\xa0\\xa0', \"Here's why tech is getting whacked while Buffett's Berkshire Hathaway and Chevron are surging: Trader\"], ['QQQ', 'Mar-05-21', '10:29AM\\xa0\\xa0', 'QQQ Option Trade Idea When Volatility Is High'], ['QQQ', 'Mar-05-21', '09:00AM\\xa0\\xa0', \"If you're getting a tax refund, something is radically wrong: Suze Orman\"], ['QQQ', 'Mar-05-21', '08:30AM\\xa0\\xa0', 'February jobs report: Economy adds 379,000 payrolls, unemployment rate falls to 6.2%'], ['QQQ', 'Mar-05-21', '06:01AM\\xa0\\xa0', 'Seniors are rushing to get back on planes'], ['QQQ', 'Mar-04-21', '10:29AM\\xa0\\xa0', 'Jobless Claims Bump Up Week Over Week: 745K'], ['QQQ', 'Mar-04-21', '07:55AM\\xa0\\xa0', 'PREMIUM: Trading profitably and prudently as the world reopens'], ['QQQ', 'Mar-04-21', '07:17AM\\xa0\\xa0', 'Stock market news live updates: Stock futures edge lower, extending losses after tech-led selloff'], ['QQQ', 'Mar-04-21', '06:00AM\\xa0\\xa0', 'Influencers with Andy Serwer: Suze Orman'], ['QQQ', 'Mar-04-21', '05:54AM\\xa0\\xa0', 'Re-opening rotation trades are rocking the market: Morning Brief'], ['QQQ', 'Mar-04-21', '05:00AM\\xa0\\xa0', 'Suze Orman: Americans should save their stimulus money'], ['QQQ', 'Mar-03-21', '04:00PM\\xa0\\xa0', 'Stock market news live updates: Stocks end lower, Nasdaq slides by 2.7% as tech stocks sink further amid rising rates'], ['QQQ', 'Mar-03-21', '01:57PM\\xa0\\xa0', 'Who Are the ETF Giants?'], ['QQQ', 'Mar-03-21', '08:15AM\\xa0\\xa0', 'Private employers added back 117,000 jobs in February, missing expectations: ADP'], ['QQQ', 'Mar-03-21', '06:01AM\\xa0\\xa0', 'SPACs are now a $700 billion market'], ['QQQ', 'Mar-02-21', '04:00PM\\xa0\\xa0', \"Stock market news live updates: Stocks retreat after S&P 500's best session since June\"], ['QQQ', 'Mar-02-21', '06:02AM\\xa0\\xa0', 'American manufacturing is roaring back'], ['QQQ', 'Mar-01-21', '04:00PM\\xa0\\xa0', 'Stock market news live updates: Stocks rally as tech shares rebound, S&P 500 jumps 2.4% in best session since June 2020'], ['QQQ', 'Mar-01-21', '01:39PM\\xa0\\xa0', 'This closely watched stock market indicator nears a sell signal'], ['QQQ', 'Mar-01-21', '06:38AM\\xa0\\xa0', 'The truth about Warren Buffetts investment track record'], ['QQQ', 'Feb-28-21', '08:52AM\\xa0\\xa0', 'February jobs report, Zoom earnings: What to know in the week ahead'], ['QQQ', 'Feb-26-21', '06:05AM\\xa0\\xa0', \"Retail traders say they're not going anywhere\"], ['QQQ', 'Feb-26-21', '06:00AM\\xa0\\xa0', 'YF Spotlight: American educators search for common ground on school reopening'], ['QQQ', 'Feb-25-21', '04:41PM\\xa0\\xa0', 'These Nasdaq 100 stocks fell the most on Feb. 25'], ['QQQ', 'Feb-25-21', '04:03PM\\xa0\\xa0', 'Stock market news live updates: Stocks drop, Nasdaq posts worst session since October as tech rout deepens'], ['QQQ', 'Feb-25-21', '06:00AM\\xa0\\xa0', \"'I don't' miss the glamour of Hollywood: Legendary Entertainment founder\"], ['QQQ', 'Feb-24-21', '12:55PM\\xa0\\xa0', 'This stock fund may be for you if you want to sleep well at night and still make money'], ['QQQ', 'Feb-24-21', '11:12AM\\xa0\\xa0', 'Stock market news live updates: Dow rallies to reach record high as tech stocks recover losses'], ['QQQ', 'Feb-23-21', '09:35AM\\xa0\\xa0', 'Top Wall St strategist boosts his 2021 S&P 500 target for a second time'], ['QQQ', 'Feb-22-21', '11:39AM\\xa0\\xa0', 'Stock market news live updates: Stocks drift as yields rise, inflation concerns mount'], ['QQQ', 'Feb-22-21', '06:20AM\\xa0\\xa0', '2 timeless lessons for investors from the past year'], ['QQQ', 'Feb-19-21', '06:00AM\\xa0\\xa0', \"'Fasten your seatbelts'  The case for a roaring economic recovery\"], ['QQQ', 'Feb-18-21', '03:45PM\\xa0\\xa0', 'GameStop Falls 91% From Its 2021 Peak As Dow Jones Cuts Losses; These Growth Stocks Break Out'], ['QQQ', 'Feb-18-21', '01:24PM\\xa0\\xa0', 'ROKU (ROKU) Option Traders Wary'], ['QQQ', 'Feb-18-21', '12:57PM\\xa0\\xa0', 'Applied Materials (AMAT) Option Traders Optimistic'], ['QQQ', 'Feb-18-21', '10:01AM\\xa0\\xa0', \"Bill Gates: Facebook banning Trump 'forever' would not be 'that good'\"], ['QQQ', 'Feb-18-21', '06:01AM\\xa0\\xa0', 'The U.S. economy continues to surprise'], ['QQQ', 'Feb-17-21', '06:51AM\\xa0\\xa0', 'Best (and Only) Nasdaq ETF for Q2 2021'], ['QQQ', 'Feb-17-21', '05:59AM\\xa0\\xa0', 'COVID-19 cases are dropping like a rock'], ['QQQ', 'Feb-16-21', '04:58PM\\xa0\\xa0', \"Goldman Sachs' 'Marcus Invest' bets against the GameStop trend\"], ['QQQ', 'Feb-16-21', '12:56PM\\xa0\\xa0', 'Twilio (TWLO) Option Traders Optimistic'], ['QQQ', 'Feb-16-21', '12:22PM\\xa0\\xa0', 'Shopify (SHOP) Option Traders Optimistic, but ...'], ['QQQ', 'Feb-16-21', '06:10AM\\xa0\\xa0', \"You don't have to trade GameStop, SPACs, or Bitcoin for big returns\"], ['QQQ', 'Feb-12-21', '01:52PM\\xa0\\xa0', 'How Long It Takes To Be A Millionaire With Stocks'], ['QQQ', 'Feb-12-21', '05:48AM\\xa0\\xa0', 'The stock market is a fascinating place right now'], ['QQQ', 'Feb-11-21', '08:31AM\\xa0\\xa0', 'Jobless claims: Another 793,000 Americans filed new unemployment claims last week'], ['QQQ', 'Feb-11-21', '06:02AM\\xa0\\xa0', 'The worst stocks are doing the best'], ['QQQ', 'Feb-10-21', '04:05PM\\xa0\\xa0', 'Stock market news live updates: Stocks erase gains after reaching record highs'], ['QQQ', 'Feb-10-21', '01:29PM\\xa0\\xa0', \"Warren Buffett's favorite indicator hints that stocks are significantly overvalued\"], ['QQQ', 'Feb-10-21', '06:00AM\\xa0\\xa0', 'COVID-19 exposed how fragile our food systems are: Gro Intelligence Founder'], ['QQQ', 'Feb-09-21', '01:52PM\\xa0\\xa0', 'Best FANG Stocks ETFs for Q2 2021'], ['QQQ', 'Feb-08-21', '03:59PM\\xa0\\xa0', \"Why the broad stock market isn't in a bubble, says veteran investor\"], ['QQQ', 'Feb-08-21', '01:49PM\\xa0\\xa0', 'Cisco (CSCO) Put Options Priced for Low Risk of Drop'], ['QQQ', 'Feb-08-21', '01:28PM\\xa0\\xa0', 'Twitter (TWTR) Put Options Priced for Low Risk of Drop'], ['QQQ', 'Feb-08-21', '05:58AM\\xa0\\xa0', 'Stocks are being weird'], ['QQQ', 'Feb-05-21', '01:10PM\\xa0\\xa0', 'Berkshire Hathaway at record highs is flashing bullish signs for risk appetite: veteran trader'], ['QQQ', 'Feb-05-21', '12:40PM\\xa0\\xa0', 'Economists hope the disappointing jobs report was the low point for 2021'], ['QQQ', 'Feb-05-21', '10:19AM\\xa0\\xa0', 'QQQ Option Trade Could Reap The Rewards From Further Price Gains'], ['QQQ', 'Feb-04-21', '02:22PM\\xa0\\xa0', \"The S&P 500 is currently mirroring 2009-2010 to a 'creepy' degree: veteran hedge funder\"], ['QQQ', 'Feb-04-21', '06:06AM\\xa0\\xa0', 'Things are looking up for the U.S. economy'], ['QQQ', 'Feb-03-21', '03:37PM\\xa0\\xa0', 'Heres what Bezos stepping down from Amazon could mean for ETFs'], ['QQQ', 'Feb-03-21', '06:04AM\\xa0\\xa0', 'Sharks arrive at the GameStop party'], ['QQQ', 'Feb-02-21', '05:59AM\\xa0\\xa0', 'The retail rally is bigger than GameStop'], ['QQQ', 'Feb-01-21', '05:59AM\\xa0\\xa0', \"Investors aren't convinced the GameStop drama is a big deal\"], ['QQQ', 'Jan-31-21', '12:05PM\\xa0\\xa0', 'Amazon and Alphabet earnings, January jobs report: What to know in the week ahead'], ['QQQ', 'Jan-29-21', '11:12AM\\xa0\\xa0', 'Microcap stocks have been soaring  here are two strategies for investing in them from fund managers'], ['QQQ', 'Jan-29-21', '06:00AM\\xa0\\xa0', 'Young Kenyan entrepreneur explains why he admires Bill Gates and Warren Buffett'], ['QQQ', 'Jan-27-21', '09:49AM\\xa0\\xa0', 'Kenyan tech entrepreneur explains why he turned down a scholarship to Harvard'], ['QQQ', 'Jan-27-21', '07:00AM\\xa0\\xa0', 'Influencers with Andy Serwer: Mubarak Muyika'], ['QQQ', 'Jan-27-21', '02:05AM\\xa0\\xa0', \"Reddit Rally, Fed Meeting, Tesla, Apple Earnings - What's up in Markets\"], ['QQQ', 'Jan-25-21', '06:12AM\\xa0\\xa0', 'Earnings are beating expectations by a massive margin'], ['QQQ', 'Jan-22-21', '04:39PM\\xa0\\xa0', \"Tesla's too high to buy now; Beyond Meat perking up; GameStop shorts feeling pain: veteran trader\"], ['QQQ', 'Jan-22-21', '06:11AM\\xa0\\xa0', 'The housing market caps off a historic year'], ['QQQ', 'Jan-21-21', '05:59AM\\xa0\\xa0', 'Stocks usually go up'], ['QQQ', 'Jan-20-21', '12:38PM\\xa0\\xa0', 'Wall Street is in its riskiest mindset in 20 years: BofA survey'], ['QQQ', 'Jan-20-21', '08:00AM\\xa0\\xa0', '9 Top Nasdaq Stocks Are Already Beating The Market By 15X'], ['QQQ', 'Jan-20-21', '05:59AM\\xa0\\xa0', 'Investors have never been more excited about small caps'], ['QQQ', 'Jan-19-21', '08:42AM\\xa0\\xa0', 'What Warren Buffett Learned Early On About Investing'], ['QQQ', 'Jan-19-21', '06:06AM\\xa0\\xa0', 'Why the stock market could double twice by 2040'], ['QQQ', 'Jan-15-21', '04:03PM\\xa0\\xa0', 'Stock market news live updates: Stocks fall for back-to-back sessions, S&P 500 posts weekly loss of more than 1%'], ['QQQ', 'Jan-15-21', '06:11AM\\xa0\\xa0', 'SPACs are a new part of the same market story'], ['QQQ', 'Jan-14-21', '10:18AM\\xa0\\xa0', 'Jobless Claims Spike to 965K, Highest Since Late Spring'], ['QQQ', 'Jan-14-21', '09:00AM\\xa0\\xa0', 'Newest ETFs in the Invesco QQQ Innovation Suite Generate $1 billion in Assets Under Management'], ['QQQ', 'Jan-14-21', '08:31AM\\xa0\\xa0', 'Jobless claims: Another 965,000 Americans filed new unemployment claims last week'], ['QQQ', 'Jan-14-21', '08:29AM\\xa0\\xa0', 'PREMIUM: A roadmap to trading profitably and consistently in 2021 with JC Parets'], ['QQQ', 'Jan-14-21', '06:00AM\\xa0\\xa0', 'Influencers with Andy Serwer: Haim Saban'], ['QQQ', 'Jan-13-21', '04:07PM\\xa0\\xa0', 'Stock market news live updates: S&P 500, Nasdaq post back-to-back sessions of gains'], ['QQQ', 'Jan-13-21', '09:25AM\\xa0\\xa0', \"Intel CEO Bob Swan to be replaced with VMWare's Pat Gelsinger\"], ['QQQ', 'Jan-12-21', '11:58AM\\xa0\\xa0', \"If you don't own Amazon stock, 'you're actually short': veteran trader\"]]\n"
     ]
    }
   ],
   "source": [
    "# creating the parsed data for all tickers\n",
    "\n",
    "parsed_data = []\n",
    "\n",
    "for ticker, news_table in news_tables.items():\n",
    "    \n",
    "    for row in news_table.findAll('tr'):\n",
    "        \n",
    "        title = row.a.get_text()\n",
    "        date_data = row.td.text.split(' ') # splitting the date based on length of timestamp to handle the different types of dates\n",
    "    \n",
    "        if len(date_data) == 1:\n",
    "            time = date_data[0]\n",
    "        else: \n",
    "            date = date_data[0]\n",
    "            time = date_data[1]\n",
    "            \n",
    "        parsed_data.append([ticker, date, time, title])\n",
    "    \n",
    "print(parsed_data)"
   ]
  },
  {
   "cell_type": "markdown",
   "metadata": {},
   "source": [
    "### Using NLTK Vader to analyze sentiment"
   ]
  },
  {
   "cell_type": "code",
   "execution_count": 104,
   "metadata": {},
   "outputs": [],
   "source": [
    "#!pip install nltk"
   ]
  },
  {
   "cell_type": "code",
   "execution_count": 105,
   "metadata": {},
   "outputs": [],
   "source": [
    "import nltk "
   ]
  },
  {
   "cell_type": "code",
   "execution_count": 106,
   "metadata": {},
   "outputs": [],
   "source": [
    "#nltk.download()"
   ]
  },
  {
   "cell_type": "code",
   "execution_count": 107,
   "metadata": {},
   "outputs": [],
   "source": [
    "#from nltk.sentiment.vader import SentimentIntensityAnalyzer "
   ]
  },
  {
   "cell_type": "code",
   "execution_count": null,
   "metadata": {},
   "outputs": [],
   "source": []
  }
 ],
 "metadata": {
  "kernelspec": {
   "display_name": "Python 3",
   "language": "python",
   "name": "python3"
  },
  "language_info": {
   "codemirror_mode": {
    "name": "ipython",
    "version": 3
   },
   "file_extension": ".py",
   "mimetype": "text/x-python",
   "name": "python",
   "nbconvert_exporter": "python",
   "pygments_lexer": "ipython3",
   "version": "3.7.9"
  }
 },
 "nbformat": 4,
 "nbformat_minor": 4
}
