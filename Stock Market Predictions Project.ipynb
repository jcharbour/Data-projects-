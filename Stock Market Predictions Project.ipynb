{
 "cells": [
  {
   "cell_type": "markdown",
   "metadata": {},
   "source": [
    "#### This project intends to extract and load 1 year of data on three etf's... the Nasdaq (QQQ), SPider (SPY), and Dow Industrial (DIA). The goal is to find and use \"important\" technical features to and ultiately, predict the prices of the three stock above. "
   ]
  },
  {
   "cell_type": "code",
   "execution_count": 62,
   "metadata": {},
   "outputs": [],
   "source": [
    "import pandas as pd\n",
    "import numpy as np\n",
    "import datetime as dt\n",
    "import matplotlib.pyplot as plt\n",
    "plt.style.use('fivethirtyeight')\n"
   ]
  },
  {
   "cell_type": "code",
   "execution_count": 7,
   "metadata": {},
   "outputs": [],
   "source": [
    "#!pip install  pandas_datareader \n",
    "#from pandas_datareader._utils import RemoteDataError\n"
   ]
  },
  {
   "cell_type": "code",
   "execution_count": 10,
   "metadata": {},
   "outputs": [],
   "source": [
    "import pandas_datareader as dr\n",
    "from pandas_datareader._utils import RemoteDataError\n",
    "from pandas_datareader import data\n",
    "from datetime import datetime"
   ]
  },
  {
   "cell_type": "markdown",
   "metadata": {},
   "source": [
    "#### Defining variables for use in the function. (I may want to use this  code later to create a dashboard for any ticker)"
   ]
  },
  {
   "cell_type": "code",
   "execution_count": 11,
   "metadata": {},
   "outputs": [],
   "source": [
    "Start = '2019 -01-01'\n",
    "End = str(datetime.now().strftime('%Y-%m-%d'))"
   ]
  },
  {
   "cell_type": "code",
   "execution_count": 12,
   "metadata": {},
   "outputs": [],
   "source": [
    "Invesco = 'QQQ'\n",
    "Dow = 'DIA'\n",
    "Spyder = 'SPY' "
   ]
  },
  {
   "cell_type": "code",
   "execution_count": 31,
   "metadata": {},
   "outputs": [],
   "source": [
    "# creating a function that will gather data on each stock called get_data\n",
    "\n",
    "def get_data(ticker):\n",
    "    try:\n",
    "        stock_data = data.DataReader(ticker,'yahoo',Start, End)\n",
    "        print(stock_data)\n",
    "        \n",
    "    except RemoteDataError:\n",
    "        print(\" No data found for {t}\".format(t=ticker))\n",
    "         "
   ]
  },
  {
   "cell_type": "code",
   "execution_count": 15,
   "metadata": {},
   "outputs": [],
   "source": [
    "def get_stats(stock_data):\n",
    "    return {\n",
    "        'last': np.mean(stock_data.tail(1))\n",
    "    }"
   ]
  },
  {
   "cell_type": "code",
   "execution_count": 16,
   "metadata": {},
   "outputs": [],
   "source": [
    "def clean(stock_data,col):\n",
    "    wkdays = pd.date_range_(start = Start, end=End)\n",
    "    clean_data = stock_data[col].reindex(wkdays)\n",
    "    return clean_data.ffilna(method = 'ffill')"
   ]
  },
  {
   "cell_type": "code",
   "execution_count": null,
   "metadata": {},
   "outputs": [],
   "source": []
  },
  {
   "cell_type": "code",
   "execution_count": 17,
   "metadata": {},
   "outputs": [
    {
     "name": "stdout",
     "output_type": "stream",
     "text": [
      "                  High         Low        Open       Close     Volume  \\\n",
      "Date                                                                    \n",
      "2019-01-02  234.000000  229.139999  229.270004  233.360001  5319500.0   \n",
      "2019-01-03  231.419998  226.360001  231.250000  226.720001  7350200.0   \n",
      "2019-01-04  235.179993  229.729996  230.000000  234.279999  7343700.0   \n",
      "2019-01-07  236.880005  232.949997  234.839996  235.360001  5101600.0   \n",
      "2019-01-08  238.660004  235.789993  237.940002  237.919998  4845800.0   \n",
      "...                ...         ...         ...         ...        ...   \n",
      "2021-02-19  316.339996  314.579987  315.609985  314.920013  2313500.0   \n",
      "2021-02-22  316.489990  312.769989  312.899994  315.209991  2978000.0   \n",
      "2021-02-23  316.489990  311.600006  314.769989  315.390015  5716300.0   \n",
      "2021-02-24  320.040009  314.179993  314.679993  319.529999  4273100.0   \n",
      "2021-02-25  319.920013  312.959991  319.713989  313.980011  7506202.0   \n",
      "\n",
      "             Adj Close  \n",
      "Date                    \n",
      "2019-01-02  222.812439  \n",
      "2019-01-03  216.472534  \n",
      "2019-01-04  223.690781  \n",
      "2019-01-07  224.721970  \n",
      "2019-01-08  227.166275  \n",
      "...                ...  \n",
      "2021-02-19  314.920013  \n",
      "2021-02-22  315.209991  \n",
      "2021-02-23  315.390015  \n",
      "2021-02-24  319.529999  \n",
      "2021-02-25  313.980011  \n",
      "\n",
      "[542 rows x 6 columns]\n"
     ]
    }
   ],
   "source": [
    "get_data(Dow)"
   ]
  },
  {
   "cell_type": "code",
   "execution_count": 25,
   "metadata": {},
   "outputs": [
    {
     "name": "stdout",
     "output_type": "stream",
     "text": [
      "                  High         Low        Open       Close     Volume  \\\n",
      "Date                                                                    \n",
      "2019-01-02  234.000000  229.139999  229.270004  233.360001  5319500.0   \n",
      "2019-01-03  231.419998  226.360001  231.250000  226.720001  7350200.0   \n",
      "2019-01-04  235.179993  229.729996  230.000000  234.279999  7343700.0   \n",
      "2019-01-07  236.880005  232.949997  234.839996  235.360001  5101600.0   \n",
      "2019-01-08  238.660004  235.789993  237.940002  237.919998  4845800.0   \n",
      "...                ...         ...         ...         ...        ...   \n",
      "2021-02-19  316.339996  314.579987  315.609985  314.920013  2313500.0   \n",
      "2021-02-22  316.489990  312.769989  312.899994  315.209991  2978000.0   \n",
      "2021-02-23  316.489990  311.600006  314.769989  315.390015  5716300.0   \n",
      "2021-02-24  320.040009  314.179993  314.679993  319.529999  4273100.0   \n",
      "2021-02-25  319.920013  312.959991  319.713989  313.980011  7506202.0   \n",
      "\n",
      "             Adj Close  \n",
      "Date                    \n",
      "2019-01-02  222.812439  \n",
      "2019-01-03  216.472534  \n",
      "2019-01-04  223.690781  \n",
      "2019-01-07  224.721970  \n",
      "2019-01-08  227.166275  \n",
      "...                ...  \n",
      "2021-02-19  314.920013  \n",
      "2021-02-22  315.209991  \n",
      "2021-02-23  315.390015  \n",
      "2021-02-24  319.529999  \n",
      "2021-02-25  313.980011  \n",
      "\n",
      "[542 rows x 6 columns]\n"
     ]
    }
   ],
   "source": [
    "get_data(Dow)"
   ]
  },
  {
   "cell_type": "code",
   "execution_count": 26,
   "metadata": {},
   "outputs": [],
   "source": []
  },
  {
   "cell_type": "code",
   "execution_count": 28,
   "metadata": {},
   "outputs": [
    {
     "name": "stdout",
     "output_type": "stream",
     "text": [
      "                  High         Low        Open       Close       Volume  \\\n",
      "Date                                                                      \n",
      "2019-01-02  155.750000  150.880005  150.990005  154.880005   58576700.0   \n",
      "2019-01-03  153.259995  149.490005  152.600006  149.820007   74820200.0   \n",
      "2019-01-04  157.000000  151.740005  152.339996  156.229996   74709300.0   \n",
      "2019-01-07  158.860001  156.110001  156.619995  158.089996   52059300.0   \n",
      "2019-01-08  160.110001  157.199997  159.539993  159.520004   49388700.0   \n",
      "...                ...         ...         ...         ...          ...   \n",
      "2021-02-19  333.989990  329.970001  333.859985  331.019989   39126400.0   \n",
      "2021-02-22  327.799988  322.230011  326.500000  322.440002   47045800.0   \n",
      "2021-02-23  323.200012  311.000000  317.000000  321.480011   97080500.0   \n",
      "2021-02-24  324.450012  315.959991  318.739990  324.130005   57976600.0   \n",
      "2021-02-25  324.029999  311.239990  321.390015  312.829987  104306481.0   \n",
      "\n",
      "             Adj Close  \n",
      "Date                    \n",
      "2019-01-02  152.744461  \n",
      "2019-01-03  147.754257  \n",
      "2019-01-04  154.075851  \n",
      "2019-01-07  155.910202  \n",
      "2019-01-08  157.320496  \n",
      "...                ...  \n",
      "2021-02-19  331.019989  \n",
      "2021-02-22  322.440002  \n",
      "2021-02-23  321.480011  \n",
      "2021-02-24  324.130005  \n",
      "2021-02-25  312.829987  \n",
      "\n",
      "[542 rows x 6 columns]\n"
     ]
    }
   ],
   "source": [
    "get_data(Invesco)"
   ]
  },
  {
   "cell_type": "code",
   "execution_count": null,
   "metadata": {},
   "outputs": [],
   "source": []
  },
  {
   "cell_type": "code",
   "execution_count": 30,
   "metadata": {},
   "outputs": [
    {
     "name": "stdout",
     "output_type": "stream",
     "text": [
      "                  High         Low        Open       Close       Volume  \\\n",
      "Date                                                                      \n",
      "2019-01-02  251.210007  245.949997  245.979996  250.179993  126925200.0   \n",
      "2019-01-03  248.570007  243.669998  248.229996  244.210007  144140700.0   \n",
      "2019-01-04  253.110001  247.169998  247.589996  252.389999  142628800.0   \n",
      "2019-01-07  255.949997  251.690002  252.690002  254.380005  103139100.0   \n",
      "2019-01-08  257.309998  254.000000  256.820007  256.769989  102512600.0   \n",
      "...                ...         ...         ...         ...          ...   \n",
      "2021-02-19  392.380005  389.549988  392.070007  390.029999   83142800.0   \n",
      "2021-02-22  389.619995  386.739990  387.059998  387.029999   67160000.0   \n",
      "2021-02-23  388.950012  380.200012  384.660004  387.500000  106997200.0   \n",
      "2021-02-24  392.230011  385.269989  386.329987  391.769989   72226600.0   \n",
      "2021-02-25  391.869995  380.778900  390.410004  382.329987  140680224.0   \n",
      "\n",
      "             Adj Close  \n",
      "Date                    \n",
      "2019-01-02  241.029480  \n",
      "2019-01-03  235.277832  \n",
      "2019-01-04  243.158661  \n",
      "2019-01-07  245.075882  \n",
      "2019-01-08  247.378433  \n",
      "...                ...  \n",
      "2021-02-19  390.029999  \n",
      "2021-02-22  387.029999  \n",
      "2021-02-23  387.500000  \n",
      "2021-02-24  391.769989  \n",
      "2021-02-25  382.329987  \n",
      "\n",
      "[542 rows x 6 columns]\n"
     ]
    }
   ],
   "source": [
    "get_data(Spyder)"
   ]
  },
  {
   "cell_type": "code",
   "execution_count": null,
   "metadata": {},
   "outputs": [],
   "source": []
  },
  {
   "cell_type": "markdown",
   "metadata": {},
   "source": [
    "#### An alternate method of gathering data for more than one ticker at a time. "
   ]
  },
  {
   "cell_type": "markdown",
   "metadata": {},
   "source": [
    "### Importing stock prices from Yahoo Finance. "
   ]
  },
  {
   "cell_type": "code",
   "execution_count": 33,
   "metadata": {},
   "outputs": [
    {
     "name": "stdout",
     "output_type": "stream",
     "text": [
      "Collecting yfinance\n",
      "  Downloading yfinance-0.1.55.tar.gz (23 kB)\n",
      "Requirement already satisfied: pandas>=0.24 in c:\\users\\jharbour\\anaconda3\\lib\\site-packages (from yfinance) (1.0.5)\n",
      "Requirement already satisfied: numpy>=1.15 in c:\\users\\jharbour\\anaconda3\\lib\\site-packages (from yfinance) (1.18.5)\n",
      "Requirement already satisfied: requests>=2.20 in c:\\users\\jharbour\\anaconda3\\lib\\site-packages (from yfinance) (2.24.0)\n",
      "Collecting multitasking>=0.0.7\n",
      "  Downloading multitasking-0.0.9.tar.gz (8.1 kB)\n",
      "Requirement already satisfied: lxml>=4.5.1 in c:\\users\\jharbour\\anaconda3\\lib\\site-packages (from yfinance) (4.5.2)\n",
      "Requirement already satisfied: pytz>=2017.2 in c:\\users\\jharbour\\anaconda3\\lib\\site-packages (from pandas>=0.24->yfinance) (2020.1)\n",
      "Requirement already satisfied: python-dateutil>=2.6.1 in c:\\users\\jharbour\\anaconda3\\lib\\site-packages (from pandas>=0.24->yfinance) (2.8.1)\n",
      "Requirement already satisfied: urllib3!=1.25.0,!=1.25.1,<1.26,>=1.21.1 in c:\\users\\jharbour\\anaconda3\\lib\\site-packages (from requests>=2.20->yfinance) (1.25.9)\n",
      "Requirement already satisfied: idna<3,>=2.5 in c:\\users\\jharbour\\anaconda3\\lib\\site-packages (from requests>=2.20->yfinance) (2.10)\n",
      "Requirement already satisfied: chardet<4,>=3.0.2 in c:\\users\\jharbour\\anaconda3\\lib\\site-packages (from requests>=2.20->yfinance) (3.0.4)\n",
      "Requirement already satisfied: certifi>=2017.4.17 in c:\\users\\jharbour\\anaconda3\\lib\\site-packages (from requests>=2.20->yfinance) (2020.6.20)\n",
      "Requirement already satisfied: six>=1.5 in c:\\users\\jharbour\\anaconda3\\lib\\site-packages (from python-dateutil>=2.6.1->pandas>=0.24->yfinance) (1.15.0)\n",
      "Building wheels for collected packages: yfinance, multitasking\n",
      "  Building wheel for yfinance (setup.py): started\n",
      "  Building wheel for yfinance (setup.py): finished with status 'done'\n",
      "  Created wheel for yfinance: filename=yfinance-0.1.55-py2.py3-none-any.whl size=22622 sha256=b513a4ec0a4a278fcac66ba530ebb4a6babaf5e0b02bb1b3a521b60054ff06e9\n",
      "  Stored in directory: c:\\users\\jharbour\\appdata\\local\\pip\\cache\\wheels\\b4\\c3\\39\\9c01ae2b4726f37024bba5592bec868b47a2fab5a786e8979a\n",
      "  Building wheel for multitasking (setup.py): started\n",
      "  Building wheel for multitasking (setup.py): finished with status 'done'\n",
      "  Created wheel for multitasking: filename=multitasking-0.0.9-py3-none-any.whl size=8374 sha256=bf9c6695564c567653581a74a0c0b5d233a74fb8e0f18e649997c7bd11bd44f7\n",
      "  Stored in directory: c:\\users\\jharbour\\appdata\\local\\pip\\cache\\wheels\\57\\6d\\a3\\a39b839cc75274d2acfb1c58bfead2f726c6577fe8c4723f13\n",
      "Successfully built yfinance multitasking\n",
      "Installing collected packages: multitasking, yfinance\n",
      "Successfully installed multitasking-0.0.9 yfinance-0.1.55\n"
     ]
    }
   ],
   "source": [
    "!pip install yfinance\n",
    "import yfinance as yf "
   ]
  },
  {
   "cell_type": "code",
   "execution_count": 34,
   "metadata": {},
   "outputs": [],
   "source": [
    "ticker = \"QQQ\""
   ]
  },
  {
   "cell_type": "code",
   "execution_count": 39,
   "metadata": {},
   "outputs": [
    {
     "name": "stdout",
     "output_type": "stream",
     "text": [
      "[*********************100%***********************]  1 of 1 completed\n"
     ]
    }
   ],
   "source": [
    "Nasdaq = yf.download(ticker, start = \"2020-1-1\", end = \"2021-2-19\")"
   ]
  },
  {
   "cell_type": "code",
   "execution_count": 37,
   "metadata": {},
   "outputs": [
    {
     "data": {
      "text/plain": [
       "pandas.core.frame.DataFrame"
      ]
     },
     "execution_count": 37,
     "metadata": {},
     "output_type": "execute_result"
    }
   ],
   "source": [
    "type(Nasdaq)"
   ]
  },
  {
   "cell_type": "code",
   "execution_count": 40,
   "metadata": {},
   "outputs": [],
   "source": [
    "# getting data for more than one stock(or etf)\n",
    "\n",
    "ticks = ['QQQ','SPY','DIA']"
   ]
  },
  {
   "cell_type": "code",
   "execution_count": 55,
   "metadata": {
    "scrolled": true
   },
   "outputs": [
    {
     "name": "stdout",
     "output_type": "stream",
     "text": [
      "[*********************100%***********************]  3 of 3 completed\n"
     ]
    },
    {
     "data": {
      "text/html": [
       "<div>\n",
       "<style scoped>\n",
       "    .dataframe tbody tr th:only-of-type {\n",
       "        vertical-align: middle;\n",
       "    }\n",
       "\n",
       "    .dataframe tbody tr th {\n",
       "        vertical-align: top;\n",
       "    }\n",
       "\n",
       "    .dataframe thead tr th {\n",
       "        text-align: left;\n",
       "    }\n",
       "\n",
       "    .dataframe thead tr:last-of-type th {\n",
       "        text-align: right;\n",
       "    }\n",
       "</style>\n",
       "<table border=\"1\" class=\"dataframe\">\n",
       "  <thead>\n",
       "    <tr>\n",
       "      <th></th>\n",
       "      <th colspan=\"6\" halign=\"left\">QQQ</th>\n",
       "      <th colspan=\"6\" halign=\"left\">DIA</th>\n",
       "      <th colspan=\"6\" halign=\"left\">SPY</th>\n",
       "    </tr>\n",
       "    <tr>\n",
       "      <th></th>\n",
       "      <th>Open</th>\n",
       "      <th>High</th>\n",
       "      <th>Low</th>\n",
       "      <th>Close</th>\n",
       "      <th>Adj Close</th>\n",
       "      <th>Volume</th>\n",
       "      <th>Open</th>\n",
       "      <th>High</th>\n",
       "      <th>Low</th>\n",
       "      <th>Close</th>\n",
       "      <th>Adj Close</th>\n",
       "      <th>Volume</th>\n",
       "      <th>Open</th>\n",
       "      <th>High</th>\n",
       "      <th>Low</th>\n",
       "      <th>Close</th>\n",
       "      <th>Adj Close</th>\n",
       "      <th>Volume</th>\n",
       "    </tr>\n",
       "    <tr>\n",
       "      <th>Date</th>\n",
       "      <th></th>\n",
       "      <th></th>\n",
       "      <th></th>\n",
       "      <th></th>\n",
       "      <th></th>\n",
       "      <th></th>\n",
       "      <th></th>\n",
       "      <th></th>\n",
       "      <th></th>\n",
       "      <th></th>\n",
       "      <th></th>\n",
       "      <th></th>\n",
       "      <th></th>\n",
       "      <th></th>\n",
       "      <th></th>\n",
       "      <th></th>\n",
       "      <th></th>\n",
       "      <th></th>\n",
       "    </tr>\n",
       "  </thead>\n",
       "  <tbody>\n",
       "    <tr>\n",
       "      <th>2020-01-02</th>\n",
       "      <td>214.40</td>\n",
       "      <td>216.16</td>\n",
       "      <td>213.98</td>\n",
       "      <td>216.16</td>\n",
       "      <td>214.94</td>\n",
       "      <td>30969400</td>\n",
       "      <td>286.44</td>\n",
       "      <td>288.63</td>\n",
       "      <td>286.15</td>\n",
       "      <td>288.62</td>\n",
       "      <td>281.82</td>\n",
       "      <td>3865500</td>\n",
       "      <td>323.54</td>\n",
       "      <td>324.89</td>\n",
       "      <td>322.53</td>\n",
       "      <td>324.87</td>\n",
       "      <td>318.91</td>\n",
       "      <td>59151200</td>\n",
       "    </tr>\n",
       "    <tr>\n",
       "      <th>2020-01-03</th>\n",
       "      <td>213.30</td>\n",
       "      <td>215.47</td>\n",
       "      <td>213.28</td>\n",
       "      <td>214.18</td>\n",
       "      <td>212.97</td>\n",
       "      <td>27518900</td>\n",
       "      <td>285.34</td>\n",
       "      <td>287.11</td>\n",
       "      <td>285.18</td>\n",
       "      <td>286.32</td>\n",
       "      <td>279.58</td>\n",
       "      <td>3296700</td>\n",
       "      <td>321.16</td>\n",
       "      <td>323.64</td>\n",
       "      <td>321.10</td>\n",
       "      <td>322.41</td>\n",
       "      <td>316.50</td>\n",
       "      <td>77709700</td>\n",
       "    </tr>\n",
       "    <tr>\n",
       "      <th>2020-01-06</th>\n",
       "      <td>212.50</td>\n",
       "      <td>215.59</td>\n",
       "      <td>212.24</td>\n",
       "      <td>215.56</td>\n",
       "      <td>214.34</td>\n",
       "      <td>21655300</td>\n",
       "      <td>284.29</td>\n",
       "      <td>287.03</td>\n",
       "      <td>284.16</td>\n",
       "      <td>286.98</td>\n",
       "      <td>280.22</td>\n",
       "      <td>1645100</td>\n",
       "      <td>320.49</td>\n",
       "      <td>323.73</td>\n",
       "      <td>320.36</td>\n",
       "      <td>323.64</td>\n",
       "      <td>317.71</td>\n",
       "      <td>55653900</td>\n",
       "    </tr>\n",
       "    <tr>\n",
       "      <th>2020-01-07</th>\n",
       "      <td>215.64</td>\n",
       "      <td>216.14</td>\n",
       "      <td>214.85</td>\n",
       "      <td>215.53</td>\n",
       "      <td>214.31</td>\n",
       "      <td>22139300</td>\n",
       "      <td>286.30</td>\n",
       "      <td>286.79</td>\n",
       "      <td>285.58</td>\n",
       "      <td>285.74</td>\n",
       "      <td>279.01</td>\n",
       "      <td>1413000</td>\n",
       "      <td>323.02</td>\n",
       "      <td>323.54</td>\n",
       "      <td>322.24</td>\n",
       "      <td>322.73</td>\n",
       "      <td>316.81</td>\n",
       "      <td>40496400</td>\n",
       "    </tr>\n",
       "    <tr>\n",
       "      <th>2020-01-08</th>\n",
       "      <td>215.50</td>\n",
       "      <td>218.14</td>\n",
       "      <td>215.16</td>\n",
       "      <td>217.15</td>\n",
       "      <td>215.92</td>\n",
       "      <td>26397300</td>\n",
       "      <td>285.32</td>\n",
       "      <td>288.67</td>\n",
       "      <td>285.08</td>\n",
       "      <td>287.40</td>\n",
       "      <td>280.63</td>\n",
       "      <td>3136700</td>\n",
       "      <td>322.94</td>\n",
       "      <td>325.78</td>\n",
       "      <td>322.67</td>\n",
       "      <td>324.45</td>\n",
       "      <td>318.50</td>\n",
       "      <td>68296000</td>\n",
       "    </tr>\n",
       "    <tr>\n",
       "      <th>...</th>\n",
       "      <td>...</td>\n",
       "      <td>...</td>\n",
       "      <td>...</td>\n",
       "      <td>...</td>\n",
       "      <td>...</td>\n",
       "      <td>...</td>\n",
       "      <td>...</td>\n",
       "      <td>...</td>\n",
       "      <td>...</td>\n",
       "      <td>...</td>\n",
       "      <td>...</td>\n",
       "      <td>...</td>\n",
       "      <td>...</td>\n",
       "      <td>...</td>\n",
       "      <td>...</td>\n",
       "      <td>...</td>\n",
       "      <td>...</td>\n",
       "      <td>...</td>\n",
       "    </tr>\n",
       "    <tr>\n",
       "      <th>2021-02-12</th>\n",
       "      <td>333.71</td>\n",
       "      <td>336.62</td>\n",
       "      <td>332.63</td>\n",
       "      <td>336.45</td>\n",
       "      <td>336.45</td>\n",
       "      <td>20318000</td>\n",
       "      <td>314.28</td>\n",
       "      <td>315.14</td>\n",
       "      <td>313.83</td>\n",
       "      <td>315.04</td>\n",
       "      <td>314.44</td>\n",
       "      <td>2478800</td>\n",
       "      <td>389.85</td>\n",
       "      <td>392.90</td>\n",
       "      <td>389.77</td>\n",
       "      <td>392.64</td>\n",
       "      <td>392.64</td>\n",
       "      <td>50505700</td>\n",
       "    </tr>\n",
       "    <tr>\n",
       "      <th>2021-02-16</th>\n",
       "      <td>337.27</td>\n",
       "      <td>338.19</td>\n",
       "      <td>334.34</td>\n",
       "      <td>335.54</td>\n",
       "      <td>335.54</td>\n",
       "      <td>26880100</td>\n",
       "      <td>316.33</td>\n",
       "      <td>316.54</td>\n",
       "      <td>314.87</td>\n",
       "      <td>315.58</td>\n",
       "      <td>314.98</td>\n",
       "      <td>1831900</td>\n",
       "      <td>393.96</td>\n",
       "      <td>394.17</td>\n",
       "      <td>391.53</td>\n",
       "      <td>392.30</td>\n",
       "      <td>392.30</td>\n",
       "      <td>50700800</td>\n",
       "    </tr>\n",
       "    <tr>\n",
       "      <th>2021-02-17</th>\n",
       "      <td>332.47</td>\n",
       "      <td>335.66</td>\n",
       "      <td>330.17</td>\n",
       "      <td>333.93</td>\n",
       "      <td>333.93</td>\n",
       "      <td>31360300</td>\n",
       "      <td>314.69</td>\n",
       "      <td>316.91</td>\n",
       "      <td>313.87</td>\n",
       "      <td>316.60</td>\n",
       "      <td>316.00</td>\n",
       "      <td>2007400</td>\n",
       "      <td>390.42</td>\n",
       "      <td>392.66</td>\n",
       "      <td>389.33</td>\n",
       "      <td>392.39</td>\n",
       "      <td>392.39</td>\n",
       "      <td>52290600</td>\n",
       "    </tr>\n",
       "    <tr>\n",
       "      <th>2021-02-18</th>\n",
       "      <td>330.23</td>\n",
       "      <td>333.87</td>\n",
       "      <td>328.36</td>\n",
       "      <td>332.47</td>\n",
       "      <td>332.47</td>\n",
       "      <td>32069600</td>\n",
       "      <td>314.75</td>\n",
       "      <td>316.00</td>\n",
       "      <td>313.38</td>\n",
       "      <td>315.56</td>\n",
       "      <td>314.96</td>\n",
       "      <td>2609600</td>\n",
       "      <td>389.59</td>\n",
       "      <td>391.52</td>\n",
       "      <td>387.74</td>\n",
       "      <td>390.72</td>\n",
       "      <td>390.72</td>\n",
       "      <td>59552200</td>\n",
       "    </tr>\n",
       "    <tr>\n",
       "      <th>2021-02-19</th>\n",
       "      <td>333.86</td>\n",
       "      <td>333.99</td>\n",
       "      <td>329.97</td>\n",
       "      <td>331.02</td>\n",
       "      <td>331.02</td>\n",
       "      <td>39126400</td>\n",
       "      <td>315.61</td>\n",
       "      <td>316.34</td>\n",
       "      <td>314.58</td>\n",
       "      <td>314.92</td>\n",
       "      <td>314.92</td>\n",
       "      <td>2313500</td>\n",
       "      <td>392.07</td>\n",
       "      <td>392.38</td>\n",
       "      <td>389.55</td>\n",
       "      <td>390.03</td>\n",
       "      <td>390.03</td>\n",
       "      <td>83142800</td>\n",
       "    </tr>\n",
       "  </tbody>\n",
       "</table>\n",
       "<p>286 rows × 18 columns</p>\n",
       "</div>"
      ],
      "text/plain": [
       "               QQQ                                                 DIA  \\\n",
       "              Open    High     Low   Close Adj Close    Volume    Open   \n",
       "Date                                                                     \n",
       "2020-01-02  214.40  216.16  213.98  216.16    214.94  30969400  286.44   \n",
       "2020-01-03  213.30  215.47  213.28  214.18    212.97  27518900  285.34   \n",
       "2020-01-06  212.50  215.59  212.24  215.56    214.34  21655300  284.29   \n",
       "2020-01-07  215.64  216.14  214.85  215.53    214.31  22139300  286.30   \n",
       "2020-01-08  215.50  218.14  215.16  217.15    215.92  26397300  285.32   \n",
       "...            ...     ...     ...     ...       ...       ...     ...   \n",
       "2021-02-12  333.71  336.62  332.63  336.45    336.45  20318000  314.28   \n",
       "2021-02-16  337.27  338.19  334.34  335.54    335.54  26880100  316.33   \n",
       "2021-02-17  332.47  335.66  330.17  333.93    333.93  31360300  314.69   \n",
       "2021-02-18  330.23  333.87  328.36  332.47    332.47  32069600  314.75   \n",
       "2021-02-19  333.86  333.99  329.97  331.02    331.02  39126400  315.61   \n",
       "\n",
       "                                                          SPY                  \\\n",
       "              High     Low   Close Adj Close   Volume    Open    High     Low   \n",
       "Date                                                                            \n",
       "2020-01-02  288.63  286.15  288.62    281.82  3865500  323.54  324.89  322.53   \n",
       "2020-01-03  287.11  285.18  286.32    279.58  3296700  321.16  323.64  321.10   \n",
       "2020-01-06  287.03  284.16  286.98    280.22  1645100  320.49  323.73  320.36   \n",
       "2020-01-07  286.79  285.58  285.74    279.01  1413000  323.02  323.54  322.24   \n",
       "2020-01-08  288.67  285.08  287.40    280.63  3136700  322.94  325.78  322.67   \n",
       "...            ...     ...     ...       ...      ...     ...     ...     ...   \n",
       "2021-02-12  315.14  313.83  315.04    314.44  2478800  389.85  392.90  389.77   \n",
       "2021-02-16  316.54  314.87  315.58    314.98  1831900  393.96  394.17  391.53   \n",
       "2021-02-17  316.91  313.87  316.60    316.00  2007400  390.42  392.66  389.33   \n",
       "2021-02-18  316.00  313.38  315.56    314.96  2609600  389.59  391.52  387.74   \n",
       "2021-02-19  316.34  314.58  314.92    314.92  2313500  392.07  392.38  389.55   \n",
       "\n",
       "                                        \n",
       "             Close Adj Close    Volume  \n",
       "Date                                    \n",
       "2020-01-02  324.87    318.91  59151200  \n",
       "2020-01-03  322.41    316.50  77709700  \n",
       "2020-01-06  323.64    317.71  55653900  \n",
       "2020-01-07  322.73    316.81  40496400  \n",
       "2020-01-08  324.45    318.50  68296000  \n",
       "...            ...       ...       ...  \n",
       "2021-02-12  392.64    392.64  50505700  \n",
       "2021-02-16  392.30    392.30  50700800  \n",
       "2021-02-17  392.39    392.39  52290600  \n",
       "2021-02-18  390.72    390.72  59552200  \n",
       "2021-02-19  390.03    390.03  83142800  \n",
       "\n",
       "[286 rows x 18 columns]"
      ]
     },
     "execution_count": 55,
     "metadata": {},
     "output_type": "execute_result"
    }
   ],
   "source": [
    "etfs = yf.download(ticks, start = \"2020-1-1\", end = \"2021-2-20\", rounding = True, group_by = \"ticker\")\n",
    "etfs"
   ]
  },
  {
   "cell_type": "code",
   "execution_count": null,
   "metadata": {},
   "outputs": [],
   "source": []
  },
  {
   "cell_type": "code",
   "execution_count": null,
   "metadata": {
    "scrolled": true
   },
   "outputs": [],
   "source": []
  },
  {
   "cell_type": "code",
   "execution_count": 60,
   "metadata": {},
   "outputs": [
    {
     "name": "stdout",
     "output_type": "stream",
     "text": [
      "[*********************100%***********************]  3 of 3 completed\n"
     ]
    },
    {
     "data": {
      "text/html": [
       "<div>\n",
       "<style scoped>\n",
       "    .dataframe tbody tr th:only-of-type {\n",
       "        vertical-align: middle;\n",
       "    }\n",
       "\n",
       "    .dataframe tbody tr th {\n",
       "        vertical-align: top;\n",
       "    }\n",
       "\n",
       "    .dataframe thead th {\n",
       "        text-align: right;\n",
       "    }\n",
       "</style>\n",
       "<table border=\"1\" class=\"dataframe\">\n",
       "  <thead>\n",
       "    <tr style=\"text-align: right;\">\n",
       "      <th></th>\n",
       "      <th>DIA</th>\n",
       "      <th>QQQ</th>\n",
       "      <th>SPY</th>\n",
       "    </tr>\n",
       "    <tr>\n",
       "      <th>Date</th>\n",
       "      <th></th>\n",
       "      <th></th>\n",
       "      <th></th>\n",
       "    </tr>\n",
       "  </thead>\n",
       "  <tbody>\n",
       "    <tr>\n",
       "      <th>2020-01-02</th>\n",
       "      <td>288.62</td>\n",
       "      <td>216.16</td>\n",
       "      <td>324.87</td>\n",
       "    </tr>\n",
       "    <tr>\n",
       "      <th>2020-01-03</th>\n",
       "      <td>286.32</td>\n",
       "      <td>214.18</td>\n",
       "      <td>322.41</td>\n",
       "    </tr>\n",
       "    <tr>\n",
       "      <th>2020-01-06</th>\n",
       "      <td>286.98</td>\n",
       "      <td>215.56</td>\n",
       "      <td>323.64</td>\n",
       "    </tr>\n",
       "    <tr>\n",
       "      <th>2020-01-07</th>\n",
       "      <td>285.74</td>\n",
       "      <td>215.53</td>\n",
       "      <td>322.73</td>\n",
       "    </tr>\n",
       "    <tr>\n",
       "      <th>2020-01-08</th>\n",
       "      <td>287.40</td>\n",
       "      <td>217.15</td>\n",
       "      <td>324.45</td>\n",
       "    </tr>\n",
       "    <tr>\n",
       "      <th>...</th>\n",
       "      <td>...</td>\n",
       "      <td>...</td>\n",
       "      <td>...</td>\n",
       "    </tr>\n",
       "    <tr>\n",
       "      <th>2021-02-12</th>\n",
       "      <td>315.04</td>\n",
       "      <td>336.45</td>\n",
       "      <td>392.64</td>\n",
       "    </tr>\n",
       "    <tr>\n",
       "      <th>2021-02-16</th>\n",
       "      <td>315.58</td>\n",
       "      <td>335.54</td>\n",
       "      <td>392.30</td>\n",
       "    </tr>\n",
       "    <tr>\n",
       "      <th>2021-02-17</th>\n",
       "      <td>316.60</td>\n",
       "      <td>333.93</td>\n",
       "      <td>392.39</td>\n",
       "    </tr>\n",
       "    <tr>\n",
       "      <th>2021-02-18</th>\n",
       "      <td>315.56</td>\n",
       "      <td>332.47</td>\n",
       "      <td>390.72</td>\n",
       "    </tr>\n",
       "    <tr>\n",
       "      <th>2021-02-19</th>\n",
       "      <td>314.92</td>\n",
       "      <td>331.02</td>\n",
       "      <td>390.03</td>\n",
       "    </tr>\n",
       "  </tbody>\n",
       "</table>\n",
       "<p>286 rows × 3 columns</p>\n",
       "</div>"
      ],
      "text/plain": [
       "               DIA     QQQ     SPY\n",
       "Date                              \n",
       "2020-01-02  288.62  216.16  324.87\n",
       "2020-01-03  286.32  214.18  322.41\n",
       "2020-01-06  286.98  215.56  323.64\n",
       "2020-01-07  285.74  215.53  322.73\n",
       "2020-01-08  287.40  217.15  324.45\n",
       "...            ...     ...     ...\n",
       "2021-02-12  315.04  336.45  392.64\n",
       "2021-02-16  315.58  335.54  392.30\n",
       "2021-02-17  316.60  333.93  392.39\n",
       "2021-02-18  315.56  332.47  390.72\n",
       "2021-02-19  314.92  331.02  390.03\n",
       "\n",
       "[286 rows x 3 columns]"
      ]
     },
     "execution_count": 60,
     "metadata": {},
     "output_type": "execute_result"
    }
   ],
   "source": [
    "etfs_close = yf.download(ticks, start = \"2020-1-1\", end = \"2021-2-20\", rounding = True)[\"Close\"]\n",
    "etfs_close"
   ]
  },
  {
   "cell_type": "code",
   "execution_count": 63,
   "metadata": {},
   "outputs": [
    {
     "data": {
      "image/png": "[encoded data removed]",
      "text/plain": [
       "<Figure size 1152x576 with 1 Axes>"
      ]
     },
     "metadata": {},
     "output_type": "display_data"
    }
   ],
   "source": [
    "# Visualize the closing price history \n",
    "plt.figure(figsize = (16,8))\n",
    "plt.title(\"Close Price History\")\n",
    "plt.plot(etfs_close)\n",
    "plt.xlabel('Date', fontsize = 18)\n",
    "plt.ylabel('Closing Price in USD($)', fontsize = 18)\n",
    "plt.show()"
   ]
  },
  {
   "cell_type": "code",
   "execution_count": null,
   "metadata": {},
   "outputs": [],
   "source": []
  }
 ],
 "metadata": {
  "kernelspec": {
   "display_name": "Python 3",
   "language": "python",
   "name": "python3"
  },
  "language_info": {
   "codemirror_mode": {
    "name": "ipython",
    "version": 3
   },
   "file_extension": ".py",
   "mimetype": "text/x-python",
   "name": "python",
   "nbconvert_exporter": "python",
   "pygments_lexer": "ipython3",
   "version": "3.8.3"
  }
 },
 "nbformat": 4,
 "nbformat_minor": 4
}
