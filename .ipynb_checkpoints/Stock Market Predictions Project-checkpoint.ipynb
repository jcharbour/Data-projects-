{
 "cells": [
  {
   "cell_type": "markdown",
   "metadata": {},
   "source": [
    "### Project Objectives and questions to answer\n",
    "\n",
    "1. What was the change in price of the stock over time?\n",
    "2. What was the daily return of the stock on average?\n",
    "3. What was the moving average of the various stocks?\n",
    "4. What was the correlation between different stocks?\n",
    "5. How much value do we put at risk by investing in a particular stock?\n",
    "6. How can we attempt to predict future stock behavior? (Predicting the closing price stock price of APPLE inc using LSTM) \n",
    "\n",
    " \n",
    "- This project intends to extract and load 1 year of data on three etf's... \n",
    "   - Nasdaq (QQQ)\n",
    "   - SPider (SPY) \n",
    "   - Dow Industrial (DIA)\n",
    "   \n",
    " The goal is to find and use \"important\" technical features to and ultiately, predict the prices of the three stock above. "
   ]
  },
  {
   "cell_type": "markdown",
   "metadata": {},
   "source": [
    "import pandas as pd\n",
    "import numpy as np\n",
    "import datetime as dt\n",
    "import matplotlib.pyplot as plt\n",
    "plt.style.use('fivethirtyeight') \n",
    "import math\n"
   ]
  },
  {
   "cell_type": "code",
   "execution_count": 2,
   "metadata": {},
   "outputs": [],
   "source": [
    "#!pip install  pandas_datareader \n",
    "#from pandas_datareader._utils import RemoteDataError\n"
   ]
  },
  {
   "cell_type": "code",
   "execution_count": 3,
   "metadata": {},
   "outputs": [],
   "source": [
    "import pandas_datareader as dr\n",
    "from pandas_datareader._utils import RemoteDataError\n",
    "from pandas_datareader import data\n",
    "from datetime import datetime"
   ]
  },
  {
   "cell_type": "markdown",
   "metadata": {},
   "source": [
    "#### Defining variables for use in the function. (I may want to use this  code later to create a dashboard for any ticker)"
   ]
  },
  {
   "cell_type": "code",
   "execution_count": 4,
   "metadata": {},
   "outputs": [],
   "source": [
    "Start = '2019 -01-01'\n",
    "End = str(datetime.now().strftime('%Y-%m-%d'))"
   ]
  },
  {
   "cell_type": "code",
   "execution_count": 5,
   "metadata": {},
   "outputs": [],
   "source": [
    "Invesco = 'QQQ'\n",
    "Dow = 'DIA'\n",
    "Spyder = 'SPY' "
   ]
  },
  {
   "cell_type": "code",
   "execution_count": 6,
   "metadata": {},
   "outputs": [],
   "source": [
    "# creating a function that will gather data on each stock called get_data\n",
    "\n",
    "def get_data(ticker):\n",
    "    try:\n",
    "        stock_data = data.DataReader(ticker,'yahoo',Start, End)\n",
    "        print(stock_data)\n",
    "        \n",
    "    except RemoteDataError:\n",
    "        print(\" No data found for {t}\".format(t=ticker))\n",
    "         "
   ]
  },
  {
   "cell_type": "code",
   "execution_count": 7,
   "metadata": {},
   "outputs": [],
   "source": [
    "def get_stats(stock_data):\n",
    "    return {\n",
    "        'last': np.mean(stock_data.tail(1))\n",
    "    }"
   ]
  },
  {
   "cell_type": "code",
   "execution_count": 8,
   "metadata": {},
   "outputs": [],
   "source": [
    "def clean(stock_data,col):\n",
    "    wkdays = pd.date_range_(start = Start, end=End)\n",
    "    clean_data = stock_data[col].reindex(wkdays)\n",
    "    return clean_data.ffilna(method = 'ffill')"
   ]
  },
  {
   "cell_type": "code",
   "execution_count": null,
   "metadata": {},
   "outputs": [],
   "source": []
  },
  {
   "cell_type": "code",
   "execution_count": 9,
   "metadata": {},
   "outputs": [
    {
     "name": "stdout",
     "output_type": "stream",
     "text": [
      "                  High         Low        Open       Close     Volume  \\\n",
      "Date                                                                    \n",
      "2019-01-02  234.000000  229.139999  229.270004  233.360001  5319500.0   \n",
      "2019-01-03  231.419998  226.360001  231.250000  226.720001  7350200.0   \n",
      "2019-01-04  235.179993  229.729996  230.000000  234.279999  7343700.0   \n",
      "2019-01-07  236.880005  232.949997  234.839996  235.360001  5101600.0   \n",
      "2019-01-08  238.660004  235.789993  237.940002  237.919998  4845800.0   \n",
      "...                ...         ...         ...         ...        ...   \n",
      "2021-02-22  316.489990  312.769989  312.899994  315.209991  2978000.0   \n",
      "2021-02-23  316.489990  311.600006  314.769989  315.390015  5716300.0   \n",
      "2021-02-24  320.040009  314.179993  314.679993  319.529999  4273100.0   \n",
      "2021-02-25  319.920013  312.959991  319.709991  313.980011  7588700.0   \n",
      "2021-02-26  314.440002  309.209991  314.420013  311.600006  2661090.0   \n",
      "\n",
      "             Adj Close  \n",
      "Date                    \n",
      "2019-01-02  222.812439  \n",
      "2019-01-03  216.472534  \n",
      "2019-01-04  223.690781  \n",
      "2019-01-07  224.721970  \n",
      "2019-01-08  227.166275  \n",
      "...                ...  \n",
      "2021-02-22  315.209991  \n",
      "2021-02-23  315.390015  \n",
      "2021-02-24  319.529999  \n",
      "2021-02-25  313.980011  \n",
      "2021-02-26  311.600006  \n",
      "\n",
      "[543 rows x 6 columns]\n"
     ]
    }
   ],
   "source": [
    "get_data(Dow)"
   ]
  },
  {
   "cell_type": "code",
   "execution_count": 10,
   "metadata": {},
   "outputs": [
    {
     "name": "stdout",
     "output_type": "stream",
     "text": [
      "                  High         Low        Open       Close     Volume  \\\n",
      "Date                                                                    \n",
      "2019-01-02  234.000000  229.139999  229.270004  233.360001  5319500.0   \n",
      "2019-01-03  231.419998  226.360001  231.250000  226.720001  7350200.0   \n",
      "2019-01-04  235.179993  229.729996  230.000000  234.279999  7343700.0   \n",
      "2019-01-07  236.880005  232.949997  234.839996  235.360001  5101600.0   \n",
      "2019-01-08  238.660004  235.789993  237.940002  237.919998  4845800.0   \n",
      "...                ...         ...         ...         ...        ...   \n",
      "2021-02-22  316.489990  312.769989  312.899994  315.209991  2978000.0   \n",
      "2021-02-23  316.489990  311.600006  314.769989  315.390015  5716300.0   \n",
      "2021-02-24  320.040009  314.179993  314.679993  319.529999  4273100.0   \n",
      "2021-02-25  319.920013  312.959991  319.709991  313.980011  7588700.0   \n",
      "2021-02-26  314.440002  309.209991  314.420013  311.589996  2661290.0   \n",
      "\n",
      "             Adj Close  \n",
      "Date                    \n",
      "2019-01-02  222.812439  \n",
      "2019-01-03  216.472534  \n",
      "2019-01-04  223.690781  \n",
      "2019-01-07  224.721970  \n",
      "2019-01-08  227.166275  \n",
      "...                ...  \n",
      "2021-02-22  315.209991  \n",
      "2021-02-23  315.390015  \n",
      "2021-02-24  319.529999  \n",
      "2021-02-25  313.980011  \n",
      "2021-02-26  311.589996  \n",
      "\n",
      "[543 rows x 6 columns]\n"
     ]
    }
   ],
   "source": [
    "get_data(Dow)"
   ]
  },
  {
   "cell_type": "code",
   "execution_count": null,
   "metadata": {},
   "outputs": [],
   "source": []
  },
  {
   "cell_type": "code",
   "execution_count": 11,
   "metadata": {},
   "outputs": [
    {
     "name": "stdout",
     "output_type": "stream",
     "text": [
      "                  High         Low        Open       Close       Volume  \\\n",
      "Date                                                                      \n",
      "2019-01-02  155.750000  150.880005  150.990005  154.880005   58576700.0   \n",
      "2019-01-03  153.259995  149.490005  152.600006  149.820007   74820200.0   \n",
      "2019-01-04  157.000000  151.740005  152.339996  156.229996   74709300.0   \n",
      "2019-01-07  158.860001  156.110001  156.619995  158.089996   52059300.0   \n",
      "2019-01-08  160.110001  157.199997  159.539993  159.520004   49388700.0   \n",
      "...                ...         ...         ...         ...          ...   \n",
      "2021-02-22  327.799988  322.230011  326.500000  322.440002   47045800.0   \n",
      "2021-02-23  323.200012  311.000000  317.000000  321.480011   97080500.0   \n",
      "2021-02-24  324.450012  315.959991  318.739990  324.130005   57976600.0   \n",
      "2021-02-25  324.029999  311.239990  321.390015  312.829987  109453100.0   \n",
      "2021-02-26  317.750000  310.880005  315.850006  315.299988   39458941.0   \n",
      "\n",
      "             Adj Close  \n",
      "Date                    \n",
      "2019-01-02  152.744461  \n",
      "2019-01-03  147.754257  \n",
      "2019-01-04  154.075851  \n",
      "2019-01-07  155.910202  \n",
      "2019-01-08  157.320496  \n",
      "...                ...  \n",
      "2021-02-22  322.440002  \n",
      "2021-02-23  321.480011  \n",
      "2021-02-24  324.130005  \n",
      "2021-02-25  312.829987  \n",
      "2021-02-26  315.299988  \n",
      "\n",
      "[543 rows x 6 columns]\n"
     ]
    }
   ],
   "source": [
    "get_data(Invesco)"
   ]
  },
  {
   "cell_type": "code",
   "execution_count": null,
   "metadata": {},
   "outputs": [],
   "source": []
  },
  {
   "cell_type": "code",
   "execution_count": 12,
   "metadata": {},
   "outputs": [
    {
     "name": "stdout",
     "output_type": "stream",
     "text": [
      "                  High         Low        Open       Close       Volume  \\\n",
      "Date                                                                      \n",
      "2019-01-02  251.210007  245.949997  245.979996  250.179993  126925200.0   \n",
      "2019-01-03  248.570007  243.669998  248.229996  244.210007  144140700.0   \n",
      "2019-01-04  253.110001  247.169998  247.589996  252.389999  142628800.0   \n",
      "2019-01-07  255.949997  251.690002  252.690002  254.380005  103139100.0   \n",
      "2019-01-08  257.309998  254.000000  256.820007  256.769989  102512600.0   \n",
      "...                ...         ...         ...         ...          ...   \n",
      "2021-02-22  389.619995  386.739990  387.059998  387.029999   67160000.0   \n",
      "2021-02-23  388.950012  380.200012  384.660004  387.500000  106997200.0   \n",
      "2021-02-24  392.230011  385.269989  386.329987  391.769989   72226600.0   \n",
      "2021-02-25  391.880005  380.779999  390.410004  382.329987  146086500.0   \n",
      "2021-02-26  384.880005  378.230011  384.350006  382.190002   51021931.0   \n",
      "\n",
      "             Adj Close  \n",
      "Date                    \n",
      "2019-01-02  241.029480  \n",
      "2019-01-03  235.277832  \n",
      "2019-01-04  243.158661  \n",
      "2019-01-07  245.075882  \n",
      "2019-01-08  247.378433  \n",
      "...                ...  \n",
      "2021-02-22  387.029999  \n",
      "2021-02-23  387.500000  \n",
      "2021-02-24  391.769989  \n",
      "2021-02-25  382.329987  \n",
      "2021-02-26  382.190002  \n",
      "\n",
      "[543 rows x 6 columns]\n"
     ]
    }
   ],
   "source": [
    "get_data(Spyder)"
   ]
  },
  {
   "cell_type": "code",
   "execution_count": null,
   "metadata": {},
   "outputs": [],
   "source": []
  },
  {
   "cell_type": "markdown",
   "metadata": {},
   "source": [
    "#### An alternate method of gathering data for more than one ticker at a time. "
   ]
  },
  {
   "cell_type": "markdown",
   "metadata": {},
   "source": [
    "### Importing stock prices from Yahoo Finance. "
   ]
  },
  {
   "cell_type": "code",
   "execution_count": 13,
   "metadata": {},
   "outputs": [
    {
     "name": "stdout",
     "output_type": "stream",
     "text": [
      "Requirement already satisfied: yfinance in c:\\users\\jharbour\\anaconda3\\envs\\tensorflow\\lib\\site-packages (0.1.55)\n",
      "Requirement already satisfied: multitasking>=0.0.7 in c:\\users\\jharbour\\anaconda3\\envs\\tensorflow\\lib\\site-packages (from yfinance) (0.0.9)\n",
      "Requirement already satisfied: lxml>=4.5.1 in c:\\users\\jharbour\\anaconda3\\envs\\tensorflow\\lib\\site-packages (from yfinance) (4.6.2)\n",
      "Requirement already satisfied: numpy>=1.15 in c:\\users\\jharbour\\anaconda3\\envs\\tensorflow\\lib\\site-packages (from yfinance) (1.18.5)\n",
      "Requirement already satisfied: pandas>=0.24 in c:\\users\\jharbour\\anaconda3\\envs\\tensorflow\\lib\\site-packages (from yfinance) (1.2.2)\n",
      "Requirement already satisfied: requests>=2.20 in c:\\users\\jharbour\\anaconda3\\envs\\tensorflow\\lib\\site-packages (from yfinance) (2.25.1)\n",
      "Requirement already satisfied: python-dateutil>=2.7.3 in c:\\users\\jharbour\\anaconda3\\envs\\tensorflow\\lib\\site-packages (from pandas>=0.24->yfinance) (2.8.1)\n",
      "Requirement already satisfied: pytz>=2017.3 in c:\\users\\jharbour\\anaconda3\\envs\\tensorflow\\lib\\site-packages (from pandas>=0.24->yfinance) (2021.1)\n",
      "Requirement already satisfied: six>=1.5 in c:\\users\\jharbour\\anaconda3\\envs\\tensorflow\\lib\\site-packages (from python-dateutil>=2.7.3->pandas>=0.24->yfinance) (1.15.0)\n",
      "Requirement already satisfied: chardet<5,>=3.0.2 in c:\\users\\jharbour\\anaconda3\\envs\\tensorflow\\lib\\site-packages (from requests>=2.20->yfinance) (3.0.4)\n",
      "Requirement already satisfied: urllib3<1.27,>=1.21.1 in c:\\users\\jharbour\\anaconda3\\envs\\tensorflow\\lib\\site-packages (from requests>=2.20->yfinance) (1.26.3)\n",
      "Requirement already satisfied: certifi>=2017.4.17 in c:\\users\\jharbour\\anaconda3\\envs\\tensorflow\\lib\\site-packages (from requests>=2.20->yfinance) (2020.12.5)\n",
      "Requirement already satisfied: idna<3,>=2.5 in c:\\users\\jharbour\\anaconda3\\envs\\tensorflow\\lib\\site-packages (from requests>=2.20->yfinance) (2.10)\n"
     ]
    }
   ],
   "source": [
    "!pip install yfinance\n",
    "import yfinance as yf "
   ]
  },
  {
   "cell_type": "code",
   "execution_count": 14,
   "metadata": {},
   "outputs": [],
   "source": [
    "ticker = \"QQQ\""
   ]
  },
  {
   "cell_type": "code",
   "execution_count": 15,
   "metadata": {},
   "outputs": [
    {
     "name": "stdout",
     "output_type": "stream",
     "text": [
      "[*********************100%***********************]  1 of 1 completed\n"
     ]
    }
   ],
   "source": [
    "Nasdaq = yf.download(ticker, start = \"2020-1-1\", end = \"2021-2-19\")"
   ]
  },
  {
   "cell_type": "code",
   "execution_count": 16,
   "metadata": {},
   "outputs": [
    {
     "data": {
      "text/plain": [
       "pandas.core.frame.DataFrame"
      ]
     },
     "execution_count": 16,
     "metadata": {},
     "output_type": "execute_result"
    }
   ],
   "source": [
    "type(Nasdaq)"
   ]
  },
  {
   "cell_type": "code",
   "execution_count": 17,
   "metadata": {},
   "outputs": [],
   "source": [
    "# getting data for more than one stock(or etf)\n",
    "\n",
    "ticks = ['QQQ','SPY','DIA']"
   ]
  },
  {
   "cell_type": "code",
   "execution_count": 18,
   "metadata": {
    "scrolled": true
   },
   "outputs": [
    {
     "name": "stdout",
     "output_type": "stream",
     "text": [
      "[*********************100%***********************]  3 of 3 completed\n"
     ]
    },
    {
     "data": {
      "text/html": [
       "<div>\n",
       "<style scoped>\n",
       "    .dataframe tbody tr th:only-of-type {\n",
       "        vertical-align: middle;\n",
       "    }\n",
       "\n",
       "    .dataframe tbody tr th {\n",
       "        vertical-align: top;\n",
       "    }\n",
       "\n",
       "    .dataframe thead tr th {\n",
       "        text-align: left;\n",
       "    }\n",
       "\n",
       "    .dataframe thead tr:last-of-type th {\n",
       "        text-align: right;\n",
       "    }\n",
       "</style>\n",
       "<table border=\"1\" class=\"dataframe\">\n",
       "  <thead>\n",
       "    <tr>\n",
       "      <th></th>\n",
       "      <th colspan=\"6\" halign=\"left\">QQQ</th>\n",
       "      <th colspan=\"6\" halign=\"left\">DIA</th>\n",
       "      <th colspan=\"6\" halign=\"left\">SPY</th>\n",
       "    </tr>\n",
       "    <tr>\n",
       "      <th></th>\n",
       "      <th>Open</th>\n",
       "      <th>High</th>\n",
       "      <th>Low</th>\n",
       "      <th>Close</th>\n",
       "      <th>Adj Close</th>\n",
       "      <th>Volume</th>\n",
       "      <th>Open</th>\n",
       "      <th>High</th>\n",
       "      <th>Low</th>\n",
       "      <th>Close</th>\n",
       "      <th>Adj Close</th>\n",
       "      <th>Volume</th>\n",
       "      <th>Open</th>\n",
       "      <th>High</th>\n",
       "      <th>Low</th>\n",
       "      <th>Close</th>\n",
       "      <th>Adj Close</th>\n",
       "      <th>Volume</th>\n",
       "    </tr>\n",
       "    <tr>\n",
       "      <th>Date</th>\n",
       "      <th></th>\n",
       "      <th></th>\n",
       "      <th></th>\n",
       "      <th></th>\n",
       "      <th></th>\n",
       "      <th></th>\n",
       "      <th></th>\n",
       "      <th></th>\n",
       "      <th></th>\n",
       "      <th></th>\n",
       "      <th></th>\n",
       "      <th></th>\n",
       "      <th></th>\n",
       "      <th></th>\n",
       "      <th></th>\n",
       "      <th></th>\n",
       "      <th></th>\n",
       "      <th></th>\n",
       "    </tr>\n",
       "  </thead>\n",
       "  <tbody>\n",
       "    <tr>\n",
       "      <th>2020-01-02</th>\n",
       "      <td>214.40</td>\n",
       "      <td>216.16</td>\n",
       "      <td>213.98</td>\n",
       "      <td>216.16</td>\n",
       "      <td>214.94</td>\n",
       "      <td>30969400</td>\n",
       "      <td>286.44</td>\n",
       "      <td>288.63</td>\n",
       "      <td>286.15</td>\n",
       "      <td>288.62</td>\n",
       "      <td>281.82</td>\n",
       "      <td>3865500</td>\n",
       "      <td>323.54</td>\n",
       "      <td>324.89</td>\n",
       "      <td>322.53</td>\n",
       "      <td>324.87</td>\n",
       "      <td>318.91</td>\n",
       "      <td>59151200</td>\n",
       "    </tr>\n",
       "    <tr>\n",
       "      <th>2020-01-03</th>\n",
       "      <td>213.30</td>\n",
       "      <td>215.47</td>\n",
       "      <td>213.28</td>\n",
       "      <td>214.18</td>\n",
       "      <td>212.97</td>\n",
       "      <td>27518900</td>\n",
       "      <td>285.34</td>\n",
       "      <td>287.11</td>\n",
       "      <td>285.18</td>\n",
       "      <td>286.32</td>\n",
       "      <td>279.58</td>\n",
       "      <td>3296700</td>\n",
       "      <td>321.16</td>\n",
       "      <td>323.64</td>\n",
       "      <td>321.10</td>\n",
       "      <td>322.41</td>\n",
       "      <td>316.50</td>\n",
       "      <td>77709700</td>\n",
       "    </tr>\n",
       "    <tr>\n",
       "      <th>2020-01-06</th>\n",
       "      <td>212.50</td>\n",
       "      <td>215.59</td>\n",
       "      <td>212.24</td>\n",
       "      <td>215.56</td>\n",
       "      <td>214.34</td>\n",
       "      <td>21655300</td>\n",
       "      <td>284.29</td>\n",
       "      <td>287.03</td>\n",
       "      <td>284.16</td>\n",
       "      <td>286.98</td>\n",
       "      <td>280.22</td>\n",
       "      <td>1645100</td>\n",
       "      <td>320.49</td>\n",
       "      <td>323.73</td>\n",
       "      <td>320.36</td>\n",
       "      <td>323.64</td>\n",
       "      <td>317.71</td>\n",
       "      <td>55653900</td>\n",
       "    </tr>\n",
       "    <tr>\n",
       "      <th>2020-01-07</th>\n",
       "      <td>215.64</td>\n",
       "      <td>216.14</td>\n",
       "      <td>214.85</td>\n",
       "      <td>215.53</td>\n",
       "      <td>214.31</td>\n",
       "      <td>22139300</td>\n",
       "      <td>286.30</td>\n",
       "      <td>286.79</td>\n",
       "      <td>285.58</td>\n",
       "      <td>285.74</td>\n",
       "      <td>279.01</td>\n",
       "      <td>1413000</td>\n",
       "      <td>323.02</td>\n",
       "      <td>323.54</td>\n",
       "      <td>322.24</td>\n",
       "      <td>322.73</td>\n",
       "      <td>316.81</td>\n",
       "      <td>40496400</td>\n",
       "    </tr>\n",
       "    <tr>\n",
       "      <th>2020-01-08</th>\n",
       "      <td>215.50</td>\n",
       "      <td>218.14</td>\n",
       "      <td>215.16</td>\n",
       "      <td>217.15</td>\n",
       "      <td>215.92</td>\n",
       "      <td>26397300</td>\n",
       "      <td>285.32</td>\n",
       "      <td>288.67</td>\n",
       "      <td>285.08</td>\n",
       "      <td>287.40</td>\n",
       "      <td>280.63</td>\n",
       "      <td>3136700</td>\n",
       "      <td>322.94</td>\n",
       "      <td>325.78</td>\n",
       "      <td>322.67</td>\n",
       "      <td>324.45</td>\n",
       "      <td>318.50</td>\n",
       "      <td>68296000</td>\n",
       "    </tr>\n",
       "    <tr>\n",
       "      <th>...</th>\n",
       "      <td>...</td>\n",
       "      <td>...</td>\n",
       "      <td>...</td>\n",
       "      <td>...</td>\n",
       "      <td>...</td>\n",
       "      <td>...</td>\n",
       "      <td>...</td>\n",
       "      <td>...</td>\n",
       "      <td>...</td>\n",
       "      <td>...</td>\n",
       "      <td>...</td>\n",
       "      <td>...</td>\n",
       "      <td>...</td>\n",
       "      <td>...</td>\n",
       "      <td>...</td>\n",
       "      <td>...</td>\n",
       "      <td>...</td>\n",
       "      <td>...</td>\n",
       "    </tr>\n",
       "    <tr>\n",
       "      <th>2021-02-12</th>\n",
       "      <td>333.71</td>\n",
       "      <td>336.62</td>\n",
       "      <td>332.63</td>\n",
       "      <td>336.45</td>\n",
       "      <td>336.45</td>\n",
       "      <td>20318000</td>\n",
       "      <td>314.28</td>\n",
       "      <td>315.14</td>\n",
       "      <td>313.83</td>\n",
       "      <td>315.04</td>\n",
       "      <td>314.44</td>\n",
       "      <td>2478800</td>\n",
       "      <td>389.85</td>\n",
       "      <td>392.90</td>\n",
       "      <td>389.77</td>\n",
       "      <td>392.64</td>\n",
       "      <td>392.64</td>\n",
       "      <td>50505700</td>\n",
       "    </tr>\n",
       "    <tr>\n",
       "      <th>2021-02-16</th>\n",
       "      <td>337.27</td>\n",
       "      <td>338.19</td>\n",
       "      <td>334.34</td>\n",
       "      <td>335.54</td>\n",
       "      <td>335.54</td>\n",
       "      <td>26880100</td>\n",
       "      <td>316.33</td>\n",
       "      <td>316.54</td>\n",
       "      <td>314.87</td>\n",
       "      <td>315.58</td>\n",
       "      <td>314.98</td>\n",
       "      <td>1831900</td>\n",
       "      <td>393.96</td>\n",
       "      <td>394.17</td>\n",
       "      <td>391.53</td>\n",
       "      <td>392.30</td>\n",
       "      <td>392.30</td>\n",
       "      <td>50700800</td>\n",
       "    </tr>\n",
       "    <tr>\n",
       "      <th>2021-02-17</th>\n",
       "      <td>332.47</td>\n",
       "      <td>335.66</td>\n",
       "      <td>330.17</td>\n",
       "      <td>333.93</td>\n",
       "      <td>333.93</td>\n",
       "      <td>31360300</td>\n",
       "      <td>314.69</td>\n",
       "      <td>316.91</td>\n",
       "      <td>313.87</td>\n",
       "      <td>316.60</td>\n",
       "      <td>316.00</td>\n",
       "      <td>2007400</td>\n",
       "      <td>390.42</td>\n",
       "      <td>392.66</td>\n",
       "      <td>389.33</td>\n",
       "      <td>392.39</td>\n",
       "      <td>392.39</td>\n",
       "      <td>52290600</td>\n",
       "    </tr>\n",
       "    <tr>\n",
       "      <th>2021-02-18</th>\n",
       "      <td>330.23</td>\n",
       "      <td>333.87</td>\n",
       "      <td>328.36</td>\n",
       "      <td>332.47</td>\n",
       "      <td>332.47</td>\n",
       "      <td>32069600</td>\n",
       "      <td>314.75</td>\n",
       "      <td>316.00</td>\n",
       "      <td>313.38</td>\n",
       "      <td>315.56</td>\n",
       "      <td>314.96</td>\n",
       "      <td>2609600</td>\n",
       "      <td>389.59</td>\n",
       "      <td>391.52</td>\n",
       "      <td>387.74</td>\n",
       "      <td>390.72</td>\n",
       "      <td>390.72</td>\n",
       "      <td>59552200</td>\n",
       "    </tr>\n",
       "    <tr>\n",
       "      <th>2021-02-19</th>\n",
       "      <td>333.86</td>\n",
       "      <td>333.99</td>\n",
       "      <td>329.97</td>\n",
       "      <td>331.02</td>\n",
       "      <td>331.02</td>\n",
       "      <td>39126400</td>\n",
       "      <td>315.61</td>\n",
       "      <td>316.34</td>\n",
       "      <td>314.58</td>\n",
       "      <td>314.92</td>\n",
       "      <td>314.92</td>\n",
       "      <td>2313500</td>\n",
       "      <td>392.07</td>\n",
       "      <td>392.38</td>\n",
       "      <td>389.55</td>\n",
       "      <td>390.03</td>\n",
       "      <td>390.03</td>\n",
       "      <td>83142800</td>\n",
       "    </tr>\n",
       "  </tbody>\n",
       "</table>\n",
       "<p>286 rows × 18 columns</p>\n",
       "</div>"
      ],
      "text/plain": [
       "               QQQ                                                 DIA  \\\n",
       "              Open    High     Low   Close Adj Close    Volume    Open   \n",
       "Date                                                                     \n",
       "2020-01-02  214.40  216.16  213.98  216.16    214.94  30969400  286.44   \n",
       "2020-01-03  213.30  215.47  213.28  214.18    212.97  27518900  285.34   \n",
       "2020-01-06  212.50  215.59  212.24  215.56    214.34  21655300  284.29   \n",
       "2020-01-07  215.64  216.14  214.85  215.53    214.31  22139300  286.30   \n",
       "2020-01-08  215.50  218.14  215.16  217.15    215.92  26397300  285.32   \n",
       "...            ...     ...     ...     ...       ...       ...     ...   \n",
       "2021-02-12  333.71  336.62  332.63  336.45    336.45  20318000  314.28   \n",
       "2021-02-16  337.27  338.19  334.34  335.54    335.54  26880100  316.33   \n",
       "2021-02-17  332.47  335.66  330.17  333.93    333.93  31360300  314.69   \n",
       "2021-02-18  330.23  333.87  328.36  332.47    332.47  32069600  314.75   \n",
       "2021-02-19  333.86  333.99  329.97  331.02    331.02  39126400  315.61   \n",
       "\n",
       "                                                          SPY                  \\\n",
       "              High     Low   Close Adj Close   Volume    Open    High     Low   \n",
       "Date                                                                            \n",
       "2020-01-02  288.63  286.15  288.62    281.82  3865500  323.54  324.89  322.53   \n",
       "2020-01-03  287.11  285.18  286.32    279.58  3296700  321.16  323.64  321.10   \n",
       "2020-01-06  287.03  284.16  286.98    280.22  1645100  320.49  323.73  320.36   \n",
       "2020-01-07  286.79  285.58  285.74    279.01  1413000  323.02  323.54  322.24   \n",
       "2020-01-08  288.67  285.08  287.40    280.63  3136700  322.94  325.78  322.67   \n",
       "...            ...     ...     ...       ...      ...     ...     ...     ...   \n",
       "2021-02-12  315.14  313.83  315.04    314.44  2478800  389.85  392.90  389.77   \n",
       "2021-02-16  316.54  314.87  315.58    314.98  1831900  393.96  394.17  391.53   \n",
       "2021-02-17  316.91  313.87  316.60    316.00  2007400  390.42  392.66  389.33   \n",
       "2021-02-18  316.00  313.38  315.56    314.96  2609600  389.59  391.52  387.74   \n",
       "2021-02-19  316.34  314.58  314.92    314.92  2313500  392.07  392.38  389.55   \n",
       "\n",
       "                                        \n",
       "             Close Adj Close    Volume  \n",
       "Date                                    \n",
       "2020-01-02  324.87    318.91  59151200  \n",
       "2020-01-03  322.41    316.50  77709700  \n",
       "2020-01-06  323.64    317.71  55653900  \n",
       "2020-01-07  322.73    316.81  40496400  \n",
       "2020-01-08  324.45    318.50  68296000  \n",
       "...            ...       ...       ...  \n",
       "2021-02-12  392.64    392.64  50505700  \n",
       "2021-02-16  392.30    392.30  50700800  \n",
       "2021-02-17  392.39    392.39  52290600  \n",
       "2021-02-18  390.72    390.72  59552200  \n",
       "2021-02-19  390.03    390.03  83142800  \n",
       "\n",
       "[286 rows x 18 columns]"
      ]
     },
     "execution_count": 18,
     "metadata": {},
     "output_type": "execute_result"
    }
   ],
   "source": [
    "etfs = yf.download(ticks, start = \"2020-1-1\", end = \"2021-2-20\", rounding = True, group_by = \"ticker\")\n",
    "etfs"
   ]
  },
  {
   "cell_type": "code",
   "execution_count": null,
   "metadata": {},
   "outputs": [],
   "source": []
  },
  {
   "cell_type": "code",
   "execution_count": null,
   "metadata": {
    "scrolled": true
   },
   "outputs": [],
   "source": []
  },
  {
   "cell_type": "code",
   "execution_count": 19,
   "metadata": {},
   "outputs": [
    {
     "name": "stdout",
     "output_type": "stream",
     "text": [
      "[*********************100%***********************]  3 of 3 completed\n"
     ]
    },
    {
     "data": {
      "text/html": [
       "<div>\n",
       "<style scoped>\n",
       "    .dataframe tbody tr th:only-of-type {\n",
       "        vertical-align: middle;\n",
       "    }\n",
       "\n",
       "    .dataframe tbody tr th {\n",
       "        vertical-align: top;\n",
       "    }\n",
       "\n",
       "    .dataframe thead th {\n",
       "        text-align: right;\n",
       "    }\n",
       "</style>\n",
       "<table border=\"1\" class=\"dataframe\">\n",
       "  <thead>\n",
       "    <tr style=\"text-align: right;\">\n",
       "      <th></th>\n",
       "      <th>DIA</th>\n",
       "      <th>QQQ</th>\n",
       "      <th>SPY</th>\n",
       "    </tr>\n",
       "    <tr>\n",
       "      <th>Date</th>\n",
       "      <th></th>\n",
       "      <th></th>\n",
       "      <th></th>\n",
       "    </tr>\n",
       "  </thead>\n",
       "  <tbody>\n",
       "    <tr>\n",
       "      <th>2019-01-02</th>\n",
       "      <td>233.36</td>\n",
       "      <td>154.88</td>\n",
       "      <td>250.18</td>\n",
       "    </tr>\n",
       "    <tr>\n",
       "      <th>2019-01-03</th>\n",
       "      <td>226.72</td>\n",
       "      <td>149.82</td>\n",
       "      <td>244.21</td>\n",
       "    </tr>\n",
       "    <tr>\n",
       "      <th>2019-01-04</th>\n",
       "      <td>234.28</td>\n",
       "      <td>156.23</td>\n",
       "      <td>252.39</td>\n",
       "    </tr>\n",
       "    <tr>\n",
       "      <th>2019-01-07</th>\n",
       "      <td>235.36</td>\n",
       "      <td>158.09</td>\n",
       "      <td>254.38</td>\n",
       "    </tr>\n",
       "    <tr>\n",
       "      <th>2019-01-08</th>\n",
       "      <td>237.92</td>\n",
       "      <td>159.52</td>\n",
       "      <td>256.77</td>\n",
       "    </tr>\n",
       "    <tr>\n",
       "      <th>...</th>\n",
       "      <td>...</td>\n",
       "      <td>...</td>\n",
       "      <td>...</td>\n",
       "    </tr>\n",
       "    <tr>\n",
       "      <th>2021-02-12</th>\n",
       "      <td>315.04</td>\n",
       "      <td>336.45</td>\n",
       "      <td>392.64</td>\n",
       "    </tr>\n",
       "    <tr>\n",
       "      <th>2021-02-16</th>\n",
       "      <td>315.58</td>\n",
       "      <td>335.54</td>\n",
       "      <td>392.30</td>\n",
       "    </tr>\n",
       "    <tr>\n",
       "      <th>2021-02-17</th>\n",
       "      <td>316.60</td>\n",
       "      <td>333.93</td>\n",
       "      <td>392.39</td>\n",
       "    </tr>\n",
       "    <tr>\n",
       "      <th>2021-02-18</th>\n",
       "      <td>315.56</td>\n",
       "      <td>332.47</td>\n",
       "      <td>390.72</td>\n",
       "    </tr>\n",
       "    <tr>\n",
       "      <th>2021-02-19</th>\n",
       "      <td>314.92</td>\n",
       "      <td>331.02</td>\n",
       "      <td>390.03</td>\n",
       "    </tr>\n",
       "  </tbody>\n",
       "</table>\n",
       "<p>538 rows × 3 columns</p>\n",
       "</div>"
      ],
      "text/plain": [
       "               DIA     QQQ     SPY\n",
       "Date                              \n",
       "2019-01-02  233.36  154.88  250.18\n",
       "2019-01-03  226.72  149.82  244.21\n",
       "2019-01-04  234.28  156.23  252.39\n",
       "2019-01-07  235.36  158.09  254.38\n",
       "2019-01-08  237.92  159.52  256.77\n",
       "...            ...     ...     ...\n",
       "2021-02-12  315.04  336.45  392.64\n",
       "2021-02-16  315.58  335.54  392.30\n",
       "2021-02-17  316.60  333.93  392.39\n",
       "2021-02-18  315.56  332.47  390.72\n",
       "2021-02-19  314.92  331.02  390.03\n",
       "\n",
       "[538 rows x 3 columns]"
      ]
     },
     "execution_count": 19,
     "metadata": {},
     "output_type": "execute_result"
    }
   ],
   "source": [
    "etfs_close = yf.download(ticks, start = \"2019-1-1\", end = \"2021-2-20\", rounding = True)[\"Close\"]\n",
    "etfs_close"
   ]
  },
  {
   "cell_type": "code",
   "execution_count": 42,
   "metadata": {
    "scrolled": true
   },
   "outputs": [
    {
     "data": {
      "image/png": "[encoded data removed]",
      "text/plain": [
       "<Figure size 1152x576 with 1 Axes>"
      ]
     },
     "metadata": {},
     "output_type": "display_data"
    }
   ],
   "source": [
    "# Visualize the closing price history \n",
    "plt.figure(figsize = (16,8))\n",
    "plt.title(\"Close Price History\")\n",
    "plt.plot(etfs_close)\n",
    "plt.xlabel('Date', fontsize = 18)\n",
    "plt.ylabel('Closing Price in USD($)', fontsize = 18)\n",
    "\n",
    "plt.show()"
   ]
  },
  {
   "cell_type": "code",
   "execution_count": 21,
   "metadata": {},
   "outputs": [
    {
     "data": {
      "text/plain": [
       "pandas.core.frame.DataFrame"
      ]
     },
     "execution_count": 21,
     "metadata": {},
     "output_type": "execute_result"
    }
   ],
   "source": [
    "type(etfs_close)"
   ]
  },
  {
   "cell_type": "code",
   "execution_count": null,
   "metadata": {},
   "outputs": [],
   "source": []
  },
  {
   "cell_type": "code",
   "execution_count": 22,
   "metadata": {},
   "outputs": [],
   "source": [
    "# Convert the dataframe into a numpy \n",
    "\n",
    "data = etfs_close.values"
   ]
  },
  {
   "cell_type": "code",
   "execution_count": 23,
   "metadata": {},
   "outputs": [
    {
     "data": {
      "text/plain": [
       "431"
      ]
     },
     "execution_count": 23,
     "metadata": {},
     "output_type": "execute_result"
    }
   ],
   "source": [
    "# get the number of rows to train our model with\n",
    "train_data_len = math.ceil(len(data)* 0.8)\n",
    "train_data_len"
   ]
  },
  {
   "cell_type": "code",
   "execution_count": 24,
   "metadata": {},
   "outputs": [
    {
     "name": "stdout",
     "output_type": "stream",
     "text": [
      "Requirement already satisfied: keras in c:\\users\\jharbour\\anaconda3\\envs\\tensorflow\\lib\\site-packages (2.4.3)\n",
      "Requirement already satisfied: pyyaml in c:\\users\\jharbour\\anaconda3\\envs\\tensorflow\\lib\\site-packages (from keras) (5.4.1)\n",
      "Requirement already satisfied: h5py in c:\\users\\jharbour\\anaconda3\\envs\\tensorflow\\lib\\site-packages (from keras) (2.10.0)\n",
      "Requirement already satisfied: numpy>=1.9.1 in c:\\users\\jharbour\\anaconda3\\envs\\tensorflow\\lib\\site-packages (from keras) (1.18.5)\n",
      "Requirement already satisfied: scipy>=0.14 in c:\\users\\jharbour\\anaconda3\\envs\\tensorflow\\lib\\site-packages (from keras) (1.4.1)\n",
      "Requirement already satisfied: six in c:\\users\\jharbour\\anaconda3\\envs\\tensorflow\\lib\\site-packages (from h5py->keras) (1.15.0)\n",
      "Requirement already satisfied: tensorflow in c:\\users\\jharbour\\anaconda3\\envs\\tensorflow\\lib\\site-packages (2.3.0)\n",
      "Requirement already satisfied: numpy<1.19.0,>=1.16.0 in c:\\users\\jharbour\\anaconda3\\envs\\tensorflow\\lib\\site-packages (from tensorflow) (1.18.5)\n",
      "Requirement already satisfied: google-pasta>=0.1.8 in c:\\users\\jharbour\\anaconda3\\envs\\tensorflow\\lib\\site-packages (from tensorflow) (0.2.0)\n",
      "Requirement already satisfied: scipy==1.4.1 in c:\\users\\jharbour\\anaconda3\\envs\\tensorflow\\lib\\site-packages (from tensorflow) (1.4.1)\n",
      "Requirement already satisfied: termcolor>=1.1.0 in c:\\users\\jharbour\\anaconda3\\envs\\tensorflow\\lib\\site-packages (from tensorflow) (1.1.0)\n",
      "Requirement already satisfied: tensorboard<3,>=2.3.0 in c:\\users\\jharbour\\anaconda3\\envs\\tensorflow\\lib\\site-packages (from tensorflow) (2.3.0)\n",
      "Requirement already satisfied: gast==0.3.3 in c:\\users\\jharbour\\anaconda3\\envs\\tensorflow\\lib\\site-packages (from tensorflow) (0.3.3)\n",
      "Requirement already satisfied: astunparse==1.6.3 in c:\\users\\jharbour\\anaconda3\\envs\\tensorflow\\lib\\site-packages (from tensorflow) (1.6.3)\n",
      "Requirement already satisfied: h5py<2.11.0,>=2.10.0 in c:\\users\\jharbour\\anaconda3\\envs\\tensorflow\\lib\\site-packages (from tensorflow) (2.10.0)\n",
      "Requirement already satisfied: protobuf>=3.9.2 in c:\\users\\jharbour\\anaconda3\\envs\\tensorflow\\lib\\site-packages (from tensorflow) (3.14.0)\n",
      "Requirement already satisfied: absl-py>=0.7.0 in c:\\users\\jharbour\\anaconda3\\envs\\tensorflow\\lib\\site-packages (from tensorflow) (0.11.0)\n",
      "Requirement already satisfied: keras-preprocessing<1.2,>=1.1.1 in c:\\users\\jharbour\\anaconda3\\envs\\tensorflow\\lib\\site-packages (from tensorflow) (1.1.2)\n",
      "Requirement already satisfied: wrapt>=1.11.1 in c:\\users\\jharbour\\anaconda3\\envs\\tensorflow\\lib\\site-packages (from tensorflow) (1.12.1)\n",
      "Requirement already satisfied: six>=1.12.0 in c:\\users\\jharbour\\anaconda3\\envs\\tensorflow\\lib\\site-packages (from tensorflow) (1.15.0)\n",
      "Requirement already satisfied: grpcio>=1.8.6 in c:\\users\\jharbour\\anaconda3\\envs\\tensorflow\\lib\\site-packages (from tensorflow) (1.35.0)\n",
      "Requirement already satisfied: wheel>=0.26 in c:\\users\\jharbour\\anaconda3\\envs\\tensorflow\\lib\\site-packages (from tensorflow) (0.36.2)\n",
      "Requirement already satisfied: opt-einsum>=2.3.2 in c:\\users\\jharbour\\anaconda3\\envs\\tensorflow\\lib\\site-packages (from tensorflow) (3.1.0)\n",
      "Requirement already satisfied: tensorflow-estimator<2.4.0,>=2.3.0 in c:\\users\\jharbour\\anaconda3\\envs\\tensorflow\\lib\\site-packages (from tensorflow) (2.3.0)\n",
      "Requirement already satisfied: tensorboard-plugin-wit>=1.6.0 in c:\\users\\jharbour\\anaconda3\\envs\\tensorflow\\lib\\site-packages (from tensorboard<3,>=2.3.0->tensorflow) (1.6.0)\n",
      "Requirement already satisfied: google-auth<2,>=1.6.3 in c:\\users\\jharbour\\anaconda3\\envs\\tensorflow\\lib\\site-packages (from tensorboard<3,>=2.3.0->tensorflow) (1.27.0)\n",
      "Requirement already satisfied: requests<3,>=2.21.0 in c:\\users\\jharbour\\anaconda3\\envs\\tensorflow\\lib\\site-packages (from tensorboard<3,>=2.3.0->tensorflow) (2.25.1)\n",
      "Requirement already satisfied: setuptools>=41.0.0 in c:\\users\\jharbour\\anaconda3\\envs\\tensorflow\\lib\\site-packages (from tensorboard<3,>=2.3.0->tensorflow) (52.0.0.post20210125)\n",
      "Requirement already satisfied: google-auth-oauthlib<0.5,>=0.4.1 in c:\\users\\jharbour\\anaconda3\\envs\\tensorflow\\lib\\site-packages (from tensorboard<3,>=2.3.0->tensorflow) (0.4.2)\n",
      "Requirement already satisfied: werkzeug>=0.11.15 in c:\\users\\jharbour\\anaconda3\\envs\\tensorflow\\lib\\site-packages (from tensorboard<3,>=2.3.0->tensorflow) (1.0.1)\n",
      "Requirement already satisfied: markdown>=2.6.8 in c:\\users\\jharbour\\anaconda3\\envs\\tensorflow\\lib\\site-packages (from tensorboard<3,>=2.3.0->tensorflow) (3.3.3)\n",
      "Requirement already satisfied: cachetools<5.0,>=2.0.0 in c:\\users\\jharbour\\anaconda3\\envs\\tensorflow\\lib\\site-packages (from google-auth<2,>=1.6.3->tensorboard<3,>=2.3.0->tensorflow) (4.2.1)\n",
      "Requirement already satisfied: pyasn1-modules>=0.2.1 in c:\\users\\jharbour\\anaconda3\\envs\\tensorflow\\lib\\site-packages (from google-auth<2,>=1.6.3->tensorboard<3,>=2.3.0->tensorflow) (0.2.8)\n",
      "Requirement already satisfied: rsa<5,>=3.1.4 in c:\\users\\jharbour\\anaconda3\\envs\\tensorflow\\lib\\site-packages (from google-auth<2,>=1.6.3->tensorboard<3,>=2.3.0->tensorflow) (4.7.1)\n",
      "Requirement already satisfied: requests-oauthlib>=0.7.0 in c:\\users\\jharbour\\anaconda3\\envs\\tensorflow\\lib\\site-packages (from google-auth-oauthlib<0.5,>=0.4.1->tensorboard<3,>=2.3.0->tensorflow) (1.3.0)\n",
      "Requirement already satisfied: importlib-metadata in c:\\users\\jharbour\\anaconda3\\envs\\tensorflow\\lib\\site-packages (from markdown>=2.6.8->tensorboard<3,>=2.3.0->tensorflow) (2.0.0)\n",
      "Requirement already satisfied: pyasn1<0.5.0,>=0.4.6 in c:\\users\\jharbour\\anaconda3\\envs\\tensorflow\\lib\\site-packages (from pyasn1-modules>=0.2.1->google-auth<2,>=1.6.3->tensorboard<3,>=2.3.0->tensorflow) (0.4.8)\n",
      "Requirement already satisfied: idna<3,>=2.5 in c:\\users\\jharbour\\anaconda3\\envs\\tensorflow\\lib\\site-packages (from requests<3,>=2.21.0->tensorboard<3,>=2.3.0->tensorflow) (2.10)\n",
      "Requirement already satisfied: urllib3<1.27,>=1.21.1 in c:\\users\\jharbour\\anaconda3\\envs\\tensorflow\\lib\\site-packages (from requests<3,>=2.21.0->tensorboard<3,>=2.3.0->tensorflow) (1.26.3)\n",
      "Requirement already satisfied: chardet<5,>=3.0.2 in c:\\users\\jharbour\\anaconda3\\envs\\tensorflow\\lib\\site-packages (from requests<3,>=2.21.0->tensorboard<3,>=2.3.0->tensorflow) (3.0.4)\n",
      "Requirement already satisfied: certifi>=2017.4.17 in c:\\users\\jharbour\\anaconda3\\envs\\tensorflow\\lib\\site-packages (from requests<3,>=2.21.0->tensorboard<3,>=2.3.0->tensorflow) (2020.12.5)\n",
      "Requirement already satisfied: oauthlib>=3.0.0 in c:\\users\\jharbour\\anaconda3\\envs\\tensorflow\\lib\\site-packages (from requests-oauthlib>=0.7.0->google-auth-oauthlib<0.5,>=0.4.1->tensorboard<3,>=2.3.0->tensorflow) (3.1.0)\n",
      "Requirement already satisfied: zipp>=0.5 in c:\\users\\jharbour\\anaconda3\\envs\\tensorflow\\lib\\site-packages (from importlib-metadata->markdown>=2.6.8->tensorboard<3,>=2.3.0->tensorflow) (3.4.0)\n",
      "Requirement already satisfied: sklearn in c:\\users\\jharbour\\anaconda3\\envs\\tensorflow\\lib\\site-packages (0.0)\n",
      "Requirement already satisfied: scikit-learn in c:\\users\\jharbour\\anaconda3\\envs\\tensorflow\\lib\\site-packages (from sklearn) (0.24.1)\n",
      "Requirement already satisfied: threadpoolctl>=2.0.0 in c:\\users\\jharbour\\anaconda3\\envs\\tensorflow\\lib\\site-packages (from scikit-learn->sklearn) (2.1.0)\n",
      "Requirement already satisfied: numpy>=1.13.3 in c:\\users\\jharbour\\anaconda3\\envs\\tensorflow\\lib\\site-packages (from scikit-learn->sklearn) (1.18.5)\n",
      "Requirement already satisfied: joblib>=0.11 in c:\\users\\jharbour\\anaconda3\\envs\\tensorflow\\lib\\site-packages (from scikit-learn->sklearn) (1.0.1)\n",
      "Requirement already satisfied: scipy>=0.19.1 in c:\\users\\jharbour\\anaconda3\\envs\\tensorflow\\lib\\site-packages (from scikit-learn->sklearn) (1.4.1)\n"
     ]
    }
   ],
   "source": [
    "!pip install keras\n",
    "!pip install tensorflow\n",
    "!pip install sklearn\n",
    "from sklearn.preprocessing import MinMaxScaler\n",
    "from keras.models import Sequential\n",
    "from keras.layers import Dense, LSTM "
   ]
  },
  {
   "cell_type": "code",
   "execution_count": 25,
   "metadata": {
    "scrolled": true
   },
   "outputs": [
    {
     "data": {
      "text/plain": [
       "array([[0.36199893, 0.02711247, 0.16046909],\n",
       "       [0.311106  , 0.        , 0.12528729],\n",
       "       [0.36905036, 0.03434603, 0.17349284],\n",
       "       ...,\n",
       "       [1.        , 0.98649735, 0.99852673],\n",
       "       [0.99202882, 0.97867438, 0.98868525],\n",
       "       [0.98712348, 0.970905  , 0.98461901]])"
      ]
     },
     "execution_count": 25,
     "metadata": {},
     "output_type": "execute_result"
    }
   ],
   "source": [
    "# Scaling the data\n",
    "scaler = MinMaxScaler(feature_range = (0,1))\n",
    "scaled_data = scaler.fit_transform(data)\n",
    "\n",
    "scaled_data"
   ]
  },
  {
   "cell_type": "code",
   "execution_count": 26,
   "metadata": {},
   "outputs": [],
   "source": [
    "# Creating a scaled training dataset \n",
    "data_train = scaled_data[0:train_data_len, :]  "
   ]
  },
  {
   "cell_type": "code",
   "execution_count": 27,
   "metadata": {},
   "outputs": [],
   "source": [
    "# Splitting the data into X_train and y_train data sets \n",
    "X_train =[]\n",
    "y_train = []"
   ]
  },
  {
   "cell_type": "code",
   "execution_count": 28,
   "metadata": {},
   "outputs": [
    {
     "name": "stdout",
     "output_type": "stream",
     "text": [
      "[array([0.36199893, 0.311106  , 0.36905036, 0.37732812, 0.39694949,\n",
      "       0.40461409, 0.41289185, 0.4119721 , 0.40476738, 0.41779719,\n",
      "       0.427148  , 0.44201732, 0.46692726, 0.44355024, 0.45673335,\n",
      "       0.4548172 , 0.46953323, 0.4519813 , 0.4566567 , 0.49091745,\n",
      "       0.49045758, 0.49321683, 0.50731969, 0.51988963, 0.51919982,\n",
      "       0.50410056, 0.49965509, 0.49674255, 0.52425845, 0.53399249,\n",
      "       0.52908715, 0.55583659, 0.55706293, 0.5623515 , 0.55491684,\n",
      "       0.56748678, 0.57300529, 0.57032268, 0.5651874 , 0.56066529,\n",
      "       0.56940293, 0.55300069, 0.55231088, 0.54219361, 0.52640454,\n",
      "       0.52563808, 0.5413505 , 0.53445236, 0.54587261, 0.54732889,\n",
      "       0.55346057, 0.55844255, 0.55759945, 0.54541274, 0.56296467,\n",
      "       0.52755423, 0.52839733, 0.53905112, 0.53636851, 0.54380317])]\n",
      "[0.5595155974553536]\n",
      "\n",
      "[array([0.36199893, 0.311106  , 0.36905036, 0.37732812, 0.39694949,\n",
      "       0.40461409, 0.41289185, 0.4119721 , 0.40476738, 0.41779719,\n",
      "       0.427148  , 0.44201732, 0.46692726, 0.44355024, 0.45673335,\n",
      "       0.4548172 , 0.46953323, 0.4519813 , 0.4566567 , 0.49091745,\n",
      "       0.49045758, 0.49321683, 0.50731969, 0.51988963, 0.51919982,\n",
      "       0.50410056, 0.49965509, 0.49674255, 0.52425845, 0.53399249,\n",
      "       0.52908715, 0.55583659, 0.55706293, 0.5623515 , 0.55491684,\n",
      "       0.56748678, 0.57300529, 0.57032268, 0.5651874 , 0.56066529,\n",
      "       0.56940293, 0.55300069, 0.55231088, 0.54219361, 0.52640454,\n",
      "       0.52563808, 0.5413505 , 0.53445236, 0.54587261, 0.54732889,\n",
      "       0.55346057, 0.55844255, 0.55759945, 0.54541274, 0.56296467,\n",
      "       0.52755423, 0.52839733, 0.53905112, 0.53636851, 0.54380317]), array([0.311106  , 0.36905036, 0.37732812, 0.39694949, 0.40461409,\n",
      "       0.41289185, 0.4119721 , 0.40476738, 0.41779719, 0.427148  ,\n",
      "       0.44201732, 0.46692726, 0.44355024, 0.45673335, 0.4548172 ,\n",
      "       0.46953323, 0.4519813 , 0.4566567 , 0.49091745, 0.49045758,\n",
      "       0.49321683, 0.50731969, 0.51988963, 0.51919982, 0.50410056,\n",
      "       0.49965509, 0.49674255, 0.52425845, 0.53399249, 0.52908715,\n",
      "       0.55583659, 0.55706293, 0.5623515 , 0.55491684, 0.56748678,\n",
      "       0.57300529, 0.57032268, 0.5651874 , 0.56066529, 0.56940293,\n",
      "       0.55300069, 0.55231088, 0.54219361, 0.52640454, 0.52563808,\n",
      "       0.5413505 , 0.53445236, 0.54587261, 0.54732889, 0.55346057,\n",
      "       0.55844255, 0.55759945, 0.54541274, 0.56296467, 0.52755423,\n",
      "       0.52839733, 0.53905112, 0.53636851, 0.54380317, 0.5595156 ])]\n",
      "[0.5595155974553536, 0.584502184410209]\n",
      "\n"
     ]
    }
   ],
   "source": [
    "# creating a loop to append for previous 60 days of data\n",
    "for i in range(60,len(data_train)):\n",
    "        X_train.append(data_train[i-60:i,0])\n",
    "        y_train.append(data_train[i,0])\n",
    "        if i <= 61:\n",
    "            print(X_train)\n",
    "            print(y_train)\n",
    "            print()\n",
    "               "
   ]
  },
  {
   "cell_type": "code",
   "execution_count": 29,
   "metadata": {},
   "outputs": [],
   "source": [
    "# converting the X_train andy_train into numpy arrays\n",
    "X_train, y_train = np.array(X_train),np.array(y_train)"
   ]
  },
  {
   "cell_type": "code",
   "execution_count": 30,
   "metadata": {},
   "outputs": [
    {
     "data": {
      "text/plain": [
       "(371, 60, 1)"
      ]
     },
     "execution_count": 30,
     "metadata": {},
     "output_type": "execute_result"
    }
   ],
   "source": [
    "# Reshaping the data in preparation for use in the LSTM model which accepts \n",
    "# 3D data \n",
    "\n",
    "X_train = np.reshape(X_train, (X_train.shape[0],X_train.shape[1 ],1))\n",
    "X_train.shape"
   ]
  },
  {
   "cell_type": "code",
   "execution_count": 31,
   "metadata": {},
   "outputs": [],
   "source": [
    "# Build the LSTM model\n",
    "from keras.models import Sequential\n",
    "\n",
    "model = Sequential()\n",
    "model.add(LSTM(50, return_sequences = True, input_shape =(X_train.shape[1],1)))\n",
    "model.add(LSTM(50, return_sequences = False))\n",
    "model.add(Dense(25))\n",
    "model.add(Dense(1))"
   ]
  },
  {
   "cell_type": "code",
   "execution_count": 32,
   "metadata": {},
   "outputs": [],
   "source": [
    "# compile the model \n",
    "\n",
    "model.compile(optimizer = 'adam', loss = 'mean_squared_error')\n"
   ]
  },
  {
   "cell_type": "code",
   "execution_count": 33,
   "metadata": {},
   "outputs": [
    {
     "name": "stdout",
     "output_type": "stream",
     "text": [
      "371/371 [==============================] - 4s 12ms/step - loss: 0.0093\n"
     ]
    },
    {
     "data": {
      "text/plain": [
       "<tensorflow.python.keras.callbacks.History at 0x204221ccc08>"
      ]
     },
     "execution_count": 33,
     "metadata": {},
     "output_type": "execute_result"
    }
   ],
   "source": [
    "# train the model\n",
    "model.fit(X_train,y_train, batch_size =1, epochs=1)"
   ]
  },
  {
   "cell_type": "code",
   "execution_count": 34,
   "metadata": {},
   "outputs": [],
   "source": [
    "#Create the testing data... a new array of scaled values \n",
    "\n",
    "test = scaled_data[train_data_len - 60: , :]"
   ]
  },
  {
   "cell_type": "code",
   "execution_count": 35,
   "metadata": {},
   "outputs": [],
   "source": [
    "# create the data sets X_test and y_test\n",
    "X_test = []\n",
    "y_test = data[train_data_len:, :]\n",
    "\n",
    "for i in range(60, len(test)):\n",
    "    X_test.append(test[i-60:i, 0])"
   ]
  },
  {
   "cell_type": "code",
   "execution_count": 36,
   "metadata": {},
   "outputs": [],
   "source": [
    "# converting the dataset into a numpy array\n",
    "X_test = np.array(X_test)"
   ]
  },
  {
   "cell_type": "code",
   "execution_count": 37,
   "metadata": {},
   "outputs": [],
   "source": [
    "#reshaping the test dataset\n",
    "X_test = np.reshape(X_test,(X_test.shape[0],X_test.shape[1],1))"
   ]
  },
  {
   "cell_type": "code",
   "execution_count": 38,
   "metadata": {
    "scrolled": true
   },
   "outputs": [],
   "source": [
    "# get the predicted price values\n",
    "preds = model.predict(X_test)\n",
    "#preds = scaler.inverse_transform(preds)"
   ]
  },
  {
   "cell_type": "code",
   "execution_count": 39,
   "metadata": {},
   "outputs": [
    {
     "data": {
      "text/plain": [
       "318.2616216209373"
      ]
     },
     "execution_count": 39,
     "metadata": {},
     "output_type": "execute_result"
    }
   ],
   "source": [
    "#getting RMSE\n",
    "rmse = np.sqrt(np.mean(preds- y_test)**2)\n",
    "rmse"
   ]
  },
  {
   "cell_type": "code",
   "execution_count": null,
   "metadata": {},
   "outputs": [],
   "source": []
  },
  {
   "cell_type": "markdown",
   "metadata": {},
   "source": [
    "#### Third version with a slight modification of the 2nd"
   ]
  },
  {
   "cell_type": "code",
   "execution_count": 40,
   "metadata": {},
   "outputs": [
    {
     "data": {
      "text/html": [
       "<div>\n",
       "<style scoped>\n",
       "    .dataframe tbody tr th:only-of-type {\n",
       "        vertical-align: middle;\n",
       "    }\n",
       "\n",
       "    .dataframe tbody tr th {\n",
       "        vertical-align: top;\n",
       "    }\n",
       "\n",
       "    .dataframe thead th {\n",
       "        text-align: right;\n",
       "    }\n",
       "</style>\n",
       "<table border=\"1\" class=\"dataframe\">\n",
       "  <thead>\n",
       "    <tr style=\"text-align: right;\">\n",
       "      <th></th>\n",
       "      <th>High</th>\n",
       "      <th>Low</th>\n",
       "      <th>Open</th>\n",
       "      <th>Close</th>\n",
       "      <th>Volume</th>\n",
       "      <th>Adj Close</th>\n",
       "    </tr>\n",
       "    <tr>\n",
       "      <th>Date</th>\n",
       "      <th></th>\n",
       "      <th></th>\n",
       "      <th></th>\n",
       "      <th></th>\n",
       "      <th></th>\n",
       "      <th></th>\n",
       "    </tr>\n",
       "  </thead>\n",
       "  <tbody>\n",
       "    <tr>\n",
       "      <th>2019-01-02</th>\n",
       "      <td>155.750000</td>\n",
       "      <td>150.880005</td>\n",
       "      <td>150.990005</td>\n",
       "      <td>154.880005</td>\n",
       "      <td>58576700.0</td>\n",
       "      <td>152.744461</td>\n",
       "    </tr>\n",
       "    <tr>\n",
       "      <th>2019-01-03</th>\n",
       "      <td>153.259995</td>\n",
       "      <td>149.490005</td>\n",
       "      <td>152.600006</td>\n",
       "      <td>149.820007</td>\n",
       "      <td>74820200.0</td>\n",
       "      <td>147.754257</td>\n",
       "    </tr>\n",
       "    <tr>\n",
       "      <th>2019-01-04</th>\n",
       "      <td>157.000000</td>\n",
       "      <td>151.740005</td>\n",
       "      <td>152.339996</td>\n",
       "      <td>156.229996</td>\n",
       "      <td>74709300.0</td>\n",
       "      <td>154.075851</td>\n",
       "    </tr>\n",
       "    <tr>\n",
       "      <th>2019-01-07</th>\n",
       "      <td>158.860001</td>\n",
       "      <td>156.110001</td>\n",
       "      <td>156.619995</td>\n",
       "      <td>158.089996</td>\n",
       "      <td>52059300.0</td>\n",
       "      <td>155.910202</td>\n",
       "    </tr>\n",
       "    <tr>\n",
       "      <th>2019-01-08</th>\n",
       "      <td>160.110001</td>\n",
       "      <td>157.199997</td>\n",
       "      <td>159.539993</td>\n",
       "      <td>159.520004</td>\n",
       "      <td>49388700.0</td>\n",
       "      <td>157.320496</td>\n",
       "    </tr>\n",
       "    <tr>\n",
       "      <th>...</th>\n",
       "      <td>...</td>\n",
       "      <td>...</td>\n",
       "      <td>...</td>\n",
       "      <td>...</td>\n",
       "      <td>...</td>\n",
       "      <td>...</td>\n",
       "    </tr>\n",
       "    <tr>\n",
       "      <th>2021-02-12</th>\n",
       "      <td>336.619995</td>\n",
       "      <td>332.630005</td>\n",
       "      <td>333.709991</td>\n",
       "      <td>336.450012</td>\n",
       "      <td>20318000.0</td>\n",
       "      <td>336.450012</td>\n",
       "    </tr>\n",
       "    <tr>\n",
       "      <th>2021-02-16</th>\n",
       "      <td>338.190002</td>\n",
       "      <td>334.339996</td>\n",
       "      <td>337.269989</td>\n",
       "      <td>335.540009</td>\n",
       "      <td>26880100.0</td>\n",
       "      <td>335.540009</td>\n",
       "    </tr>\n",
       "    <tr>\n",
       "      <th>2021-02-17</th>\n",
       "      <td>335.660004</td>\n",
       "      <td>330.170013</td>\n",
       "      <td>332.470001</td>\n",
       "      <td>333.929993</td>\n",
       "      <td>31360300.0</td>\n",
       "      <td>333.929993</td>\n",
       "    </tr>\n",
       "    <tr>\n",
       "      <th>2021-02-18</th>\n",
       "      <td>333.869995</td>\n",
       "      <td>328.359985</td>\n",
       "      <td>330.230011</td>\n",
       "      <td>332.470001</td>\n",
       "      <td>32069600.0</td>\n",
       "      <td>332.470001</td>\n",
       "    </tr>\n",
       "    <tr>\n",
       "      <th>2021-02-19</th>\n",
       "      <td>333.989990</td>\n",
       "      <td>329.970001</td>\n",
       "      <td>333.859985</td>\n",
       "      <td>331.019989</td>\n",
       "      <td>39126400.0</td>\n",
       "      <td>331.019989</td>\n",
       "    </tr>\n",
       "  </tbody>\n",
       "</table>\n",
       "<p>538 rows × 6 columns</p>\n",
       "</div>"
      ],
      "text/plain": [
       "                  High         Low        Open       Close      Volume  \\\n",
       "Date                                                                     \n",
       "2019-01-02  155.750000  150.880005  150.990005  154.880005  58576700.0   \n",
       "2019-01-03  153.259995  149.490005  152.600006  149.820007  74820200.0   \n",
       "2019-01-04  157.000000  151.740005  152.339996  156.229996  74709300.0   \n",
       "2019-01-07  158.860001  156.110001  156.619995  158.089996  52059300.0   \n",
       "2019-01-08  160.110001  157.199997  159.539993  159.520004  49388700.0   \n",
       "...                ...         ...         ...         ...         ...   \n",
       "2021-02-12  336.619995  332.630005  333.709991  336.450012  20318000.0   \n",
       "2021-02-16  338.190002  334.339996  337.269989  335.540009  26880100.0   \n",
       "2021-02-17  335.660004  330.170013  332.470001  333.929993  31360300.0   \n",
       "2021-02-18  333.869995  328.359985  330.230011  332.470001  32069600.0   \n",
       "2021-02-19  333.989990  329.970001  333.859985  331.019989  39126400.0   \n",
       "\n",
       "             Adj Close  \n",
       "Date                    \n",
       "2019-01-02  152.744461  \n",
       "2019-01-03  147.754257  \n",
       "2019-01-04  154.075851  \n",
       "2019-01-07  155.910202  \n",
       "2019-01-08  157.320496  \n",
       "...                ...  \n",
       "2021-02-12  336.450012  \n",
       "2021-02-16  335.540009  \n",
       "2021-02-17  333.929993  \n",
       "2021-02-18  332.470001  \n",
       "2021-02-19  331.019989  \n",
       "\n",
       "[538 rows x 6 columns]"
      ]
     },
     "execution_count": 40,
     "metadata": {},
     "output_type": "execute_result"
    }
   ],
   "source": [
    "df = dr.DataReader('QQQ', data_source= 'yahoo', start = '2019-01-01',end= '2021-02-20')\n",
    "df"
   ]
  },
  {
   "cell_type": "code",
   "execution_count": null,
   "metadata": {},
   "outputs": [],
   "source": [
    " "
   ]
  }
 ],
 "metadata": {
  "kernelspec": {
   "display_name": "Python 3",
   "language": "python",
   "name": "python3"
  },
  "language_info": {
   "codemirror_mode": {
    "name": "ipython",
    "version": 3
   },
   "file_extension": ".py",
   "mimetype": "text/x-python",
   "name": "python",
   "nbconvert_exporter": "python",
   "pygments_lexer": "ipython3",
   "version": "3.8.3"
  }
 },
 "nbformat": 4,
 "nbformat_minor": 4
}
